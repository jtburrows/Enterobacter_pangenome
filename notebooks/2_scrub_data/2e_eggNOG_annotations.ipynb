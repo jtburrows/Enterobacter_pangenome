{
 "cells": [
  {
   "cell_type": "markdown",
   "id": "2c41aabe-3ea9-4472-9a1e-c918244f1290",
   "metadata": {},
   "source": [
    "# Setup"
   ]
  },
  {
   "cell_type": "code",
   "execution_count": null,
   "id": "b1ea046e-c38b-40d6-9bf6-4efb42e3b69c",
   "metadata": {},
   "outputs": [],
   "source": [
    "import os\n",
    "import gzip\n",
    "import pickle\n",
    "\n",
    "import numpy as np\n",
    "import pandas as pd\n",
    "\n",
    "from tqdm.notebook import tqdm"
   ]
  },
  {
   "cell_type": "code",
   "execution_count": null,
   "id": "e59e76c3-4e9f-4d66-9d01-25ee14fb968e",
   "metadata": {},
   "outputs": [],
   "source": [
    "CD_HIT_RESULTS = '../../data/processed/cd-hit-results/'\n",
    "CURR_CD_HIT_SIM = '../../data/processed/cd-hit-results/sim80/'\n",
    "\n",
    "CLSTR_FILE = os.path.join(CURR_CD_HIT_SIM, 'Ebacter_nr.faa.cdhit.clstr')\n",
    "\n",
    "assert os.path.isfile(CLSTR_FILE)"
   ]
  },
  {
   "cell_type": "code",
   "execution_count": null,
   "id": "767de308-7e9c-4e2f-b725-2c34a533b104",
   "metadata": {},
   "outputs": [],
   "source": [
    "with gzip.open('../../data/processed/cd-hit-results/header_to_allele_80.pickle.gz', 'rb') as f:\n",
    "    header_to_allele = pickle.load(f)"
   ]
  },
  {
   "cell_type": "code",
   "execution_count": null,
   "id": "28123dac-106f-49ec-8475-2ac3535612e9",
   "metadata": {},
   "outputs": [],
   "source": [
    "df_genes = pd.read_pickle(\n",
    "    '../../data/processed/cd-hit-results/sim80/Ebacter_strain_by_gene.pickle.gz'\n",
    ")\n",
    "\n",
    "display(\n",
    "    df_genes.shape,\n",
    "    df_genes.head()\n",
    ")"
   ]
  },
  {
   "cell_type": "code",
   "execution_count": null,
   "id": "40370add-1092-46ba-b582-bd3e106d0830",
   "metadata": {},
   "outputs": [],
   "source": [
    "REP_HEADERS = os.path.join(CD_HIT_RESULTS, 'rep_headers.txt')\n",
    "REP_ALLELES = os.path.join(CD_HIT_RESULTS, 'rep_alleles.txt')\n",
    "\n",
    "display(\n",
    "    REP_HEADERS,\n",
    "    REP_ALLELES\n",
    ")"
   ]
  },
  {
   "cell_type": "code",
   "execution_count": null,
   "id": "cb34e735-bc62-4a21-a873-10cbae585e71",
   "metadata": {},
   "outputs": [],
   "source": [
    "# # Already run once, no need to run again\n",
    "# # Find all representative gene headers (as determind by CD-HIT)\n",
    "cmd = f'grep \"*\" {CLSTR_FILE} | grep -oe \">.*\" > {REP_HEADERS}'\n",
    "\n",
    "os.system(cmd)"
   ]
  },
  {
   "cell_type": "code",
   "execution_count": null,
   "id": "3ab052b8-32c8-4c4f-8d75-61c9c320a09e",
   "metadata": {},
   "outputs": [],
   "source": [
    "rep_headers = list()\n",
    "\n",
    "with open(REP_HEADERS) as f:\n",
    "    rep_headers.extend(f.readlines())\n",
    "\n",
    "rep_headers = [x[1:-6] for x in rep_headers]"
   ]
  },
  {
   "cell_type": "code",
   "execution_count": null,
   "id": "41d3a861-d16a-4bda-86e2-f3ccb5742f8a",
   "metadata": {},
   "outputs": [],
   "source": [
    "# Check first few lines\n",
    "rep_headers[:10]"
   ]
  },
  {
   "cell_type": "markdown",
   "id": "a8b651b4-bca3-4137-9aa2-daebbed061f4",
   "metadata": {},
   "source": [
    "# Generate representative gene cluster FASTA collection (for eggNOG annotation)"
   ]
  },
  {
   "cell_type": "code",
   "execution_count": null,
   "id": "bb24afa4-3306-4c8f-af02-fcde33cd0c1c",
   "metadata": {},
   "outputs": [],
   "source": [
    "# # Already run once\n",
    "# # Convert rep_headers python list to text file (each element on newline)\n",
    "rep_alleles = [header_to_allele[header] for header in rep_headers]\n",
    "\n",
    "with open(REP_ALLELES, 'w') as f:\n",
    "    file_content = '\\n'.join(rep_alleles)\n",
    "    f.write(file_content)"
   ]
  },
  {
   "cell_type": "code",
   "execution_count": null,
   "id": "496bb2a3-233a-4f05-af11-018814b409bf",
   "metadata": {},
   "outputs": [],
   "source": [
    "len(rep_alleles)"
   ]
  },
  {
   "cell_type": "code",
   "execution_count": null,
   "id": "02ea6b27-1505-4907-a192-703c06e8b169",
   "metadata": {},
   "outputs": [],
   "source": [
    "len(set(rep_alleles))"
   ]
  },
  {
   "cell_type": "markdown",
   "id": "72ed8038-d1fc-403a-9adf-fe655e99d79b",
   "metadata": {},
   "source": [
    "Note: if the above numbers do not match, it indicates there may be an issue with the bakta annotation with multiple genomes having identical gene tags associated with different sequences, causing incorrect naming of different alleles and genes. If these genomes can be identified, re-annotating them can be possible while if these examples cannot be found, ensure all of the annotations for bakta are run correctly on the same bakta version for all samples. "
   ]
  },
  {
   "cell_type": "markdown",
   "id": "5b68ab67-dc0d-4314-a3e4-5097480340e4",
   "metadata": {},
   "source": [
    "__The following awk script from this__ [StackOverflow link](https://stackoverflow.com/a/49737831/8582436)"
   ]
  },
  {
   "cell_type": "code",
   "execution_count": null,
   "id": "55cae1dc-8d53-4be5-9c5b-526468b25cb4",
   "metadata": {},
   "outputs": [],
   "source": [
    "# # already run\n",
    "# # Use awk to generate representative gene cluster FASTA collection\n",
    "!awk -F'>' 'NR==FNR{ids[$0]; next} NF>1{f=($2 in ids)} f' ../../data/processed/cd-hit-results/rep_alleles.txt ../../data/processed/cd-hit-results/sim80/Ebacter_nr.faa > ../../data/processed/cd-hit-results/rep_alleles_nr.faa\n"
   ]
  },
  {
   "cell_type": "markdown",
   "id": "23aa9bb9-c942-4a7f-9e6d-d970c15947fd",
   "metadata": {},
   "source": [
    "# Execute new eggNOG annotation\n",
    "\n",
    "__The following are run in a linux terminal session:__"
   ]
  },
  {
   "cell_type": "markdown",
   "id": "6ff59cd3-f89d-4042-b5a2-47c6c94f5bb0",
   "metadata": {},
   "source": [
    "`tmux new -s 'eggNOG-annot'`\n",
    "\n",
    "`conda activate emapper` [installation instructions](https://github.com/eggnogdb/eggnog-mapper)\n",
    "\n",
    "`python emapper.py -o Ebacter --tax_scope Gammaproteobacteria --tax_scope_mode Bacteria -i ../../data/processed/cd-hit-results/rep_alleles_nr.faa --output_dir ../../data/processed/eggNOG --cpu 20`"
   ]
  },
  {
   "cell_type": "markdown",
   "id": "612d1159-301f-44e0-8f71-b3921392b6b0",
   "metadata": {},
   "source": [
    "# Postprocess resultant file"
   ]
  },
  {
   "cell_type": "code",
   "execution_count": null,
   "id": "85d4783a-3c73-47cc-9bf8-d17929f82ea8",
   "metadata": {},
   "outputs": [],
   "source": [
    "# Read in file, skipping the first 4 rows (not needed)\n",
    "df_eggnog = pd.read_csv(\n",
    "    '../../data/processed/eggNOG/Ebacter.emapper.annotations',\n",
    "    sep='\\t',\n",
    "    skiprows=4\n",
    ")\n",
    "\n",
    "# Remove the last 3 rows (not needed)\n",
    "df_eggnog = df_eggnog[:-3]\n",
    "\n",
    "# Rename \"#query\" to \"allele\"\n",
    "df_eggnog.rename(columns={'#query': 'allele'}, inplace=True)\n",
    "\n",
    "# Add in gene column\n",
    "df_eggnog['gene'] = df_eggnog.allele.apply(lambda x: x.split('A')[0])\n",
    "df_eggnog\n",
    "\n",
    "# Set gene as the index\n",
    "df_eggnog.set_index('gene', inplace=True)\n",
    "df_eggnog\n",
    "print(f'initial shape: {df_eggnog.shape}')\n",
    "\n",
    "df_eggnog"
   ]
  },
  {
   "cell_type": "code",
   "execution_count": null,
   "id": "e8c4d4cc-4312-4ccb-9df9-ffc713cd181c",
   "metadata": {},
   "outputs": [],
   "source": [
    "len(set(df_genes.index) - set(df_eggnog.index)) # genes which were dropped by eggNOG (no hits)"
   ]
  },
  {
   "cell_type": "code",
   "execution_count": null,
   "id": "dd3f873b-1e82-4a15-8f00-cfd6fbabf915",
   "metadata": {},
   "outputs": [],
   "source": [
    "assert len(set(df_eggnog.index) - set(df_genes.index)) == 0 # genes in eggNOG which aren't in the pangenome (should be zero)"
   ]
  },
  {
   "cell_type": "code",
   "execution_count": null,
   "id": "48624096-0384-4b1a-ad97-96945265db29",
   "metadata": {},
   "outputs": [],
   "source": [
    "# Add in dropped genes (genes which eggNOG drops because no OG could be found)\n",
    "df_drop = pd.DataFrame(index=sorted(set(df_genes.index) - set(df_eggnog.index)), columns=df_eggnog.columns)\n",
    "df_drop.index.name = 'gene'\n",
    "df_drop.fillna('-', inplace=True)\n",
    "df_eggnog = pd.concat([df_eggnog, df_drop])\n",
    "print(f'final shape: {df_eggnog.shape}')"
   ]
  },
  {
   "cell_type": "code",
   "execution_count": null,
   "id": "af2adee2-01a5-4b2d-8194-f9dfc5e0e894",
   "metadata": {},
   "outputs": [],
   "source": [
    "df_eggnog"
   ]
  },
  {
   "cell_type": "markdown",
   "id": "4f7b58f7-69c9-453e-9baf-56a8708a6c9c",
   "metadata": {},
   "source": [
    "# Save eggNOG annotations"
   ]
  },
  {
   "cell_type": "code",
   "execution_count": null,
   "id": "d4187d5a-0e18-4d8c-9a5b-f45d5b0af09e",
   "metadata": {},
   "outputs": [],
   "source": [
    "df_eggnog.to_csv('../../data/processed/df_eggnog.csv')"
   ]
  },
  {
   "cell_type": "code",
   "execution_count": null,
   "id": "81cb9129-1da9-478b-985a-5e6e171b8d0b",
   "metadata": {},
   "outputs": [],
   "source": []
  }
 ],
 "metadata": {
  "kernelspec": {
   "display_name": "torch_env",
   "language": "python",
   "name": "my_private_env"
  },
  "language_info": {
   "codemirror_mode": {
    "name": "ipython",
    "version": 3
   },
   "file_extension": ".py",
   "mimetype": "text/x-python",
   "name": "python",
   "nbconvert_exporter": "python",
   "pygments_lexer": "ipython3",
   "version": "3.12.2"
  }
 },
 "nbformat": 4,
 "nbformat_minor": 5
}
