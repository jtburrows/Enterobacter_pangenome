{
 "cells": [
  {
   "cell_type": "markdown",
   "id": "655d68bd-d380-4593-bba7-9c157a6775d4",
   "metadata": {
    "editable": true,
    "slideshow": {
     "slide_type": ""
    },
    "tags": []
   },
   "source": [
    "# Setup"
   ]
  },
  {
   "cell_type": "code",
   "execution_count": null,
   "id": "d642c149-4b49-4eba-8b15-f7cb3ee4ee19",
   "metadata": {},
   "outputs": [],
   "source": [
    "import os\n",
    "import pickle\n",
    "\n",
    "import numpy as np\n",
    "import pandas as pd\n",
    "import scipy.cluster.hierarchy as hc\n",
    "import scipy.spatial as sp\n",
    "\n",
    "import matplotlib\n",
    "import matplotlib.patches as patches\n",
    "from matplotlib import pyplot as plt\n",
    "import seaborn as sns\n",
    "import plotly.express as px\n",
    "from tqdm.notebook import tqdm\n",
    "\n",
    "matplotlib.rcParams['pdf.fonttype'] = 42\n",
    "matplotlib.rcParams['ps.fonttype'] = 42\n",
    "matplotlib.rcParams['svg.fonttype'] = 'none'\n",
    "matplotlib.rcParams['font.sans-serif'] = 'Arial'\n",
    "matplotlib.rcParams['font.family'] = 'sans-serif'\n",
    "sns.set_style('ticks')\n",
    "matplotlib.rcParams['text.color'] = '#000000'\n",
    "matplotlib.rcParams['axes.labelcolor'] = '#000000'\n",
    "matplotlib.rcParams['xtick.color'] = '#000000'\n",
    "matplotlib.rcParams['ytick.color'] = '#000000'"
   ]
  },
  {
   "cell_type": "code",
   "execution_count": null,
   "id": "96a10eb7-d5dd-4ed2-87c6-706449fd5c92",
   "metadata": {},
   "outputs": [],
   "source": [
    "from kneebow.rotor import Rotor"
   ]
  },
  {
   "cell_type": "code",
   "execution_count": null,
   "id": "952f2c27-ddce-4255-8830-07f90463d7ab",
   "metadata": {},
   "outputs": [],
   "source": [
    "RAW_GENOMES = '../../data/raw/genomes'\n",
    "MASH_GENOMES = '../../data/raw/mash_genomes'"
   ]
  },
  {
   "cell_type": "code",
   "execution_count": null,
   "id": "d9fd74bd-e0b9-4fe7-bd0c-1b12628ff437",
   "metadata": {},
   "outputs": [],
   "source": [
    "SCRUBBED_SUMMARY = '../../data/metadata/scrubbed_species_summary.csv'\n",
    "SCRUBBED_METADATA = '../../data/metadata/scrubbed_species_metadata.csv'"
   ]
  },
  {
   "cell_type": "code",
   "execution_count": null,
   "id": "315004e7-8930-47aa-9c22-c0b0409e7ee2",
   "metadata": {},
   "outputs": [],
   "source": [
    "scrubbed_summary = pd.read_csv(SCRUBBED_SUMMARY, index_col=0, dtype='object')\n",
    "scrubbed_metadata = pd.read_csv(SCRUBBED_METADATA, index_col=0, dtype='object')\n",
    "\n",
    "# Ensure genome id is a str\n",
    "scrubbed_summary['genome_id'] = scrubbed_summary['genome_id'].astype('str')\n",
    "scrubbed_metadata['genome_id'] = scrubbed_metadata['genome_id'].astype('str')\n",
    "\n",
    "# fix naming format issues\n",
    "scrubbed_metadata['genome_name'] = scrubbed_metadata['genome_name'].apply(lambda x: x.replace('\"[Enterobacter]', \"Enterobacter\"))\n",
    "scrubbed_metadata['genome_name'] = scrubbed_metadata['genome_name'].apply(lambda x: x.replace('\"', \"\"))\n",
    "\n",
    "display(\n",
    "    scrubbed_metadata.shape,\n",
    "    scrubbed_metadata.head()\n",
    ")"
   ]
  },
  {
   "cell_type": "code",
   "execution_count": null,
   "id": "4fdfc4b0-4d64-4eba-9ea7-340427bc2b3c",
   "metadata": {},
   "outputs": [],
   "source": [
    "scrubbed_metadata.genbank_accessions"
   ]
  },
  {
   "cell_type": "markdown",
   "id": "5149c21c-0380-4eba-aade-fcccfcbe9ae9",
   "metadata": {},
   "source": [
    "## Copy all filtered genomes into a single directory"
   ]
  },
  {
   "cell_type": "code",
   "execution_count": null,
   "id": "41f683ee-192f-46f8-9658-0488ee8b53fa",
   "metadata": {},
   "outputs": [],
   "source": [
    "# # Files have already been moved into the mash directory, no need to move them\n",
    "# items = []\n",
    "# item_paths = []\n",
    "\n",
    "# for item in os.listdir(RAW_GENOMES):\n",
    "#     curr_path = os.path.join(RAW_GENOMES, item)\n",
    "#     if os.path.isdir(curr_path):\n",
    "#         curr_fna = os.path.join(curr_path, f'{item}.fna')\n",
    "#         items.append(item)\n",
    "#         item_paths.append(curr_fna)\n",
    "\n",
    "\n",
    "# display(\n",
    "#     items[:5],\n",
    "#     item_paths[:5]\n",
    "# )"
   ]
  },
  {
   "cell_type": "code",
   "execution_count": null,
   "id": "0500f137-9e23-452a-a44c-8eda947cf754",
   "metadata": {},
   "outputs": [],
   "source": [
    "# # make sure every fna file exists as a file on disk\n",
    "# assert len(items) == np.sum([os.path.isfile(item) for item in item_paths])"
   ]
  },
  {
   "cell_type": "code",
   "execution_count": null,
   "id": "382704d7-2953-438c-842e-3df072ec35a5",
   "metadata": {},
   "outputs": [],
   "source": [
    "# # Already run once, no need to run again\n",
    "# for item, item_path in tqdm(dict(zip(items, item_paths)).items()):\n",
    "#    new_path = os.path.join(MASH_GENOMES, f'{item}.fna')\n",
    "#    cmd = f'cp {item_path} {new_path}'\n",
    "#    os.system(cmd)"
   ]
  },
  {
   "cell_type": "markdown",
   "id": "f3f4d397-a15b-4f2b-a909-cec5cc6e7d07",
   "metadata": {},
   "source": [
    "## Make a combined mash sketch file"
   ]
  },
  {
   "cell_type": "markdown",
   "id": "72bfbf15-8c47-4133-b9fd-5cda4181b04e",
   "metadata": {},
   "source": [
    "The following was run on a Linux terminal tmux session:\n",
    "\n",
    "`mash sketch -o combined_sketch /media/pekar2/pan_phylon/Enterobacter/raw/mash_genomes/*.fna`"
   ]
  },
  {
   "cell_type": "markdown",
   "id": "6d1c933a-babe-4bd1-9ae2-d5d010e11d19",
   "metadata": {},
   "source": [
    "## Generate pairwise distance matrix (square)"
   ]
  },
  {
   "cell_type": "markdown",
   "id": "566bff85-762c-47a7-9d05-59a23ed2c685",
   "metadata": {},
   "source": [
    "Linux tmux session:\n",
    "\n",
    "`mash dist combined_sketch.msh combined_sketch.msh > mash_distances.txt`"
   ]
  },
  {
   "cell_type": "markdown",
   "id": "a71da53b-a2d8-439d-a7d6-4cb0df3b18fa",
   "metadata": {},
   "source": [
    "# Mash filtration and clustering"
   ]
  },
  {
   "cell_type": "code",
   "execution_count": null,
   "id": "2452e8c8-88ba-4069-9392-71d03c87e067",
   "metadata": {},
   "outputs": [],
   "source": [
    "names = [\n",
    "    'genome1',\n",
    "    'genome2',\n",
    "    'mash_distance',\n",
    "    'p_value',\n",
    "    'matching_hashes'\n",
    "]\n",
    "\n",
    "df_mash = pd.read_csv('../../data/raw/mash_distances.txt', sep='\\t', names=names)\n",
    "df_mash['genome1'] = df_mash['genome1'].apply(lambda x: x.split('/')[-1].split('.fna')[0])\n",
    "df_mash['genome2'] = df_mash['genome2'].apply(lambda x: x.split('/')[-1].split('.fna')[0])\n",
    "\n",
    "df_mash"
   ]
  },
  {
   "cell_type": "code",
   "execution_count": null,
   "id": "17d6c88a-5504-410d-9b67-207841811823",
   "metadata": {},
   "outputs": [],
   "source": [
    "df_mash_square = df_mash.pivot(index='genome1', columns='genome2', values='mash_distance')\n",
    "\n",
    "display(\n",
    "    df_mash_square.shape,\n",
    "    df_mash_square.head()\n",
    ")"
   ]
  },
  {
   "cell_type": "markdown",
   "id": "2c7c65c0-8439-41f9-ab64-d009bcf95c4e",
   "metadata": {},
   "source": [
    "## Generate corressponding pearson-correlation matrix (& distance matrix)"
   ]
  },
  {
   "cell_type": "code",
   "execution_count": null,
   "id": "3778543f-9bd0-4368-ba1e-634b432e7987",
   "metadata": {},
   "outputs": [],
   "source": [
    "# # This may take HOURS to run\n",
    "# # Once finished it will IMMEDIATELY save all 3 matrices\n",
    "# # so you don't have to re-compute this over and over again\n",
    "\n",
    "# df_mash_corr = df_mash_square.corr()\n",
    "# df_mash_corr_dist = 1 - df_mash_corr\n",
    "# df_mash_corr_dist\n",
    "\n",
    "# # Save matrix so the next time, only the following cell needs to be run\n",
    "# # This cell should be commented out after being run once\n",
    "# df_mash_corr_dist.to_csv('../../data/processed/df_mash_corr_dist.csv')\n",
    "# df_mash_square.to_csv('../../data/processed/df_mash_square.csv')\n",
    "# df_mash_corr.to_csv('../../data/processed/df_mash_corr.csv')\n",
    "\n",
    "# display(\n",
    "#     df_mash_corr_dist.shape,\n",
    "#     df_mash_corr_dist.head()\n",
    "# )"
   ]
  },
  {
   "cell_type": "code",
   "execution_count": null,
   "id": "7beda125-26c7-46c7-96a7-7b87959a5633",
   "metadata": {},
   "outputs": [],
   "source": [
    "df_mash_corr_dist = pd.read_csv('../../data/processed/df_mash_corr_dist.csv', dtype='object').set_index('genome2').astype(float)\n",
    "df_mash_square = pd.read_csv('../../data/processed/df_mash_square.csv', dtype='object').set_index('genome1').astype(float)\n",
    "df_mash_corr = pd.read_csv('../../data/processed/df_mash_corr.csv', dtype='object').set_index('genome2').astype(float)\n",
    "\n",
    "df_mash_corr_dist.index = df_mash_corr_dist.index.astype(str)\n",
    "df_mash_corr_dist.columns = df_mash_corr_dist.columns.astype(str)\n",
    "\n",
    "df_mash_square.index = df_mash_square.index.astype(str)\n",
    "df_mash_square.columns = df_mash_square.columns.astype(str)"
   ]
  },
  {
   "cell_type": "markdown",
   "id": "8822faa4-2e27-4b29-8677-041ad89adec3",
   "metadata": {},
   "source": [
    "## Filter by scrubbed genomes\n",
    "\n",
    "Based on any cleaning that may have been done in `2a`"
   ]
  },
  {
   "cell_type": "code",
   "execution_count": null,
   "id": "091e568d-f42d-4a23-bbf9-39969c06ffdf",
   "metadata": {},
   "outputs": [],
   "source": [
    "scrubbed_strains = scrubbed_metadata.genome_id.astype('str')\n",
    "\n",
    "\n",
    "# scrubbed_new = []\n",
    "# for x in scrubbed_strains:\n",
    "#     if x not in ['1296536.1', '1296536.17', '1296536.2', '158836.1', '158836.137', '158836.168', '158836.169', '158836.2', '158836.36', '158836.4', '158836.6', '1812934.4', '1812935.1', '1812935.2', '1812935.44', '1812935.8', '2027919.8', '2071710.1', '2071710.2', '208224.2', '208224.3', '2494701.1', '2494701.2', '2831890.1', '2831891.1', '2831892.1', '2870346.1', '299766.1', '299766.2', '299767.2', '301102.1', '301102.2', '301105.1', '548.1', '548.11', '548.12', '548.13', '548.14', '548.15', '548.16', '548.17', '548.6', '548.7', '550.112', '550.114', '550.122', '550.123', '550.13', '550.14', '550.15', '550.157', '550.158', '550.166', '550.167', '550.245', '550.25', '550.26', '550.27', '550.29', '550.3', '550.31', '550.32', '550.33', '550.34', '550.35', '550.36', '550.37', '550.375', '550.376', '550.377', '550.379', '550.38', '550.381', '550.383', '550.385', '550.39', '550.4', '550.42', '550.43', '550.46', '550.48', '550.49', '550.51', '550.52', '550.53', '550.54', '550.55', '550.56', '550.65', '550.66', '550.67', '550.68', '550.69', '550.7', '550.71', '550.72', '550.73', '550.74', '550.76', '550.77', '550.78', '550.79', '550.8', '550.81', '550.82', '550.83', '550.84', '550.85', '550.86', '550.87', '550.88', '550.89', '550.9', '550.91', '550.92', '550.93', '550.94', '550.95', '550.96', '61645.1', '61645.5', '61645.58', '61645.59', '61645.6', '61645.8']:\n",
    "#         scrubbed_new.append(x)\n",
    "# scrubbed_strains = scrubbed_new    \n",
    "\n",
    "df_mash_square = df_mash_square.loc[scrubbed_strains, scrubbed_strains]\n",
    "df_mash_corr = df_mash_corr.loc[scrubbed_strains, scrubbed_strains]\n",
    "df_mash_corr_dist = df_mash_square.loc[scrubbed_strains, scrubbed_strains]"
   ]
  },
  {
   "cell_type": "markdown",
   "id": "4d617a9d-0e92-4cc7-95d2-c1917b0d2e87",
   "metadata": {},
   "source": [
    "## Filter strains by Mash distance\n",
    "\n",
    "- __Criteria 1:__ Mash value of 0.05 (soft-limit on bacterial species delineation)\n",
    "- __Criteria 2:__ Any clear outliers\n"
   ]
  },
  {
   "cell_type": "code",
   "execution_count": null,
   "id": "9950e55a-22f8-4252-b33b-b069b6e2ef14",
   "metadata": {},
   "outputs": [],
   "source": [
    "sns.histplot(df_mash_square.values.flatten())"
   ]
  },
  {
   "cell_type": "markdown",
   "id": "6a18720c-d3b8-49f2-8db4-47065a459590",
   "metadata": {},
   "source": [
    "### Find your Reference/Representative Strain ID (for filtration)\n"
   ]
  },
  {
   "cell_type": "markdown",
   "id": "b95736af-3032-4bdb-b5f1-d2da7a0d574c",
   "metadata": {},
   "source": [
    "#### note from Josh: need to determine what the representative strain for the genus is, as well as looking at the above plot in order to determine what is occuring there and if any changes to the data need to be made, reference strains below pulled from BV-BRC list and excludes those references not found in the mash matrix"
   ]
  },
  {
   "cell_type": "code",
   "execution_count": null,
   "id": "e16b533c-7b4a-4859-b630-2ab655d70ce3",
   "metadata": {},
   "outputs": [],
   "source": [
    "repr_strains = [\"550.3788\",\"158836.1174\", \"1812935.7\", \"2478464.3\", \"299767.18\", \"539813.36\", \"2494702.15\", \"69218.53\", \"881260.71\", \"1400147.3\", '550.2510', '2494701.30']"
   ]
  },
  {
   "cell_type": "code",
   "execution_count": null,
   "id": "697d4d40-0af9-44d2-9ae4-28a1ec2271c9",
   "metadata": {},
   "outputs": [],
   "source": [
    "# This cutoff is dependent on the data you see above\n",
    "# Past studies have gone down as low as 98.5th percentile\n",
    "# but 99th or 99.9th percentiles are also acceptable\n",
    "cutoffs = []\n",
    "\n",
    "for strain in repr_strains:\n",
    "    cutoffs.append(np.quantile(df_mash_square.loc[strain], 0.99))\n",
    "\n",
    "cutoff = sum(cutoffs)/len(cutoffs)\n",
    "\n",
    "# # alternative cutoff using max of possible values\n",
    "# cutoff = max(cutoffs)\n",
    "\n",
    "\n",
    "cutoff"
   ]
  },
  {
   "cell_type": "code",
   "execution_count": null,
   "id": "bfbfdadc-a6ec-40c4-8d18-fbf16716421f",
   "metadata": {},
   "outputs": [],
   "source": [
    "for repr_strain in repr_strains:\n",
    "    cond = df_mash_square.loc[repr_strain] < cutoff\n",
    "    good_strains = df_mash_square.loc[repr_strain][cond].index\n",
    "    \n",
    "    df_mash_square = df_mash_square.loc[good_strains, good_strains]\n",
    "    df_mash_corr = df_mash_corr.loc[good_strains, good_strains]\n",
    "    df_mash_corr_dist = df_mash_square.loc[good_strains, good_strains]\n",
    "    \n",
    "df_mash_corr_dist.shape"
   ]
  },
  {
   "cell_type": "code",
   "execution_count": null,
   "id": "b9adca7d-95b2-42c8-a93e-ff701eb1994e",
   "metadata": {},
   "outputs": [],
   "source": [
    "mash_scrubbed_summary = scrubbed_metadata.set_index('genome_id').loc[sorted(df_mash_square.index)].reset_index()\n",
    "mash_scrubbed_metadata = scrubbed_metadata.set_index('genome_id').loc[sorted(df_mash_square.index)].reset_index()\n",
    "\n",
    "\n",
    "display(\n",
    "    mash_scrubbed_metadata.shape,\n",
    "    mash_scrubbed_metadata.head()\n",
    ")"
   ]
  },
  {
   "cell_type": "markdown",
   "id": "3e82dc73-e28f-42d0-9710-cb9e821bf9e5",
   "metadata": {},
   "source": [
    "## Useful functions for later analysis"
   ]
  },
  {
   "cell_type": "code",
   "execution_count": null,
   "id": "e1140f6d-36b8-497a-ac0b-7051aba09f74",
   "metadata": {},
   "outputs": [],
   "source": [
    "def cluster_corr_dist(df_mash_corr_dist, thresh=0.1, method='ward', metric='euclidean'):\n",
    "    '''\n",
    "    Hierarchically Mash-based pairwise-pearson-distance matrix\n",
    "    '''\n",
    "    link = hc.linkage(sp.distance.squareform(df_mash_corr_dist), method=method, metric=metric)\n",
    "    dist = sp.distance.squareform(df_mash_corr_dist)\n",
    "    \n",
    "    clst = pd.DataFrame(index=df_mash_corr_dist.index)\n",
    "    clst['cluster'] = hc.fcluster(link, thresh * dist.max(), 'distance')\n",
    "    \n",
    "    return link, dist, clst\n",
    "\n",
    "\n",
    "def remove_bad_strains(df_mash_scd, bad_strains_list):\n",
    "    good_strains_list = sorted(set(df_mash_scd.index) - set(bad_strains_list))\n",
    "    \n",
    "    return df_mash_scd.loc[good_strains_list, good_strains_list]\n",
    "\n",
    "\n",
    "# Sensitivity analysis to pick the threshold (for E. coli we use 0.1)\n",
    "# We pick the threshold where the curve just starts to bottom out\n",
    "def sensitivity_analysis(df_mash_corr_dist_complete):\n",
    "    x = list(np.logspace(-3, -1, 10)) + list(np.linspace(0.1, 1, 19))\n",
    "    \n",
    "    def num_uniq_clusters(thresh):\n",
    "        link = hc.linkage(sp.distance.squareform(df_mash_corr_dist_complete), method='ward', metric='euclidean')\n",
    "        dist = sp.distance.squareform(df_mash_corr_dist_complete)\n",
    "        \n",
    "        clst = pd.DataFrame(index=df_mash_corr_dist_complete.index)\n",
    "        clst['cluster'] = hc.fcluster(link, thresh * dist.max(), 'distance')\n",
    "        \n",
    "        return len(clst.cluster.unique())\n",
    "    \n",
    "    tmp = pd.DataFrame()\n",
    "    tmp['threshold'] = pd.Series(x)\n",
    "    tmp['num_clusters'] = pd.Series(x).apply(num_uniq_clusters)\n",
    "    \n",
    "    # Find which value the elbow corresponds to\n",
    "    df_temp = tmp.sort_values(by='num_clusters', ascending=True).reset_index(drop=True)\n",
    "    \n",
    "    # transform input into form necessary for package\n",
    "    results_itr = zip(list(df_temp.index), list(df_temp.num_clusters))\n",
    "    data = list(results_itr)\n",
    "    \n",
    "    rotor = Rotor()\n",
    "    rotor.fit_rotate(data)\n",
    "    elbow_idx = rotor.get_elbow_index()\n",
    "    df_temp['num_clusters'][elbow_idx]\n",
    "    contamination_cutoff = df_temp['num_clusters'][elbow_idx]\n",
    "    \n",
    "    # Grab elbow threshold\n",
    "    cond = tmp['num_clusters'] == df_temp['num_clusters'][elbow_idx]\n",
    "    elbow_threshold = tmp[cond]['threshold'].iloc[0]\n",
    "    \n",
    "    return tmp, df_temp, elbow_idx, elbow_threshold\n",
    "\n"
   ]
  },
  {
   "cell_type": "markdown",
   "id": "3ef3a382-6c76-4bdd-9c45-27b4e17ab7cc",
   "metadata": {},
   "source": [
    "## Find threshold for Mash clustering"
   ]
  },
  {
   "cell_type": "code",
   "execution_count": null,
   "id": "95f7c209-49e9-42c2-9a49-d6a00fa1f595",
   "metadata": {},
   "outputs": [],
   "source": [
    "# Only looking at Complete sequences\n",
    "cond = scrubbed_summary.genome_status == 'Complete'\n",
    "complete_seqs = set(scrubbed_summary[cond].genome_id)\n",
    "complete_seqs = sorted(\n",
    "    complete_seqs.intersection(set(df_mash_square.index))\n",
    ")\n",
    "\n",
    "\n",
    "df_mash_square_complete = df_mash_square.loc[complete_seqs, complete_seqs]\n",
    "df_mash_corr_complete = df_mash_square.loc[complete_seqs, complete_seqs]\n",
    "df_mash_corr_dist_complete = df_mash_square.loc[complete_seqs, complete_seqs]\n",
    "\n",
    "df_mash_corr_dist_complete.shape"
   ]
  },
  {
   "cell_type": "code",
   "execution_count": null,
   "id": "6f33d4d4-49d4-41ee-9fd6-430d27c230e1",
   "metadata": {},
   "outputs": [],
   "source": [
    "# Initial sensitivity analysis (gives min val to consider)\n",
    "tmp, df_temp, elbow_idx, elbow_threshold = sensitivity_analysis(df_mash_corr_dist_complete)\n",
    "\n",
    "# Plot (tells us to pick something > 0.25)\n",
    "plt.rcParams[\"figure.dpi\"] = 200\n",
    "fig, axs = plt.subplots(figsize=(4,3),)\n",
    "axs.plot(tmp['threshold'], tmp['num_clusters'])\n",
    "plt.axhline(y=df_temp['num_clusters'][elbow_idx], c=\"#ff00ff\", linestyle='--')\n",
    "axs.set_ylabel('num_clusters')\n",
    "axs.set_xlabel('index')\n",
    "fig.suptitle(\n",
    "    f\"Num clusters decelerates \\nafter a value of {df_temp['num_clusters'][elbow_idx]} (threshold: {elbow_threshold})\",\n",
    "    y=1\n",
    ")\n",
    "plt.show()"
   ]
  },
  {
   "cell_type": "code",
   "execution_count": null,
   "id": "4bae363b-c7dd-424f-813c-89c43acc9205",
   "metadata": {},
   "outputs": [],
   "source": [
    "px.line(tmp, x='threshold', y='num_clusters')"
   ]
  },
  {
   "cell_type": "markdown",
   "id": "da5cdaa6-1995-4602-b0d6-1f80038c96de",
   "metadata": {},
   "source": [
    "## Plot initial clustermap of Mash values"
   ]
  },
  {
   "cell_type": "code",
   "execution_count": null,
   "id": "e13d2bb7-b08d-4089-a6fe-38994710276b",
   "metadata": {},
   "outputs": [],
   "source": [
    "elbow_threshold = elbow_threshold+0.1 # \"round\" up\n",
    "\n",
    "link, dist, clst = cluster_corr_dist(df_mash_corr_dist_complete, thresh=elbow_threshold)\n",
    "\n",
    "# Color each cluster\n",
    "cm = matplotlib.colormaps.get_cmap('tab20')\n",
    "clr = dict(zip(sorted(clst.cluster.unique()), cm.colors+cm.colors))\n",
    "clst['color'] = clst.cluster.map(clr)\n",
    "\n",
    "print('Number of colors: ', len(clr))\n",
    "print('Number of clusters', len(clst.cluster.unique()))"
   ]
  },
  {
   "cell_type": "code",
   "execution_count": null,
   "id": "98f2fee1-9c31-4827-8a87-32c558f89d59",
   "metadata": {},
   "outputs": [],
   "source": [
    "size = 6\n",
    "\n",
    "legend_TN = [patches.Patch(color=c, label=l) for l,c in clr.items()]\n",
    "\n",
    "sns.set(rc={'figure.facecolor':'white'})\n",
    "g = sns.clustermap(\n",
    "    df_mash_square_complete,\n",
    "    figsize=(size,size),\n",
    "    row_linkage=link,\n",
    "    col_linkage=link,\n",
    "    col_colors=clst.color,\n",
    "    yticklabels=False,\n",
    "    xticklabels=False,\n",
    "    cmap='BrBG_r',\n",
    "    robust=True,\n",
    "    center = .05\n",
    ")\n",
    "\n",
    "l2=g.ax_heatmap.legend(loc='upper left', bbox_to_anchor=(1.01,0.85), handles=legend_TN,frameon=True)\n",
    "l2.set_title(title='Clusters',prop={'size':10})"
   ]
  },
  {
   "cell_type": "markdown",
   "id": "114bf8cd-e309-4068-8ff3-792f0bd6dfab",
   "metadata": {},
   "source": [
    "## Filter out small clusters (typically with < 5 members)"
   ]
  },
  {
   "cell_type": "code",
   "execution_count": null,
   "id": "496ad65f-3436-4145-8791-4ffc9857a3df",
   "metadata": {},
   "outputs": [],
   "source": [
    "px.histogram(pd.DataFrame(clst.cluster.value_counts()), nbins=100)"
   ]
  },
  {
   "cell_type": "code",
   "execution_count": null,
   "id": "f5d776cf-1c7b-4c1e-b4d8-2d34d687fd8a",
   "metadata": {},
   "outputs": [],
   "source": [
    "bad_clusters = clst.cluster.value_counts()[clst.cluster.value_counts() < 5]\n",
    "bad_clusters"
   ]
  },
  {
   "cell_type": "code",
   "execution_count": null,
   "id": "d5535fed-5b36-479e-b21b-0cb2af1b0df6",
   "metadata": {},
   "outputs": [],
   "source": [
    "bad_genomes_list = []\n",
    "\n",
    "for genome in df_mash_square_complete.index:\n",
    "    cluster = clst.loc[genome, 'cluster']\n",
    "    if cluster in bad_clusters:\n",
    "        bad_genomes_list.append(genome)\n",
    "\n",
    "# Update filtration\n",
    "good_genome_ids = list(set(mash_scrubbed_metadata.set_index('genome_id').index) - set(bad_genomes_list))\n",
    "mash_scrubbed_metadata = mash_scrubbed_metadata.set_index('genome_id').loc[good_genome_ids].reset_index()\n",
    "mash_scrubbed_summary = mash_scrubbed_summary.set_index('genome_id').loc[good_genome_ids].reset_index()\n",
    "\n",
    "df_mash_square_complete = remove_bad_strains(df_mash_square_complete, bad_genomes_list)\n",
    "df_mash_corr_complete = remove_bad_strains(df_mash_square_complete, bad_genomes_list)\n",
    "df_mash_corr_dist_complete = remove_bad_strains(df_mash_corr_dist_complete, bad_genomes_list)"
   ]
  },
  {
   "cell_type": "markdown",
   "id": "09dc2f10-bcc2-4887-b3d2-ef61a0956879",
   "metadata": {},
   "source": [
    "## Keep filtering until robust clusters show up"
   ]
  },
  {
   "cell_type": "code",
   "execution_count": null,
   "id": "df782367-6c00-4e73-bcc1-2fe59c7f2bbd",
   "metadata": {},
   "outputs": [],
   "source": [
    "iteration = 1\n",
    "prev = 0\n",
    "curr = len(clst.cluster.unique())\n",
    "\n",
    "while(np.abs(prev - curr) > 0 ):\n",
    "    print(f'iteration {iteration}...{curr}')\n",
    "    \n",
    "    # Cluster\n",
    "    link, dist, clst = cluster_corr_dist(df_mash_corr_dist_complete, thresh=elbow_threshold)\n",
    "    \n",
    "    # Color each cluster\n",
    "    cm = matplotlib.colormaps.get_cmap('tab20')\n",
    "    clr = dict(zip(sorted(clst.cluster.unique()), cm.colors))\n",
    "    clst['color'] = clst.cluster.map(clr)\n",
    "    \n",
    "    # Increment\n",
    "    prev = curr\n",
    "    curr = len(clst.cluster.unique())\n",
    "    \n",
    "    # Define bad clusters\n",
    "    bad_clusters = clst.cluster.value_counts()[clst.cluster.value_counts() < 5]\n",
    "    \n",
    "    # Remove bad genomes\n",
    "    bad_genomes_list = []\n",
    "    for genome in df_mash_square_complete.index:\n",
    "        cluster = clst.loc[genome, 'cluster']\n",
    "        if cluster in bad_clusters:\n",
    "            bad_genomes_list.append(genome)\n",
    "\n",
    "    # Update filtration\n",
    "    good_genome_ids = list(set(mash_scrubbed_metadata.set_index('genome_id').index) - set(bad_genomes_list))\n",
    "    mash_scrubbed_metadata = mash_scrubbed_metadata.set_index('genome_id').loc[good_genome_ids].reset_index()\n",
    "    mash_scrubbed_summary = mash_scrubbed_summary.set_index('genome_id').loc[good_genome_ids].reset_index()\n",
    "    \n",
    "    # Update filtration\n",
    "    df_mash_square_complete = remove_bad_strains(df_mash_square_complete, bad_genomes_list)\n",
    "    df_mash_corr_complete = remove_bad_strains(df_mash_square_complete, bad_genomes_list)\n",
    "    df_mash_corr_dist_complete = remove_bad_strains(df_mash_corr_dist_complete, bad_genomes_list)\n",
    "    \n",
    "    # Increment\n",
    "    iteration +=1"
   ]
  },
  {
   "cell_type": "code",
   "execution_count": null,
   "id": "8b0afaea-7c79-4ed3-b4f7-382774f7713e",
   "metadata": {},
   "outputs": [],
   "source": [
    "df_mash_square_complete.shape # Current shape after filtration"
   ]
  },
  {
   "cell_type": "code",
   "execution_count": null,
   "id": "850940df-54d2-441f-a473-5c63e544e803",
   "metadata": {},
   "outputs": [],
   "source": [
    "link, dist, clst = cluster_corr_dist(df_mash_corr_dist_complete, thresh=elbow_threshold)\n",
    "\n",
    "# Color each cluster\n",
    "cm = matplotlib.colormaps.get_cmap('tab20')\n",
    "clr = dict(zip(sorted(clst.cluster.unique()), cm.colors+cm.colors))\n",
    "clst['color'] = clst.cluster.map(clr)\n",
    "\n",
    "print('Number of colors: ', len(clr))\n",
    "print('Number of clusters', len(clst.cluster.unique()))"
   ]
  },
  {
   "cell_type": "code",
   "execution_count": null,
   "id": "d6f908dd-bbce-41a2-a093-aa3b147ce653",
   "metadata": {},
   "outputs": [],
   "source": [
    "assert clst.cluster.value_counts().min() >= 5"
   ]
  },
  {
   "cell_type": "code",
   "execution_count": null,
   "id": "13816741-ed70-4e09-b312-5a80599f31a9",
   "metadata": {},
   "outputs": [],
   "source": [
    "px.histogram(clst.cluster.value_counts(), nbins=50)"
   ]
  },
  {
   "cell_type": "markdown",
   "id": "149b0195-9136-4fa8-9ba6-b99795802af8",
   "metadata": {},
   "source": [
    "# Plot filtered Mash clustermap\n",
    "\n",
    "__From this it looks like our final rank for NMF decomposition will be 16 for Enterobacter__"
   ]
  },
  {
   "cell_type": "code",
   "execution_count": null,
   "id": "4f700feb-4708-4902-ae56-8d3ed53d0856",
   "metadata": {},
   "outputs": [],
   "source": [
    "size = 6\n",
    "\n",
    "legend_TN = [patches.Patch(color=c, label=l) for l,c in clr.items()]\n",
    "\n",
    "sns.set(rc={'figure.facecolor':'white'})\n",
    "g = sns.clustermap(\n",
    "    df_mash_square_complete,\n",
    "    figsize=(size,size),\n",
    "    row_linkage=link,\n",
    "    col_linkage=link,\n",
    "    col_colors=clst.color,\n",
    "    yticklabels=False,\n",
    "    xticklabels=False,\n",
    "    cmap='BrBG_r',\n",
    "    robust=True,\n",
    "    center = .05\n",
    ")\n",
    "\n",
    "l2=g.ax_heatmap.legend(loc='upper left', bbox_to_anchor=(1.05,0.85), handles=legend_TN,frameon=True)\n",
    "l2.set_title(title='Clusters',prop={'size':10})"
   ]
  },
  {
   "cell_type": "markdown",
   "id": "452b0af4-55f7-45bf-bea7-4e7acf9e6e25",
   "metadata": {},
   "source": [
    "## Labeled with species information"
   ]
  },
  {
   "cell_type": "code",
   "execution_count": null,
   "id": "13b8224e-46a3-478c-8f3d-882b2c3120c1",
   "metadata": {},
   "outputs": [],
   "source": [
    "display(\n",
    "    mash_scrubbed_metadata.shape,\n",
    "    mash_scrubbed_metadata.head()\n",
    ")"
   ]
  },
  {
   "cell_type": "code",
   "execution_count": null,
   "id": "e2967470-f2be-440d-9cff-f74bf3ad5057",
   "metadata": {},
   "outputs": [],
   "source": [
    "df_species = mash_scrubbed_metadata[mash_scrubbed_metadata.genome_status == 'Complete'].loc[:,[\"genome_id\", \"genome_name\"]]\n",
    "df_species[\"species\"] = df_species[\"genome_name\"].apply(lambda x: x.split()[0]+\" \" +x.split()[1])\n",
    "df_species.set_index('genome_id', inplace=True)\n",
    "df_species.head(20)"
   ]
  },
  {
   "cell_type": "code",
   "execution_count": null,
   "id": "e4c35365-b6e1-45f8-8667-e88d5adbb72e",
   "metadata": {},
   "outputs": [],
   "source": [
    "df_species.loc[df_species[df_species.species == \"uncultured Enterobacter\"].index, 'species'] = \"Enterobacter sp.\""
   ]
  },
  {
   "cell_type": "code",
   "execution_count": null,
   "id": "5b128434-f63c-479e-ad41-5cf508fdb088",
   "metadata": {},
   "outputs": [],
   "source": [
    "cloacae = [\"Enterobacter cloacae\", 'Enterobacter asburiae', 'Enterobacter hormaechei',\n",
    "           \"Enterobacter kobei\", \"Enterobacter ludwigii\", \"Enterobacter nimipressuralis\"] # check which species are officially a part of the complex\n",
    "df_species[\"group\"] = \"Other\"\n",
    "df_species.loc[df_species.species.apply(lambda x: x in cloacae), \"group\"] = \"Cloacae Complex\""
   ]
  },
  {
   "cell_type": "code",
   "execution_count": null,
   "id": "93afff21-bb84-4576-848e-ebfccf80344d",
   "metadata": {},
   "outputs": [],
   "source": [
    "custom_colors = {'Enterobacter hormaechei': 'FireBrick',\n",
    " 'Enterobacter cloacae': 'Pink',\n",
    " 'Enterobacter sp.': 'SlateGray',\n",
    " 'Enterobacter roggenkampii': 'Green',\n",
    " 'Enterobacter kobei': 'Purple',\n",
    " 'Enterobacter cancerogenus': 'Magenta',\n",
    " 'Enterobacter bugandensis': 'Cyan',\n",
    " 'Enterobacter asburiae': 'Blue',\n",
    " 'Enterobacter ludwigii': 'Lime',\n",
    " 'Enterobacter mori': 'Seashell',\n",
    " 'Enterobacter xiangfangensis': 'Red'}\n",
    "\n",
    "df_species['color'] = df_species.species.map(custom_colors)"
   ]
  },
  {
   "cell_type": "code",
   "execution_count": null,
   "id": "311fd36b-de1c-4be3-98bd-663493331e01",
   "metadata": {},
   "outputs": [],
   "source": [
    "size = 6\n",
    "\n",
    "legend_TN = [patches.Patch(color=c, label=l) for l,c in custom_colors.items()]\n",
    "\n",
    "sns.set(rc={'figure.facecolor':'white'})\n",
    "g = sns.clustermap(\n",
    "    df_mash_square_complete,\n",
    "    figsize=(size,size),\n",
    "    row_linkage=link,\n",
    "    col_linkage=link,\n",
    "    col_colors=df_species.color,\n",
    "    yticklabels=False,\n",
    "    xticklabels=False,\n",
    "    cmap='BrBG_r',\n",
    "    robust=True,\n",
    "    center = .05\n",
    ")\n",
    "\n",
    "l2=g.ax_heatmap.legend(loc='upper left', bbox_to_anchor=(1.05,0.85), handles=legend_TN,frameon=True)\n",
    "l2.set_title(title='Clusters',prop={'size':10})\n",
    "\n",
    "plt.savefig(\"../images/mash_clustermap.png\", format='png', bbox_inches='tight')"
   ]
  },
  {
   "cell_type": "code",
   "execution_count": null,
   "id": "4cf06534-6792-40dc-ab56-dca57978b16b",
   "metadata": {},
   "outputs": [],
   "source": [
    "size = 6\n",
    "\n",
    "legend_TN = [patches.Patch(color=c, label=l) for l,c in clr.items()]\n",
    "\n",
    "sns.set(rc={'figure.facecolor':'white'})\n",
    "g = sns.clustermap(\n",
    "    df_mash_square_complete,\n",
    "    figsize=(size,size),\n",
    "    row_linkage=link,\n",
    "    col_linkage=link,\n",
    "    col_colors=df_species.color,\n",
    "    yticklabels=False,\n",
    "    xticklabels=False,\n",
    "    cmap='BrBG_r',\n",
    "    center = .05,\n",
    "    robust=True\n",
    ")\n",
    "\n",
    "\n",
    "l2.set_title(title='Clusters',prop={'size':10})\n",
    "plt.savefig('../images/mash_clustermap.jpg', dpi = 400)"
   ]
  },
  {
   "cell_type": "code",
   "execution_count": null,
   "id": "59c001fd-5847-40be-898c-77f6048d7d81",
   "metadata": {},
   "outputs": [],
   "source": [
    "## NOTE:\n",
    "# consider how to resolve the sp. distinctions, as well as uncultured Enterobacter"
   ]
  },
  {
   "cell_type": "markdown",
   "id": "29af2a66-2c90-423b-93ab-fa4e88c93a0a",
   "metadata": {},
   "source": [
    "# KNN Classification"
   ]
  },
  {
   "cell_type": "code",
   "execution_count": null,
   "id": "f59201cf-0515-4844-920d-376b16a7d5c2",
   "metadata": {},
   "outputs": [],
   "source": [
    "x = mash_scrubbed_metadata.set_index('genome_id')\n",
    "x['complete_mash_cluster'] = clst.cluster.astype(str)\n",
    "x = x.reset_index()"
   ]
  },
  {
   "cell_type": "code",
   "execution_count": null,
   "id": "dbd909c3-42f9-477c-9763-4359ac2e94d4",
   "metadata": {},
   "outputs": [],
   "source": [
    "df = df_mash_square.loc[mash_scrubbed_metadata.genome_id]"
   ]
  },
  {
   "cell_type": "code",
   "execution_count": null,
   "id": "f8f7edee-8567-47c0-9302-ba1ce9da73b2",
   "metadata": {},
   "outputs": [],
   "source": [
    "import numpy as np\n",
    "import pandas as pd\n",
    "from sklearn.neighbors import KNeighborsClassifier\n",
    "\n",
    "labels = x.complete_mash_cluster.dropna().astype(str)\n",
    "\n",
    "# Ensure df_mash is a numpy array\n",
    "if isinstance(df, pd.DataFrame):\n",
    "    df = df.values\n",
    "\n",
    "n_points = df.shape[0]\n",
    "labeled_indices = list(labels.keys())\n",
    "unlabeled_indices = list(set(range(n_points)) - set(labeled_indices))\n",
    "\n",
    "labels_array = np.full(n_points, fill_value=None, dtype=object)\n",
    "for idx, label in labels.items():\n",
    "    labels_array[idx] = label\n",
    "\n",
    "# Use only labeled data for training\n",
    "X_train = df[np.ix_(labeled_indices, labeled_indices)]\n",
    "y_train = labels_array[labeled_indices]\n",
    "\n",
    "knn = KNeighborsClassifier(n_neighbors=5, metric='precomputed')\n",
    "knn.fit(X_train, y_train)\n",
    "\n",
    "X_unlabeled = df[np.ix_(unlabeled_indices, labeled_indices)]\n",
    "predicted_labels = knn.predict(X_unlabeled)\n",
    "\n",
    "for idx, label in zip(unlabeled_indices, predicted_labels):\n",
    "    labels_array[idx] = label\n",
    "\n",
    "# The array labels_array now contains the original and predicted labels\n"
   ]
  },
  {
   "cell_type": "code",
   "execution_count": null,
   "id": "63747cd3-b5b9-40b1-b8de-a5b561d37a92",
   "metadata": {},
   "outputs": [],
   "source": [
    "x['KNN'] = labels_array"
   ]
  },
  {
   "cell_type": "code",
   "execution_count": null,
   "id": "a2712498-f92e-4a70-a34b-1c5e6357449c",
   "metadata": {},
   "outputs": [],
   "source": [
    "x.set_index('genome_id')[['KNN', 'complete_mash_cluster']].apply(lambda x: x.KNN == x.complete_mash_cluster, axis=1).value_counts()"
   ]
  },
  {
   "cell_type": "code",
   "execution_count": null,
   "id": "e8c40594-50de-42b1-90e7-b3c62b23195b",
   "metadata": {},
   "outputs": [],
   "source": [
    "sns.barplot(x.set_index('genome_id')[['KNN', 'complete_mash_cluster']]['KNN'].value_counts())"
   ]
  },
  {
   "cell_type": "markdown",
   "id": "7f9b9d22-9d29-4cd2-b2d1-0e5e6c1f9e80",
   "metadata": {},
   "source": [
    "# Save Mash-scrubbed `summary` and `metadata`"
   ]
  },
  {
   "cell_type": "code",
   "execution_count": null,
   "id": "d485523a-e3f4-4aef-974a-d97e82718036",
   "metadata": {},
   "outputs": [],
   "source": [
    "x = mash_scrubbed_metadata.set_index('genome_id')\n",
    "x['complete_mash_cluster'] = clst.cluster.astype('int')\n",
    "mash_scrubbed_metadata = x.reset_index()\n",
    "mash_scrubbed_metadata.head()"
   ]
  },
  {
   "cell_type": "code",
   "execution_count": null,
   "id": "2c57045c-19a9-4fbd-aa1b-80726e0a4121",
   "metadata": {},
   "outputs": [],
   "source": [
    "filepath = SCRUBBED_SUMMARY.split('scrubbed_species_summary.csv')[0]\n",
    "filepath = os.path.join(filepath, 'mash_scrubbed_species_summary.csv')\n",
    "filepath"
   ]
  },
  {
   "cell_type": "code",
   "execution_count": null,
   "id": "ebf5bd87-8c08-431a-8960-f773c84b283e",
   "metadata": {},
   "outputs": [],
   "source": [
    "mash_scrubbed_summary.to_csv(filepath)"
   ]
  },
  {
   "cell_type": "code",
   "execution_count": null,
   "id": "bc52a818-61d9-42cd-8b0e-bd0300371889",
   "metadata": {},
   "outputs": [],
   "source": [
    "filepath = SCRUBBED_METADATA.split('scrubbed_species_metadata.csv')[0]\n",
    "filepath = os.path.join(filepath, 'mash_scrubbed_species_metadata.csv')\n",
    "filepath"
   ]
  },
  {
   "cell_type": "code",
   "execution_count": null,
   "id": "18f253a8-0f43-4777-9a9b-9aab387491c0",
   "metadata": {},
   "outputs": [],
   "source": [
    "mash_scrubbed_metadata.to_csv(filepath)"
   ]
  },
  {
   "cell_type": "markdown",
   "id": "b6ca12bf-98fc-4c8a-9021-2c6261c92c61",
   "metadata": {},
   "source": [
    "# Save Mash results"
   ]
  },
  {
   "cell_type": "code",
   "execution_count": null,
   "id": "405f287c-a482-4e22-8d0c-bf242fe0018f",
   "metadata": {},
   "outputs": [],
   "source": [
    "filepath = filepath.split('mash_scrubbed_species_metadata.csv')[0]\n",
    "filepath = os.path.join(filepath, 'df_mash_square.csv')\n",
    "filepath"
   ]
  },
  {
   "cell_type": "code",
   "execution_count": null,
   "id": "257aaa47-2c11-4434-b449-ef5ec776f4ee",
   "metadata": {},
   "outputs": [],
   "source": [
    "df_mash_square.to_csv(filepath)"
   ]
  },
  {
   "cell_type": "code",
   "execution_count": null,
   "id": "223f5885-a78f-466f-a02b-4c159ab7fc5f",
   "metadata": {},
   "outputs": [],
   "source": [
    "filepath = filepath.split('df_mash_square.csv')[0]\n",
    "filepath = os.path.join(filepath, 'df_mash_corr_dist.csv')\n",
    "filepath"
   ]
  },
  {
   "cell_type": "code",
   "execution_count": null,
   "id": "393f7166-f595-469b-9ff9-224c7689d2ba",
   "metadata": {},
   "outputs": [],
   "source": [
    "df_mash_corr_dist.to_csv(filepath)"
   ]
  },
  {
   "cell_type": "markdown",
   "id": "0d9602bc-8ec1-489b-922e-7ed642e9482e",
   "metadata": {},
   "source": [
    "# Characterize Each Cluster"
   ]
  },
  {
   "cell_type": "code",
   "execution_count": null,
   "id": "ac1bb54d-f072-4dd0-833c-3e326e962bab",
   "metadata": {},
   "outputs": [],
   "source": [
    "mash_scrubbed_metadata.complete_mash_cluster.value_counts()"
   ]
  },
  {
   "cell_type": "code",
   "execution_count": null,
   "id": "e68d27f1-a7c3-492f-8d90-7c7e4ab31aa0",
   "metadata": {},
   "outputs": [],
   "source": [
    "df_mash_square"
   ]
  },
  {
   "cell_type": "code",
   "execution_count": null,
   "id": "a654686a-f2df-4f6e-897f-5dd59a2e2e1b",
   "metadata": {},
   "outputs": [],
   "source": [
    "# BV-BRC Strains with same strain as from https://f1000research.com/articles/7-521\n",
    "type_strains = {\n",
    "    'asburiae': '1646339.4',\n",
    "    'bugandensis': '881260.3',\n",
    "    'cancerogenous': '69218.16',\n",
    "    'cloacae clade K': '550.420',\n",
    "    'asburiae clade L': '61645.63',\n",
    "    'cloacae clade N': '550.1227',\n",
    "    'cloacae clade s': '550.979',\n",
    "    'cancerogenous clade t': '69218.15',\n",
    "    'cloacae cloacae': '716541.4',\n",
    "    'cloacae dissolvens': '1104326.3',\n",
    "    'hormaechei hoffmannii': '1812934.3',\n",
    "    'hormaechei hormaechei': '888063.8',\n",
    "    'hormaechei oharae': '301102.37',\n",
    "    'hormaechei sterigerwaltii': '299766.39',\n",
    "    'hormaechei xiangfangensis': '1296536.16',\n",
    "    'kobei': '208224.12',\n",
    "    'ludwigii': '299767.18',\n",
    "    'mori': '539813.36', # from BV-BRC\n",
    "    'rogenkampii': '1812935.7',\n",
    "}\n",
    "\n",
    "id_to_type ={strain:key for key, strain in type_strains.items()}"
   ]
  },
  {
   "cell_type": "code",
   "execution_count": null,
   "id": "0e2a784e-8808-4c28-9b17-5306170a3677",
   "metadata": {},
   "outputs": [],
   "source": [
    "cluster_to_type = {}\n",
    "for cluster in sorted(mash_scrubbed_metadata[mash_scrubbed_metadata.genome_id.isin(df_mash_corr_complete)].complete_mash_cluster.astype(float).astype(int).unique()):\n",
    "    strains = list(mash_scrubbed_metadata[mash_scrubbed_metadata.complete_mash_cluster == cluster].genome_id.values)\n",
    "    best_match = id_to_type[df_mash_square.loc[type_strains.values(), strains].mean(axis=1).idxmin()]\n",
    "    cluster_to_type[cluster] =  best_match + ' - ' + type_strains[best_match]\n",
    "    print(int(float(cluster)), id_to_type[df_mash_square.loc[type_strains.values(), strains].mean(axis=1).idxmin()], type_strains[best_match])"
   ]
  },
  {
   "cell_type": "code",
   "execution_count": null,
   "id": "825db947-76fa-4a26-a872-cba139d003eb",
   "metadata": {},
   "outputs": [],
   "source": [
    "size = 6\n",
    "\n",
    "legend_TN = [patches.Patch(color=c, label=str(l) + ' - ' + cluster_to_type[l]) for l,c in clr.items()]\n",
    "\n",
    "sns.set(rc={'figure.facecolor':'white'})\n",
    "g = sns.clustermap(\n",
    "    df_mash_square_complete,\n",
    "    figsize=(size,size),\n",
    "    row_linkage=link,\n",
    "    col_linkage=link,\n",
    "    col_colors=clst.color,\n",
    "    yticklabels=False,\n",
    "    xticklabels=False,\n",
    "    cmap='BrBG_r',\n",
    "    robust=True,\n",
    "    center = .05\n",
    ")\n",
    "\n",
    "l2=g.ax_heatmap.legend(loc='upper left', bbox_to_anchor=(1.05,1), handles=legend_TN,frameon=True)\n",
    "l2.set_title(title='Clusters',prop={'size':10})\n",
    "plt.savefig(\"../images/supplemental/mash_clustermap_mash_labels.png\", format='png', bbox_inches='tight')"
   ]
  }
 ],
 "metadata": {
  "kernelspec": {
   "display_name": "Python [conda env:pan-phylon]",
   "language": "python",
   "name": "conda-env-pan-phylon-py"
  },
  "language_info": {
   "codemirror_mode": {
    "name": "ipython",
    "version": 3
   },
   "file_extension": ".py",
   "mimetype": "text/x-python",
   "name": "python",
   "nbconvert_exporter": "python",
   "pygments_lexer": "ipython3",
   "version": "3.12.2"
  }
 },
 "nbformat": 4,
 "nbformat_minor": 5
}
