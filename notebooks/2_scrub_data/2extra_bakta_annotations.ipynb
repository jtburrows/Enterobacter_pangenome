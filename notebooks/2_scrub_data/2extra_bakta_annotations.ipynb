{
 "cells": [
  {
   "cell_type": "code",
   "execution_count": null,
   "id": "643fa128-2eac-4263-9434-2801ca3bc61b",
   "metadata": {},
   "outputs": [],
   "source": [
    "import os\n",
    "import gzip\n",
    "import pickle\n",
    "\n",
    "import numpy as np\n",
    "import pandas as pd\n",
    "\n",
    "from tqdm.notebook import tqdm"
   ]
  },
  {
   "cell_type": "code",
   "execution_count": null,
   "id": "beda818c-06bc-42df-99fe-c60645e9af7f",
   "metadata": {},
   "outputs": [],
   "source": [
    "bakta_files = '../../data/processed/bakta/'\n",
    "cd_hit_headers = '../../data/processed/cd-hit-results/rep_headers.txt'\n",
    "header_to_allele = '../../data/processed/cd-hit-results/header_to_allele_80.pickle.gz'"
   ]
  },
  {
   "cell_type": "code",
   "execution_count": null,
   "id": "94d4c69b-8d30-4847-b2af-09f5e8c8f779",
   "metadata": {},
   "outputs": [],
   "source": [
    "df_h2a = pd.read_pickle(header_to_allele)"
   ]
  },
  {
   "cell_type": "code",
   "execution_count": null,
   "id": "97ce1f4f-8751-461a-a42b-1078ffe4a6c1",
   "metadata": {},
   "outputs": [],
   "source": [
    "headers = open(cd_hit_headers).readlines()\n",
    "headers = [x[1:13] for x in headers]"
   ]
  },
  {
   "cell_type": "code",
   "execution_count": null,
   "id": "a3878f76-e03d-4073-ba7d-9014381ddd5d",
   "metadata": {},
   "outputs": [],
   "source": [
    "for genome in tqdm(os.listdir(bakta_files)):\n",
    "    file = open(bakta_files + genome + '/' + genome + '.gff3')\n",
    "    file.seek(0)\n",
    "    text = file.read(10000)\n",
    "    loc = text.find('JDDBHE')\n",
    "    if loc != -1:\n",
    "        print('found')\n",
    "        print(genome)"
   ]
  },
  {
   "cell_type": "code",
   "execution_count": null,
   "id": "69369df9-da26-4634-9d7e-c842c2e577dc",
   "metadata": {},
   "outputs": [],
   "source": [
    "tag_to_genome = {}\n",
    "for genome in tqdm(os.listdir(bakta_files)):\n",
    "    file = open(bakta_files + genome + '/' + genome + '.gff3')\n",
    "    file.seek(0)\n",
    "    text = file.read(10000)\n",
    "    loc = text.find('locus_tag=')\n",
    "    tag = text[loc+10:loc+16]\n",
    "    tag_to_genome[tag] = genome"
   ]
  },
  {
   "cell_type": "code",
   "execution_count": null,
   "id": "32329912-4168-4634-9799-0a1ffcdb41b2",
   "metadata": {},
   "outputs": [],
   "source": [
    "bakta_files + genome + '/' + genome + '.gbff3'"
   ]
  },
  {
   "cell_type": "code",
   "execution_count": null,
   "id": "8115788e-00fa-4c06-9ceb-9eac8d062c5b",
   "metadata": {},
   "outputs": [],
   "source": [
    "annotations = {}\n",
    "for header in tqdm(headers):\n",
    "    genome = tag_to_genome[header.split('_')[0]]\n",
    "    file = bakta_files + genome + '/' + genome + '.gff3'\n",
    "    with open(file,'r',buffering=1) as f:\n",
    "        found = False\n",
    "        while(not found):\n",
    "            line = f.readline()\n",
    "            if header in line:\n",
    "                annotations[header] = line.split('\\t')\n",
    "                found = True"
   ]
  },
  {
   "cell_type": "code",
   "execution_count": null,
   "id": "cae38147-00ea-4efa-a45a-141a6ffd20d7",
   "metadata": {},
   "outputs": [],
   "source": [
    "df_annot = pd.DataFrame.from_dict(annotations, orient='index', \n",
    "                                  columns=['contig', 'Software', 'Region_Type', 'Start', \n",
    "                                           'End', 'Score', 'Strand', 'Frame', 'Attribute'])\n",
    "df_annot['Length(BP)'] = df_annot.apply(lambda x: int(x.End) - int(x.Start), axis = 1)\n",
    "\n",
    "def get_product(x):\n",
    "    ret_val = x.split(';')[3][8:]\n",
    "    if ret_val[-1]  == '\\n':\n",
    "        ret_val = ret_val[:-1]\n",
    "    return ret_val\n",
    "\n",
    "df_annot['Product'] = df_annot.Attribute.apply(lambda x: get_product(x))\n",
    "\n",
    "def get_name(x):\n",
    "    if 'gene=' in x:\n",
    "        loc = x.find('gene=')\n",
    "        end = x.find(';', loc)\n",
    "        if end == -1:\n",
    "            end = len(x)-1\n",
    "        return x[loc+5:end]\n",
    "    return None\n",
    "\n",
    "df_annot['Name'] = df_annot.Attribute.apply(lambda x: get_name(x))\n",
    "df_annot = df_annot.reset_index(names=['Ref_allele'])\n",
    "df_annot['Gene'] = df_annot.Ref_allele.apply(lambda x: df_h2a[x].split('A')[0])\n",
    "df_annot.set_index('Gene', inplace=True)"
   ]
  },
  {
   "cell_type": "code",
   "execution_count": null,
   "id": "fa5f988a-f0a9-4f57-9f56-2671f6fa71fd",
   "metadata": {},
   "outputs": [],
   "source": [
    "df_return = df_annot[['Ref_allele', 'Length(BP)', 'Product', 'Name', 'Attribute']]\n",
    "df_return"
   ]
  },
  {
   "cell_type": "code",
   "execution_count": null,
   "id": "20fe4396-8395-4c31-a346-aa0b8f8bdeda",
   "metadata": {},
   "outputs": [],
   "source": [
    "df_annot.Product.value_counts()"
   ]
  },
  {
   "cell_type": "code",
   "execution_count": null,
   "id": "9eceff1b-20bc-412f-b7c9-cc72f5630f77",
   "metadata": {},
   "outputs": [],
   "source": [
    "df_annot.Name.value_counts()"
   ]
  },
  {
   "cell_type": "code",
   "execution_count": null,
   "id": "8a517be8-24ba-4dc7-a105-2855607ed59f",
   "metadata": {},
   "outputs": [],
   "source": [
    "df_return.to_csv('../../data/processed/bakta_gene_annotations.csv')"
   ]
  }
 ],
 "metadata": {
  "kernelspec": {
   "display_name": "torch_env",
   "language": "python",
   "name": "my_private_env"
  },
  "language_info": {
   "codemirror_mode": {
    "name": "ipython",
    "version": 3
   },
   "file_extension": ".py",
   "mimetype": "text/x-python",
   "name": "python",
   "nbconvert_exporter": "python",
   "pygments_lexer": "ipython3",
   "version": "3.12.2"
  }
 },
 "nbformat": 4,
 "nbformat_minor": 5
}
