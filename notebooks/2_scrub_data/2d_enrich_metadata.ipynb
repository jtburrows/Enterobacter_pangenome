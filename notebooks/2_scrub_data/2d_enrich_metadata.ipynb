{
 "cells": [
  {
   "cell_type": "markdown",
   "id": "5556c860-3d00-440b-8fce-fac294e92d81",
   "metadata": {},
   "source": [
    "# Setup"
   ]
  },
  {
   "cell_type": "code",
   "execution_count": null,
   "id": "6638fad0-a279-4439-a641-e9b3d4c8f1d6",
   "metadata": {},
   "outputs": [],
   "source": [
    "import os\n",
    "import pandas as pd\n",
    "\n",
    "from matplotlib import pyplot as plt\n",
    "import seaborn as sns\n",
    "\n",
    "from tqdm.notebook import tqdm"
   ]
  },
  {
   "cell_type": "code",
   "execution_count": null,
   "id": "c924bb6c-797e-449c-b17d-cb39a735f8fd",
   "metadata": {},
   "outputs": [],
   "source": [
    "MLST = '../../data/processed/mlst_annotations.txt'\n",
    "METADATA = '../../data/metadata/mash_scrubbed_species_metadata.csv'"
   ]
  },
  {
   "cell_type": "code",
   "execution_count": null,
   "id": "a6f60c51-1f4f-4918-a565-fb9e4db2575c",
   "metadata": {},
   "outputs": [],
   "source": [
    "mlst = pd.read_csv(MLST, sep='\\t', header=None, dtype='object')\n",
    "\n",
    "# Add column names\n",
    "mlst.columns = [\n",
    "    'genome_id',\n",
    "    'schema',\n",
    "    'mlst',\n",
    "    'dnaA',\n",
    "    'fusA',\n",
    "    'gyrB',\n",
    "    'leuS',\n",
    "    'pyrG',\n",
    "    'rplB',\n",
    "    'rpoB'\n",
    "]\n",
    "\n",
    "mlst"
   ]
  },
  {
   "cell_type": "markdown",
   "id": "d918d6ba-cae0-41cf-891c-37f290213fd1",
   "metadata": {},
   "source": [
    "# Enrich metadata\n",
    "\n",
    "For now, its just MLST. Add in other things as needed"
   ]
  },
  {
   "cell_type": "code",
   "execution_count": null,
   "id": "d44eade1-7796-43dc-be27-11eecb9b8ac5",
   "metadata": {},
   "outputs": [],
   "source": [
    "mash_scrubbed_metadata = pd.read_csv(METADATA, index_col=0, dtype='object')\n",
    "\n",
    "display(\n",
    "    mash_scrubbed_metadata.shape,\n",
    "    mash_scrubbed_metadata.head()\n",
    ")"
   ]
  },
  {
   "cell_type": "code",
   "execution_count": null,
   "id": "025ef8fb-2f29-466a-81c5-d2f7daf5e0c6",
   "metadata": {},
   "outputs": [],
   "source": [
    "mash_scrubbed_metadata['mlst'] = None\n",
    "\n",
    "for idx in tqdm(mash_scrubbed_metadata.index):\n",
    "    genome_id = mash_scrubbed_metadata.loc[idx, 'genome_id']\n",
    "    mlst_value = mlst.set_index('genome_id').loc[f'{genome_id}.fna', 'mlst']\n",
    "\n",
    "    # if non-exact mlst allele match, set to -1\n",
    "    if mlst_value == '-':\n",
    "        mlst_value = -1\n",
    "    \n",
    "    mash_scrubbed_metadata.loc[idx, 'mlst'] = mlst_value\n",
    "\n",
    "mash_scrubbed_metadata.head()"
   ]
  },
  {
   "cell_type": "markdown",
   "id": "f86db09a-fd86-4898-b65b-bf3f787f440a",
   "metadata": {},
   "source": [
    "# Save enriched metadata file"
   ]
  },
  {
   "cell_type": "code",
   "execution_count": null,
   "id": "96535407-df10-4213-a79d-79e0ed66bc3a",
   "metadata": {},
   "outputs": [],
   "source": [
    "mash_scrubbed_metadata.to_csv('../../data/metadata/enriched_metadata.csv')"
   ]
  },
  {
   "cell_type": "code",
   "execution_count": null,
   "id": "6b5a35b1-5ca8-40d7-8473-7165e2ea43c1",
   "metadata": {},
   "outputs": [],
   "source": []
  }
 ],
 "metadata": {
  "kernelspec": {
   "display_name": "torch_env",
   "language": "python",
   "name": "my_private_env"
  },
  "language_info": {
   "codemirror_mode": {
    "name": "ipython",
    "version": 3
   },
   "file_extension": ".py",
   "mimetype": "text/x-python",
   "name": "python",
   "nbconvert_exporter": "python",
   "pygments_lexer": "ipython3",
   "version": "3.12.2"
  }
 },
 "nbformat": 4,
 "nbformat_minor": 5
}
