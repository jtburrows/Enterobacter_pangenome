{
 "cells": [
  {
   "cell_type": "markdown",
   "id": "69e254e3-d92c-4076-acea-206b9a945bb0",
   "metadata": {},
   "source": [
    "# Setup"
   ]
  },
  {
   "cell_type": "code",
   "execution_count": null,
   "id": "e42063d0-6b2d-4849-983f-95a6f7ea94bc",
   "metadata": {},
   "outputs": [],
   "source": [
    "import os\n",
    "import numpy as np\n",
    "import pandas as pd\n",
    "\n",
    "import plotly.express as px"
   ]
  },
  {
   "cell_type": "code",
   "execution_count": null,
   "id": "0b80ecbd-bc02-4037-9e3c-29810db86b36",
   "metadata": {},
   "outputs": [],
   "source": [
    "DOWNLOADED_SUMMARY = '../../data/metadata/filtered_downloaded_species_summary.csv'\n",
    "DOWNLOADED_METADATA = '../../data/metadata/filtered_downloaded_species_metadata.csv'"
   ]
  },
  {
   "cell_type": "code",
   "execution_count": null,
   "id": "2976201a-c32f-4456-9af7-08cb828d0b6a",
   "metadata": {},
   "outputs": [],
   "source": [
    "downloaded_summary = pd.read_csv(DOWNLOADED_SUMMARY, index_col=0, dtype='object')\n",
    "downloaded_metadata = pd.read_csv(DOWNLOADED_METADATA, index_col=0, dtype='object')\n",
    "\n",
    "display(\n",
    "    downloaded_summary.shape,\n",
    "    downloaded_summary.head()\n",
    ")"
   ]
  },
  {
   "cell_type": "markdown",
   "id": "d0bd10ac-983a-4723-b38b-4bf92af9e132",
   "metadata": {},
   "source": [
    "# De-duplicate entries"
   ]
  },
  {
   "cell_type": "markdown",
   "id": "f28a8f52-4013-4115-8bc9-89aa9e00ab37",
   "metadata": {},
   "source": [
    "## Ensure `biosample_accession` is unique & drop duplicates"
   ]
  },
  {
   "cell_type": "code",
   "execution_count": null,
   "id": "09c69e3f-a219-46ea-8665-6e6880d20f38",
   "metadata": {},
   "outputs": [],
   "source": [
    "downloaded_metadata = downloaded_metadata.drop_duplicates(subset=['biosample_accession'])\n",
    "\n",
    "display(\n",
    "    downloaded_metadata.shape,\n",
    "    downloaded_metadata.head()\n",
    ")"
   ]
  },
  {
   "cell_type": "markdown",
   "id": "8d62a16b-2b8b-4997-a4ca-713a07d78615",
   "metadata": {},
   "source": [
    "## Ensure `assembly_accession` is unique"
   ]
  },
  {
   "cell_type": "code",
   "execution_count": null,
   "id": "95ae3fef-367b-4139-9740-a64b1bc28ae9",
   "metadata": {},
   "outputs": [],
   "source": [
    "## Skippeing this step because many strains do not have an assembly accession"
   ]
  },
  {
   "cell_type": "code",
   "execution_count": null,
   "id": "47fd8b93-07e7-405a-a6da-363818128a5b",
   "metadata": {},
   "outputs": [],
   "source": [
    "# downloaded_metadata = downloaded_metadata.drop_duplicates(subset=['assembly_accession'])\n",
    "\n",
    "# display(\n",
    "#     downloaded_metadata.shape,\n",
    "#     downloaded_metadata.head()\n",
    "# )"
   ]
  },
  {
   "cell_type": "markdown",
   "id": "61c7b507-7c5d-4cbf-beb8-1aa05207a598",
   "metadata": {},
   "source": [
    "## (Optional) Go through and remove any empty or mostly empty columns"
   ]
  },
  {
   "cell_type": "code",
   "execution_count": null,
   "id": "d73b3f0e-6dce-426c-8dfe-3f803068eb05",
   "metadata": {},
   "outputs": [],
   "source": [
    "mostly_empty_cols = pd.DataFrame(index=downloaded_metadata.columns, columns=['num_NA'])\n",
    "\n",
    "for col in downloaded_metadata.columns:\n",
    "    mostly_empty_cols.at[col, 'num_NA'] = downloaded_metadata[col].isna().sum()\n",
    "\n",
    "\n",
    "# Drop anything for which over 50% of the metadata entries are N/A\n",
    "px.histogram(mostly_empty_cols, x='num_NA', nbins=100)"
   ]
  },
  {
   "cell_type": "code",
   "execution_count": null,
   "id": "5d77db66-134b-4218-86c8-72498a12086e",
   "metadata": {},
   "outputs": [],
   "source": [
    "cutoff_cols_NA =  downloaded_metadata.shape[0]/2\n",
    "cond = mostly_empty_cols.num_NA < cutoff_cols_NA\n",
    "\n",
    "mostly_full_cols = mostly_empty_cols[cond]\n",
    "mostly_full_cols.loc['plasmids', 'num_NA'] = mostly_empty_cols.loc['plasmids', 'num_NA']\n",
    "\n",
    "mostly_full_cols"
   ]
  },
  {
   "cell_type": "code",
   "execution_count": null,
   "id": "be90197a-b444-4206-9e90-e72c7d7e6f2e",
   "metadata": {},
   "outputs": [],
   "source": [
    "scrubbed_metadata = downloaded_metadata[mostly_full_cols.index]\n",
    "scrubbed_metadata"
   ]
  },
  {
   "cell_type": "markdown",
   "id": "3d6a8b14-6024-4e92-be86-e1858e3c5ff2",
   "metadata": {},
   "source": [
    "## (Optional) Clean comments, hyphens, etc. in metadata"
   ]
  },
  {
   "cell_type": "code",
   "execution_count": null,
   "id": "5271074e-131b-4ddc-8b93-3b5c27e2c7ed",
   "metadata": {},
   "outputs": [],
   "source": [
    "# Go through these columns and make sure they have relevant info\n",
    "# If they don't, feel free to drop the columns\n",
    "scrubbed_metadata.columns"
   ]
  },
  {
   "cell_type": "markdown",
   "id": "5cce8af5-1b98-4b19-9546-6aa72fe16b68",
   "metadata": {},
   "source": [
    "### `mlst` column should be removed if it still exists"
   ]
  },
  {
   "cell_type": "code",
   "execution_count": null,
   "id": "214d445d-ac63-47e5-a57e-be6cc5b9c987",
   "metadata": {},
   "outputs": [],
   "source": [
    "# We will run MLST seperately, so its worth dropping this column\n",
    "scrubbed_metadata['mlst'].value_counts()"
   ]
  },
  {
   "cell_type": "code",
   "execution_count": null,
   "id": "94affd12-ea7e-4ba3-a74b-4ada6b39b9e3",
   "metadata": {},
   "outputs": [],
   "source": [
    "scrubbed_metadata = scrubbed_metadata.drop(columns=['mlst'])"
   ]
  },
  {
   "cell_type": "markdown",
   "id": "3c7f3ae5-1f0d-4ef0-b52b-f93e3f419bf6",
   "metadata": {},
   "source": [
    "# Save cleaned summary & metadata files"
   ]
  },
  {
   "cell_type": "code",
   "execution_count": null,
   "id": "a9e3bea2-053c-41f9-88f5-61e06d2dc77a",
   "metadata": {},
   "outputs": [],
   "source": [
    "filepath = DOWNLOADED_METADATA.split('filtered_downloaded_species_metadata')[0]\n",
    "filepath = os.path.join(filepath, 'scrubbed_species_metadata.csv')\n",
    "\n",
    "filepath"
   ]
  },
  {
   "cell_type": "code",
   "execution_count": null,
   "id": "04fb5e0a-3466-4dd5-9c73-991d2932da41",
   "metadata": {},
   "outputs": [],
   "source": [
    "scrubbed_metadata.to_csv(filepath)"
   ]
  },
  {
   "cell_type": "code",
   "execution_count": null,
   "id": "07fb87c7-9917-4904-a264-070d368f7c86",
   "metadata": {},
   "outputs": [],
   "source": [
    "scrubbed_summary = downloaded_summary.loc[scrubbed_metadata.index]\n",
    "\n",
    "filepath = DOWNLOADED_SUMMARY.split('filtered_downloaded_species_summary')[0]\n",
    "filepath = os.path.join(filepath, 'scrubbed_species_summary.csv')\n",
    "\n",
    "filepath"
   ]
  },
  {
   "cell_type": "code",
   "execution_count": null,
   "id": "51580e9b-4042-47c7-bd29-4dd5ff5e345f",
   "metadata": {},
   "outputs": [],
   "source": [
    "scrubbed_summary.to_csv(filepath)"
   ]
  },
  {
   "cell_type": "code",
   "execution_count": null,
   "id": "fc2037fa-864b-4150-a77a-dab571f8bc01",
   "metadata": {},
   "outputs": [],
   "source": [
    "downloaded_summary.shape[0] - scrubbed_summary.shape[0] # Number of genomes filtered during de-duplication"
   ]
  },
  {
   "cell_type": "code",
   "execution_count": null,
   "id": "94580119-834f-4196-9dec-95ab589a827a",
   "metadata": {},
   "outputs": [],
   "source": []
  },
  {
   "cell_type": "code",
   "execution_count": null,
   "id": "9dd79da0-6690-443e-96f7-6eb6e746f036",
   "metadata": {},
   "outputs": [],
   "source": [
    "\n",
    "!ls -l"
   ]
  }
 ],
 "metadata": {
  "kernelspec": {
   "display_name": "torch_env",
   "language": "python",
   "name": "my_private_env"
  },
  "language_info": {
   "codemirror_mode": {
    "name": "ipython",
    "version": 3
   },
   "file_extension": ".py",
   "mimetype": "text/x-python",
   "name": "python",
   "nbconvert_exporter": "python",
   "pygments_lexer": "ipython3",
   "version": "3.12.2"
  }
 },
 "nbformat": 4,
 "nbformat_minor": 5
}
