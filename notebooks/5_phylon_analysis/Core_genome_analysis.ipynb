{
 "cells": [
  {
   "cell_type": "code",
   "execution_count": null,
   "id": "30ea3da6-e81e-47e9-b77e-555081604690",
   "metadata": {
    "editable": true,
    "slideshow": {
     "slide_type": ""
    },
    "tags": []
   },
   "outputs": [],
   "source": [
    "# Base imports\n",
    "import os\n",
    "import pickle\n",
    "import re\n",
    "\n",
    "# Compute imports\n",
    "import numpy as np\n",
    "import pandas as pd\n",
    "import scipy\n",
    "from tqdm.notebook import tqdm, trange\n",
    "\n",
    "# Plotting imports\n",
    "import matplotlib\n",
    "from matplotlib import pyplot as plt\n",
    "import seaborn as sns\n",
    "from plotly import express as px\n",
    "\n",
    "# ML import\n",
    "from sklearn.decomposition import NMF\n",
    "from sklearn.metrics import mean_squared_error, median_absolute_error\n",
    "from sklearn.metrics.pairwise import cosine_similarity\n",
    "\n",
    "\n",
    "import multiprocessing\n",
    "from multiprocessing import Pool\n",
    "\n",
    "\n",
    "matplotlib.rcParams['pdf.fonttype'] = 42\n",
    "matplotlib.rcParams['ps.fonttype'] = 42\n",
    "matplotlib.rcParams['svg.fonttype'] = 'none'\n",
    "matplotlib.rcParams['font.sans-serif'] = 'Arial'\n",
    "matplotlib.rcParams['font.family'] = 'sans-serif'\n",
    "sns.set_style('ticks')\n",
    "matplotlib.rcParams['text.color'] = '#000000'\n",
    "matplotlib.rcParams['axes.labelcolor'] = '#000000'\n",
    "matplotlib.rcParams['xtick.color'] = '#000000'\n",
    "matplotlib.rcParams['ytick.color'] = '#000000'"
   ]
  },
  {
   "cell_type": "code",
   "execution_count": null,
   "id": "dfa271e6-da2a-423f-9dfa-26e45c84a7cf",
   "metadata": {},
   "outputs": [],
   "source": [
    "from Bio import AlignIO\n",
    "from Bio.Align import MultipleSeqAlignment\n",
    "from Bio.Align.Applications import MafftCommandline\n",
    "from io import StringIO\n",
    "from Bio import SeqIO\n",
    "import tempfile\n",
    "from Bio import AlignIO\n",
    "from Bio.Phylo.TreeConstruction import DistanceCalculator, DistanceTreeConstructor\n",
    "from Bio import Phylo"
   ]
  },
  {
   "cell_type": "code",
   "execution_count": null,
   "id": "4da70ab3-5297-4197-8e2c-9b5469bd0a1e",
   "metadata": {},
   "outputs": [],
   "source": [
    "DF_GENES = '../../data/processed/cd-hit-results/sim80/Ebacter_strain_by_gene.pickle.gz'\n",
    "ENRICHED_METADATA = '../../data/metadata/enriched_metadata.csv'\n",
    "DF_EGGNOG = '../../data/processed/df_eggnog.csv'\n",
    "\n",
    "DF_ACC_COMPLETE = '../../data/processed/CAR_genomes/df_acc_complete.pickle'\n",
    "DF_RARE_COMPLETE = '../../data/processed/CAR_genomes/df_rare_complete.pickle'\n",
    "DF_CORE_COMPLETE = '../../data/processed/CAR_genomes/df_core_complete.pickle'\n",
    "BAKTA_ANNOTATIONS = '../../data/processed/bakta_gene_annotations.csv'"
   ]
  },
  {
   "cell_type": "code",
   "execution_count": null,
   "id": "7f050734-bf82-48cb-9122-a4a2c523990d",
   "metadata": {},
   "outputs": [],
   "source": [
    "bakta_annotations = pd.read_csv(BAKTA_ANNOTATIONS, index_col=0)"
   ]
  },
  {
   "cell_type": "code",
   "execution_count": null,
   "id": "6ad8abc5-7066-489b-b9a2-dc721db2fb95",
   "metadata": {},
   "outputs": [],
   "source": [
    "df_rare = pd.read_pickle(DF_RARE_COMPLETE)\n",
    "df_acc = pd.read_pickle(DF_ACC_COMPLETE)\n",
    "df_core = pd.read_pickle(DF_CORE_COMPLETE)"
   ]
  },
  {
   "cell_type": "code",
   "execution_count": null,
   "id": "38fbe629-8d4a-4091-b598-22d0664071d4",
   "metadata": {},
   "outputs": [],
   "source": [
    "metadata = pd.read_csv(ENRICHED_METADATA, index_col=0, dtype='object')\n",
    "\n",
    "display( metadata.shape, metadata.head())"
   ]
  },
  {
   "cell_type": "code",
   "execution_count": null,
   "id": "0c31319f-9f9a-416a-bff5-af7b91cf003d",
   "metadata": {},
   "outputs": [],
   "source": [
    "# Load in (full) P matrix\n",
    "df_genes = pd.read_pickle(DF_GENES)\n",
    "\n",
    "# Filter metadata for Complete sequences only\n",
    "metadata_complete = metadata[metadata.genome_status == 'Complete'] # filter for only Complete sequences\n",
    "\n",
    "# Filter P matrix for Complete sequences only\n",
    "df_genes_complete = df_genes[metadata_complete.genome_id].copy()\n",
    "df_genes_complete.fillna(0, inplace=True) # replace N/A with 0\n",
    "df_genes_complete = df_genes_complete.sparse.to_dense().astype('int8') # densify & typecast to int8 for space and compute reasons\n",
    "inCompleteseqs = df_genes_complete.sum(axis=1) > 0 # filter for genes found in complete sequences\n",
    "df_genes_complete = df_genes_complete[inCompleteseqs]\n",
    "\n",
    "df_genes_complete.shape"
   ]
  },
  {
   "cell_type": "code",
   "execution_count": null,
   "id": "e199a499-a742-4154-b81a-258f6b7348e5",
   "metadata": {},
   "outputs": [],
   "source": [
    "# Load in eggNOG annotations\n",
    "df_eggnog = pd.read_csv(DF_EGGNOG, index_col=0)\n",
    "df_eggnog.fillna('-', inplace=True)\n",
    "\n",
    "display(\n",
    "    df_eggnog.shape,\n",
    "    df_eggnog.head()\n",
    ")"
   ]
  },
  {
   "cell_type": "code",
   "execution_count": null,
   "id": "ea8f2edd-df8f-4e3a-b32b-3482981fb800",
   "metadata": {},
   "outputs": [],
   "source": [
    "core_genes = df_core.index"
   ]
  },
  {
   "cell_type": "code",
   "execution_count": null,
   "id": "8df7ad77-216a-4296-b52e-483cc4e9f289",
   "metadata": {},
   "outputs": [],
   "source": [
    "acc_genes = df_acc.index\n",
    "rare_genes = df_rare.index"
   ]
  },
  {
   "cell_type": "markdown",
   "id": "46f1a484-92ae-4f31-8131-ff2b6ec7e994",
   "metadata": {},
   "source": [
    "# Categorization of core-genes"
   ]
  },
  {
   "cell_type": "markdown",
   "id": "8508bc81-03e1-495a-9eb6-38a90e0150f2",
   "metadata": {},
   "source": [
    "## Size of core-genome"
   ]
  },
  {
   "cell_type": "code",
   "execution_count": null,
   "id": "ad2e5be5-e3d8-4f33-b71d-c4697775d1a7",
   "metadata": {},
   "outputs": [],
   "source": [
    "len(df_core)"
   ]
  },
  {
   "cell_type": "markdown",
   "id": "d97fc702-0dfc-4185-89a1-702d307346f4",
   "metadata": {},
   "source": [
    "## Proportion of genes in each genome"
   ]
  },
  {
   "cell_type": "code",
   "execution_count": null,
   "id": "df8864b1-b24a-4f6f-b055-fc8208b21112",
   "metadata": {},
   "outputs": [],
   "source": [
    "results = []\n",
    "for genome in df_core.columns:\n",
    "    core_count = df_core.loc[:, genome].sum()\n",
    "    acc_count = df_acc.loc[:, genome].sum()\n",
    "    rare_count = df_rare.loc[:, genome].sum()\n",
    "    results.append({\"Genome\":genome, \"Core\":core_count, \"Acc\":acc_count, \"Rare\":rare_count})\n",
    "df_results = pd.DataFrame(results)"
   ]
  },
  {
   "cell_type": "code",
   "execution_count": null,
   "id": "3fea6b5d-d011-4773-8965-52b4af7154df",
   "metadata": {},
   "outputs": [],
   "source": [
    "import matplotlib.pyplot as plt\n",
    "\n",
    "df = df_results.sort_values('Core', ascending=False)\n",
    "\n",
    "# Calculate proportions\n",
    "df['Total'] = df['Core'] + df['Acc'] + df['Rare']\n",
    "df['Core_Proportion'] = df['Core'] / df['Total']\n",
    "df['Accessory_Proportion'] = df['Acc'] / df['Total']\n",
    "df['Rare_Proportion'] = df['Rare'] / df['Total']\n",
    "\n",
    "# Plotting\n",
    "fig, ax = plt.subplots(figsize=(12, 5))\n",
    "\n",
    "# Stacked area plot\n",
    "df.plot(\n",
    "    x='Genome',\n",
    "    y=['Core', 'Acc', 'Rare'],\n",
    "    kind='area',\n",
    "    stacked=True,\n",
    "    ax=ax,\n",
    "    color= ['#B7B2D8', '#FF8A1A', '#66A9D0']\n",
    ")\n",
    "\n",
    "# Set limits for x-axis to fill the area\n",
    "ax.set_xlim(-0.5, len(df) - 0.5)  # Adjust based on the number of genomes\n",
    "\n",
    "# Adding labels and title\n",
    "ax.set_ylabel('Gene Count')\n",
    "ax.set_title('Number of Core, Accessory, and Rare Genes in Each Genome')\n",
    "\n",
    "plt.xticks(rotation=45)\n",
    "plt.tight_layout()\n",
    "plt.savefig('../../images/core_genome_figs/gene_proportions.svg')\n",
    "plt.show()\n"
   ]
  },
  {
   "cell_type": "markdown",
   "id": "fa00412a-8c6d-4704-877b-847490bdb781",
   "metadata": {},
   "source": [
    "## Cog-categories of core"
   ]
  },
  {
   "cell_type": "code",
   "execution_count": null,
   "id": "a64535f1-47a9-4eb5-abd6-c339b014acd2",
   "metadata": {},
   "outputs": [],
   "source": [
    "cog_colors = {\n",
    "    'J': '#ff0000',\n",
    "    'A': '#c2af58',\n",
    "    'K': '#ff9900',\n",
    "    'L': '#ffff00',\n",
    "    'B': '#ffc600',\n",
    "    'D': '#99ff00',\n",
    "    'Y': '#493126',\n",
    "    'V': '#ff008a',\n",
    "    'T': '#0000ff',\n",
    "    'M': '#9ec928',\n",
    "    'N': '#006633',\n",
    "    'Z': '#660099',\n",
    "    'W': '#336699',\n",
    "    'U': '#33cc99',\n",
    "    'O': '#00ffff',\n",
    "    'C': '#9900ff',\n",
    "    'G': '#805642',\n",
    "    'E': '#ff00ff',\n",
    "    'F': '#99334d',\n",
    "    'H': '#727dcc',\n",
    "    'I': '#5c5a1b',\n",
    "    'P': '#0099ff',\n",
    "    'Q': '#ffcc99',\n",
    "    'R': '#ff9999',\n",
    "    'S': '#d6aadf'\n",
    "}"
   ]
  },
  {
   "cell_type": "code",
   "execution_count": null,
   "id": "d9ec1bd7-2e91-49f6-9644-bcfd8e416c48",
   "metadata": {},
   "outputs": [],
   "source": [
    "cogs = df_eggnog.loc[core_genes].COG_category.values\n",
    "\n",
    "unique_cogs = set([x for x in cogs if len(x) == 1 and x != '-'])\n",
    "cog_counts = {x: 0 for x in unique_cogs}\n",
    "for cog in cogs:\n",
    "    for char in cog:\n",
    "        if char == '-': char = 'S'\n",
    "        cog_counts[char] += 1"
   ]
  },
  {
   "cell_type": "code",
   "execution_count": null,
   "id": "588decb0-b08d-40e1-a259-a024c63ae8db",
   "metadata": {},
   "outputs": [],
   "source": [
    "import plotly.graph_objects as go\n",
    "import plotly.express as px\n",
    "import pandas as pd\n",
    "from plotly.subplots import make_subplots\n",
    "\n",
    "# Create the subplots layout (1 row, 2 columns, with 2 rows in total)\n",
    "fig = make_subplots(\n",
    "    rows=2, cols=2,\n",
    "    subplot_titles=['Core Genome', 'Acc Genome', 'Rare Genome'],\n",
    "    specs=[[{'type': 'sunburst'}, {'type': 'sunburst'}],\n",
    "           [{'type': 'sunburst'}, None]],  # None for the bottom-right empty slot\n",
    "    horizontal_spacing=0.05,  # Decrease space between columns\n",
    "    vertical_spacing=0,  # Decrease space between rows\n",
    ")\n",
    "\n",
    "# Color map and categories setup\n",
    "colors = {'METABOLISM': 'green', 'CELLULAR PROCESSES AND SIGNALING': 'gold', \n",
    "          'INFORMATION STORAGE AND PROCESSING': 'red', 'POORLY CHARACTERIZED': 'grey'}\n",
    "\n",
    "categories = {\n",
    "    'INFORMATION STORAGE AND PROCESSING': ['J', 'A', 'K', 'L', 'B'],\n",
    "    'CELLULAR PROCESSES AND SIGNALING': 'D Y V T M N Z W U O'.split(),\n",
    "    'METABOLISM': 'C G E F H I P Q'.split(),\n",
    "    'POORLY CHARACTERIZED': 'R S'.split()\n",
    "}\n",
    "categories = {x: key for key, value in categories.items() for x in value}\n",
    "\n",
    "# Loop through the categories\n",
    "for i, (category, genes) in enumerate(zip(['core', 'acc', 'rare'], [core_genes, acc_genes, rare_genes])):\n",
    "    cogs = df_eggnog.loc[genes].COG_category.values\n",
    "    unique_cogs = \"J A K L B D Y V T M N Z W U O C G E F H I P Q R S\".split()\n",
    "    \n",
    "    cog_counts = {x: 0 for x in unique_cogs}\n",
    "    for cog in cogs:\n",
    "        for char in cog:\n",
    "            if char == '-': char = 'S'  # Replace '-' with 'S'\n",
    "            cog_counts[char] += 1\n",
    "    \n",
    "    COG_order = \"J A K L B D Y V T M N Z W U O C G E F H I P Q R S\".split()\n",
    "    df = pd.DataFrame(list(cog_counts.items()), columns=['COG', 'Count']).set_index('COG').loc[[x for x in COG_order if x in cog_counts.keys()]]\n",
    "    df = df.reset_index()\n",
    "    df = df.drop(df[df.Count == 0].index)\n",
    "    \n",
    "    # Assign the meta categories to the DataFrame\n",
    "    df['meta_category'] = df['COG'].map(categories)\n",
    "    df['color'] = df['meta_category'].apply(lambda x: colors[x])\n",
    "\n",
    "    # Create the sunburst plot for the current category\n",
    "    sunburst = px.sunburst(df, path=['meta_category', 'COG'], \n",
    "                           values='Count', color='meta_category', \n",
    "                           color_discrete_map=colors)\n",
    "    \n",
    "    # Update the traces to make the text black and set font size\n",
    "    sunburst.update_traces(\n",
    "        textinfo='label+percent entry+value', \n",
    "        insidetextorientation='horizontal',\n",
    "        textfont=dict(size=8, color='black'),  # Set font size to 8 and color to black\n",
    "        hoverinfo='label+percent entry+value'  # Ensures text appears on hover as well\n",
    "    )\n",
    "\n",
    "    # Adjust layout for each sunburst plot\n",
    "    sunburst.update_layout(\n",
    "        title=category.upper() + ' Genome COG Distribution',\n",
    "        title_x=0.5,\n",
    "        width=800,  # Increased width of each plot for better visibility\n",
    "        height=700,  # Increased height of each plot for better visibility\n",
    "        showlegend=False  # Hide legend for individual plots\n",
    "    )\n",
    "    \n",
    "    # Add each sunburst plot to its respective subplot\n",
    "    if category == 'core':\n",
    "        fig.add_trace(sunburst.data[0], row=1, col=1)\n",
    "    elif category == 'acc':\n",
    "        fig.add_trace(sunburst.data[0], row=1, col=2)\n",
    "    elif category == 'rare':\n",
    "        fig.add_trace(sunburst.data[0], row=2, col=1)\n",
    "\n",
    "# Update the layout to reduce the margins, adjust spacing, and make plots closer\n",
    "fig.update_layout(\n",
    "    title='COG Category Distribution by Genome',  # Overall title\n",
    "    showlegend=True,  # Show legend for color categories\n",
    "    legend=dict(\n",
    "        x=1.05,  # Position legend further to the right\n",
    "        y=0,  # Align the bottom of the legend with the plot\n",
    "        traceorder='normal',\n",
    "        bgcolor='rgba(255, 255, 255, 0)',  # Transparent background for the legend\n",
    "        borderwidth=0  # No border for the legend\n",
    "    ),\n",
    "    margin=dict(t=50, b=50, l=50, r=100),  # Reduce margins to make plots closer together\n",
    "    height=1200,  # Overall height increased to fit larger plots\n",
    "    width=1000,  # Overall width increased to fit larger plots\n",
    "    uniformtext=dict(minsize=8, mode='show')\n",
    ")\n",
    "\n",
    "\n",
    "# Save the figure as an SVG file\n",
    "fig.write_image('../../images/supplemental/cogs_grid.svg', format='svg')\n",
    "\n",
    "# Show the final plot\n",
    "fig.show()\n"
   ]
  },
  {
   "cell_type": "markdown",
   "id": "f1f63db2-171b-45ba-b784-5b992447dcb8",
   "metadata": {},
   "source": [
    "## Looking at AMRFinder Results"
   ]
  },
  {
   "cell_type": "code",
   "execution_count": null,
   "id": "57f2b8cf-93f2-470e-83ad-57b79ac06198",
   "metadata": {},
   "outputs": [],
   "source": [
    "amr = pd.read_csv('../../data/processed/amrfinder/output', sep = '\\t')\n",
    "amr['Protein identifier'] = amr['Protein identifier'].apply(lambda x: x.split('A')[0])\n",
    "amr = amr.set_index('Protein identifier')"
   ]
  },
  {
   "cell_type": "code",
   "execution_count": null,
   "id": "7a8466e7-9a6f-47a6-843d-c00c6f84fb52",
   "metadata": {},
   "outputs": [],
   "source": [
    "hist_df = df_genes.loc[amr.index,df_core.columns].sum().sort_values()"
   ]
  },
  {
   "cell_type": "code",
   "execution_count": null,
   "id": "420e18dd-3482-462c-8ee4-1c32a0c992c3",
   "metadata": {},
   "outputs": [],
   "source": [
    "sns.violinplot(hist_df);\n",
    "plt.title('Violin Plot of AMR Genes Per Strain');\n",
    "plt.ylabel('Number of AMR Genes');"
   ]
  },
  {
   "cell_type": "code",
   "execution_count": null,
   "id": "d8fceee5-a6ac-4c6e-b7bf-3af3d37e98bb",
   "metadata": {},
   "outputs": [],
   "source": [
    "core_amr = df_core.loc[[x for x in amr.index if x in df_core.index]]\n",
    "df_eggnog.loc[core_amr.index]"
   ]
  },
  {
   "cell_type": "code",
   "execution_count": null,
   "id": "55d5ca78-83de-4f04-8264-eb2ced6fa8fd",
   "metadata": {
    "scrolled": true
   },
   "outputs": [],
   "source": [
    "acc_amr = df_acc.loc[[x for x in amr.index if x in df_acc.index]]\n",
    "df_eggnog.loc[acc_amr.index]"
   ]
  },
  {
   "cell_type": "code",
   "execution_count": null,
   "id": "66d096fa-9d5b-42a0-8c56-20dc3db312e8",
   "metadata": {},
   "outputs": [],
   "source": [
    "amr_rare = df_rare.loc[[x for x in amr.index if x in df_rare.index]]\n",
    "amr_rare.sum(axis=1).sort_values().hist()"
   ]
  },
  {
   "cell_type": "markdown",
   "id": "461a9b2a-acc6-4cb5-a0e6-cb9e3e4bbb7a",
   "metadata": {},
   "source": [
    "## Metabolic Core Genes"
   ]
  },
  {
   "cell_type": "code",
   "execution_count": null,
   "id": "eccd4edf-48e1-4871-86ca-4d1c717f7e9b",
   "metadata": {},
   "outputs": [],
   "source": [
    "# 1042 genes are metabolic\n",
    "isMetabolic = df_eggnog.loc[df_core.index].COG_category.str.contains('C|E|F|G|H|I|P')\n",
    "core_metabolic = df_eggnog.loc[df_core.index][isMetabolic]\n",
    "\n",
    "display(core_metabolic)"
   ]
  },
  {
   "cell_type": "markdown",
   "id": "bb5bf55c-e51e-4afe-bf43-6270e6e07168",
   "metadata": {},
   "source": [
    "## Core motility genes"
   ]
  },
  {
   "cell_type": "code",
   "execution_count": null,
   "id": "bdaa7bb4-f17d-4ed3-b191-fe6717fb3f38",
   "metadata": {
    "scrolled": true
   },
   "outputs": [],
   "source": [
    "# 42 motility genes\n",
    "\n",
    "isMotility1 = df_eggnog.loc[df_core.index].COG_category.str.contains('N')\n",
    "isMotility2 = df_eggnog.loc[df_core.index].Description.str.contains('pilus')\n",
    "isMotility3 = df_eggnog.loc[df_core.index].Description.str.contains('pili')\n",
    "\n",
    "core_motility = df_eggnog.loc[df_core.index][isMotility1 | isMotility2 | isMotility3]\n",
    "core_motility"
   ]
  },
  {
   "cell_type": "markdown",
   "id": "b6815b73-2d6d-42e4-977d-2a67f4137204",
   "metadata": {},
   "source": [
    "## Get number of alleles per core gene"
   ]
  },
  {
   "cell_type": "code",
   "execution_count": null,
   "id": "18f3ecb3-db95-48d7-bbc1-f7fc9a901242",
   "metadata": {},
   "outputs": [],
   "source": [
    "# Step 1: Read the data (alleles)\n",
    "P_allele = pd.read_pickle('../../data/processed/cd-hit-results/sim80/Ebacter_strain_by_allele.pickle.gz')\n",
    "P_allele = P_allele.loc[:, df_core.columns]\n",
    "display(\n",
    "    P_allele.shape,\n",
    "    P_allele.head(),\n",
    "    P_allele.dtypes\n",
    ")"
   ]
  },
  {
   "cell_type": "code",
   "execution_count": null,
   "id": "a8feafeb-27a0-4c57-ab13-d21efb79c439",
   "metadata": {},
   "outputs": [],
   "source": [
    "P_allele = P_allele.loc[:, df_core.columns].fillna(0)\n",
    "mask = np.any(P_allele.values == 1, axis = 1)\n",
    "P_allele = P_allele[mask]"
   ]
  },
  {
   "cell_type": "code",
   "execution_count": null,
   "id": "c2178fe3-0a6b-489e-97f3-aed05794a716",
   "metadata": {},
   "outputs": [],
   "source": [
    "relevant_alleles = [x for x in P_allele.index if x.split('A')[0] in df_core.index]\n",
    "len(relevant_alleles)"
   ]
  },
  {
   "cell_type": "code",
   "execution_count": null,
   "id": "149bce40-0454-4597-8fcc-1f473025385d",
   "metadata": {},
   "outputs": [],
   "source": [
    "P_allele = P_allele.loc[relevant_alleles].fillna(0).astype(int)"
   ]
  },
  {
   "cell_type": "code",
   "execution_count": null,
   "id": "ca158a77-6a85-4cbc-b387-8a8aa05d7f89",
   "metadata": {},
   "outputs": [],
   "source": [
    "# Step 1: Create a mapping from genes to the alleles that match\n",
    "print('Mapping alleles')\n",
    "allele_mapping = {gene: [x for x in P_allele.index if gene + 'A' in x] for gene in df_core.index}\n",
    "\n",
    "# Step 2: Create a DataFrame to hold the sums for easier processing\n",
    "print('Summing allele presence')\n",
    "sum_df = P_allele[df_core.columns].fillna(0).sum(axis=1)\n",
    "\n",
    "# Step 3: Process each gene\n",
    "dominant_alleles = []\n",
    "super_dominant_alleles = []\n",
    "\n",
    "for gene in tqdm(df_core.index):\n",
    "    alleles = allele_mapping.get(gene, [])\n",
    "    if not alleles:\n",
    "        continue\n",
    "    \n",
    "    # Compute the sum of alleles\n",
    "    allele_sum = sum_df.loc[alleles]\n",
    "    \n",
    "    # Check if the max sum is greater than 0.5 times the number of columns\n",
    "    if allele_sum.max() > 0.5 * df_core.shape[1]:\n",
    "        dominant_alleles.append(allele_sum.idxmax())\n",
    "\n",
    "    if allele_sum.max() > 0.95 * df_core.shape[1]:\n",
    "        super_dominant_alleles.append(allele_sum.idxmax())"
   ]
  },
  {
   "cell_type": "code",
   "execution_count": null,
   "id": "f7461c18-4a31-4b76-aab1-ed293d414495",
   "metadata": {},
   "outputs": [],
   "source": [
    "core_allele_counts = {}\n",
    "\n",
    "for gene in tqdm(df_core.index):\n",
    "    core_allele_counts[gene] = len([x for x in P_allele.index if gene + 'A' in x])"
   ]
  },
  {
   "cell_type": "code",
   "execution_count": null,
   "id": "a7dfaba4-ec60-44b4-84aa-7f530202e36c",
   "metadata": {},
   "outputs": [],
   "source": [
    "core_alleles = pd.Series(core_allele_counts).sort_values()"
   ]
  },
  {
   "cell_type": "code",
   "execution_count": null,
   "id": "205fef0f-64e0-47d7-85a4-599eea581c07",
   "metadata": {},
   "outputs": [],
   "source": [
    "import matplotlib.pyplot as plt\n",
    "import pandas as pd\n",
    "import numpy as np\n",
    "\n",
    "plt.rcParams['font.family'] = 'DejaVu Sans'\n",
    "\n",
    "# Set the figure size (narrower and taller)\n",
    "plt.figure(figsize=(12, 6))  # Adjust width and height as needed\n",
    "\n",
    "plt.hist(pd.DataFrame(core_alleles), bins=np.linspace(0, 260, 20), label='All Genes', edgecolor='black', alpha=0.8)\n",
    "plt.hist(pd.DataFrame(core_alleles).loc[[x.split('A')[0] for x in dominant_alleles]], \n",
    "         bins=np.linspace(0, 260, 20), color='red', label='Dominant Alleles', edgecolor='black', alpha=1)\n",
    "plt.hist(pd.DataFrame(core_alleles).loc[[x.split('A')[0] for x in super_dominant_alleles]], \n",
    "         bins=np.linspace(0, 260, 20), color='purple', label='Hyper-Dominant Alleles', edgecolor='black', alpha=1)\n",
    "\n",
    "plt.legend()\n",
    "plt.title('Number of Alleles Per Core Gene')\n",
    "plt.xlabel('Number of Alleles')\n",
    "plt.ylabel('Number of Genes')\n",
    "\n",
    "plt.savefig('../images/core_genome_figs/core_allele_dist.svg', format='svg')\n",
    "\n",
    "plt.show()"
   ]
  },
  {
   "cell_type": "code",
   "execution_count": null,
   "id": "d7203b23-fe0b-41c5-861f-f6967f38826f",
   "metadata": {},
   "outputs": [],
   "source": [
    "core_cogs = df_eggnog.loc[[x.split('A')[0] for x in set(df_core.index) - set(dominant_alleles)]].COG_category.apply(lambda x: x[0]).value_counts()\n",
    "core_proportion = core_cogs / core_cogs.sum()"
   ]
  },
  {
   "cell_type": "code",
   "execution_count": null,
   "id": "0a1d2b3f-fb26-469c-a9dd-d15d9ab162c8",
   "metadata": {},
   "outputs": [],
   "source": [
    "dominant_cogs = df_eggnog.loc[[x.split('A')[0] for x in set(dominant_alleles) - set(super_dominant_alleles)]].COG_category.apply(lambda x: x[0]).value_counts()\n",
    "dominant_proportion = dominant_cogs / dominant_cogs.sum()"
   ]
  },
  {
   "cell_type": "code",
   "execution_count": null,
   "id": "ff7abe17-c58f-49f7-82ce-6f5c51e15b44",
   "metadata": {},
   "outputs": [],
   "source": [
    "super_dominant_cogs = df_eggnog.loc[[x.split('A')[0] for x in super_dominant_alleles]].COG_category.apply(lambda x: x[0]).value_counts()\n",
    "super_dominant_proportion = super_dominant_cogs / super_dominant_cogs.sum()"
   ]
  },
  {
   "cell_type": "code",
   "execution_count": null,
   "id": "c1cdbb56-29e1-4520-98bb-c09b970cd272",
   "metadata": {},
   "outputs": [],
   "source": [
    "# Create a dataframe for the counts\n",
    "df = pd.DataFrame()\n",
    "df['core'] = core_cogs\n",
    "df['dominant'] = dominant_cogs\n",
    "df['super_dominant'] = super_dominant_cogs\n",
    "df['COG'] = df.index\n",
    "df = df.fillna(0)\n",
    "\n",
    "\n",
    "# Normalize counts to proportions\n",
    "df['core_proportion'] = df['core'] / df['core'].sum()\n",
    "df['dominant_proportion'] = df['dominant'] / df['dominant'].sum()\n",
    "df['super_dominant_proportion'] = df['super_dominant'] / df['super_dominant'].sum()"
   ]
  },
  {
   "cell_type": "code",
   "execution_count": null,
   "id": "2ba6d620-e486-4296-a6da-f92c2aab11bc",
   "metadata": {},
   "outputs": [],
   "source": [
    "count"
   ]
  },
  {
   "cell_type": "code",
   "execution_count": null,
   "id": "8e7c745a-354b-4854-aba7-ce16e4f18d3a",
   "metadata": {},
   "outputs": [],
   "source": [
    "from statsmodels.stats.proportion import proportions_ztest\n",
    "from statsmodels.stats.multitest import multipletests\n",
    "import pandas as pd\n",
    "\n",
    "# Assuming df is your original DataFrame with proportions already calculated\n",
    "# Ensure you have columns like 'core_proportion', 'dominant_proportion', 'super_dominant_proportion'\n",
    "\n",
    "# Store results for each comparison\n",
    "results = []\n",
    "\n",
    "# Define the groups and their pairwise comparisons\n",
    "groups = ['core', 'dominant', 'super_dominant']\n",
    "comparisons = [('core', 'dominant'), ('core', 'super_dominant'), ('dominant', 'super_dominant')]\n",
    "\n",
    "# Perform pairwise comparisons for each COG category\n",
    "for cog in df['COG']:\n",
    "    for group1, group2 in comparisons:\n",
    "        # Get the proportion for each group\n",
    "        prop1 = df.loc[df['COG'] == cog, f'{group1}_proportion'].values[0]\n",
    "        prop2 = df.loc[df['COG'] == cog, f'{group2}_proportion'].values[0]\n",
    "        \n",
    "        # Get the total counts for each group\n",
    "        n1 = df[group1].sum()  # Total count for group1\n",
    "        n2 = df[group2].sum()  # Total count for group2\n",
    "        \n",
    "        # Perform the proportion z-test\n",
    "        count = [prop1 * n1, prop2 * n2]  # Number of successes (proportion * total)\n",
    "        nobs = [n1, n2]  # Total number of observations in each group\n",
    "        \n",
    "        # Perform z-test\n",
    "        z_stat, p_value = proportions_ztest(count, nobs)\n",
    "        \n",
    "        # Store the results\n",
    "        results.append({\n",
    "            'COG': cog,\n",
    "            'Comparison': f'{group1} vs {group2}',\n",
    "            'Z-statistic': z_stat,\n",
    "            'P-value': p_value\n",
    "        })\n",
    "\n",
    "# Convert results to a DataFrame\n",
    "results_df = pd.DataFrame(results)\n",
    "\n",
    "# Adjust p-values for multiple comparisons using FDR (False Discovery Rate)\n",
    "_, corrected_p_values, _, _ = multipletests(results_df['P-value'], method='fdr_bh')\n",
    "\n",
    "# Add corrected p-values to the results\n",
    "results_df['Corrected P-value'] = corrected_p_values\n",
    "\n",
    "# Mark significant results (e.g., Corrected P-value < 0.05)\n",
    "results_df['Significance'] = results_df['Corrected P-value'].apply(\n",
    "    lambda x: 'Significant' if x < 0.05 else 'Not Significant'\n",
    ")\n",
    "\n",
    "# Display results\n",
    "display(results_df)\n"
   ]
  },
  {
   "cell_type": "code",
   "execution_count": null,
   "id": "33649e0c-6052-4432-bce6-8e1d061a1765",
   "metadata": {},
   "outputs": [],
   "source": [
    "# Melt the dataframe to long format for easier plotting\n",
    "plot_df = pd.melt(\n",
    "    df,\n",
    "    id_vars=['COG'],\n",
    "    value_vars=['core_proportion', 'dominant_proportion', 'super_dominant_proportion'],\n",
    "    var_name='Group',\n",
    "    value_name='Proportion'\n",
    ")\n",
    "\n",
    "# Map proportions to group names\n",
    "plot_df['Group'] = plot_df['Group'].str.replace('_proportion', '').str.capitalize()\n",
    "\n",
    "# Extract significant results\n",
    "significant_results = results_df[results_df[\"Corrected P-value\"] < 0.05]\n",
    "\n",
    "# Create a significance flag\n",
    "significant_results[\"Significance\"] = significant_results.apply(\n",
    "    lambda row: f\"* {row['Comparison']}\" if row['Corrected P-value'] < 0.05 else \"\",\n",
    "    axis=1\n",
    ")\n",
    "\n",
    "# Merge significance back into the plot data\n",
    "plot_df = plot_df.merge(significant_results[['COG', 'Comparison', 'Significance']],\n",
    "                        on='COG', how='left')\n",
    "\n",
    "# Define the desired order of the COG categories\n",
    "COG_order = \"J A K L B D Y V T M N Z W U O C G E F H I P Q R S -\".split()\n",
    "\n",
    "# Filter the COG_order to include only those present in the dataset\n",
    "present_cogs = plot_df['COG'].unique()\n",
    "filtered_cog_order = [cog for cog in COG_order if cog in present_cogs]\n",
    "\n",
    "# Set up the plot\n",
    "plt.figure(figsize=(12, 6))\n",
    "sns.barplot(\n",
    "    data=plot_df,\n",
    "    x='COG',\n",
    "    y='Proportion',\n",
    "    hue='Group',\n",
    "    palette='viridis',\n",
    "    order=filtered_cog_order  # Set the filtered x-tick order\n",
    ")\n",
    "\n",
    "# Annotate significant differences\n",
    "for index, row in significant_results.iterrows():\n",
    "    cog = row['COG']\n",
    "    comparison = row['Comparison']\n",
    "    \n",
    "    # Get the x-position of the COG in the filtered order\n",
    "    x_pos = filtered_cog_order.index(cog)  # Get the index in the filtered order list\n",
    "    # Find the maximum y value for that COG\n",
    "    max_y_pos = plot_df[plot_df['COG'] == cog]['Proportion'].max()\n",
    "    \n",
    "    # Add the significance mark slightly above the bar\n",
    "    plt.text(\n",
    "        x=x_pos, \n",
    "        y=max_y_pos + 0.01,  # Adjust this offset to position the star\n",
    "        s=\"*\",  # Add a star to indicate significance\n",
    "        ha='center',\n",
    "        color='red'\n",
    "    )\n",
    "\n",
    "# Customize plot\n",
    "plt.title(\"Proportion of COG Categories Across Groups\")\n",
    "plt.xlabel(\"COG Category\")\n",
    "plt.ylabel(\"Proportion\")\n",
    "plt.legend(title=\"Group\")\n",
    "plt.tight_layout()\n",
    "\n",
    "plt.savefig('../images/core_genome_figs/Conservation_and_COG_Categories.svg', format='svg')\n",
    "plt.show() "
   ]
  },
  {
   "cell_type": "markdown",
   "id": "13829250-058b-4740-87ea-d2e4e16b823e",
   "metadata": {},
   "source": [
    "## Groups of genes of interest in Core genome"
   ]
  },
  {
   "cell_type": "code",
   "execution_count": null,
   "id": "3ef53594-5a41-49f2-a9e3-23376391b337",
   "metadata": {},
   "outputs": [],
   "source": [
    "bakta_files = '../../data/processed/bakta/'\n",
    "header_to_allele = '../../data/processed/cd-hit-results/header_to_allele_80.pickle.gz'\n",
    "cd_hit_headers = '../../data/processed/cd-hit-results/rep_headers.txt'\n",
    "PATH_TO_DATA = '../../data/'"
   ]
  },
  {
   "cell_type": "code",
   "execution_count": null,
   "id": "6315a236-dea1-417b-88b1-be77583589ae",
   "metadata": {},
   "outputs": [],
   "source": [
    "df_h2a = pd.read_pickle(header_to_allele)"
   ]
  },
  {
   "cell_type": "code",
   "execution_count": null,
   "id": "e821794c-fa59-4395-9a93-f64c1255d4a1",
   "metadata": {},
   "outputs": [],
   "source": [
    "headers = open(cd_hit_headers).readlines()\n",
    "headers = [x[1:13] for x in headers]"
   ]
  },
  {
   "cell_type": "code",
   "execution_count": null,
   "id": "e0f52d0c-9abc-4ab4-b4eb-f99fe4c83dd6",
   "metadata": {},
   "outputs": [],
   "source": [
    "# gene to alleles within\n",
    "cluster_to_alleles = {}\n",
    "\n",
    "# Iterate over the original dictionary\n",
    "for allele, cluster in tqdm(df_h2a.items()):\n",
    "    cluster = cluster.split('A')[0]\n",
    "    # If the cluster is not yet in the new dictionary, add it with an empty list\n",
    "    if cluster not in cluster_to_alleles:\n",
    "        cluster_to_alleles[cluster] = []\n",
    "    # Append the allele to the list of alleles for this cluster\n",
    "    cluster_to_alleles[cluster].append(allele)\n"
   ]
  },
  {
   "cell_type": "code",
   "execution_count": null,
   "id": "757a1a86-e65e-48d6-a8e2-ab5235e420c6",
   "metadata": {},
   "outputs": [],
   "source": [
    "genome_to_tag = {}\n",
    "for genome in tqdm(os.listdir(bakta_files)):\n",
    "    file = open(bakta_files + genome + '/' + genome + '.gff3')\n",
    "    file.seek(0)\n",
    "    text = file.read(10000)\n",
    "    loc = text.find('locus_tag=')\n",
    "    tag = text[loc+10:loc+16]\n",
    "    genome_to_tag[genome] = tag"
   ]
  },
  {
   "cell_type": "code",
   "execution_count": null,
   "id": "a633c1e2-a06c-4d16-8deb-0e298c2339aa",
   "metadata": {},
   "outputs": [],
   "source": [
    "def _get_attr(attributes, attr_id, ignore=False):\n",
    "    \"\"\"\n",
    "    Helper function for parsing GFF annotations\n",
    "\n",
    "    Parameters\n",
    "    ----------\n",
    "    attributes : str\n",
    "        Attribute string\n",
    "    attr_id : str\n",
    "        Attribute ID\n",
    "    ignore : bool\n",
    "        If true, ignore errors if ID is not in attributes (default: False)\n",
    "\n",
    "    Returns\n",
    "    -------\n",
    "    str, optional\n",
    "        Value of attribute\n",
    "    \"\"\"\n",
    "\n",
    "    try:\n",
    "        return re.search(attr_id + \"=(.*?)(;|$)\", attributes).group(1)\n",
    "    except AttributeError:\n",
    "        if ignore:\n",
    "            return None\n",
    "        else:\n",
    "            raise ValueError(\"{} not in attributes: {}\".format(attr_id, attributes))\n",
    "\n",
    "def gff2pandas(gff_file, feature=[\"CDS\"], index=None):\n",
    "    \"\"\"\n",
    "    Converts GFF file(s) to a Pandas DataFrame\n",
    "    Parameters\n",
    "    ----------\n",
    "    gff_file : str or list\n",
    "        Path(s) to GFF file\n",
    "    feature: str or list\n",
    "        Name(s) of features to keep (default = \"CDS\")\n",
    "    index : str, optional\n",
    "        Column or attribute to use as index\n",
    "\n",
    "    Returns\n",
    "    -------\n",
    "    df_gff: ~pandas.DataFrame\n",
    "        GFF formatted as a DataFrame\n",
    "    \"\"\"\n",
    "\n",
    "    # Argument checking\n",
    "    if isinstance(gff_file, str):\n",
    "        gff_file = [gff_file]\n",
    "\n",
    "    if isinstance(feature, str):\n",
    "        feature = [feature]\n",
    "\n",
    "    result = []\n",
    "\n",
    "    for gff in gff_file:\n",
    "        with open(gff, \"r\") as f:\n",
    "            lines = f.readlines()\n",
    "\n",
    "        # Get lines to skip\n",
    "        skiprow = [i for i, line in enumerate(lines) if line.startswith(\"#\")]\n",
    "       \n",
    "        # Read GFF\n",
    "        names = [\n",
    "            \"accession\",\n",
    "            \"source\",\n",
    "            \"feature\",\n",
    "            \"start\",\n",
    "            \"end\",\n",
    "            \"score\",\n",
    "            \"strand\",\n",
    "            \"phase\",\n",
    "            \"attributes\",\n",
    "        ]\n",
    "        DF_gff = pd.read_csv(gff, sep=\"\\t\", skiprows=skiprow, names=names, header=None, low_memory=False)\n",
    "        \n",
    "        region = DF_gff[DF_gff.feature == 'region']\n",
    "        region_len = int(region.iloc[0].end)\n",
    "\n",
    "        # Filter for CDSs\n",
    "        DF_cds = DF_gff[DF_gff.feature.isin(feature)]\n",
    "\n",
    "        # Sort by start position\n",
    "        # DF_cds = DF_cds.sort_values(\"start\")\n",
    "\n",
    "        DF_cds = DF_cds.copy() # get rid of copy warning\n",
    "        \n",
    "        # Extract attribute information\n",
    "        DF_cds[\"locus_tag\"] = DF_cds.attributes.apply(_get_attr, attr_id=\"locus_tag\")\n",
    "\n",
    "        result.append(DF_cds)\n",
    "        \n",
    "    DF_gff = pd.concat(result)\n",
    "    \n",
    "    if index:\n",
    "        if DF_gff[index].duplicated().any():\n",
    "            logging.warning(\"Duplicate {} detected. Dropping duplicates.\".format(index))\n",
    "            DF_gff = DF_gff.drop_duplicates(index)\n",
    "        DF_gff.set_index(\"locus_tag\", drop=True, inplace=True)\n",
    "\n",
    "    return DF_gff[['accession', 'start', 'end', 'locus_tag', 'strand']], region_len"
   ]
  },
  {
   "cell_type": "code",
   "execution_count": null,
   "id": "e7e0dbc9-4e87-4545-9c03-c3387c55dbb6",
   "metadata": {},
   "outputs": [],
   "source": [
    "strain_vectors = {}\n",
    "def h2a(x):\n",
    "    try:\n",
    "        return df_h2a[x].split('A')[0]\n",
    "    except:\n",
    "        return None\n",
    "        \n",
    "for strain in tqdm(metadata_complete.genome_id):\n",
    "    DF_gff, size = gff2pandas(f'{PATH_TO_DATA}/processed/bakta/{strain}/{strain}.gff3')\n",
    "    DF_gff['gene'] = DF_gff.locus_tag.apply(lambda x: h2a(x))\n",
    "    # DF_gff = DF_gff[DF_gff.accession == DF_gff.accession.value_counts().index[0]]\n",
    "    # DF_gff = DF_gff[['gene','start', 'end', 'strand']]\n",
    "    # gene_order = (DF_gff.sort_values('start').gene.to_list())\n",
    " \n",
    "    strain_vectors[strain] = DF_gff.sort_values(by=['accession', 'start'])"
   ]
  },
  {
   "cell_type": "code",
   "execution_count": null,
   "id": "76f30ae7-75e4-4924-8e52-287b6e3265a1",
   "metadata": {},
   "outputs": [],
   "source": [
    "# figure out how to determine contiguity of these regions"
   ]
  },
  {
   "cell_type": "markdown",
   "id": "bbe60201-c764-449d-8f7b-783537934e02",
   "metadata": {},
   "source": [
    "# Size core gene length vs. cog cateogry"
   ]
  },
  {
   "cell_type": "code",
   "execution_count": null,
   "id": "a8dea670-87d2-424d-8dde-928ba58ee3a5",
   "metadata": {},
   "outputs": [],
   "source": [
    "# Path to the FASTA file\n",
    "fasta_file = \"../../data/processed/cd-hit-results/sim80/Ebacter_nr.faa\"\n",
    "\n",
    "\n",
    "gene_lengths = pd.DataFrame(index = df_core.index, columns = ['lens', 'median_len'])\n",
    "gene_lengths['lens'] = [[] for _ in range(len(df_core))]\n",
    "\n",
    "# Iterate through the FASTA file and store sequences associated with headers in gene_list\n",
    "for record in tqdm(SeqIO.parse(fasta_file, \"fasta\")):\n",
    "    # print(record.id, len(record.seq))\n",
    "    if record.id in P_allele.index:\n",
    "        gene_lengths.loc[record.id.split('A')[0], 'lens'].append(len(record.seq))\n",
    "gene_lengths['median_len'] = (gene_lengths.lens).apply(lambda x: np.median(x))\n",
    "gene_lengths['cog'] = gene_lengths.apply(lambda x: df_eggnog.loc[x.name, 'COG_category'][0], axis=1)\n",
    "gene_lengths = gene_lengths.replace('-','S')\n",
    "gene_lengths['alleles'] = gene_lengths.lens.apply(lambda x: len(x))\n",
    "\n",
    "def get_cog_super(cog):\n",
    "    if cog in ['J', 'A', 'K', 'L']:\n",
    "        return 'INFORMATION STORAGE AND PROCESSING'\n",
    "    elif cog in 'D Y V T M N Z W U O'.split():\n",
    "        return 'CELLULAR PROCESSES AND SIGNALING'\n",
    "    elif cog in 'C G E F H I P Q'.split():\n",
    "        return 'METABOLISM'\n",
    "    else:\n",
    "        return 'POORLY CHARACTERIZED'\n",
    "\n",
    "gene_lengths['cog_super'] = gene_lengths.cog.apply(lambda x: get_cog_super(x))"
   ]
  },
  {
   "cell_type": "code",
   "execution_count": null,
   "id": "023effc3-3ed4-4bd9-95d2-b71eea72e84b",
   "metadata": {},
   "outputs": [],
   "source": [
    "fig, ax = plt.subplots(1, 1, figsize=(7, 5))\n",
    "\n",
    "sns.histplot(data=gene_lengths, x='median_len', hue='cog_super', multiple='stack', palette = ['green', 'gold', 'red', 'grey'], ax=ax)\n",
    "\n",
    "# Create handles and labels for the legend\n",
    "handles = []\n",
    "labels = []\n",
    "\n",
    "\n",
    "colors = {'METABOLISM':'green', 'CELLULAR PROCESSES AND SIGNALING':'gold', 'INFORMATION STORAGE AND PROCESSING':'red', \n",
    "         'POORLY CHARACTERIZED':'grey'}\n",
    "\n",
    "categories = {\n",
    "    'INFORMATION STORAGE AND PROCESSING': ['J', 'A', 'K', 'L'],\n",
    "    'CELLULAR PROCESSES AND SIGNALING': 'D Y V T M N Z W U O'.split(),\n",
    "    'METABOLISM': 'C G E F H I P Q'.split(),\n",
    "    'POORLY CHARACTERIZED': 'R S'.split()\n",
    "}\n",
    "\n",
    "for category in gene_lengths.cog_super.unique():\n",
    "    # Add a handle for the title\n",
    "    # handles.append(plt.Line2D([0], [0], color='none'))  # Invisible handle for spacing\n",
    "    labels.append(category + '\\n' + ', '.join(categories[category]))  # Title for the category\n",
    "    category_handles = [plt.Line2D([0], [0], color=colors[category], lw=4)]\n",
    "    handles.extend(category_handles)\n",
    "\n",
    "# Create a single legend\n",
    "plt.legend(handles, labels, title='COG Supercategories', loc='upper right', bbox_to_anchor=(1, 1), ncol=1)\n",
    "plt.savefig('../images/core_genome_figs/gene_lengths_histogram.svg', format='svg', dpi=600, bbox_inches='tight')\n",
    "plt.show()"
   ]
  },
  {
   "cell_type": "code",
   "execution_count": null,
   "id": "8a154da5-65e6-4d17-a922-50eaca7b71e3",
   "metadata": {},
   "outputs": [],
   "source": [
    "conserved_genes = []\n",
    "for gene in tqdm(core_alleles.index):\n",
    "    if (P_allele.loc[[x for x in P_allele.index if  gene + 'A' in x], df_core.columns].sum(axis=1).iloc[0] > df_core.loc[gene].sum() * .99):\n",
    "        conserved_genes.append(gene)"
   ]
  },
  {
   "cell_type": "code",
   "execution_count": null,
   "id": "18b802fe-7390-4de3-a36c-8a038a611d7b",
   "metadata": {},
   "outputs": [],
   "source": [
    "len(conserved_genes)"
   ]
  }
 ],
 "metadata": {
  "kernelspec": {
   "display_name": "Python [conda env:pan-phylon]",
   "language": "python",
   "name": "conda-env-pan-phylon-py"
  },
  "language_info": {
   "codemirror_mode": {
    "name": "ipython",
    "version": 3
   },
   "file_extension": ".py",
   "mimetype": "text/x-python",
   "name": "python",
   "nbconvert_exporter": "python",
   "pygments_lexer": "ipython3",
   "version": "3.12.2"
  }
 },
 "nbformat": 4,
 "nbformat_minor": 5
}
