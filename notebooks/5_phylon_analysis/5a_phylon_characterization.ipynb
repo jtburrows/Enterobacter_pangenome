{
 "cells": [
  {
   "cell_type": "markdown",
   "id": "acabbd05-41f6-4ab1-9e23-77b1efc7e882",
   "metadata": {
    "editable": true,
    "slideshow": {
     "slide_type": ""
    },
    "tags": []
   },
   "source": [
    "# Setup"
   ]
  },
  {
   "cell_type": "code",
   "execution_count": null,
   "id": "efa0486c-7cb0-41fa-a411-7ca1c974eda9",
   "metadata": {},
   "outputs": [],
   "source": [
    "# Base imports\n",
    "import os\n",
    "import pickle\n",
    "\n",
    "# Compute imports\n",
    "import numpy as np\n",
    "import pandas as pd\n",
    "import scipy\n",
    "from tqdm.notebook import tqdm, trange\n",
    "\n",
    "# Plotting imports\n",
    "import matplotlib\n",
    "matplotlib.rcParams['pdf.fonttype'] = 42\n",
    "from matplotlib import pyplot as plt\n",
    "import seaborn as sns\n",
    "from plotly import express as px\n",
    "\n",
    "\n",
    "# ML import\n",
    "from sklearn.decomposition import NMF\n",
    "from sklearn.cluster import KMeans\n",
    "from sklearn.linear_model import LinearRegression\n",
    "from sklearn.metrics import mean_squared_error, median_absolute_error, r2_score"
   ]
  },
  {
   "cell_type": "code",
   "execution_count": null,
   "id": "608b0192-02ff-4029-bc58-cdae1699e359",
   "metadata": {},
   "outputs": [],
   "source": [
    "DF_GENES = '../../data/processed/cd-hit-results/sim80/Ebacter_strain_by_gene.pickle.gz'\n",
    "ENRICHED_METADATA = '../../data/metadata/enriched_metadata.csv'\n",
    "DF_EGGNOG = '../../data/processed/df_eggnog.csv'\n",
    "\n",
    "DF_CORE_COMPLETE = '../../data/processed/CAR_genomes/df_core_complete.pickle'\n",
    "DF_ACC_COMPLETE = '../../data/processed/CAR_genomes/df_acc_complete.pickle'\n",
    "DF_RARE_COMPLETE = '../../data/processed/CAR_genomes/df_rare_complete.pickle'\n",
    "\n",
    "L_MATRIX = '../../data/processed/nmf-outputs/L.csv'\n",
    "A_MATRIX = '../../data/processed/nmf-outputs/A.csv'"
   ]
  },
  {
   "cell_type": "code",
   "execution_count": null,
   "id": "697daf60-8de0-437b-ba47-0a337d2f38d3",
   "metadata": {},
   "outputs": [],
   "source": [
    "# Load in (full) P matrix\n",
    "df_genes = pd.read_pickle(DF_GENES)\n",
    "\n",
    "# Load in (full) metadata\n",
    "metadata = pd.read_csv(ENRICHED_METADATA, index_col=0, dtype='object')\n",
    "\n",
    "# Load in eggNOG gene annotations\n",
    "df_eggnog = pd.read_csv(DF_EGGNOG, index_col=0, dtype='object')"
   ]
  },
  {
   "cell_type": "code",
   "execution_count": null,
   "id": "b1e0bc49-719f-4106-8294-9970f6fd9b31",
   "metadata": {},
   "outputs": [],
   "source": [
    "# Filter metadata for Complete sequences only\n",
    "metadata_complete = metadata[metadata.genome_status == 'Complete'] # filter for only Complete sequences\n",
    "\n",
    "# Filter P matrix for Complete sequences only\n",
    "df_genes_complete = df_genes[metadata_complete.genome_id]\n",
    "df_genes_complete = df_genes_complete.fillna(0) # replace N/A with 0\n",
    "df_genes_complete = df_genes_complete.sparse.to_dense().astype('int8') # densify & typecast to int8 for space and compute reasons\n",
    "inCompleteseqs = df_genes_complete.sum(axis=1) > 0 # filter for genes found in complete sequences\n",
    "df_genes_complete = df_genes_complete[inCompleteseqs]\n",
    "\n",
    "df_genes_complete.shape"
   ]
  },
  {
   "cell_type": "code",
   "execution_count": null,
   "id": "807d8cb3-9721-4905-9198-ee2c9a85669d",
   "metadata": {},
   "outputs": [],
   "source": [
    "df_core_complete = pd.read_pickle(DF_CORE_COMPLETE)\n",
    "df_acc_complete = pd.read_pickle(DF_ACC_COMPLETE)\n",
    "df_rare_complete = pd.read_pickle(DF_RARE_COMPLETE)\n",
    "\n",
    "df_acc_complete.shape"
   ]
  },
  {
   "cell_type": "code",
   "execution_count": null,
   "id": "7752d058-143a-411b-ac5f-63acbe541a1d",
   "metadata": {},
   "outputs": [],
   "source": [
    "L = pd.read_csv(L_MATRIX, index_col=0)\n",
    "A = pd.read_csv(A_MATRIX, index_col=0)\n",
    "\n",
    "display(\n",
    "    L.shape,\n",
    "    L.head(),\n",
    "    A.shape,\n",
    "    A.head()\n",
    ")"
   ]
  },
  {
   "cell_type": "markdown",
   "id": "95297797-f9b0-415f-8116-e1db4fb70951",
   "metadata": {},
   "source": [
    "## Useful functions for later analysis"
   ]
  },
  {
   "cell_type": "code",
   "execution_count": null,
   "id": "c06cdcd8-88b2-4af7-9208-4af3b39265ab",
   "metadata": {},
   "outputs": [],
   "source": [
    "def recommended_threshold(A_norm, i):\n",
    "    column_data_reshaped = A_norm.loc[f'phylon{i}'].values.reshape(-1, 1)\n",
    "    \n",
    "    # 3-means clustering\n",
    "    kmeans = KMeans(n_clusters=3, random_state=0, n_init='auto')\n",
    "    kmeans.fit(column_data_reshaped)\n",
    "    labels = kmeans.labels_\n",
    "    centers = kmeans.cluster_centers_\n",
    "    \n",
    "    # Find the cluster with the highest mean\n",
    "    highest_mean_cluster = np.argmax(centers)\n",
    "    \n",
    "    # Binarize the row based on the cluster with the highest mean\n",
    "    binarized_row = (labels == highest_mean_cluster).astype(int)\n",
    "    \n",
    "    # Find k-means-recommended threshold using min value that still binarizes to 1\n",
    "    x = pd.Series(dict(zip(A.columns, binarized_row)))\n",
    "    threshold = A_norm.loc[f'phylon{i}', x[x==1].index].min()\n",
    "    \n",
    "    return threshold"
   ]
  },
  {
   "cell_type": "markdown",
   "id": "2ce2f71b-aac5-4c9e-a603-adaa6ff72370",
   "metadata": {},
   "source": [
    "# Normalize L and A matrices"
   ]
  },
  {
   "cell_type": "code",
   "execution_count": null,
   "id": "f529252d-8346-42e3-86da-43d5ce7fb70d",
   "metadata": {},
   "outputs": [],
   "source": [
    "normalization_vals = [1/np.quantile(L[col], q=0.99) for col in L.columns]\n",
    "recipricol_vals = [1/x for x in normalization_vals]\n",
    "\n",
    "D1 = np.diag(normalization_vals)\n",
    "D2 = np.diag(recipricol_vals)\n",
    "\n",
    "sns.heatmap(pd.DataFrame(np.dot(D1,D2)), cmap='hot_r', annot=True) # Ensure they multiply to Identity"
   ]
  },
  {
   "cell_type": "code",
   "execution_count": null,
   "id": "e53e59a7-35e0-4ef1-a646-ffe67738bdb4",
   "metadata": {},
   "outputs": [],
   "source": [
    "L_norm = pd.DataFrame(np.dot(L, D1), index=L.index, columns=L.columns)\n",
    "A_norm = pd.DataFrame(np.dot(D2, A), index=A.index, columns=A.columns)"
   ]
  },
  {
   "cell_type": "code",
   "execution_count": null,
   "id": "bbb9e5b1-2f44-41ee-8bd6-115b24a0f1df",
   "metadata": {},
   "outputs": [],
   "source": [
    "# Plot initial L_norm clustermap\n",
    "sns.clustermap(L_norm,\n",
    "               method='ward',\n",
    "               cmap='hot_r',\n",
    "               yticklabels=False,\n",
    "               robust=True\n",
    "              )"
   ]
  },
  {
   "cell_type": "markdown",
   "id": "48a3c809-667e-423b-a557-ff9a6b0434f2",
   "metadata": {},
   "source": [
    "# Binarize L matrix by 3-means clustering (`L_binarized`)"
   ]
  },
  {
   "cell_type": "code",
   "execution_count": null,
   "id": "3573ce8c-3c5b-49a0-a749-f1048410d43c",
   "metadata": {},
   "outputs": [],
   "source": [
    "# Initialize an empty array to hold the binarized matrix\n",
    "L_binarized = np.zeros_like(L_norm.values)\n",
    "\n",
    "# Loop through each column\n",
    "for col_idx in trange(L_norm.values.shape[1]):\n",
    "    column_data = L_norm.values[:, col_idx]\n",
    "\n",
    "    # Reshape the column data to fit the KMeans input shape\n",
    "    column_data_reshaped = column_data.reshape(-1, 1)\n",
    "\n",
    "    # Apply 3-means clustering (generally better precision-recall tradeoff than 2-means)\n",
    "    kmeans = KMeans(n_clusters=3, random_state=0, n_init='auto')\n",
    "    kmeans.fit(column_data_reshaped)\n",
    "    labels = kmeans.labels_\n",
    "    centers = kmeans.cluster_centers_\n",
    "\n",
    "    # Find the cluster with the highest mean\n",
    "    highest_mean_cluster = np.argmax(centers)\n",
    "\n",
    "    # Binarize the column based on the cluster with the highest mean\n",
    "    binarized_column = (labels == highest_mean_cluster).astype(int)\n",
    "\n",
    "    # Update the binarized matrix\n",
    "    L_binarized[:, col_idx] = binarized_column\n",
    "\n",
    "# Typecast to DataFrame\n",
    "L_binarized = pd.DataFrame(L_binarized, index=L_norm.index, columns=L_norm.columns)"
   ]
  },
  {
   "cell_type": "markdown",
   "id": "7260772f-ecb1-4f67-a8b3-ed7482092218",
   "metadata": {},
   "source": [
    "# Characterize phylons by strain affinity (`A_binarized`)\n",
    "\n",
    "`L_norm`, `A_norm`, & `L_binarized` will also have their phylons renamed to match this characterization\n",
    "\n",
    "__NOTE:__ the first one is provided as an example, please continue doing this for all other phylons until you have characterized everything"
   ]
  },
  {
   "cell_type": "markdown",
   "id": "a4858b89-31f6-4dbc-91b1-459546063833",
   "metadata": {},
   "source": [
    "## Plotting strain affinities for each phylon"
   ]
  },
  {
   "cell_type": "code",
   "execution_count": null,
   "id": "06850ce9-f0d9-481c-8b1c-e3cff017d862",
   "metadata": {},
   "outputs": [],
   "source": [
    "df_species = metadata.loc[:,[\"genome_id\", \"genome_name\"]]\n",
    "df_species[\"species\"] = df_species[\"genome_name\"].apply(lambda x: x.split()[0]+\" \" +x.split()[1])\n",
    "df_species.set_index('genome_id', inplace=True)\n",
    "df_species_complete = df_species.loc[list(A.columns)]\n",
    "df_species_complete.shape"
   ]
  },
  {
   "cell_type": "code",
   "execution_count": null,
   "id": "f746adcb-c21f-4c70-8630-6a88c2cf5ccd",
   "metadata": {},
   "outputs": [],
   "source": [
    "for i in range(len(A)):\n",
    "    curr_threshold = recommended_threshold(A_norm, i)\n",
    "    high_affinity = A_norm.loc[f'phylon{i}'] >= curr_threshold\n",
    "    high_affinity_strains = A_norm.loc[f'phylon{i}'][high_affinity].index\n",
    "    display(\n",
    "    \"Phylon: \" + str(i),\n",
    "    px.histogram(A_norm.loc[f'phylon{i}'], color=df_species_complete.species, log_y=True),\n",
    "    f'recommdended threshold: {recommended_threshold(A_norm, i)}',\n",
    "    df_species.loc[high_affinity_strains].species.value_counts()\n",
    "    )"
   ]
  },
  {
   "cell_type": "code",
   "execution_count": null,
   "id": "58db9029-e6b0-40a6-914d-7da07e41fa3a",
   "metadata": {
    "scrolled": true
   },
   "outputs": [],
   "source": [
    "# for i in range(len(A)):\n",
    "#     curr_threshold = recommended_threshold(A_norm, i)\n",
    "#     high_affinity = A_norm.loc[f'phylon{i}'] >= curr_threshold\n",
    "#     high_affinity_strains = A_norm.loc[f'phylon{i}'][high_affinity].index\n",
    "#     display(\n",
    "#     \"Phylon: \" + str(i),\n",
    "#     px.histogram(A_norm.loc[f'phylon{i}'], color=metadata_complete.complete_mash_cluster.fillna(0), log_y=True),\n",
    "#     )"
   ]
  },
  {
   "cell_type": "code",
   "execution_count": null,
   "id": "11fc7f17-c752-479d-98a4-1f967790a30d",
   "metadata": {
    "scrolled": true
   },
   "outputs": [],
   "source": [
    "# for i in range(len(A_norm)):\n",
    "#     high_affinity = A_norm.loc[A_norm.index[i]] >= curr_threshold\n",
    "#     high_affinity_strains = A_norm.loc[A_norm.index[i]][high_affinity].index\n",
    "#     display(\n",
    "#     A_norm.index[i],\n",
    "#     px.histogram(A_norm.loc[A_norm.index[i]], color=metadata_complete.mlst.fillna(0), log_y=True),\n",
    "#     )"
   ]
  },
  {
   "cell_type": "code",
   "execution_count": null,
   "id": "a38291b5-b4ac-4c2a-aee3-3c2b59229d9e",
   "metadata": {
    "scrolled": true
   },
   "outputs": [],
   "source": [
    "# for i in range(len(A_norm)):\n",
    "#     high_affinity = A_norm.loc[A_norm.index[i]] >= curr_threshold\n",
    "#     high_affinity_strains = A_norm.loc[A_norm.index[i]][high_affinity].index\n",
    "#     display(\n",
    "#     A_norm.index[i],\n",
    "#     px.histogram(A_norm.loc[A_norm.index[i]], color=metadata_complete.host_name.fillna(0), log_y=True),\n",
    "#     )"
   ]
  },
  {
   "cell_type": "markdown",
   "id": "71ec6b37-8258-4aac-be8c-28528f991690",
   "metadata": {},
   "source": [
    "## High affinity strains"
   ]
  },
  {
   "cell_type": "markdown",
   "id": "41dba04e-0a31-456f-8033-92c95db8373d",
   "metadata": {},
   "source": [
    "## Max affinity strain"
   ]
  },
  {
   "cell_type": "code",
   "execution_count": null,
   "id": "3745fb4d-0532-48aa-a71f-e4376a8d295b",
   "metadata": {},
   "outputs": [],
   "source": [
    "i = 9"
   ]
  },
  {
   "cell_type": "code",
   "execution_count": null,
   "id": "93cd3879-33c9-4b2d-8c36-9fa3f53952e2",
   "metadata": {},
   "outputs": [],
   "source": [
    "metadata.set_index('genome_id').loc[A_norm.loc[A_norm.index[i]].idxmax()] # max affinity strain"
   ]
  },
  {
   "cell_type": "markdown",
   "id": "4ce5fcad-3e59-4290-bc2d-6113d45a8e62",
   "metadata": {},
   "source": [
    "## Mapping and thresholds"
   ]
  },
  {
   "cell_type": "code",
   "execution_count": null,
   "id": "f2cad67b-74c6-49c6-aae0-8ebf3c98ddfb",
   "metadata": {},
   "outputs": [],
   "source": [
    "# Change the names of the phylons once you have characterized them\n",
    "# If you cannot find an initial characterization, label it \"unchar-x\"\n",
    "# where x is the number\n",
    "\n",
    "phylon_mapping = {\n",
    "    'phylon0': 'hormaechei-steigerwaltii-1',\n",
    "    'phylon1': 'roggenkampii',\n",
    "    'phylon2': 'hormaechei-hoffmannii-1',\n",
    "    'phylon3': 'unchar-1',\n",
    "    'phylon4': 'ludwigii',\n",
    "    'phylon5': 'hormaechei-xiangfangensis',\n",
    "    'phylon6': 'asburiae',\n",
    "    'phylon7': 'kobei',\n",
    "    'phylon8': 'cloacae',\n",
    "    'phylon9': 'hormaechei-oharae',\n",
    "    'phylon10': 'hormaechei-steigerwaltii-2',\n",
    "    'phylon11': 'hormaechei-steigerwaltii-3',\n",
    "    'phylon12': 'unchar-2',\n",
    "    'phylon13': 'hormaechei-hormaechei',\n",
    "    'phylon14': 'unchar-3',\n",
    "    'phylon15': 'bugandensis',\n",
    "    'phylon16': 'cancerogenous',\n",
    "    'phylon17': 'unchar-4',\n",
    "    'phylon18': 'hormaechei-hoffmannii-2',\n",
    "}"
   ]
  },
  {
   "cell_type": "markdown",
   "id": "85e961aa-9050-4ee1-b205-ece1f104314d",
   "metadata": {},
   "source": [
    "## L heatmap"
   ]
  },
  {
   "cell_type": "code",
   "execution_count": null,
   "id": "3d6db41a-e23c-401c-ae62-74614bef047d",
   "metadata": {},
   "outputs": [],
   "source": [
    "L_norm.rename(mapper=phylon_mapping, axis=1, inplace=True)\n",
    "L_binarized.rename(mapper=phylon_mapping, axis=1, inplace=True)\n",
    "A_norm.rename(mapper=phylon_mapping, axis=0, inplace=True)"
   ]
  },
  {
   "cell_type": "code",
   "execution_count": null,
   "id": "e29300ba-846d-4990-bf23-4a616d8e539f",
   "metadata": {},
   "outputs": [],
   "source": [
    "def recommended_threshold(A_norm, i):\n",
    "    column_data_reshaped = A_norm.loc[i].values.reshape(-1, 1)\n",
    "    \n",
    "    # 3-means clustering\n",
    "    kmeans = KMeans(n_clusters=3, random_state=0, n_init='auto')\n",
    "    kmeans.fit(column_data_reshaped)\n",
    "    labels = kmeans.labels_\n",
    "    centers = kmeans.cluster_centers_\n",
    "    \n",
    "    # Find the cluster with the highest mean\n",
    "    highest_mean_cluster = np.argmax(centers)\n",
    "    \n",
    "    # Binarize the row based on the cluster with the highest mean\n",
    "    binarized_row = (labels == highest_mean_cluster).astype(int)\n",
    "    \n",
    "    # Find k-means-recommended threshold using min value that still binarizes to 1\n",
    "    x = pd.Series(dict(zip(A.columns, binarized_row)))\n",
    "    threshold = A_norm.loc[i, x[x==1].index].min()\n",
    "    \n",
    "    return threshold"
   ]
  },
  {
   "cell_type": "code",
   "execution_count": null,
   "id": "bae03a9c-92f6-4a66-a1b0-c4f758c07ac8",
   "metadata": {
    "scrolled": true
   },
   "outputs": [],
   "source": [
    "##############################################################################\n",
    "# For testing, remove when done #\n",
    "A_binarized = pd.DataFrame(np.zeros_like(A_norm.values), index=A_norm.index, columns=A_norm.columns)\n",
    "\n",
    "for idx in A_binarized.index: # same as A_norm.index\n",
    "    cond = A_norm.loc[idx] >= recommended_threshold(A_norm, idx)\n",
    "    A_binarized.loc[idx,cond] = 1"
   ]
  },
  {
   "cell_type": "code",
   "execution_count": null,
   "id": "f48407e8-83f7-499b-aa02-d8a174942324",
   "metadata": {},
   "outputs": [],
   "source": [
    "sns.heatmap(A_binarized, cmap='Greys', xticklabels=False) # Sanity check"
   ]
  },
  {
   "cell_type": "markdown",
   "id": "4b634bed-8659-476a-82e3-9d450da76ee9",
   "metadata": {},
   "source": [
    "# Plot `L_norm` & `L_binarized` matrices"
   ]
  },
  {
   "cell_type": "code",
   "execution_count": null,
   "id": "2b801e63-82ca-473a-b728-832a2b105ef7",
   "metadata": {},
   "outputs": [],
   "source": [
    "# Plot renamed L_norm clustermap\n",
    "g = sns.clustermap(L_norm,\n",
    "                   method='ward',\n",
    "                   cmap='hot_r',\n",
    "                   yticklabels=False,\n",
    "                   robust=True\n",
    "                  )"
   ]
  },
  {
   "cell_type": "code",
   "execution_count": null,
   "id": "d4883b74-249c-4b6f-b144-f8090fcc64d8",
   "metadata": {},
   "outputs": [],
   "source": [
    "# Plot renamed L_binarized clustermap\n",
    "g_bin = sns.clustermap(L_binarized,\n",
    "                       method='ward',\n",
    "                       metric='euclidean', # metric must be euclidean for ward (even if binarized)\n",
    "                       cmap='Greys',\n",
    "                       yticklabels=False,\n",
    "                       robust=True\n",
    "                      )"
   ]
  },
  {
   "cell_type": "code",
   "execution_count": null,
   "id": "a2c73acc-7fb1-4ce7-a9a3-cbf3f2fbbaa8",
   "metadata": {},
   "outputs": [],
   "source": [
    "phylon_order = g_bin.data2d.columns.to_list()"
   ]
  },
  {
   "cell_type": "code",
   "execution_count": null,
   "id": "4039a2f2-0674-4505-86f1-da5f4ca95031",
   "metadata": {},
   "outputs": [],
   "source": [
    "zero_genes = L_binarized.T.sum()[L_binarized.T.sum() < 1].index\n",
    "df_genes_complete.loc[zero_genes].sum(axis=1).hist(bins=[40,80,120,160,240, 250])"
   ]
  },
  {
   "cell_type": "markdown",
   "id": "01b0e0dd-563c-42a8-a540-e9038eb6e605",
   "metadata": {},
   "source": [
    "## Uncover relationship between `gene freq` and `num of active phylons`"
   ]
  },
  {
   "cell_type": "code",
   "execution_count": null,
   "id": "39b80ac0-aa85-44f2-84d0-bf16828b10d5",
   "metadata": {},
   "outputs": [],
   "source": [
    "px.histogram(L_binarized.sum(axis=1), color=L_binarized.sum(axis=1))\n",
    "\n",
    "# xx (z%) genes in 0 phylons\n",
    "# xx (z%) genes in yy phylons (all phylons minus unchar-modes)\n",
    "# xx genes (z%) in only 1 phylon (genes with most differentiating power)\n",
    "# xx genes (z%) in 2 phylons"
   ]
  },
  {
   "cell_type": "code",
   "execution_count": null,
   "id": "29d06b65-dca1-4176-b187-a95ce857ffa7",
   "metadata": {},
   "outputs": [],
   "source": [
    "# Cum sum line plot\n",
    "sns.lineplot(pd.DataFrame(L_binarized.sum(axis=1).value_counts()).sort_index().cumsum())"
   ]
  },
  {
   "cell_type": "code",
   "execution_count": null,
   "id": "59175c4e-6b6f-44eb-96d4-9040a1239cb7",
   "metadata": {},
   "outputs": [],
   "source": [
    "df_gene_freq_by_phylon = pd.DataFrame(index=L_binarized.index)\n",
    "\n",
    "df_gene_freq_by_phylon['num_active_phylons'] = L_binarized.sum(axis=1)\n",
    "df_gene_freq_by_phylon['gene_freq'] = df_genes.loc[L_binarized.index].sum(axis=1)\n",
    "df_gene_freq_by_phylon['gene_freq'] = df_gene_freq_by_phylon['gene_freq'].sparse.to_dense()\n",
    "\n",
    "# Create a Linear Regression model\n",
    "model = LinearRegression()\n",
    "\n",
    "# Fit the model\n",
    "X = df_gene_freq_by_phylon['gene_freq'].values.reshape(-1,1)\n",
    "y = df_gene_freq_by_phylon['num_active_phylons'].values\n",
    "model.fit(X, y)\n",
    "\n",
    "# Predict the y-values\n",
    "y_pred = model.predict(X)\n",
    "\n",
    "# Extract coefficients (slope) and intercept from the model\n",
    "slope = model.coef_\n",
    "intercept = model.intercept_\n",
    "\n",
    "# Calculate R^2 value\n",
    "r2 = r2_score(y, y_pred)\n",
    "\n",
    "# Display results\n",
    "print(f'Line of best fit: y={slope}*x + {intercept}')\n",
    "print(f'R2 score: {r2}')\n",
    "\n",
    "ax = sns.regplot(df_gene_freq_by_phylon, x='gene_freq', y='num_active_phylons')\n",
    "plt.show()"
   ]
  },
  {
   "cell_type": "markdown",
   "id": "8956aa0f-83f6-40bb-bc60-d6196bc75676",
   "metadata": {},
   "source": [
    "# Plot `L_binarized` with sorted genes & phylons"
   ]
  },
  {
   "cell_type": "code",
   "execution_count": null,
   "id": "423cd028-fb8f-47bb-bbac-4cb9a7869ec3",
   "metadata": {
    "scrolled": true
   },
   "outputs": [],
   "source": [
    "gene_order = []\n",
    "\n",
    "# Add in zero-phylon genes\n",
    "zero_cond = L_binarized.sum(axis=1) == 0\n",
    "gene_order.extend(L_binarized[zero_cond].index)\n",
    "\n",
    "# Add in single-phylon genes\n",
    "for phylon in phylon_order:\n",
    "    single_cond = L_binarized.sum(axis=1) == 1\n",
    "    inPhylon = L_binarized[phylon] == 1\n",
    "    gene_order.extend(L_binarized[inPhylon & single_cond].index)\n",
    "\n",
    "# Add in poly-phylon genes\n",
    "for num_active_phylons in trange(2, int(L_binarized.sum(axis=1).max())+1):\n",
    "    num_cond = L_binarized.sum(axis=1) == num_active_phylons\n",
    "    gg = sns.clustermap(L_binarized[num_cond], method='ward', metric='euclidean', col_cluster=False, yticklabels=False);\n",
    "    gene_order.extend(gg.data2d.index)"
   ]
  },
  {
   "cell_type": "code",
   "execution_count": null,
   "id": "08c3d32e-9f77-4cec-848c-0fe98e911d1a",
   "metadata": {},
   "outputs": [],
   "source": [
    "# Main sorted clustermap\n",
    "\n",
    "g = sns.clustermap(\n",
    "    L_binarized.loc[gene_order],\n",
    "    method='ward',\n",
    "    metric='euclidean',\n",
    "    row_cluster=False,\n",
    "    yticklabels=False,\n",
    "    cmap='Greys'\n",
    ")"
   ]
  },
  {
   "cell_type": "code",
   "execution_count": null,
   "id": "7c63f8c3-4649-4808-aaf8-7bf105169580",
   "metadata": {},
   "outputs": [],
   "source": [
    "zero_genes = L_binarized.T.sum()[L_binarized.T.sum() < 1].index\n",
    "display(df_genes_complete.loc[zero_genes].sum(axis=1).hist(bins=[40,80,120,160,240, 250]))\n",
    "df_eggnog.loc[zero_genes].COG_category.value_counts()"
   ]
  },
  {
   "cell_type": "code",
   "execution_count": null,
   "id": "a4ed3611-124f-4f5c-bc6e-5f0ffc682726",
   "metadata": {},
   "outputs": [],
   "source": [
    "# Histogram of genes in L_binarized by num of phylons they are active in\n",
    "fig, ax = plt.subplots()\n",
    "sns.histplot(L_binarized.sum(axis=1), binwidth=.3, ax=ax)\n",
    "plt.show()"
   ]
  },
  {
   "cell_type": "markdown",
   "id": "7d7ef988-dc40-4b50-8dfb-dabbc9c2f010",
   "metadata": {},
   "source": [
    "# Plot sorted, corresponding A_binarized matrix"
   ]
  },
  {
   "cell_type": "code",
   "execution_count": null,
   "id": "be0b1b9c-3b93-485d-aacf-37939542f94d",
   "metadata": {},
   "outputs": [],
   "source": [
    "strain_order = []\n",
    "unchar_strain_order = []\n",
    "\n",
    "\n",
    "# zero-phylon strains\n",
    "noPhylon = A_binarized.sum() == 0\n",
    "strain_order.extend(A_binarized.sum()[noPhylon].index.tolist())\n",
    "\n",
    "# strain lists\n",
    "single_phylon_strains = A_binarized.sum()[A_binarized.sum() == 1].index\n",
    "multi_phylon_strains = A_binarized.sum()[A_binarized.sum() > 1].index\n",
    "\n",
    "for phylon in phylon_order:\n",
    "    if 'unchar' in phylon:\n",
    "        continue\n",
    "    else:\n",
    "        phylon_aff_binarized_single = A_binarized.loc[phylon, single_phylon_strains]\n",
    "        phylon_aff_binarized_multi = A_binarized.loc[phylon, multi_phylon_strains]\n",
    "    \n",
    "        inPhylon_single = phylon_aff_binarized_single == 1\n",
    "        inPhylon_multi = phylon_aff_binarized_multi == 1\n",
    "    \n",
    "        list1 = phylon_aff_binarized_single[inPhylon_single].index.tolist()\n",
    "        list2 = phylon_aff_binarized_multi[inPhylon_multi].index.tolist()\n",
    "        new_list2 = list(set(list2) - set(strain_order)) # ensures no double-counting\n",
    "        \n",
    "        strain_order.extend(list1)\n",
    "        strain_order.extend(new_list2)\n",
    "\n",
    "for phylon in phylon_order: # must be done after the first loop\n",
    "    if 'unchar' in phylon:\n",
    "        phylon_aff_binarized_single = A_binarized.loc[phylon, single_phylon_strains]\n",
    "        phylon_aff_binarized_multi = A_binarized.loc[phylon, multi_phylon_strains]\n",
    "    \n",
    "        inPhylon_single = phylon_aff_binarized_single == 1\n",
    "        inPhylon_multi = phylon_aff_binarized_multi == 1\n",
    "    \n",
    "        list1 = phylon_aff_binarized_single[inPhylon_single].index.tolist()\n",
    "        list2 = phylon_aff_binarized_multi[inPhylon_multi].index.tolist()\n",
    "        new_list1 = list(set(list1) - set(strain_order)) # ensures no double-counting\n",
    "        new_list2 = list(set(list2) - set(strain_order)) # ensures no double-counting\n",
    "        \n",
    "        strain_order.extend(new_list1)\n",
    "        strain_order.extend(new_list2)\n",
    "\n",
    "strain_order += unchar_strain_order\n",
    "\n",
    "len(strain_order)"
   ]
  },
  {
   "cell_type": "code",
   "execution_count": null,
   "id": "25f6f3d1-1c95-4bc7-980a-08c783ad9ebf",
   "metadata": {},
   "outputs": [],
   "source": [
    "# A-binarized\n",
    "sns.clustermap(A_binarized.loc[phylon_order, strain_order], cmap='Greys', xticklabels=False, row_cluster=False, col_cluster=False)"
   ]
  },
  {
   "cell_type": "code",
   "execution_count": null,
   "id": "2e69f62e-c064-4e24-93ca-f61f94322541",
   "metadata": {},
   "outputs": [],
   "source": [
    "characterized = ['hormaechei-xiangfangensis',\n",
    " 'hormaechei-oharae',\n",
    " 'hormaechei-steigerwaltii-2',\n",
    " 'hormaechei-steigerwaltii-1',\n",
    " 'hormaechei-steigerwaltii-3',\n",
    " 'hormaechei-hormaechei',\n",
    " 'hormaechei-hoffmannii-1',\n",
    " 'hormaechei-hoffmannii-2',\n",
    " 'roggenkampii',\n",
    " 'asburiae',\n",
    " 'kobei',\n",
    " 'bugandensis',\n",
    " 'cancerogenous',\n",
    " 'ludwigii',\n",
    " 'cloacae']"
   ]
  },
  {
   "cell_type": "markdown",
   "id": "53a04fc4-2214-46bc-b9da-90c8c0a6588e",
   "metadata": {},
   "source": [
    "# Save L and A matrices"
   ]
  },
  {
   "cell_type": "code",
   "execution_count": null,
   "id": "627ba533-2bb1-40a4-91fb-7714339631b3",
   "metadata": {},
   "outputs": [],
   "source": [
    "L_NORM = '../../data/processed/nmf-outputs/L_norm.csv'\n",
    "A_NORM = '../../data/processed/nmf-outputs/A_norm.csv'\n",
    "\n",
    "L_BIN = '../../data/processed/nmf-outputs/L_binarized.csv'\n",
    "A_BIN = '../../data/processed/nmf-outputs/A_binarized.csv'"
   ]
  },
  {
   "cell_type": "code",
   "execution_count": null,
   "id": "353efdb3-ce16-4f4b-9d29-de3c85b4668c",
   "metadata": {},
   "outputs": [],
   "source": [
    "# Normalized matrices\n",
    "L_norm.to_csv(L_NORM)\n",
    "A_norm.to_csv(A_NORM)\n",
    "\n",
    "# Binarized matrices\n",
    "L_binarized.to_csv(L_BIN)\n",
    "A_binarized.to_csv(A_BIN)"
   ]
  },
  {
   "cell_type": "code",
   "execution_count": null,
   "id": "939bcb08-fd32-4e49-86ef-eb65af07a30c",
   "metadata": {},
   "outputs": [],
   "source": []
  }
 ],
 "metadata": {
  "kernelspec": {
   "display_name": "torch_env",
   "language": "python",
   "name": "my_private_env"
  },
  "language_info": {
   "codemirror_mode": {
    "name": "ipython",
    "version": 3
   },
   "file_extension": ".py",
   "mimetype": "text/x-python",
   "name": "python",
   "nbconvert_exporter": "python",
   "pygments_lexer": "ipython3",
   "version": "3.12.2"
  }
 },
 "nbformat": 4,
 "nbformat_minor": 5
}
