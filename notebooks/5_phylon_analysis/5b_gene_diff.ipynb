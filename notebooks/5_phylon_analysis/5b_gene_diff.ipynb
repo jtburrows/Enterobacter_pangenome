{
 "cells": [
  {
   "cell_type": "markdown",
   "id": "9248dc3b-12e6-440e-a443-6072b638fc6f",
   "metadata": {
    "editable": true,
    "slideshow": {
     "slide_type": ""
    },
    "tags": []
   },
   "source": [
    "# Setup"
   ]
  },
  {
   "cell_type": "code",
   "execution_count": null,
   "id": "7445aa14-4db2-447c-b887-889ec733d1a1",
   "metadata": {
    "editable": true,
    "slideshow": {
     "slide_type": ""
    },
    "tags": []
   },
   "outputs": [],
   "source": [
    "# Base imports\n",
    "import os\n",
    "import pickle\n",
    "import re\n",
    "\n",
    "# Compute imports\n",
    "import numpy as np\n",
    "import pandas as pd\n",
    "import scipy\n",
    "from tqdm.notebook import tqdm, trange\n",
    "\n",
    "# Plotting imports\n",
    "import matplotlib\n",
    "from matplotlib import pyplot as plt\n",
    "import seaborn as sns\n",
    "from plotly import express as px\n",
    "import matplotlib.patches as mpatches\n",
    "\n",
    "# ML import\n",
    "from sklearn.decomposition import NMF\n",
    "from sklearn.metrics import mean_squared_error, median_absolute_error\n",
    "from sklearn.metrics.pairwise import cosine_similarity\n",
    "\n",
    "matplotlib.rcParams['pdf.fonttype'] = 42\n",
    "matplotlib.rcParams['ps.fonttype'] = 42\n",
    "matplotlib.rcParams['svg.fonttype'] = 'none'\n",
    "matplotlib.rcParams['font.sans-serif'] = 'Arial'\n",
    "matplotlib.rcParams['font.family'] = 'sans-serif'\n",
    "sns.set_style('ticks')\n",
    "matplotlib.rcParams['text.color'] = '#000000'\n",
    "matplotlib.rcParams['axes.labelcolor'] = '#000000'\n",
    "matplotlib.rcParams['xtick.color'] = '#000000'\n",
    "matplotlib.rcParams['ytick.color'] = '#000000'"
   ]
  },
  {
   "cell_type": "code",
   "execution_count": null,
   "id": "0433e603-9fb8-4f62-90c1-dd5b80056883",
   "metadata": {
    "editable": true,
    "slideshow": {
     "slide_type": ""
    },
    "tags": []
   },
   "outputs": [],
   "source": [
    "DF_GENES = '../../data/processed/cd-hit-results/sim80/Ebacter_strain_by_gene.pickle.gz'\n",
    "ENRICHED_METADATA = '../../data/metadata/enriched_metadata.csv'\n",
    "DF_EGGNOG = '../../data/processed/df_eggnog.csv'\n",
    "\n",
    "DF_CORE_COMPLETE = '../../data/processed/CAR_genomes/df_core_complete.pickle'\n",
    "DF_ACC_COMPLETE = '../../data/processed/CAR_genomes/df_acc_complete.pickle'\n",
    "DF_RARE_COMPLETE = '../../data/processed/CAR_genomes/df_rare_complete.pickle'\n",
    "\n",
    "L_BINARIZED = '../../data/processed/nmf-outputs/L_binarized.csv'\n",
    "A_BINARIZED = '../../data/processed/nmf-outputs/A_binarized.csv'\n",
    "L_MATRIX = '../../data/processed/nmf-outputs/L.csv'\n",
    "A_MATRIX = '../../data/processed/nmf-outputs/A.csv'\n",
    "BAKTA_ANNOTATIONS = '../../data/processed/bakta_gene_annotations.csv'"
   ]
  },
  {
   "cell_type": "code",
   "execution_count": null,
   "id": "dc08fc5b-c439-4800-9176-b6ea9ee21a4c",
   "metadata": {},
   "outputs": [],
   "source": [
    "bakta_annotations = pd.read_csv(BAKTA_ANNOTATIONS, index_col=0)"
   ]
  },
  {
   "cell_type": "code",
   "execution_count": null,
   "id": "61798406-0dfb-4a4c-8a16-922394d9a59e",
   "metadata": {},
   "outputs": [],
   "source": [
    "gene_locs_acc = pd.read_csv('acc_gene_location.csv', index_col=0)\n",
    "gene_locs = pd.read_csv('complete_gene_location.csv', index_col=0)"
   ]
  },
  {
   "cell_type": "code",
   "execution_count": null,
   "id": "5a508faf-03e7-4ba4-b085-ea0453935d9a",
   "metadata": {},
   "outputs": [],
   "source": [
    "df_rare = pd.read_pickle(DF_RARE_COMPLETE)\n",
    "df_acc = pd.read_pickle(DF_ACC_COMPLETE)\n",
    "df_core = pd.read_pickle(DF_CORE_COMPLETE)"
   ]
  },
  {
   "cell_type": "code",
   "execution_count": null,
   "id": "4df54cbc-005e-4713-bc5d-42c756cbd8a4",
   "metadata": {},
   "outputs": [],
   "source": [
    "metadata = pd.read_csv(ENRICHED_METADATA, index_col=0, dtype='object')\n",
    "\n",
    "display( metadata.shape, metadata.head())"
   ]
  },
  {
   "cell_type": "code",
   "execution_count": null,
   "id": "20b8e396-f2af-4e1b-a279-f1008769b978",
   "metadata": {},
   "outputs": [],
   "source": [
    "# Load in (full) P matrix\n",
    "df_genes = pd.read_pickle(DF_GENES)\n",
    "\n",
    "# Filter metadata for Complete sequences only\n",
    "metadata_complete = metadata[metadata.genome_status == 'Complete'] # filter for only Complete sequences\n",
    "\n",
    "# Filter P matrix for Complete sequences only\n",
    "df_genes_complete = df_genes[metadata_complete.genome_id].copy()\n",
    "df_genes_complete.fillna(0, inplace=True) # replace N/A with 0\n",
    "df_genes_complete = df_genes_complete.sparse.to_dense().astype('int8') # densify & typecast to int8 for space and compute reasons\n",
    "inCompleteseqs = df_genes_complete.sum(axis=1) > 0 # filter for genes found in complete sequences\n",
    "df_genes_complete = df_genes_complete[inCompleteseqs]\n",
    "\n",
    "df_genes_complete.shape"
   ]
  },
  {
   "cell_type": "code",
   "execution_count": null,
   "id": "2533001a-9b34-433e-9958-44e966b5358b",
   "metadata": {},
   "outputs": [],
   "source": [
    "# Load in eggNOG annotations\n",
    "df_eggnog = pd.read_csv(DF_EGGNOG, index_col=0)\n",
    "df_eggnog.fillna('-', inplace=True)\n",
    "\n",
    "display(\n",
    "    df_eggnog.shape,\n",
    "    df_eggnog.head()\n",
    ")"
   ]
  },
  {
   "cell_type": "code",
   "execution_count": null,
   "id": "6e36a4bc-1d50-4645-85c1-3acb1676f842",
   "metadata": {},
   "outputs": [],
   "source": [
    "# Load in A_binarized matrix\n",
    "A_binarized = pd.read_csv(A_BINARIZED, index_col=0)\n",
    "A_binarized"
   ]
  },
  {
   "cell_type": "code",
   "execution_count": null,
   "id": "34703d35-4b05-4c4b-b434-0b8b6deac4ed",
   "metadata": {
    "editable": true,
    "slideshow": {
     "slide_type": ""
    },
    "tags": []
   },
   "outputs": [],
   "source": [
    "# Load in L_binarized matrix\n",
    "L_binarized = pd.read_csv(L_BINARIZED, index_col=0)\n",
    "L_binarized"
   ]
  },
  {
   "cell_type": "code",
   "execution_count": null,
   "id": "b031a7bf-4686-482f-9c03-e74363bb28f7",
   "metadata": {},
   "outputs": [],
   "source": [
    "phylon_order = ['hormaechei-xiangfangensis',\n",
    " 'hormaechei-oharae',\n",
    " 'hormaechei-steigerwaltii-2',\n",
    " 'hormaechei-steigerwaltii-1',\n",
    " 'hormaechei-steigerwaltii-3',\n",
    " 'hormaechei-hormaechei',\n",
    " 'hormaechei-hoffmannii-1',\n",
    " 'hormaechei-hoffmannii-2',\n",
    " 'unchar-1',\n",
    " 'unchar-2',\n",
    " 'unchar-3',\n",
    " 'unchar-4',\n",
    " 'roggenkampii',\n",
    " 'asburiae',\n",
    " 'kobei',\n",
    " 'bugandensis',\n",
    " 'cancerogenous',\n",
    " 'ludwigii',\n",
    " 'cloacae']"
   ]
  },
  {
   "cell_type": "code",
   "execution_count": null,
   "id": "f8413df2-927d-4427-b5c9-fbec960a7c84",
   "metadata": {
    "scrolled": true
   },
   "outputs": [],
   "source": [
    "gene_order = []\n",
    "\n",
    "# Add in zero-phylon genes\n",
    "zero_cond = L_binarized.sum(axis=1) == 0\n",
    "gene_order.extend(L_binarized[zero_cond].index)\n",
    "\n",
    "# Add in single-phylon genes\n",
    "for phylon in phylon_order:\n",
    "    single_cond = L_binarized.sum(axis=1) == 1\n",
    "    inPhylon = L_binarized[phylon] == 1\n",
    "    gene_order.extend(L_binarized[inPhylon & single_cond].index)\n",
    "\n",
    "# Add in poly-phylon genes\n",
    "for num_active_phylons in trange(2, int(L_binarized.sum(axis=1).max())+1):\n",
    "    num_cond = L_binarized.sum(axis=1) == num_active_phylons\n",
    "    gg = sns.clustermap(L_binarized[num_cond], method='ward', metric='euclidean', col_cluster=False, yticklabels=False);\n",
    "    gene_order.extend(gg.data2d.index)"
   ]
  },
  {
   "cell_type": "code",
   "execution_count": null,
   "id": "7342c73e-064f-42b2-9071-0cb70da9981d",
   "metadata": {},
   "outputs": [],
   "source": [
    "# Main sorted clustermap\n",
    "\n",
    "g = sns.clustermap(\n",
    "    L_binarized.loc[gene_order],\n",
    "    method='ward',\n",
    "    metric='euclidean',\n",
    "    row_cluster=False,\n",
    "    yticklabels=False,\n",
    "    cmap='Greys'\n",
    ");"
   ]
  },
  {
   "cell_type": "code",
   "execution_count": null,
   "id": "39f4b4b2-1985-42a8-83a6-9507b0c38437",
   "metadata": {},
   "outputs": [],
   "source": [
    "strain_order = []\n",
    "unchar_strain_order = []\n",
    "\n",
    "\n",
    "# zero-phylon strains\n",
    "noPhylon = A_binarized.sum() == 0\n",
    "strain_order.extend(A_binarized.sum()[noPhylon].index.tolist())\n",
    "\n",
    "# strain lists\n",
    "single_phylon_strains = A_binarized.sum()[A_binarized.sum() == 1].index\n",
    "multi_phylon_strains = A_binarized.sum()[A_binarized.sum() > 1].index\n",
    "\n",
    "for phylon in phylon_order:\n",
    "    if 'unchar' in phylon:\n",
    "        continue\n",
    "    else:\n",
    "        phylon_aff_binarized_single = A_binarized.loc[phylon, single_phylon_strains]\n",
    "        phylon_aff_binarized_multi = A_binarized.loc[phylon, multi_phylon_strains]\n",
    "    \n",
    "        inPhylon_single = phylon_aff_binarized_single == 1\n",
    "        inPhylon_multi = phylon_aff_binarized_multi == 1\n",
    "    \n",
    "        list1 = phylon_aff_binarized_single[inPhylon_single].index.tolist()\n",
    "        list2 = phylon_aff_binarized_multi[inPhylon_multi].index.tolist()\n",
    "        new_list2 = list(set(list2) - set(strain_order)) # ensures no double-counting\n",
    "        \n",
    "        strain_order.extend(list1)\n",
    "        strain_order.extend(new_list2)\n",
    "\n",
    "for phylon in phylon_order: # must be done after the first loop\n",
    "    if 'unchar' in phylon:\n",
    "        phylon_aff_binarized_single = A_binarized.loc[phylon, single_phylon_strains]\n",
    "        phylon_aff_binarized_multi = A_binarized.loc[phylon, multi_phylon_strains]\n",
    "    \n",
    "        inPhylon_single = phylon_aff_binarized_single == 1\n",
    "        inPhylon_multi = phylon_aff_binarized_multi == 1\n",
    "    \n",
    "        list1 = phylon_aff_binarized_single[inPhylon_single].index.tolist()\n",
    "        list2 = phylon_aff_binarized_multi[inPhylon_multi].index.tolist()\n",
    "        new_list1 = list(set(list1) - set(strain_order)) # ensures no double-counting\n",
    "        new_list2 = list(set(list2) - set(strain_order)) # ensures no double-counting\n",
    "        \n",
    "        strain_order.extend(new_list1)\n",
    "        strain_order.extend(new_list2)\n",
    "\n",
    "strain_order += unchar_strain_order\n",
    "\n",
    "# A-binarized\n",
    "sns.clustermap(A_binarized.loc[phylon_order, strain_order], cmap='Greys', xticklabels=False, row_cluster=False, col_cluster=False)"
   ]
  },
  {
   "cell_type": "code",
   "execution_count": null,
   "id": "a74ec4c7-66e6-4826-9009-cb192e4c117f",
   "metadata": {
    "editable": true,
    "slideshow": {
     "slide_type": ""
    },
    "tags": []
   },
   "outputs": [],
   "source": [
    "characterized_order = ['hormaechei-xiangfangensis',\n",
    " 'hormaechei-oharae',\n",
    " 'hormaechei-steigerwaltii-2',\n",
    " 'hormaechei-steigerwaltii-1',\n",
    " 'hormaechei-steigerwaltii-3',\n",
    " 'hormaechei-hormaechei',\n",
    " 'hormaechei-hoffmannii-1',\n",
    " 'hormaechei-hoffmannii-2',\n",
    " 'roggenkampii',\n",
    " 'asburiae',\n",
    " 'kobei',\n",
    " 'bugandensis',\n",
    " 'cancerogenous',\n",
    " 'ludwigii',\n",
    " 'cloacae']"
   ]
  },
  {
   "cell_type": "code",
   "execution_count": null,
   "id": "4e7f9fb0-e58f-4d7b-8d67-72b53e5db153",
   "metadata": {},
   "outputs": [],
   "source": [
    "df = A_binarized.loc[characterized_order]\n",
    "\n",
    "# List to store labels and column names\n",
    "label_col = []\n",
    "name_col = []\n",
    "\n",
    "# Iterate over columns\n",
    "for col in df.columns:\n",
    "    # Find index where value is 1\n",
    "    index = df.index[df[col] == 1].tolist()\n",
    "    if index:\n",
    "        label_col.append(index[0])  # Append the first index where value is 1\n",
    "    else:\n",
    "        label_col.append('None')  # If no 1 is found, append None\n",
    "    name_col.append(col)\n",
    "\n",
    "# Create a new DataFrame\n",
    "output_df = pd.DataFrame({'Column': name_col, 'Label': label_col}).set_index('Column')\n",
    "\n",
    "custom_colors = [\n",
    "    # Shades of red/orange/yellow\n",
    "    \"Red\",\n",
    "    \"IndianRed\",\n",
    "    \"DarkRed\",\n",
    "    \"FireBrick\",\n",
    "    \"Tomato\",\n",
    "    \"Gold\",\n",
    "    \"DarkGoldenrod\",\n",
    "    \"Goldenrod\",\n",
    "    # Other species\n",
    "    \"Green\",\n",
    "    \"Blue\",\n",
    "    \"Purple\",\n",
    "    \"Cyan\",\n",
    "    \"Magenta\",\n",
    "    \"Lime\",\n",
    "    \"Pink\",\n",
    "]\n",
    "\n",
    "\n",
    "clr = dict(zip(characterized_order, custom_colors))"
   ]
  },
  {
   "cell_type": "code",
   "execution_count": null,
   "id": "eef83884-3e82-4556-9503-24f8791c77ba",
   "metadata": {},
   "outputs": [],
   "source": [
    "# Main sorted clustermap\n",
    "\n",
    "g = sns.clustermap(\n",
    "    L_binarized.loc[gene_order, characterized_order],\n",
    "    method='ward',\n",
    "    metric='euclidean',\n",
    "    row_cluster=False,\n",
    "    yticklabels=False,\n",
    "    cmap='Greys',\n",
    "    col_colors=list(clr.values())\n",
    ");\n",
    "\n",
    "plt.rcParams['svg.fonttype'] = 'none'\n",
    "plt.savefig('../images/fig3/L.png', format='png', dpi=300, bbox_inches='tight')\n"
   ]
  },
  {
   "cell_type": "code",
   "execution_count": null,
   "id": "d007a9a2-2c75-41c0-be27-ef201792979b",
   "metadata": {},
   "outputs": [],
   "source": [
    "strain_order = []\n",
    "unchar_strain_order = []\n",
    "characterized = characterized_order\n",
    "A_bin_char = A_binarized.loc[characterized]\n",
    "# zero-phylon strains\n",
    "noPhylon = A_bin_char.sum() == 0\n",
    "strain_order.extend(A_bin_char.sum()[noPhylon].index.tolist())\n",
    "\n",
    "# strain lists\n",
    "single_phylon_strains = A_bin_char.sum()[A_bin_char.sum() == 1].index\n",
    "multi_phylon_strains = A_bin_char.sum()[A_bin_char.sum() > 1].index\n",
    "\n",
    "for phylon in characterized:\n",
    "    if 'unchar' in phylon:\n",
    "        continue\n",
    "    else:\n",
    "        phylon_aff_binarized_single = A_bin_char.loc[phylon, single_phylon_strains]\n",
    "        phylon_aff_binarized_multi = A_bin_char.loc[phylon, multi_phylon_strains]\n",
    "    \n",
    "        inPhylon_single = phylon_aff_binarized_single == 1\n",
    "        inPhylon_multi = phylon_aff_binarized_multi == 1\n",
    "    \n",
    "        list1 = phylon_aff_binarized_single[inPhylon_single].index.tolist()\n",
    "        list2 = phylon_aff_binarized_multi[inPhylon_multi].index.tolist()\n",
    "        new_list2 = list(set(list2) - set(strain_order)) # ensures no double-counting\n",
    "        \n",
    "        strain_order.extend(list1)\n",
    "        strain_order.extend(new_list2)\n",
    "\n",
    "for phylon in characterized: # must be done after the first loop\n",
    "    if 'unchar' in phylon:\n",
    "        phylon_aff_binarized_single = A_bin_char.loc[phylon, single_phylon_strains]\n",
    "        phylon_aff_binarized_multi = A_bin_char.loc[phylon, multi_phylon_strains]\n",
    "    \n",
    "        inPhylon_single = phylon_aff_binarized_single == 1\n",
    "        inPhylon_multi = phylon_aff_binarized_multi == 1\n",
    "    \n",
    "        list1 = phylon_aff_binarized_single[inPhylon_single].index.tolist()\n",
    "        list2 = phylon_aff_binarized_multi[inPhylon_multi].index.tolist()\n",
    "        new_list1 = list(set(list1) - set(strain_order)) # ensures no double-counting\n",
    "        new_list2 = list(set(list2) - set(strain_order)) # ensures no double-counting\n",
    "        \n",
    "        strain_order.extend(new_list1)\n",
    "        strain_order.extend(new_list2)\n",
    "\n",
    "strain_order += unchar_strain_order\n",
    "\n",
    "# A-binarized\n",
    "sns.clustermap(A_bin_char.loc[characterized, strain_order], cmap='Greys', xticklabels=False, row_cluster=False, col_cluster=False, row_colors=list(clr.values()))\n",
    "\n",
    "plt.rcParams['svg.fonttype'] = 'none'\n",
    "plt.savefig('../images/fig3/A.png', format='png', dpi=300, bbox_inches='tight')\n"
   ]
  },
  {
   "cell_type": "code",
   "execution_count": null,
   "id": "60258a32-5354-42be-b445-3b6d22dc8bce",
   "metadata": {},
   "outputs": [],
   "source": [
    "fig, ax = plt.subplots(1, 1, figsize=(10, 5))\n",
    "\n",
    "links = scipy.cluster.hierarchy.linkage(L_binarized[characterized].T, method=\"ward\")\n",
    "clust = scipy.cluster.hierarchy.fcluster(links, t=16, criterion='maxclust')\n",
    "den = scipy.cluster.hierarchy.dendrogram(links, labels = L_binarized[characterized].columns, orientation='left', ax=ax) "
   ]
  },
  {
   "cell_type": "markdown",
   "id": "fa6d827a-4935-466c-bca1-10debe198541",
   "metadata": {},
   "source": [
    "## Useful functions for later analysis"
   ]
  },
  {
   "cell_type": "code",
   "execution_count": null,
   "id": "5dd71941-a687-41e4-9332-5f26bb2a1e13",
   "metadata": {},
   "outputs": [],
   "source": [
    "def get_strains(phylon, A_binarized = A_binarized):\n",
    "    phylon_membership = A_binarized.loc[phylon]\n",
    "    return (phylon_membership[phylon_membership == 1]).index\n",
    "\n",
    "def get_genes(phylon, L_binarized = L_binarized):\n",
    "    return [x for x in L_binarized.index if L_binarized.loc[x, phylon] >0]"
   ]
  },
  {
   "cell_type": "code",
   "execution_count": null,
   "id": "e27a065a-9397-43be-b2f0-8ff388284ac5",
   "metadata": {},
   "outputs": [],
   "source": [
    "# Workhorse function for the rest of this notebook\n",
    "def find_exclusive_genes(L_binarized, phylon_list1, phylon_list2):\n",
    "    inUpper = L_binarized[phylon_list1].sum(axis=1) > 0\n",
    "    inLower = L_binarized[phylon_list2].sum(axis=1) > 0\n",
    "    \n",
    "    notInUpper = L_binarized[phylon_list1].sum(axis=1) == 0\n",
    "    notInLower = L_binarized[phylon_list2].sum(axis=1) == 0\n",
    "    \n",
    "    upper_only_genes = L_binarized[phylon_list1].sum(axis=1)[inUpper][notInLower].index\n",
    "    lower_only_genes = L_binarized[phylon_list2].sum(axis=1)[inLower][notInUpper].index\n",
    "    \n",
    "    return upper_only_genes, lower_only_genes\n",
    "\n"
   ]
  },
  {
   "cell_type": "markdown",
   "id": "3608d06c-99be-4b31-aaee-cf54bbf77fd5",
   "metadata": {},
   "source": [
    "# Accuracy Metrics"
   ]
  },
  {
   "cell_type": "code",
   "execution_count": null,
   "id": "068f3164-f7f8-4280-9b40-7f5ee2150dbb",
   "metadata": {},
   "outputs": [],
   "source": [
    "P_rec = L_binarized.astype(int) @ A_binarized.astype(int)\n",
    "\n",
    "#gene presence threshold of .5\n",
    "P_rec = (P_rec > .5).astype(int)\n",
    "df_acc_complete = df_genes_complete.loc[L_binarized.index]\n",
    "P_rec.index = df_acc_complete.index\n",
    "\n",
    "accuracy = (df_acc_complete - P_rec == 0).sum().sum()/(df_acc_complete.shape[0] * df_acc_complete.shape[1])\n",
    "print(\"Reconstruction Accuracy:\", str(round(accuracy*100, 1)) + \"%\")"
   ]
  },
  {
   "cell_type": "code",
   "execution_count": null,
   "id": "b1403cab-4be0-4e15-83da-21663cd42c9a",
   "metadata": {},
   "outputs": [],
   "source": [
    "original_flat = df_acc_complete.values.flatten()\n",
    "reconstructed_flat = P_rec.values.flatten()\n",
    "\n",
    "# Calculate True Positives, False Positives, False Negatives, and True Negatives\n",
    "TP = np.sum((original_flat == 1) & (reconstructed_flat == 1))  # True Positives\n",
    "FP = np.sum((original_flat == 0) & (reconstructed_flat == 1))  # False Positives\n",
    "FN = np.sum((original_flat == 1) & (reconstructed_flat == 0))  # False Negatives\n",
    "TN = np.sum((original_flat == 0) & (reconstructed_flat == 0))  # True Negatives\n",
    "\n",
    "# Calculate False Positive Rate and False Negative Rate\n",
    "FPR = FP / (FP + TN) if (FP + TN) != 0 else 0  # Avoid division by zero\n",
    "FNR = FN / (FN + TP) if (FN + TP) != 0 else 0  # Avoid division by zero\n",
    "\n",
    "# Print the results\n",
    "print(f\"False Positive Rate (FPR): {FPR:.4f}\")\n",
    "print(f\"False Negative Rate (FNR): {FNR:.4f}\")"
   ]
  },
  {
   "cell_type": "markdown",
   "id": "9182cf90-cdff-4dcf-aee5-07ba8772b50b",
   "metadata": {},
   "source": [
    "# Split Analysis"
   ]
  },
  {
   "cell_type": "markdown",
   "id": "198609a4-acc2-4d15-91f4-dc82f160c189",
   "metadata": {
    "jp-MarkdownHeadingCollapsed": true
   },
   "source": [
    "## Split 1 - Hormaechei vs Rest"
   ]
  },
  {
   "cell_type": "code",
   "execution_count": null,
   "id": "6a36a874-f7b6-44da-bca5-4cf599fda322",
   "metadata": {},
   "outputs": [],
   "source": [
    "split1_upper = ['hormaechei-xiangfangensis',\n",
    " 'hormaechei-oharae',\n",
    " 'hormaechei-steigerwaltii-2',\n",
    " 'hormaechei-steigerwaltii-1',\n",
    " 'hormaechei-steigerwaltii-3',\n",
    " 'hormaechei-hormaechei',\n",
    " 'hormaechei-hoffmannii-1',\n",
    " 'hormaechei-hoffmannii-2',]\n",
    "\n",
    "split1_lower = [ 'roggenkampii',\n",
    " 'asburiae',\n",
    " 'kobei',\n",
    " 'bugandensis',\n",
    " 'cancerogenous',\n",
    " 'ludwigii',\n",
    " 'cloacae']"
   ]
  },
  {
   "cell_type": "code",
   "execution_count": null,
   "id": "7c241e56-3d90-4873-b953-c6deed253b9d",
   "metadata": {},
   "outputs": [],
   "source": [
    "# 1170 total metabolic genes in acc genome\n",
    "idx = df_eggnog.loc[L_binarized.index].COG_category.apply(lambda x: x[0]).str.contains('C|E|F|G|H|I|P')\n",
    "total_metabolic = df_eggnog.loc[L_binarized.index].loc[idx]\n",
    "df_eggnog.loc[L_binarized.index].loc[idx].shape"
   ]
  },
  {
   "cell_type": "code",
   "execution_count": null,
   "id": "76306239-712f-4f8c-bdc4-f471c32a02df",
   "metadata": {},
   "outputs": [],
   "source": [
    "# 285 total motility genes in acc genome\n",
    "cond1 = df_eggnog.loc[L_binarized.index].COG_category.apply(lambda x: x[0]).str.contains('N')\n",
    "cond2 = df_eggnog.loc[L_binarized.index].Description.str.contains('pili')\n",
    "cond3 = df_eggnog.loc[L_binarized.index].Description.str.contains('pilus')\n",
    "\n",
    "total_motility = df_eggnog.loc[L_binarized.index][cond1 | cond2 | cond3] \n",
    "\n",
    "df_eggnog.loc[L_binarized.index][cond1 | cond2 | cond3].shape  "
   ]
  },
  {
   "cell_type": "code",
   "execution_count": null,
   "id": "0301faff-db07-4f56-9140-e7141725cc20",
   "metadata": {},
   "outputs": [],
   "source": [
    "upper_only_genes, lower_only_genes = find_exclusive_genes(L_binarized, split1_upper, split1_lower)\n",
    "\n",
    "display(\n",
    "    len(upper_only_genes),\n",
    "    len(lower_only_genes)\n",
    ")"
   ]
  },
  {
   "cell_type": "markdown",
   "id": "85a7695f-6a35-446d-b2eb-7faa1777f57b",
   "metadata": {},
   "source": [
    "### Upper Phylons exclusive genes"
   ]
  },
  {
   "cell_type": "code",
   "execution_count": null,
   "id": "65274e29-15a5-4ae6-ab89-b22b46782ee2",
   "metadata": {},
   "outputs": [],
   "source": [
    "# 646 genes have no known function\n",
    "df_eggnog.loc[upper_only_genes].COG_category.apply(lambda x: x[0]).value_counts()"
   ]
  },
  {
   "cell_type": "code",
   "execution_count": null,
   "id": "995aadf1-7d3f-4279-8fa9-b9ed8efd116e",
   "metadata": {},
   "outputs": [],
   "source": [
    "# 184 genes are metabolic\n",
    "isMetabolic = df_eggnog.loc[upper_only_genes].COG_category.str.contains('C|E|F|G|H|I|P')\n",
    "upper_metabolic = df_eggnog.loc[upper_only_genes][isMetabolic]\n",
    "\n",
    "display(\n",
    "    upper_metabolic.shape,\n",
    "    upper_metabolic.head()\n",
    ")"
   ]
  },
  {
   "cell_type": "code",
   "execution_count": null,
   "id": "6a7a701b-00eb-4dfc-926a-a9cae98d4f7d",
   "metadata": {},
   "outputs": [],
   "source": [
    "# 119 motility genes\n",
    "\n",
    "isMotility1 = df_eggnog.loc[upper_only_genes].COG_category.str.contains('N')\n",
    "isMotility2 = df_eggnog.loc[upper_only_genes].Description.str.contains('pilus')\n",
    "isMotility3 = df_eggnog.loc[upper_only_genes].Description.str.contains('pili')\n",
    "\n",
    "\n",
    "upper_motility = df_eggnog.loc[upper_only_genes][isMotility1 | isMotility2 | isMotility3]\n",
    "\n",
    "display(\n",
    "    upper_motility.shape,\n",
    "    upper_motility.head()\n",
    ")"
   ]
  },
  {
   "cell_type": "markdown",
   "id": "5bd762ef-1e25-4e73-8385-1dee1caf26ac",
   "metadata": {},
   "source": [
    "### Lower phylon exclusive genes"
   ]
  },
  {
   "cell_type": "code",
   "execution_count": null,
   "id": "ff907d83-00c6-4816-be0e-441254d510a4",
   "metadata": {},
   "outputs": [],
   "source": [
    "display(df_eggnog.loc[lower_only_genes].head(), df_eggnog.loc[lower_only_genes].shape)"
   ]
  },
  {
   "cell_type": "code",
   "execution_count": null,
   "id": "8f671ed2-e460-469f-abab-eb11d6b19a69",
   "metadata": {},
   "outputs": [],
   "source": [
    "# 345 genes have no known function\n",
    "df_eggnog.loc[lower_only_genes].COG_category.apply(lambda x: x[0]).value_counts()"
   ]
  },
  {
   "cell_type": "code",
   "execution_count": null,
   "id": "cfcb371b-b8b6-4173-8436-978bd4bf4bf8",
   "metadata": {},
   "outputs": [],
   "source": [
    "# 279 genes are metabolic\n",
    "isMetabolic = df_eggnog.loc[lower_only_genes].COG_category.str.contains('C|E|F|G|H|I|P')\n",
    "lower_metabolic = df_eggnog.loc[lower_only_genes][isMetabolic]\n",
    "\n",
    "display(\n",
    "    lower_metabolic.shape,\n",
    "    lower_metabolic.head()\n",
    ")"
   ]
  },
  {
   "cell_type": "code",
   "execution_count": null,
   "id": "15d01866-16b1-4b8b-92c1-b49039198810",
   "metadata": {},
   "outputs": [],
   "source": [
    "# 70 motility genes\n",
    "\n",
    "isMotility1 = df_eggnog.loc[lower_only_genes].COG_category.str.contains('N')\n",
    "isMotility2 = df_eggnog.loc[lower_only_genes].Description.str.contains('pilus')\n",
    "isMotility3 = df_eggnog.loc[lower_only_genes].Description.str.contains('pili')\n",
    "\n",
    "lower_motility = df_eggnog.loc[lower_only_genes][isMotility1 | isMotility2 | isMotility3]\n",
    "\n",
    "display(\n",
    "    lower_motility.shape,\n",
    "    lower_motility.head()\n",
    ")"
   ]
  },
  {
   "cell_type": "markdown",
   "id": "dbbf47bf-083b-49e2-9351-cd0d6159a61a",
   "metadata": {
    "jp-MarkdownHeadingCollapsed": true
   },
   "source": [
    "## Split 2 - Lower Phylons - arkb vs clmc"
   ]
  },
  {
   "cell_type": "code",
   "execution_count": null,
   "id": "9fcdbb34-72cd-42e7-8288-c889af76e207",
   "metadata": {},
   "outputs": [],
   "source": [
    "split2_arkb = ['asburiae',\n",
    " 'roggenkampii',\n",
    " 'kobei',\n",
    " 'bugandensis']\n",
    "\n",
    "split2_clc = ['cancerogenous',\n",
    " 'ludwigii',\n",
    " 'cloacae']"
   ]
  },
  {
   "cell_type": "code",
   "execution_count": null,
   "id": "886db63c-a702-469d-86f7-8ae2d09f0465",
   "metadata": {},
   "outputs": [],
   "source": [
    "arkb_only_genes, clc_only_genes = find_exclusive_genes(\n",
    "    L_binarized.loc[lower_only_genes],\n",
    "    split2_arkb,\n",
    "    split2_clc\n",
    ")\n",
    "\n",
    "display(\n",
    "    f'arkb exclusive genes: {len(arkb_only_genes)}',\n",
    "    f'clc exclusive genes: {len(clc_only_genes)}',\n",
    ")"
   ]
  },
  {
   "cell_type": "code",
   "execution_count": null,
   "id": "77110e1a-acc6-4ae9-8451-ef8bb1f03fcf",
   "metadata": {},
   "outputs": [],
   "source": [
    "len(lower_only_genes) - len(arkb_only_genes) - len(clc_only_genes) # 462 genes split/shared across"
   ]
  },
  {
   "cell_type": "markdown",
   "id": "be042e14-06a4-492e-9ee7-bdecb7fd38e5",
   "metadata": {},
   "source": [
    "### ARKB Phylon Genes"
   ]
  },
  {
   "cell_type": "code",
   "execution_count": null,
   "id": "54b27faa-d08c-477e-9c8d-64ccf6f84c26",
   "metadata": {},
   "outputs": [],
   "source": [
    "display(\n",
    "    df_eggnog.loc[arkb_only_genes].shape,\n",
    "    df_eggnog.loc[arkb_only_genes].head(),\n",
    "    df_eggnog.loc[arkb_only_genes].COG_category.apply(lambda x: x[0]).value_counts() # 167 unknown genes\n",
    "    \n",
    ")"
   ]
  },
  {
   "cell_type": "code",
   "execution_count": null,
   "id": "68cc0cd9-dc29-42a4-9a59-45962f15389b",
   "metadata": {},
   "outputs": [],
   "source": [
    "# 87 genes are metabolic\n",
    "isMetabolic = df_eggnog.loc[arkb_only_genes].COG_category.str.contains('C|E|F|G|H|I|P')\n",
    "arkb_metabolic = df_eggnog.loc[arkb_only_genes][isMetabolic]\n",
    "\n",
    "display(arkb_metabolic)"
   ]
  },
  {
   "cell_type": "code",
   "execution_count": null,
   "id": "ecffde23-e579-4d60-b573-2193c96d5dda",
   "metadata": {},
   "outputs": [],
   "source": [
    "# 33 motility genes\n",
    "\n",
    "isMotility1 = df_eggnog.loc[arkb_only_genes].COG_category.str.contains('N')\n",
    "isMotility2 = df_eggnog.loc[arkb_only_genes].Description.str.contains('pilus')\n",
    "isMotility3 = df_eggnog.loc[arkb_only_genes].Description.str.contains('pili')\n",
    "\n",
    "arkb_motility = df_eggnog.loc[arkb_only_genes][isMotility1 | isMotility2 | isMotility3]\n",
    "arkb_motility"
   ]
  },
  {
   "cell_type": "markdown",
   "id": "7810ac09-284b-498b-9538-867b526ef32b",
   "metadata": {},
   "source": [
    "### CLC Phylon Genes"
   ]
  },
  {
   "cell_type": "code",
   "execution_count": null,
   "id": "13c573ad-58b7-4881-9285-65778e27e781",
   "metadata": {},
   "outputs": [],
   "source": [
    "display(\n",
    "    df_eggnog.loc[clc_only_genes].shape,\n",
    "    df_eggnog.loc[clc_only_genes].head(),\n",
    "    df_eggnog.loc[clc_only_genes].COG_category.apply(lambda x: x[0]).value_counts() # 43 unknown genes\n",
    "    \n",
    ")"
   ]
  },
  {
   "cell_type": "code",
   "execution_count": null,
   "id": "ad7192ab-50c8-4cb4-b208-8ecd3c147960",
   "metadata": {},
   "outputs": [],
   "source": [
    "# 44 genes are metabolic\n",
    "isMetabolic = df_eggnog.loc[clc_only_genes].COG_category.str.contains('C|E|F|G|H|I|P')\n",
    "clc_metabolic = df_eggnog.loc[clc_only_genes][isMetabolic]\n",
    "\n",
    "display(clc_metabolic)"
   ]
  },
  {
   "cell_type": "code",
   "execution_count": null,
   "id": "8a0122e4-b091-47fa-ba2e-29bf6d6a67c4",
   "metadata": {},
   "outputs": [],
   "source": [
    "# 7 motility genes\n",
    "\n",
    "isMotility1 = df_eggnog.loc[clc_only_genes].COG_category.str.contains('N')\n",
    "isMotility2 = df_eggnog.loc[clc_only_genes].Description.str.contains('pilus')\n",
    "isMotility3 = df_eggnog.loc[clc_only_genes].Description.str.contains('pili')\n",
    "\n",
    "clc_motility = df_eggnog.loc[clc_only_genes][isMotility1 | isMotility2 | isMotility3]\n",
    "clc_motility"
   ]
  },
  {
   "cell_type": "code",
   "execution_count": null,
   "id": "55fb7069-be35-4635-9dc5-b09e6c62e580",
   "metadata": {},
   "outputs": [],
   "source": []
  },
  {
   "cell_type": "markdown",
   "id": "2abe6989-8687-44b4-9eec-a4183f063777",
   "metadata": {
    "jp-MarkdownHeadingCollapsed": true
   },
   "source": [
    "## Split 3 - AR vs KB Phylon Genes"
   ]
  },
  {
   "cell_type": "code",
   "execution_count": null,
   "id": "95c9d19c-0579-4346-8e65-e0375629f45c",
   "metadata": {},
   "outputs": [],
   "source": [
    "split3_ar = ['asburiae',\n",
    " 'roggenkampii']\n",
    "\n",
    "split3_kb = ['kobei',\n",
    " 'bugandensis']\n"
   ]
  },
  {
   "cell_type": "code",
   "execution_count": null,
   "id": "033687bd-33a5-4555-a9e5-fc6fe80e37c9",
   "metadata": {},
   "outputs": [],
   "source": [
    "ar_only_genes, kb_only_genes = find_exclusive_genes(\n",
    "    L_binarized.loc[arkb_only_genes],\n",
    "    split3_ar,\n",
    "    split3_kb\n",
    ")\n",
    "\n",
    "display(\n",
    "    f'ar exclusive genes: {len(ar_only_genes)}',\n",
    "    f'kb exclusive genes: {len(kb_only_genes)}',\n",
    ")"
   ]
  },
  {
   "cell_type": "code",
   "execution_count": null,
   "id": "1162fd66-919a-4eef-bed4-485ba15ee6e5",
   "metadata": {},
   "outputs": [],
   "source": [
    "len(arkb_only_genes) - len(ar_only_genes) - len(kb_only_genes) # 143 genes split/shared across"
   ]
  },
  {
   "cell_type": "markdown",
   "id": "f6d18486-31c3-48d8-a9b2-7c6f934de885",
   "metadata": {},
   "source": [
    "### AR Genes"
   ]
  },
  {
   "cell_type": "code",
   "execution_count": null,
   "id": "8e7929a4-20e3-41d6-926d-e787dda9cbd8",
   "metadata": {},
   "outputs": [],
   "source": [
    "display(\n",
    "    df_eggnog.loc[ar_only_genes].shape,\n",
    "    df_eggnog.loc[ar_only_genes].head(),\n",
    "    df_eggnog.loc[ar_only_genes].COG_category.apply(lambda x: x[0]).value_counts() # 82 unknown genes\n",
    "    \n",
    ")"
   ]
  },
  {
   "cell_type": "code",
   "execution_count": null,
   "id": "aacd572d-b1f1-4f2c-8883-ce9768a9b639",
   "metadata": {},
   "outputs": [],
   "source": [
    "# 39 genes are metabolic\n",
    "isMetabolic = df_eggnog.loc[ar_only_genes].COG_category.str.contains('C|E|F|G|H|I|P')\n",
    "ar_metabolic = df_eggnog.loc[ar_only_genes][isMetabolic]\n",
    "\n",
    "display(ar_metabolic)"
   ]
  },
  {
   "cell_type": "code",
   "execution_count": null,
   "id": "0baac09b-6265-4211-8c96-e3993417201b",
   "metadata": {},
   "outputs": [],
   "source": [
    "# 22 motility genes\n",
    "\n",
    "isMotility1 = df_eggnog.loc[ar_only_genes].COG_category.str.contains('N')\n",
    "isMotility2 = df_eggnog.loc[ar_only_genes].Description.str.contains('pilus')\n",
    "isMotility3 = df_eggnog.loc[ar_only_genes].Description.str.contains('pili')\n",
    "\n",
    "ar_motility = df_eggnog.loc[ar_only_genes][isMotility1 | isMotility2 | isMotility3]\n",
    "ar_motility"
   ]
  },
  {
   "cell_type": "markdown",
   "id": "ff353fb9-4cd5-4525-a860-7dcd84c8adc2",
   "metadata": {},
   "source": [
    "### KB Genes"
   ]
  },
  {
   "cell_type": "code",
   "execution_count": null,
   "id": "a2dd5453-0fb2-4c18-982f-d3ef68d08190",
   "metadata": {},
   "outputs": [],
   "source": [
    "display(\n",
    "    df_eggnog.loc[kb_only_genes].shape,\n",
    "    df_eggnog.loc[kb_only_genes].head(),\n",
    "    df_eggnog.loc[kb_only_genes].COG_category.apply(lambda x: x[0]).value_counts() # 41 unknown genes\n",
    "    \n",
    ")"
   ]
  },
  {
   "cell_type": "code",
   "execution_count": null,
   "id": "d57c9be5-31dc-4c70-9e39-dc42ebec5bf1",
   "metadata": {},
   "outputs": [],
   "source": [
    "# 8 genes are metabolic\n",
    "isMetabolic = df_eggnog.loc[kb_only_genes].COG_category.str.contains('C|E|F|G|H|I|P')\n",
    "kb_metabolic = df_eggnog.loc[kb_only_genes][isMetabolic]\n",
    "\n",
    "display(kb_metabolic)"
   ]
  },
  {
   "cell_type": "code",
   "execution_count": null,
   "id": "9f581409-3828-4745-ab89-ebc83731dcbf",
   "metadata": {},
   "outputs": [],
   "source": [
    "# 3 motility genes\n",
    "\n",
    "isMotility1 = df_eggnog.loc[kb_only_genes].COG_category.str.contains('N')\n",
    "isMotility2 = df_eggnog.loc[kb_only_genes].Description.str.contains('pilus')\n",
    "isMotility3 = df_eggnog.loc[kb_only_genes].Description.str.contains('pili')\n",
    "\n",
    "kb_motility = df_eggnog.loc[kb_only_genes][isMotility1 | isMotility2 | isMotility3]\n",
    "kb_motility"
   ]
  },
  {
   "cell_type": "code",
   "execution_count": null,
   "id": "9901c296-724f-4613-8890-6584b65a8fbc",
   "metadata": {},
   "outputs": [],
   "source": []
  },
  {
   "cell_type": "markdown",
   "id": "adec5211-e538-40e1-b13d-71bcf125c25b",
   "metadata": {
    "jp-MarkdownHeadingCollapsed": true
   },
   "source": [
    "## Split 4 - Asburiae vs Roggenkampii"
   ]
  },
  {
   "cell_type": "code",
   "execution_count": null,
   "id": "4347169e-838c-457a-9f72-eafb9c2d32c6",
   "metadata": {},
   "outputs": [],
   "source": [
    "split4_a = ['asburiae',]\n",
    " \n",
    "split4_r = ['roggenkampii']\n",
    "\n"
   ]
  },
  {
   "cell_type": "code",
   "execution_count": null,
   "id": "dd139b5e-adc8-4d74-8683-cd276a77820a",
   "metadata": {},
   "outputs": [],
   "source": [
    "a_only_genes, r_only_genes = find_exclusive_genes(\n",
    "    L_binarized.loc[ar_only_genes],\n",
    "    split4_a,\n",
    "    split4_r\n",
    ")\n",
    "\n",
    "display(\n",
    "    f'a exclusive genes: {len(a_only_genes)}',\n",
    "    f'r exclusive genes: {len(r_only_genes)}',\n",
    ")"
   ]
  },
  {
   "cell_type": "code",
   "execution_count": null,
   "id": "fe9bb3d1-1f23-4c2b-9541-f4c73c0388e3",
   "metadata": {},
   "outputs": [],
   "source": [
    "len(ar_only_genes) - len(a_only_genes) - len(r_only_genes) # 34 genes split/shared across"
   ]
  },
  {
   "cell_type": "markdown",
   "id": "c8870106-4c19-4a45-b5a0-fe82e183935f",
   "metadata": {},
   "source": [
    "### Asburiae Genes"
   ]
  },
  {
   "cell_type": "code",
   "execution_count": null,
   "id": "dd08096f-0fb6-4082-9056-256a0a319546",
   "metadata": {},
   "outputs": [],
   "source": [
    "display(\n",
    "    df_eggnog.loc[a_only_genes].shape,\n",
    "    df_eggnog.loc[a_only_genes].head(),\n",
    "    df_eggnog.loc[a_only_genes].COG_category.apply(lambda x: x[0]).value_counts() # 30 unknown genes\n",
    "    \n",
    ")"
   ]
  },
  {
   "cell_type": "code",
   "execution_count": null,
   "id": "dc8352b6-8326-46b6-8c25-1f76de99676a",
   "metadata": {},
   "outputs": [],
   "source": [
    "# 13 genes are metabolic\n",
    "isMetabolic = df_eggnog.loc[a_only_genes].COG_category.str.contains('C|E|F|G|H|I|P')\n",
    "a_metabolic = df_eggnog.loc[a_only_genes][isMetabolic]\n",
    "\n",
    "display(a_metabolic)"
   ]
  },
  {
   "cell_type": "code",
   "execution_count": null,
   "id": "45bf67b9-f030-4f60-a8d5-55d8ef6dbf40",
   "metadata": {},
   "outputs": [],
   "source": [
    "# 7 motility genes\n",
    "\n",
    "isMotility1 = df_eggnog.loc[a_only_genes].COG_category.str.contains('N')\n",
    "isMotility2 = df_eggnog.loc[a_only_genes].Description.str.contains('pilus')\n",
    "isMotility3 = df_eggnog.loc[a_only_genes].Description.str.contains('pili')\n",
    "\n",
    "a_motility = df_eggnog.loc[a_only_genes][isMotility1 | isMotility2 | isMotility3]\n",
    "a_motility"
   ]
  },
  {
   "cell_type": "markdown",
   "id": "2750a3df-9523-4264-8622-c3e5b1ae6559",
   "metadata": {},
   "source": [
    "### Roggenkampii Genes"
   ]
  },
  {
   "cell_type": "code",
   "execution_count": null,
   "id": "23f8a7aa-de6b-43c2-8f22-3dd807f2d87b",
   "metadata": {},
   "outputs": [],
   "source": [
    "display(\n",
    "    df_eggnog.loc[r_only_genes].shape,\n",
    "    df_eggnog.loc[r_only_genes].head(),\n",
    "    df_eggnog.loc[r_only_genes].COG_category.apply(lambda x: x[0]).value_counts() # 44 unknown genes\n",
    "    \n",
    ")"
   ]
  },
  {
   "cell_type": "code",
   "execution_count": null,
   "id": "fc612e37-8ef4-4a82-93b1-a605fb2adfb8",
   "metadata": {},
   "outputs": [],
   "source": [
    "# 16 genes are metabolic\n",
    "isMetabolic = df_eggnog.loc[r_only_genes].COG_category.str.contains('C|E|F|G|H|I|P')\n",
    "r_metabolic = df_eggnog.loc[r_only_genes][isMetabolic]\n",
    "\n",
    "display(r_metabolic)"
   ]
  },
  {
   "cell_type": "code",
   "execution_count": null,
   "id": "284c16aa-9753-4d11-882a-5d9e72429676",
   "metadata": {},
   "outputs": [],
   "source": [
    "# 13 motility genes\n",
    "\n",
    "isMotility1 = df_eggnog.loc[r_only_genes].COG_category.str.contains('N')\n",
    "isMotility2 = df_eggnog.loc[r_only_genes].Description.str.contains('pilus')\n",
    "isMotility3 = df_eggnog.loc[r_only_genes].Description.str.contains('pili')\n",
    "\n",
    "r_motility = df_eggnog.loc[r_only_genes][isMotility1 | isMotility2 | isMotility3]\n",
    "r_motility"
   ]
  },
  {
   "cell_type": "code",
   "execution_count": null,
   "id": "8a278d78-91f5-43b0-9e72-b8aa0d0b246f",
   "metadata": {},
   "outputs": [],
   "source": []
  },
  {
   "cell_type": "markdown",
   "id": "9111443a-80df-4ae2-9c66-6b0dea788afd",
   "metadata": {
    "jp-MarkdownHeadingCollapsed": true
   },
   "source": [
    "## Split 4 - Kobei vs Bugandensis"
   ]
  },
  {
   "cell_type": "code",
   "execution_count": null,
   "id": "3f43861b-c768-4b38-88ba-89e0b9fd7244",
   "metadata": {},
   "outputs": [],
   "source": [
    "split4_k = ['kobei',]\n",
    " \n",
    "split4_b = ['bugandensis']"
   ]
  },
  {
   "cell_type": "code",
   "execution_count": null,
   "id": "7aab0339-3d7e-4d63-b0b5-8d2fdcfc5d77",
   "metadata": {},
   "outputs": [],
   "source": [
    "k_only_genes, b_only_genes = find_exclusive_genes(\n",
    "    L_binarized.loc[kb_only_genes],\n",
    "    split4_k,\n",
    "    split4_b\n",
    ")\n",
    "\n",
    "display(\n",
    "    f'k exclusive genes: {len(k_only_genes)}',\n",
    "    f'b exclusive genes: {len(b_only_genes)}',\n",
    ")"
   ]
  },
  {
   "cell_type": "code",
   "execution_count": null,
   "id": "0103b1d6-46d0-4896-970f-f5b8f4b187a1",
   "metadata": {},
   "outputs": [],
   "source": [
    "len(kb_only_genes) - len(k_only_genes) - len(b_only_genes) # 15 genes split/shared across"
   ]
  },
  {
   "cell_type": "markdown",
   "id": "1c6507d5-559e-4b95-b9b1-3ee4a2fb1c1e",
   "metadata": {},
   "source": [
    "### Kobei Genes"
   ]
  },
  {
   "cell_type": "code",
   "execution_count": null,
   "id": "a82d7b7f-f9b2-4c3f-bfac-13576787b536",
   "metadata": {},
   "outputs": [],
   "source": [
    "display(\n",
    "    df_eggnog.loc[k_only_genes].shape,\n",
    "    df_eggnog.loc[k_only_genes].head(),\n",
    "    df_eggnog.loc[k_only_genes].COG_category.apply(lambda x: x[0]).value_counts() # 14 unknown genes\n",
    ")"
   ]
  },
  {
   "cell_type": "code",
   "execution_count": null,
   "id": "f59c867d-194f-49d0-9424-dce96b4924eb",
   "metadata": {},
   "outputs": [],
   "source": [
    "# 1 genes are metabolic\n",
    "isMetabolic = df_eggnog.loc[k_only_genes].COG_category.str.contains('C|E|F|G|H|I|P')\n",
    "k_metabolic = df_eggnog.loc[k_only_genes][isMetabolic]\n",
    "\n",
    "display(k_metabolic)"
   ]
  },
  {
   "cell_type": "code",
   "execution_count": null,
   "id": "14905ea6-3602-4a09-a297-27470c616043",
   "metadata": {},
   "outputs": [],
   "source": [
    "# 0 motility genes\n",
    "\n",
    "isMotility1 = df_eggnog.loc[k_only_genes].COG_category.str.contains('N')\n",
    "isMotility2 = df_eggnog.loc[k_only_genes].Description.str.contains('pilus')\n",
    "isMotility3 = df_eggnog.loc[k_only_genes].Description.str.contains('pili')\n",
    "\n",
    "k_motility = df_eggnog.loc[k_only_genes][isMotility1 | isMotility2 | isMotility3]\n",
    "k_motility"
   ]
  },
  {
   "cell_type": "markdown",
   "id": "6f3ecbb1-c0bf-4d17-9136-a626e1820699",
   "metadata": {},
   "source": [
    "### Bugandensis Genes"
   ]
  },
  {
   "cell_type": "code",
   "execution_count": null,
   "id": "637763f4-a29e-4d9f-9bf3-8c6995c88ac1",
   "metadata": {},
   "outputs": [],
   "source": [
    "display(\n",
    "    df_eggnog.loc[b_only_genes].shape,\n",
    "    df_eggnog.loc[b_only_genes].head(),\n",
    "    df_eggnog.loc[b_only_genes].COG_category.apply(lambda x: x[0]).value_counts() # 21 unknown genes\n",
    "    \n",
    ")"
   ]
  },
  {
   "cell_type": "code",
   "execution_count": null,
   "id": "ca8956b8-1e5b-4fcb-a606-b42194d1c836",
   "metadata": {},
   "outputs": [],
   "source": [
    "# 4 genes are metabolic\n",
    "isMetabolic = df_eggnog.loc[b_only_genes].COG_category.str.contains('C|E|F|G|H|I|P')\n",
    "b_metabolic = df_eggnog.loc[b_only_genes][isMetabolic]\n",
    "\n",
    "display(b_metabolic)"
   ]
  },
  {
   "cell_type": "code",
   "execution_count": null,
   "id": "c1a4a6ce-5865-4a9d-becd-4028e80744f3",
   "metadata": {},
   "outputs": [],
   "source": [
    "# 2 motility genes\n",
    "\n",
    "isMotility1 = df_eggnog.loc[b_only_genes].COG_category.str.contains('N')\n",
    "isMotility2 = df_eggnog.loc[b_only_genes].Description.str.contains('pilus')\n",
    "isMotility3 = df_eggnog.loc[b_only_genes].Description.str.contains('pili')\n",
    "\n",
    "b_motility = df_eggnog.loc[b_only_genes][isMotility1 | isMotility2 | isMotility3]\n",
    "b_motility"
   ]
  },
  {
   "cell_type": "code",
   "execution_count": null,
   "id": "2d4c676f-cc14-4998-8091-b0737b3d2bba",
   "metadata": {},
   "outputs": [],
   "source": []
  },
  {
   "cell_type": "markdown",
   "id": "ca8a0112-2b75-4eb7-9a0c-017f955a7108",
   "metadata": {
    "jp-MarkdownHeadingCollapsed": true
   },
   "source": [
    "## Split 3 - Cancerogenous vs LC Phylon Genes"
   ]
  },
  {
   "cell_type": "code",
   "execution_count": null,
   "id": "bbd6d5f9-c4f3-4144-a562-8f88e0bd54c4",
   "metadata": {},
   "outputs": [],
   "source": [
    "split3_can = ['cancerogenous']\n",
    "\n",
    "split3_lc = ['ludwigii',\n",
    " 'cloacae']\n"
   ]
  },
  {
   "cell_type": "code",
   "execution_count": null,
   "id": "38e74f77-abbf-47c3-9f5a-ead29360e23d",
   "metadata": {},
   "outputs": [],
   "source": [
    "can_only_genes, lc_only_genes = find_exclusive_genes(\n",
    "    L_binarized.loc[clc_only_genes],\n",
    "    split3_can,\n",
    "    split3_lc\n",
    ")\n",
    "\n",
    "display(\n",
    "    f'Can exclusive genes: {len(can_only_genes)}',\n",
    "    f'lmc exclusive genes: {len(lc_only_genes)}',\n",
    ")"
   ]
  },
  {
   "cell_type": "code",
   "execution_count": null,
   "id": "921b6a53-be82-433f-a75c-a463db0db4a4",
   "metadata": {},
   "outputs": [],
   "source": [
    "len(clc_only_genes) - len(can_only_genes) - len(lc_only_genes) # 29 genes split/shared across"
   ]
  },
  {
   "cell_type": "markdown",
   "id": "fc8a6e13-4860-4885-a9cb-753c67f1f6d6",
   "metadata": {},
   "source": [
    "### Cancerogenous Genes"
   ]
  },
  {
   "cell_type": "code",
   "execution_count": null,
   "id": "cba74249-7694-4380-864b-1d3b7556517d",
   "metadata": {},
   "outputs": [],
   "source": [
    "display(\n",
    "    df_eggnog.loc[can_only_genes].shape,\n",
    "    df_eggnog.loc[can_only_genes].head(),\n",
    "    df_eggnog.loc[can_only_genes].COG_category.apply(lambda x: x[0]).value_counts() # 4 unknown genes\n",
    "    \n",
    ")"
   ]
  },
  {
   "cell_type": "code",
   "execution_count": null,
   "id": "385a6d57-2b55-4d38-80a1-ba28641eeb22",
   "metadata": {},
   "outputs": [],
   "source": [
    "# 3 genes are metabolic\n",
    "isMetabolic = df_eggnog.loc[can_only_genes].COG_category.str.contains('C|E|F|G|H|I|P')\n",
    "can_metabolic = df_eggnog.loc[can_only_genes][isMetabolic]\n",
    "\n",
    "display(can_metabolic)"
   ]
  },
  {
   "cell_type": "code",
   "execution_count": null,
   "id": "6cb5ed0b-1e71-4543-a78d-e5ace8110fbb",
   "metadata": {},
   "outputs": [],
   "source": [
    "# 0 motility genes\n",
    "\n",
    "isMotility1 = df_eggnog.loc[can_only_genes].COG_category.str.contains('N')\n",
    "isMotility2 = df_eggnog.loc[can_only_genes].Description.str.contains('pilus')\n",
    "isMotility3 = df_eggnog.loc[can_only_genes].Description.str.contains('pili')\n",
    "\n",
    "can_motility = df_eggnog.loc[can_only_genes][isMotility1 | isMotility2 | isMotility3]\n",
    "can_motility"
   ]
  },
  {
   "cell_type": "markdown",
   "id": "2c3e928c-8b2c-44ef-ae12-b9c5a99bb146",
   "metadata": {},
   "source": [
    "### LMC Genes"
   ]
  },
  {
   "cell_type": "code",
   "execution_count": null,
   "id": "21a2ab2d-cf9c-4596-b752-62b0efa06431",
   "metadata": {},
   "outputs": [],
   "source": [
    "display(\n",
    "    df_eggnog.loc[lc_only_genes].shape,\n",
    "    df_eggnog.loc[lc_only_genes].head(),\n",
    "    df_eggnog.loc[lc_only_genes].COG_category.apply(lambda x: x[0]).value_counts() # 26 unknown genes\n",
    "    \n",
    ")"
   ]
  },
  {
   "cell_type": "code",
   "execution_count": null,
   "id": "b2d01bd8-3a36-4e42-85f8-067fa8d5dca4",
   "metadata": {},
   "outputs": [],
   "source": [
    "# 35 genes are metabolic\n",
    "isMetabolic = df_eggnog.loc[lc_only_genes].COG_category.str.contains('C|E|F|G|H|I|P')\n",
    "lc_metabolic = df_eggnog.loc[lc_only_genes][isMetabolic]\n",
    "\n",
    "display(lc_metabolic)"
   ]
  },
  {
   "cell_type": "code",
   "execution_count": null,
   "id": "37d6cdb6-fd9a-4ba4-8c69-6472dc40d723",
   "metadata": {},
   "outputs": [],
   "source": [
    "# 6 motility genes\n",
    "\n",
    "isMotility1 = df_eggnog.loc[lc_only_genes].COG_category.str.contains('N')\n",
    "isMotility2 = df_eggnog.loc[lc_only_genes].Description.str.contains('pilus')\n",
    "isMotility3 = df_eggnog.loc[lc_only_genes].Description.str.contains('pili')\n",
    "\n",
    "lc_motility = df_eggnog.loc[lc_only_genes][isMotility1 | isMotility2 | isMotility3]\n",
    "lc_motility"
   ]
  },
  {
   "cell_type": "code",
   "execution_count": null,
   "id": "cca932d2-b722-4cee-8f8f-bec428b1e02b",
   "metadata": {},
   "outputs": [],
   "source": []
  },
  {
   "cell_type": "markdown",
   "id": "d5821a04-a782-40f2-b2f7-3853454a0cd7",
   "metadata": {
    "jp-MarkdownHeadingCollapsed": true
   },
   "source": [
    "## Split 4 - Ludwigii vs Cloacae Phylon Genes"
   ]
  },
  {
   "cell_type": "code",
   "execution_count": null,
   "id": "f11404af-3983-42f4-8708-1950a685e68d",
   "metadata": {},
   "outputs": [],
   "source": [
    "split4_l = ['ludwigii']\n",
    "\n",
    "split4_c = ['cloacae']\n"
   ]
  },
  {
   "cell_type": "code",
   "execution_count": null,
   "id": "a9936c3f-c279-437c-83db-3e9ee23e5af6",
   "metadata": {},
   "outputs": [],
   "source": [
    "l_only_genes, c_only_genes = find_exclusive_genes(\n",
    "    L_binarized.loc[lc_only_genes],\n",
    "    split4_l,\n",
    "    split4_c\n",
    ")\n",
    "\n",
    "display(\n",
    "    f'l exclusive genes: {len(l_only_genes)}',\n",
    "    f'c exclusive genes: {len(c_only_genes)}',\n",
    ")"
   ]
  },
  {
   "cell_type": "code",
   "execution_count": null,
   "id": "34e1e810-d0c1-4b68-8c2e-f16307307a89",
   "metadata": {},
   "outputs": [],
   "source": [
    "len(lc_only_genes) - len(l_only_genes) - len(c_only_genes) # 28 genes split/shared across"
   ]
  },
  {
   "cell_type": "markdown",
   "id": "6aaeaeb0-f840-4ba2-9d97-88a1adcea8a6",
   "metadata": {},
   "source": [
    "### Ludwigii Genes"
   ]
  },
  {
   "cell_type": "code",
   "execution_count": null,
   "id": "55058a2c-b5e6-4259-a006-94baa2a596ae",
   "metadata": {},
   "outputs": [],
   "source": [
    "display(\n",
    "    df_eggnog.loc[l_only_genes].shape,\n",
    "    df_eggnog.loc[l_only_genes].head(),\n",
    "    df_eggnog.loc[l_only_genes].COG_category.apply(lambda x: x[0]).value_counts() # 17 unknown genes\n",
    "    \n",
    ")"
   ]
  },
  {
   "cell_type": "code",
   "execution_count": null,
   "id": "ac985a40-ca1f-40dc-93e4-e608c6786a0d",
   "metadata": {},
   "outputs": [],
   "source": [
    "# 7 genes are metabolic\n",
    "isMetabolic = df_eggnog.loc[l_only_genes].COG_category.str.contains('C|E|F|G|H|I|P')\n",
    "l_metabolic = df_eggnog.loc[l_only_genes][isMetabolic]\n",
    "\n",
    "display(l_metabolic)"
   ]
  },
  {
   "cell_type": "code",
   "execution_count": null,
   "id": "d471177e-bedb-49df-ba10-3ef5d15ae1b7",
   "metadata": {},
   "outputs": [],
   "source": [
    "# 4 motility genes\n",
    "\n",
    "isMotility1 = df_eggnog.loc[l_only_genes].COG_category.str.contains('N')\n",
    "isMotility2 = df_eggnog.loc[l_only_genes].Description.str.contains('pilus')\n",
    "isMotility3 = df_eggnog.loc[l_only_genes].Description.str.contains('pili')\n",
    "l_motility = df_eggnog.loc[l_only_genes][isMotility1 | isMotility2 | isMotility3]\n",
    "l_motility"
   ]
  },
  {
   "cell_type": "markdown",
   "id": "44bc3873-ee24-4c2d-b3e7-777a4b92bdfa",
   "metadata": {},
   "source": [
    "### Cloacae Genes"
   ]
  },
  {
   "cell_type": "code",
   "execution_count": null,
   "id": "585afe51-459a-4b9b-b79d-314e2eb751cb",
   "metadata": {},
   "outputs": [],
   "source": [
    "display(\n",
    "    df_eggnog.loc[c_only_genes].shape,\n",
    "    df_eggnog.loc[c_only_genes].head(),\n",
    "    df_eggnog.loc[c_only_genes].COG_category.apply(lambda x: x[0]).value_counts() # 8 unknown genes\n",
    "    \n",
    ")"
   ]
  },
  {
   "cell_type": "code",
   "execution_count": null,
   "id": "3e9c3888-0848-4daa-9087-b21b85bfd6e1",
   "metadata": {},
   "outputs": [],
   "source": [
    "# 14 genes are metabolic\n",
    "isMetabolic = df_eggnog.loc[c_only_genes].COG_category.str.contains('C|E|F|G|H|I|P')\n",
    "c_metabolic = df_eggnog.loc[c_only_genes][isMetabolic]\n",
    "\n",
    "display(c_metabolic)"
   ]
  },
  {
   "cell_type": "code",
   "execution_count": null,
   "id": "5f4d3342-3fb9-4579-9207-aad4acf5ed38",
   "metadata": {},
   "outputs": [],
   "source": [
    "# 1 motility genes\n",
    "\n",
    "isMotility1 = df_eggnog.loc[c_only_genes].COG_category.str.contains('N')\n",
    "isMotility2 = df_eggnog.loc[c_only_genes].Description.str.contains('pilus')\n",
    "isMotility3 = df_eggnog.loc[c_only_genes].Description.str.contains('pili')\n",
    "c_motility = df_eggnog.loc[c_only_genes][isMotility1 | isMotility2 | isMotility3]\n",
    "c_motility"
   ]
  },
  {
   "cell_type": "code",
   "execution_count": null,
   "id": "b08f9ef6-6982-4943-b1c0-4b77846c728a",
   "metadata": {},
   "outputs": [],
   "source": []
  },
  {
   "cell_type": "markdown",
   "id": "c6c92650-e206-40bd-935a-569a0a3c03c8",
   "metadata": {
    "jp-MarkdownHeadingCollapsed": true
   },
   "source": [
    "## Split 2 - hormaechei-hoffmannii-1/2 and horm vs SOX"
   ]
  },
  {
   "cell_type": "code",
   "execution_count": null,
   "id": "625ea923-4ba0-4ebc-b4af-798dba512508",
   "metadata": {},
   "outputs": [],
   "source": [
    "split2_hoff_horm = ['hormaechei-hoffmannii-1',\n",
    " 'hormaechei-hoffmannii-2', 'hormaechei-hormaechei']\n",
    "\n",
    "split2_hormaechei_sox = ['hormaechei-steigerwaltii-3',\n",
    " 'hormaechei-steigerwaltii-1',\n",
    " 'hormaechei-steigerwaltii-2',\n",
    " 'hormaechei-oharae',\n",
    " 'hormaechei-xiangfangensis',]"
   ]
  },
  {
   "cell_type": "code",
   "execution_count": null,
   "id": "ede7e382-9b7d-48ff-895d-093057033d64",
   "metadata": {},
   "outputs": [],
   "source": [
    "hoff_horm_only_genes, hormaechei_sox_only_genes = find_exclusive_genes(\n",
    "    L_binarized.loc[upper_only_genes],\n",
    "    split2_hoff_horm,\n",
    "    split2_hormaechei_sox\n",
    ")\n",
    "\n",
    "display(\n",
    "    f'hoff_horm exclusive genes: {len(hoff_horm_only_genes)}',\n",
    "    f'sox exclusive genes: {len(hormaechei_sox_only_genes)}',\n",
    ")"
   ]
  },
  {
   "cell_type": "code",
   "execution_count": null,
   "id": "8ddebbb7-964c-495d-b5f8-53979005d2db",
   "metadata": {},
   "outputs": [],
   "source": [
    "len(upper_only_genes) - len(hoff_horm_only_genes) - len(hormaechei_sox_only_genes) # 410 genes split/shared across"
   ]
  },
  {
   "cell_type": "markdown",
   "id": "d99743f1-4fbb-4846-9def-23718b51147b",
   "metadata": {},
   "source": [
    "### hoff12 Phylon Genes"
   ]
  },
  {
   "cell_type": "code",
   "execution_count": null,
   "id": "c5cb6f85-2da3-42cb-99e6-5d73025950b9",
   "metadata": {},
   "outputs": [],
   "source": [
    "display(\n",
    "    df_eggnog.loc[hoff_horm_only_genes].shape,\n",
    "    df_eggnog.loc[hoff_horm_only_genes].head(),\n",
    "    df_eggnog.loc[hoff_horm_only_genes].COG_category.apply(lambda x: x[0]).value_counts() # 201 unknown genes\n",
    "    \n",
    ")"
   ]
  },
  {
   "cell_type": "code",
   "execution_count": null,
   "id": "6a24a18e-82cb-4ce5-96aa-2dbad512f4f5",
   "metadata": {},
   "outputs": [],
   "source": [
    "# 38 genes are metabolic\n",
    "isMetabolic = df_eggnog.loc[hoff_horm_only_genes].COG_category.str.contains('C|E|F|G|H|I|P')\n",
    "hoff_horm_metabolic = df_eggnog.loc[hoff_horm_only_genes][isMetabolic]\n",
    "\n",
    "display(hoff_horm_metabolic)"
   ]
  },
  {
   "cell_type": "code",
   "execution_count": null,
   "id": "0826c40a-c91f-4ddb-a49a-4a70e84325f6",
   "metadata": {},
   "outputs": [],
   "source": [
    "# 26 motility genes\n",
    "\n",
    "isMotility1 = df_eggnog.loc[hoff_horm_only_genes].COG_category.str.contains('N')\n",
    "isMotility2 = df_eggnog.loc[hoff_horm_only_genes].Description.str.contains('pilus')\n",
    "isMotility3 = df_eggnog.loc[hoff_horm_only_genes].Description.str.contains('pili')\n",
    "\n",
    "hoff_horm_motility = df_eggnog.loc[hoff_horm_only_genes][isMotility1 | isMotility2 | isMotility3]\n",
    "hoff_horm_motility"
   ]
  },
  {
   "cell_type": "markdown",
   "id": "322afd20-8ca4-4b76-84cf-a3f3c4b5ae39",
   "metadata": {},
   "source": [
    "### SOX Phylon Genes"
   ]
  },
  {
   "cell_type": "code",
   "execution_count": null,
   "id": "69834585-2149-4a75-807c-025e58092b9b",
   "metadata": {},
   "outputs": [],
   "source": [
    "display(\n",
    "    df_eggnog.loc[hormaechei_sox_only_genes].shape,\n",
    "    df_eggnog.loc[hormaechei_sox_only_genes].head(),\n",
    "    df_eggnog.loc[hormaechei_sox_only_genes].COG_category.apply(lambda x: x[0]).value_counts() # 265 unknown genes\n",
    "    \n",
    ")"
   ]
  },
  {
   "cell_type": "code",
   "execution_count": null,
   "id": "d5705a28-c309-4c0e-9b6b-94405baf94c4",
   "metadata": {},
   "outputs": [],
   "source": [
    "# 63 genes are metabolic\n",
    "isMetabolic = df_eggnog.loc[hormaechei_sox_only_genes].COG_category.str.contains('C|E|F|G|H|I|P')\n",
    "hormaechei_sox_metabolic = df_eggnog.loc[hormaechei_sox_only_genes][isMetabolic]\n",
    "\n",
    "display(hormaechei_sox_metabolic)"
   ]
  },
  {
   "cell_type": "code",
   "execution_count": null,
   "id": "57e7df2b-198b-4efb-8ec2-f70234ae0fa8",
   "metadata": {},
   "outputs": [],
   "source": [
    "# 73 motility genes\n",
    "\n",
    "isMotility1 = df_eggnog.loc[hormaechei_sox_only_genes].COG_category.str.contains('N')\n",
    "isMotility2 = df_eggnog.loc[hormaechei_sox_only_genes].Description.str.contains('pilus')\n",
    "isMotility3 = df_eggnog.loc[hormaechei_sox_only_genes].Description.str.contains('pili')\n",
    "\n",
    "hormaechei_sox_motility = df_eggnog.loc[hormaechei_sox_only_genes][isMotility1 | isMotility2 | isMotility3]\n",
    "hormaechei_sox_motility"
   ]
  },
  {
   "cell_type": "code",
   "execution_count": null,
   "id": "6a630b6c-0278-4b75-bcb4-a43b2a5e18c0",
   "metadata": {},
   "outputs": [],
   "source": []
  },
  {
   "cell_type": "markdown",
   "id": "ac5aa6af-b825-4302-a90f-47acacc49fcc",
   "metadata": {
    "jp-MarkdownHeadingCollapsed": true
   },
   "source": [
    "## Split 3 - hormaechei-hoffmannii-1/2 vs horm"
   ]
  },
  {
   "cell_type": "code",
   "execution_count": null,
   "id": "777d3afc-7c96-464e-b3a8-b7dd1ccea441",
   "metadata": {},
   "outputs": [],
   "source": [
    "split3_hoff12 = ['hormaechei-hoffmannii-1',\n",
    " 'hormaechei-hoffmannii-2']\n",
    "\n",
    "split3_horm = ['hormaechei-hormaechei']"
   ]
  },
  {
   "cell_type": "code",
   "execution_count": null,
   "id": "b7de79e4-0e72-4836-a607-e81e27e1024e",
   "metadata": {},
   "outputs": [],
   "source": [
    "hoff12_only_genes, horm_only_genes = find_exclusive_genes(\n",
    "    L_binarized.loc[hoff_horm_only_genes],\n",
    "    split3_hoff12,\n",
    "    split3_horm\n",
    ")\n",
    "\n",
    "display(\n",
    "    f'hormaechei-hoffmannii-1/2 exclusive genes: {len(hoff12_only_genes)}',\n",
    "    f'hormaechei-hormaechei exclusive genes: {len(horm_only_genes)}',\n",
    ")"
   ]
  },
  {
   "cell_type": "code",
   "execution_count": null,
   "id": "b980b811-4b33-40d5-9523-e8814896b2bf",
   "metadata": {},
   "outputs": [],
   "source": [
    "len(hoff_horm_only_genes) - len(hoff12_only_genes) - len(horm_only_genes) # 26 genes split/shared across"
   ]
  },
  {
   "cell_type": "markdown",
   "id": "8ba8d307-d544-481e-b72f-b69bbbbb5423",
   "metadata": {},
   "source": [
    "### hormaechei-hoffmannii-1/2 Phylon Genes"
   ]
  },
  {
   "cell_type": "code",
   "execution_count": null,
   "id": "6a80e159-e74b-4229-be7a-ade1a078e6f8",
   "metadata": {},
   "outputs": [],
   "source": [
    "display(\n",
    "    df_eggnog.loc[hoff12_only_genes].shape,\n",
    "    df_eggnog.loc[hoff12_only_genes].head(),\n",
    "    df_eggnog.loc[hoff12_only_genes].COG_category.apply(lambda x: x[0]).value_counts() # 103 unknown genes\n",
    "    \n",
    ")"
   ]
  },
  {
   "cell_type": "code",
   "execution_count": null,
   "id": "a54431d4-9319-4727-8aab-3f9d5a309ffc",
   "metadata": {},
   "outputs": [],
   "source": [
    "# 21 genes are metabolic\n",
    "isMetabolic = df_eggnog.loc[hoff12_only_genes].COG_category.str.contains('C|E|F|G|H|I|P')\n",
    "hoff12_metabolic = df_eggnog.loc[hoff12_only_genes][isMetabolic]\n",
    "\n",
    "display(hoff12_metabolic)"
   ]
  },
  {
   "cell_type": "code",
   "execution_count": null,
   "id": "52f8674b-7317-4572-9ca6-7d211fb777e5",
   "metadata": {},
   "outputs": [],
   "source": [
    "# 25 motility genes\n",
    "\n",
    "isMotility1 = df_eggnog.loc[hoff12_only_genes].COG_category.str.contains('N')\n",
    "isMotility2 = df_eggnog.loc[hoff12_only_genes].Description.str.contains('pilus')\n",
    "isMotility3 = df_eggnog.loc[hoff12_only_genes].Description.str.contains('pili')\n",
    "\n",
    "hoff12_motility = df_eggnog.loc[hoff12_only_genes][isMotility1 | isMotility2 | isMotility3]\n",
    "hoff12_motility"
   ]
  },
  {
   "cell_type": "markdown",
   "id": "00333390-27fd-4dce-ba6c-3bd5aeef6072",
   "metadata": {},
   "source": [
    "### hormaechei-hormaechei Phylon Genes"
   ]
  },
  {
   "cell_type": "code",
   "execution_count": null,
   "id": "74eb79b2-7759-43b1-b7d6-52fb4d7638c5",
   "metadata": {},
   "outputs": [],
   "source": [
    "display(\n",
    "    df_eggnog.loc[horm_only_genes].shape,\n",
    "    df_eggnog.loc[horm_only_genes].head(),\n",
    "    df_eggnog.loc[horm_only_genes].COG_category.apply(lambda x: x[0]).value_counts() # 86 unknown genes\n",
    "    \n",
    ")"
   ]
  },
  {
   "cell_type": "code",
   "execution_count": null,
   "id": "0f504ab1-c30c-48e8-808f-a5c15a414b56",
   "metadata": {},
   "outputs": [],
   "source": [
    "# 11 genes are metabolic\n",
    "isMetabolic = df_eggnog.loc[horm_only_genes].COG_category.str.contains('C|E|F|G|H|I|P')\n",
    "horm_metabolic = df_eggnog.loc[horm_only_genes][isMetabolic]\n",
    "\n",
    "display(horm_metabolic)"
   ]
  },
  {
   "cell_type": "code",
   "execution_count": null,
   "id": "73f094fe-1a30-4672-be23-e19717877d6a",
   "metadata": {},
   "outputs": [],
   "source": [
    "# 0 motility genes\n",
    "\n",
    "isMotility1 = df_eggnog.loc[horm_only_genes].COG_category.str.contains('N')\n",
    "isMotility2 = df_eggnog.loc[horm_only_genes].Description.str.contains('pilus')\n",
    "isMotility3 = df_eggnog.loc[horm_only_genes].Description.str.contains('pili')\n",
    "\n",
    "horm_motility = df_eggnog.loc[horm_only_genes][isMotility1 | isMotility2 | isMotility3]\n",
    "horm_motility"
   ]
  },
  {
   "cell_type": "markdown",
   "id": "af801848-5f98-4da6-8c89-2ee8879e0c6b",
   "metadata": {
    "jp-MarkdownHeadingCollapsed": true
   },
   "source": [
    "## Split 4 - Hoff1 vs Hoff2 Phylon Genes"
   ]
  },
  {
   "cell_type": "code",
   "execution_count": null,
   "id": "6990ceea-b736-4cb5-86db-8bf21b64ba8a",
   "metadata": {},
   "outputs": [],
   "source": [
    "split4_hoff1 = ['hormaechei-hoffmannii-1',]\n",
    "\n",
    "split4_hoff2 = [ 'hormaechei-hoffmannii-2',]"
   ]
  },
  {
   "cell_type": "code",
   "execution_count": null,
   "id": "0cc5ce31-6384-4a23-aba4-216c0036ee83",
   "metadata": {},
   "outputs": [],
   "source": [
    "hoff1_only_genes, hoff2_only_genes = find_exclusive_genes(\n",
    "    L_binarized.loc[hoff12_only_genes],\n",
    "    split4_hoff1,\n",
    "    split4_hoff2\n",
    ")\n",
    "\n",
    "display(\n",
    "    f'hormaechei-hoffmannii-1 exclusive genes: {len(hoff1_only_genes)}',\n",
    "    f'hormaechei-hoffmannii-2 exclusive genes: {len(hoff2_only_genes)}',\n",
    ")"
   ]
  },
  {
   "cell_type": "code",
   "execution_count": null,
   "id": "8236be76-ea52-438b-89dc-4f59b8c74336",
   "metadata": {},
   "outputs": [],
   "source": [
    "len(hoff12_only_genes) - len(hoff1_only_genes) - len(hoff2_only_genes) # 74 genes split/shared across"
   ]
  },
  {
   "cell_type": "markdown",
   "id": "83ce4251-de50-433b-b968-27a281a177d5",
   "metadata": {},
   "source": [
    "### hormaechei-hoffmannii-1 Phylon Genes"
   ]
  },
  {
   "cell_type": "code",
   "execution_count": null,
   "id": "5759a70b-95eb-4265-a680-2428402b0cf4",
   "metadata": {},
   "outputs": [],
   "source": [
    "display(\n",
    "    df_eggnog.loc[hoff1_only_genes].shape,\n",
    "    df_eggnog.loc[hoff1_only_genes].head(),\n",
    "    df_eggnog.loc[hoff1_only_genes].COG_category.apply(lambda x: x[0]).value_counts() # 59 unknown genes\n",
    "    \n",
    ")"
   ]
  },
  {
   "cell_type": "code",
   "execution_count": null,
   "id": "1a853a62-4352-4baa-82b6-579b2fca9ee9",
   "metadata": {},
   "outputs": [],
   "source": [
    "# 16 genes are metabolic\n",
    "isMetabolic = df_eggnog.loc[hoff1_only_genes].COG_category.str.contains('C|E|F|G|H|I|P')\n",
    "hoff1_metabolic = df_eggnog.loc[hoff1_only_genes][isMetabolic]\n",
    "\n",
    "display(hoff1_metabolic)"
   ]
  },
  {
   "cell_type": "code",
   "execution_count": null,
   "id": "b5b9e39e-8bd6-44ca-8ab3-294297432e55",
   "metadata": {},
   "outputs": [],
   "source": [
    "# 5 motility genes\n",
    "\n",
    "isMotility1 = df_eggnog.loc[hoff1_only_genes].COG_category.str.contains('N')\n",
    "isMotility2 = df_eggnog.loc[hoff1_only_genes].Description.str.contains('pilus')\n",
    "isMotility3 = df_eggnog.loc[hoff1_only_genes].Description.str.contains('pili')\n",
    "\n",
    "hoff1_motility = df_eggnog.loc[hoff1_only_genes][isMotility1 | isMotility2 | isMotility3]\n",
    "hoff1_motility"
   ]
  },
  {
   "cell_type": "markdown",
   "id": "7dde24d5-6113-4275-8c2d-da2260a0fa7d",
   "metadata": {},
   "source": [
    "### hormaechei-hoffmannii-2 Phylon Genes"
   ]
  },
  {
   "cell_type": "code",
   "execution_count": null,
   "id": "2580b53c-7072-49c8-a147-5c8ce8e4fbe0",
   "metadata": {},
   "outputs": [],
   "source": [
    "display(\n",
    "    df_eggnog.loc[hoff2_only_genes].shape,\n",
    "    df_eggnog.loc[hoff2_only_genes].head(),\n",
    "    df_eggnog.loc[hoff2_only_genes].COG_category.apply(lambda x: x[0]).value_counts() # 5 unknown genes\n",
    "    \n",
    ")"
   ]
  },
  {
   "cell_type": "code",
   "execution_count": null,
   "id": "61299f0d-91e3-4b54-a1de-8c067e0c9bb2",
   "metadata": {},
   "outputs": [],
   "source": [
    "# 2 genes are metabolic\n",
    "isMetabolic = df_eggnog.loc[hoff2_only_genes].COG_category.str.contains('C|E|F|G|H|I|P')\n",
    "hoff2_metabolic = df_eggnog.loc[hoff2_only_genes][isMetabolic]\n",
    "\n",
    "display(hoff2_metabolic)"
   ]
  },
  {
   "cell_type": "code",
   "execution_count": null,
   "id": "4a9058f8-7dd3-4a18-b503-427d877d7bec",
   "metadata": {},
   "outputs": [],
   "source": [
    "# 0 motility genes\n",
    "\n",
    "isMotility1 = df_eggnog.loc[hoff2_only_genes].COG_category.str.contains('N')\n",
    "isMotility2 = df_eggnog.loc[hoff2_only_genes].Description.str.contains('pilus')\n",
    "isMotility3 = df_eggnog.loc[hoff2_only_genes].Description.str.contains('pili')\n",
    "\n",
    "hoff2_motility = df_eggnog.loc[hoff2_only_genes][isMotility1 | isMotility2 | isMotility3]\n",
    "hoff2_motility"
   ]
  },
  {
   "cell_type": "code",
   "execution_count": null,
   "id": "b05b1729-76ed-4b71-8518-1a49597d59d4",
   "metadata": {},
   "outputs": [],
   "source": []
  },
  {
   "cell_type": "markdown",
   "id": "afb1ce99-0a3a-4130-b806-fccabe9058a9",
   "metadata": {
    "jp-MarkdownHeadingCollapsed": true
   },
   "source": [
    "## Split 3 - XO vs S"
   ]
  },
  {
   "cell_type": "code",
   "execution_count": null,
   "id": "c56e6594-aa07-4e86-ac6c-3ae871d50e51",
   "metadata": {},
   "outputs": [],
   "source": [
    "split3_steigerwaltii = ['hormaechei-steigerwaltii-2','hormaechei-steigerwaltii-1','hormaechei-steigerwaltii-3']\n",
    "\n",
    "split3_hormaechei_ox = ['hormaechei-oharae','hormaechei-xiangfangensis']"
   ]
  },
  {
   "cell_type": "code",
   "execution_count": null,
   "id": "c606a053-4da2-49de-9e92-2da5da353c93",
   "metadata": {},
   "outputs": [],
   "source": [
    "steigerwaltii_only_genes, hormaechei_ox_only_genes = find_exclusive_genes(\n",
    "    L_binarized.loc[hormaechei_sox_only_genes],\n",
    "    split3_steigerwaltii,\n",
    "    split3_hormaechei_ox\n",
    ")\n",
    "\n",
    "display(\n",
    "    f'hormaechei-steigerwaltii exclusive genes: {len(steigerwaltii_only_genes)}',\n",
    "    f'hormaechei-OX exclusive genes: {len(hormaechei_ox_only_genes)}',\n",
    ")"
   ]
  },
  {
   "cell_type": "code",
   "execution_count": null,
   "id": "96d9d6b0-154f-44d1-b175-750fc0be26dd",
   "metadata": {},
   "outputs": [],
   "source": [
    "len(hormaechei_sox_only_genes) - len(steigerwaltii_only_genes) - len(hormaechei_ox_only_genes) # 89 genes split/shared across"
   ]
  },
  {
   "cell_type": "markdown",
   "id": "985817a7-c1dc-4b32-9354-6992fddd6b8e",
   "metadata": {},
   "source": [
    "### hormaechei-steigerwaltii Phylon Genes"
   ]
  },
  {
   "cell_type": "code",
   "execution_count": null,
   "id": "a1268d75-4a4d-4bd2-bc28-099d125356a9",
   "metadata": {},
   "outputs": [],
   "source": [
    "display(\n",
    "    df_eggnog.loc[steigerwaltii_only_genes].shape,\n",
    "    df_eggnog.loc[steigerwaltii_only_genes].head(),\n",
    "    df_eggnog.loc[steigerwaltii_only_genes].COG_category.apply(lambda x: x[0]).value_counts() # 178 unknown genes\n",
    "    \n",
    ")"
   ]
  },
  {
   "cell_type": "code",
   "execution_count": null,
   "id": "7d93c2b0-d8bd-4cca-bb4a-927acebf9c36",
   "metadata": {
    "scrolled": true
   },
   "outputs": [],
   "source": [
    "# 45 genes are metabolic\n",
    "isMetabolic = df_eggnog.loc[steigerwaltii_only_genes].COG_category.str.contains('C|E|F|G|H|I|P')\n",
    "steigerwaltii_metabolic = df_eggnog.loc[steigerwaltii_only_genes][isMetabolic]\n",
    "\n",
    "display(steigerwaltii_metabolic)"
   ]
  },
  {
   "cell_type": "code",
   "execution_count": null,
   "id": "dfe06118-81ce-400a-906c-83079760beab",
   "metadata": {
    "scrolled": true
   },
   "outputs": [],
   "source": [
    "# 53 motility genes\n",
    "\n",
    "isMotility1 = df_eggnog.loc[steigerwaltii_only_genes].COG_category.str.contains('N')\n",
    "isMotility2 = df_eggnog.loc[steigerwaltii_only_genes].Description.str.contains('pilus')\n",
    "isMotility3 = df_eggnog.loc[steigerwaltii_only_genes].Description.str.contains('pili')\n",
    "\n",
    "steigerwaltii_motility = df_eggnog.loc[steigerwaltii_only_genes][isMotility1 | isMotility2 | isMotility3]\n",
    "steigerwaltii_motility"
   ]
  },
  {
   "cell_type": "markdown",
   "id": "338c1a5f-ad1f-4c24-b097-d54f99f1b646",
   "metadata": {},
   "source": [
    "### hormaechei-OX Phylon Genes"
   ]
  },
  {
   "cell_type": "code",
   "execution_count": null,
   "id": "8c7037c0-a57c-41e1-b925-0637f9401153",
   "metadata": {},
   "outputs": [],
   "source": [
    "display(\n",
    "    df_eggnog.loc[hormaechei_ox_only_genes].shape,\n",
    "    df_eggnog.loc[hormaechei_ox_only_genes].head(),\n",
    "    df_eggnog.loc[hormaechei_ox_only_genes].COG_category.apply(lambda x: x[0]).value_counts() # 36 unknown genes\n",
    "    \n",
    ")"
   ]
  },
  {
   "cell_type": "code",
   "execution_count": null,
   "id": "1846cca1-627b-4afd-a58e-8818bdede7a0",
   "metadata": {},
   "outputs": [],
   "source": [
    "# 11 genes are metabolic\n",
    "isMetabolic = df_eggnog.loc[hormaechei_ox_only_genes].COG_category.str.contains('C|E|F|G|H|I|P')\n",
    "hormaechei_ox_metabolic = df_eggnog.loc[hormaechei_ox_only_genes][isMetabolic]\n",
    "\n",
    "display(hormaechei_ox_metabolic)"
   ]
  },
  {
   "cell_type": "code",
   "execution_count": null,
   "id": "9d35be43-3732-468c-9e1b-3ebe1c2b5037",
   "metadata": {},
   "outputs": [],
   "source": [
    "# 11 motility genes\n",
    "\n",
    "isMotility1 = df_eggnog.loc[hormaechei_ox_only_genes].COG_category.str.contains('N')\n",
    "isMotility2 = df_eggnog.loc[hormaechei_ox_only_genes].Description.str.contains('pilus')\n",
    "isMotility3 = df_eggnog.loc[hormaechei_ox_only_genes].Description.str.contains('pili')\n",
    "\n",
    "hormaechei_ox_motility = df_eggnog.loc[hormaechei_ox_only_genes][isMotility1 | isMotility2 | isMotility3]\n",
    "hormaechei_ox_motility"
   ]
  },
  {
   "cell_type": "code",
   "execution_count": null,
   "id": "a424efcf-098f-425e-9a6b-6a775622d3ec",
   "metadata": {},
   "outputs": [],
   "source": []
  },
  {
   "cell_type": "markdown",
   "id": "59bbf131-0b63-48c1-91ba-3ad01d1bb4cc",
   "metadata": {
    "jp-MarkdownHeadingCollapsed": true
   },
   "source": [
    "## Split 4 - oharae vs xiangfangensis"
   ]
  },
  {
   "cell_type": "code",
   "execution_count": null,
   "id": "b0b33b23-1d73-48b3-b7e7-b0a4028dd478",
   "metadata": {},
   "outputs": [],
   "source": [
    "split4_oharae = ['hormaechei-oharae']\n",
    "\n",
    "split4_xiangfangensis = ['hormaechei-xiangfangensis']"
   ]
  },
  {
   "cell_type": "code",
   "execution_count": null,
   "id": "c44602db-e9d6-4c0b-9035-6afac33384e9",
   "metadata": {},
   "outputs": [],
   "source": [
    "oharae_only_genes, xiangfangensis_only_genes = find_exclusive_genes(\n",
    "    L_binarized.loc[hormaechei_ox_only_genes],\n",
    "    split4_oharae,\n",
    "    split4_xiangfangensis\n",
    ")\n",
    "\n",
    "display(\n",
    "    f'hormaechei-oharae exclusive genes: {len(oharae_only_genes)}',\n",
    "    f'hormaechei-xiangfangensis exclusive genes: {len(xiangfangensis_only_genes)}',\n",
    ")"
   ]
  },
  {
   "cell_type": "code",
   "execution_count": null,
   "id": "19262969-4252-4e0a-9948-bd3e0860700c",
   "metadata": {},
   "outputs": [],
   "source": [
    "len(hormaechei_ox_only_genes) - len(oharae_only_genes) - len(xiangfangensis_only_genes) # 14 genes split/shared across"
   ]
  },
  {
   "cell_type": "markdown",
   "id": "9b0e0f8c-ea24-4bb8-b23b-bc95897cf765",
   "metadata": {},
   "source": [
    "### hormaechei-oharae Phylon Genes"
   ]
  },
  {
   "cell_type": "code",
   "execution_count": null,
   "id": "b3ae3e93-43d6-4707-9d0e-5f15ad85ae2e",
   "metadata": {},
   "outputs": [],
   "source": [
    "display(\n",
    "    df_eggnog.loc[oharae_only_genes].shape,\n",
    "    df_eggnog.loc[oharae_only_genes].head(),\n",
    "    df_eggnog.loc[oharae_only_genes].COG_category.apply(lambda x: x[0]).value_counts() # 16 unknown genes\n",
    "    \n",
    ")"
   ]
  },
  {
   "cell_type": "code",
   "execution_count": null,
   "id": "d6e62c04-d290-48e0-85aa-1af32e631af5",
   "metadata": {},
   "outputs": [],
   "source": [
    "# 6 genes are metabolic\n",
    "isMetabolic = df_eggnog.loc[oharae_only_genes].COG_category.str.contains('C|E|F|G|H|I|P')\n",
    "oharae_metabolic = df_eggnog.loc[oharae_only_genes][isMetabolic]\n",
    "\n",
    "display(oharae_metabolic)"
   ]
  },
  {
   "cell_type": "code",
   "execution_count": null,
   "id": "4f009d59-8f97-478b-ad96-c421ef8f273e",
   "metadata": {},
   "outputs": [],
   "source": [
    "# 5 motility genes\n",
    "\n",
    "isMotility1 = df_eggnog.loc[oharae_only_genes].COG_category.str.contains('N')\n",
    "isMotility2 = df_eggnog.loc[oharae_only_genes].Description.str.contains('pilus')\n",
    "isMotility3 = df_eggnog.loc[oharae_only_genes].Description.str.contains('pili')\n",
    "\n",
    "oharae_motility = df_eggnog.loc[oharae_only_genes][isMotility1 | isMotility2 | isMotility3]\n",
    "oharae_motility"
   ]
  },
  {
   "cell_type": "markdown",
   "id": "d327ad6c-7ea5-4914-ac6f-66bce3485197",
   "metadata": {},
   "source": [
    "### hormaechei-xiangfangensis-17 Phylon Genes"
   ]
  },
  {
   "cell_type": "code",
   "execution_count": null,
   "id": "acd53e42-7d34-43ad-92ea-0828e80083f0",
   "metadata": {},
   "outputs": [],
   "source": [
    "display(\n",
    "    df_eggnog.loc[xiangfangensis_only_genes].shape,\n",
    "    df_eggnog.loc[xiangfangensis_only_genes].head(),\n",
    "    df_eggnog.loc[xiangfangensis_only_genes].COG_category.apply(lambda x: x[0]).value_counts() # 16 unknown genes\n",
    "    \n",
    ")"
   ]
  },
  {
   "cell_type": "code",
   "execution_count": null,
   "id": "bc398360-4d88-4136-aa3d-39fd76c2a6f2",
   "metadata": {},
   "outputs": [],
   "source": [
    "# 2 genes are metabolic\n",
    "isMetabolic = df_eggnog.loc[xiangfangensis_only_genes].COG_category.str.contains('C|E|F|G|H|I|P')\n",
    "xiangfangensis_metabolic = df_eggnog.loc[xiangfangensis_only_genes][isMetabolic]\n",
    "\n",
    "display(xiangfangensis_metabolic)"
   ]
  },
  {
   "cell_type": "code",
   "execution_count": null,
   "id": "950e3b35-ce43-44b1-be09-aa4564d83811",
   "metadata": {},
   "outputs": [],
   "source": [
    "# 6 motility genes\n",
    "\n",
    "isMotility1 = df_eggnog.loc[xiangfangensis_only_genes].COG_category.str.contains('N')\n",
    "isMotility2 = df_eggnog.loc[xiangfangensis_only_genes].Description.str.contains('pilus')\n",
    "isMotility3 = df_eggnog.loc[xiangfangensis_only_genes].Description.str.contains('pili')\n",
    "\n",
    "xiangfangensis_motility = df_eggnog.loc[xiangfangensis_only_genes][isMotility1 | isMotility2 | isMotility3]\n",
    "xiangfangensis_motility"
   ]
  },
  {
   "cell_type": "code",
   "execution_count": null,
   "id": "96878517-38f1-428c-bb6a-7145c7b46592",
   "metadata": {},
   "outputs": [],
   "source": []
  },
  {
   "cell_type": "markdown",
   "id": "245aeee9-6e32-4b7d-a0f9-f1a078eb1542",
   "metadata": {
    "jp-MarkdownHeadingCollapsed": true
   },
   "source": [
    "## Split 4 - hormaechei-steigerwaltii-2 vs hormaechei-steigerwaltii-13"
   ]
  },
  {
   "cell_type": "code",
   "execution_count": null,
   "id": "3b2e85a3-5649-4190-ba1d-cca93ccb1669",
   "metadata": {},
   "outputs": [],
   "source": [
    "split4_steigerwaltii2 = ['hormaechei-steigerwaltii-2']\n",
    "\n",
    "split4_steigerwaltii13 = ['hormaechei-steigerwaltii-1','hormaechei-steigerwaltii-3']"
   ]
  },
  {
   "cell_type": "code",
   "execution_count": null,
   "id": "39e0b998-efb4-45c8-a291-91ff9c50fec0",
   "metadata": {},
   "outputs": [],
   "source": [
    "steigerwaltii2_only_genes, steigerwaltii13_only_genes = find_exclusive_genes(\n",
    "    L_binarized.loc[steigerwaltii_only_genes],\n",
    "    split4_steigerwaltii2,\n",
    "    split4_steigerwaltii13\n",
    ")\n",
    "\n",
    "display(\n",
    "    f'hormaechei-steigerwaltii-2 exclusive genes: {len(steigerwaltii2_only_genes)}',\n",
    "    f'hormaechei-steigerwaltii-18 exclusive genes: {len(steigerwaltii13_only_genes)}',\n",
    ")"
   ]
  },
  {
   "cell_type": "code",
   "execution_count": null,
   "id": "2f995d63-036e-4fa1-bc54-a7b6af5733ae",
   "metadata": {},
   "outputs": [],
   "source": [
    "len(steigerwaltii_only_genes) - len(steigerwaltii2_only_genes) - len(steigerwaltii13_only_genes) # 76 genes split/shared across"
   ]
  },
  {
   "cell_type": "markdown",
   "id": "4a3301c3-36ff-4622-a168-9bd0ff91dbb8",
   "metadata": {},
   "source": [
    "### hormaechei-steigerwaltii-2 Phylon Genes"
   ]
  },
  {
   "cell_type": "code",
   "execution_count": null,
   "id": "58628cf9-92dc-4a3f-950b-18723429056e",
   "metadata": {},
   "outputs": [],
   "source": [
    "display(\n",
    "    df_eggnog.loc[steigerwaltii2_only_genes].shape,\n",
    "    df_eggnog.loc[steigerwaltii2_only_genes].head(),\n",
    "    df_eggnog.loc[steigerwaltii2_only_genes].COG_category.apply(lambda x: x[0]).value_counts() # 78 unknown genes\n",
    "    \n",
    ")"
   ]
  },
  {
   "cell_type": "code",
   "execution_count": null,
   "id": "e2b7375d-b5b2-499c-8dd0-ffe902ebb304",
   "metadata": {},
   "outputs": [],
   "source": [
    "# 2 genes are metabolic\n",
    "isMetabolic = df_eggnog.loc[steigerwaltii2_only_genes].COG_category.str.contains('C|E|F|G|H|I|P')\n",
    "steigerwaltii2_metabolic = df_eggnog.loc[steigerwaltii2_only_genes][isMetabolic]\n",
    "\n",
    "display(steigerwaltii2_metabolic)"
   ]
  },
  {
   "cell_type": "code",
   "execution_count": null,
   "id": "10b7a938-e4ae-48b5-bcf6-35e5567d206d",
   "metadata": {},
   "outputs": [],
   "source": [
    "# 0 motility genes\n",
    "\n",
    "isMotility1 = df_eggnog.loc[steigerwaltii2_only_genes].COG_category.str.contains('N')\n",
    "isMotility2 = df_eggnog.loc[steigerwaltii2_only_genes].Description.str.contains('pilus')\n",
    "isMotility3 = df_eggnog.loc[steigerwaltii2_only_genes].Description.str.contains('pili')\n",
    "\n",
    "steigerwaltii2_motility = df_eggnog.loc[steigerwaltii2_only_genes][isMotility1 | isMotility2 | isMotility3]\n",
    "steigerwaltii2_motility"
   ]
  },
  {
   "cell_type": "code",
   "execution_count": null,
   "id": "77fb3fe0-8914-4479-8a27-50e49878c107",
   "metadata": {},
   "outputs": [],
   "source": [
    "# Use this check to better name HC phylons based on strain\n",
    "phylon = 'hormaechei-steigerwaltii-2'\n",
    "strains = list(A_binarized.loc[:,A_binarized.loc[phylon] > 0].columns)\n",
    "df_acc.loc[steigerwaltii2_only_genes, strains].sum(axis=1).hist()"
   ]
  },
  {
   "cell_type": "markdown",
   "id": "502f2c79-454f-4631-952b-2c25e0794c18",
   "metadata": {},
   "source": [
    "### hormaechei-steigerwaltii-13 Phylon Genes"
   ]
  },
  {
   "cell_type": "code",
   "execution_count": null,
   "id": "2aeea710-7cfa-454a-933f-68076299f78b",
   "metadata": {},
   "outputs": [],
   "source": [
    "display(\n",
    "    df_eggnog.loc[steigerwaltii13_only_genes].shape,\n",
    "    df_eggnog.loc[steigerwaltii13_only_genes].head(),\n",
    "    df_eggnog.loc[steigerwaltii13_only_genes].COG_category.apply(lambda x: x[0]).value_counts() # 77 unknown genes    \n",
    ")"
   ]
  },
  {
   "cell_type": "code",
   "execution_count": null,
   "id": "3a06ab0d-1093-492c-a46b-e23ae9167b00",
   "metadata": {},
   "outputs": [],
   "source": [
    "# 11 genes are metabolic\n",
    "isMetabolic = df_eggnog.loc[steigerwaltii13_only_genes].COG_category.str.contains('C|E|F|G|H|I|P')\n",
    "steigerwaltii13_metabolic = df_eggnog.loc[steigerwaltii13_only_genes][isMetabolic]\n",
    "\n",
    "display(steigerwaltii13_metabolic)"
   ]
  },
  {
   "cell_type": "code",
   "execution_count": null,
   "id": "467f61e7-163e-403e-beda-6cdec5126997",
   "metadata": {
    "scrolled": true
   },
   "outputs": [],
   "source": [
    "# 45 motility genes\n",
    "\n",
    "isMotility1 = df_eggnog.loc[steigerwaltii13_only_genes].COG_category.str.contains('N')\n",
    "isMotility2 = df_eggnog.loc[steigerwaltii13_only_genes].Description.str.contains('pilus')\n",
    "isMotility3 = df_eggnog.loc[steigerwaltii13_only_genes].Description.str.contains('pili')\n",
    "\n",
    "steigerwaltii13_motility = df_eggnog.loc[steigerwaltii13_only_genes][isMotility1 | isMotility2 | isMotility3]\n",
    "steigerwaltii13_motility"
   ]
  },
  {
   "cell_type": "code",
   "execution_count": null,
   "id": "0526865b-24e9-42a0-a989-9d4c3edf26b9",
   "metadata": {},
   "outputs": [],
   "source": []
  },
  {
   "cell_type": "markdown",
   "id": "42a9ad10-60bc-4065-839c-9010e80f3b52",
   "metadata": {},
   "source": [
    "## Split 5 - hormaechei-steigerwaltii-1 vs hormaechei-steigerwaltii-3 "
   ]
  },
  {
   "cell_type": "code",
   "execution_count": null,
   "id": "b2bb36d1-9a1f-4b0d-ad58-51afa5cfa045",
   "metadata": {},
   "outputs": [],
   "source": [
    "split5steigerwaltii1 = ['hormaechei-steigerwaltii-1']\n",
    "\n",
    "split5steigerwaltii_3 = ['hormaechei-steigerwaltii-3']"
   ]
  },
  {
   "cell_type": "code",
   "execution_count": null,
   "id": "b01deec1-70cd-4b30-bb7b-457196708d83",
   "metadata": {},
   "outputs": [],
   "source": [
    "steigerwaltii1_only_genes, steigerwaltii3_only_genes = find_exclusive_genes(\n",
    "    L_binarized.loc[steigerwaltii13_only_genes],\n",
    "    split5steigerwaltii1,\n",
    "    split5steigerwaltii_3\n",
    ")\n",
    "\n",
    "display(\n",
    "    f'hormaechei-steigerwaltii-1 exclusive genes: {len(steigerwaltii1_only_genes)}',\n",
    "    f'hormaechei-steigerwaltii-3 exclusive genes: {len(steigerwaltii3_only_genes)}',\n",
    ")"
   ]
  },
  {
   "cell_type": "code",
   "execution_count": null,
   "id": "6ff9df1e-237c-4cc6-81ea-02940116ea93",
   "metadata": {},
   "outputs": [],
   "source": [
    "len(steigerwaltii13_only_genes) - len(steigerwaltii1_only_genes) - len(steigerwaltii3_only_genes) # 61 genes split/shared across"
   ]
  },
  {
   "cell_type": "markdown",
   "id": "ac74b3e9-a9c7-4864-90a5-641a7ad9419b",
   "metadata": {},
   "source": [
    "### hormaechei-steigerwaltii-1 Phylon Genes"
   ]
  },
  {
   "cell_type": "code",
   "execution_count": null,
   "id": "743d79b9-21f4-4957-8443-2d50a03ba70b",
   "metadata": {},
   "outputs": [],
   "source": [
    "display(\n",
    "    df_eggnog.loc[steigerwaltii1_only_genes].shape,\n",
    "    df_eggnog.loc[steigerwaltii1_only_genes].head(),\n",
    "    df_eggnog.loc[steigerwaltii1_only_genes].COG_category.apply(lambda x: x[0]).value_counts() # 1 unknown genes\n",
    "    \n",
    ")"
   ]
  },
  {
   "cell_type": "code",
   "execution_count": null,
   "id": "71725547-064b-4942-8b31-0fbaaea62e39",
   "metadata": {},
   "outputs": [],
   "source": [
    "# 0 genes are metabolic\n",
    "isMetabolic = df_eggnog.loc[steigerwaltii1_only_genes].COG_category.str.contains('C|E|F|G|H|I|P')\n",
    "steigerwaltii1_metabolic = df_eggnog.loc[steigerwaltii1_only_genes][isMetabolic]\n",
    "\n",
    "display(steigerwaltii1_metabolic)"
   ]
  },
  {
   "cell_type": "code",
   "execution_count": null,
   "id": "364b802a-24ad-41d8-a200-b3e94a3226dd",
   "metadata": {},
   "outputs": [],
   "source": [
    "# 0 motility genes\n",
    "\n",
    "isMotility1 = df_eggnog.loc[steigerwaltii1_only_genes].COG_category.str.contains('N')\n",
    "isMotility2 = df_eggnog.loc[steigerwaltii1_only_genes].Description.str.contains('pilus')\n",
    "isMotility3 = df_eggnog.loc[steigerwaltii1_only_genes].Description.str.contains('pili')\n",
    "\n",
    "steigerwaltii1_motility = df_eggnog.loc[steigerwaltii1_only_genes][isMotility1 | isMotility2 | isMotility3]\n",
    "steigerwaltii1_motility"
   ]
  },
  {
   "cell_type": "markdown",
   "id": "0a0e48f3-296f-43f6-8d70-d3acf54862af",
   "metadata": {},
   "source": [
    "### hormaechei-steigerwaltii-3 Phylon Genes"
   ]
  },
  {
   "cell_type": "code",
   "execution_count": null,
   "id": "1b43b47b-844c-4e0f-b709-d625c9c012da",
   "metadata": {},
   "outputs": [],
   "source": [
    "display(\n",
    "    df_eggnog.loc[steigerwaltii3_only_genes].shape,\n",
    "    df_eggnog.loc[steigerwaltii3_only_genes].head(),\n",
    "    df_eggnog.loc[steigerwaltii3_only_genes].COG_category.apply(lambda x: x[0]).value_counts() # 66 unknown genes\n",
    "    \n",
    ")"
   ]
  },
  {
   "cell_type": "code",
   "execution_count": null,
   "id": "c09f8efb-6bf5-4155-9c69-76071aba0a18",
   "metadata": {},
   "outputs": [],
   "source": [
    "df_eggnog.loc['Ebacter_C27374']"
   ]
  },
  {
   "cell_type": "code",
   "execution_count": null,
   "id": "8670079d-b994-4c21-a54c-a977695b54bf",
   "metadata": {},
   "outputs": [],
   "source": [
    "df_eggnog.KEGG_Pathway.value_counts().head(100)"
   ]
  },
  {
   "cell_type": "code",
   "execution_count": null,
   "id": "d2f23e7c-ac87-4632-92dc-e45cb9685473",
   "metadata": {},
   "outputs": [],
   "source": [
    "# 9 genes are metabolic\n",
    "isMetabolic = df_eggnog.loc[steigerwaltii3_only_genes].COG_category.str.contains('C|E|F|G|H|I|P')\n",
    "steigerwaltii3_metabolic = df_eggnog.loc[steigerwaltii3_only_genes][isMetabolic]\n",
    "\n",
    "display(steigerwaltii3_metabolic)"
   ]
  },
  {
   "cell_type": "code",
   "execution_count": null,
   "id": "86cb6b80-c380-4d3d-aa40-76b40838bf7d",
   "metadata": {
    "scrolled": true
   },
   "outputs": [],
   "source": [
    "# 2 motility genes\n",
    "\n",
    "isMotility1 = df_eggnog.loc[steigerwaltii3_only_genes].COG_category.str.contains('N')\n",
    "isMotility2 = df_eggnog.loc[steigerwaltii3_only_genes].Description.str.contains('pilus')\n",
    "isMotility3 = df_eggnog.loc[steigerwaltii3_only_genes].Description.str.contains('pili')\n",
    "\n",
    "steigerwaltii3_motility = df_eggnog.loc[steigerwaltii3_only_genes][isMotility1 | isMotility2 | isMotility3]\n",
    "steigerwaltii3_motility"
   ]
  },
  {
   "cell_type": "markdown",
   "id": "0992a472-9cee-4d05-b7a1-c0586a5cba63",
   "metadata": {
    "jp-MarkdownHeadingCollapsed": true
   },
   "source": [
    "## Unchar Phylons"
   ]
  },
  {
   "cell_type": "code",
   "execution_count": null,
   "id": "4820c2f5-cc90-4fa4-ad0a-a5c193971162",
   "metadata": {},
   "outputs": [],
   "source": [
    "unchar_phylons = ['unchar-1',\n",
    " 'unchar-2',\n",
    " 'unchar-3',\n",
    " 'unchar-4',]"
   ]
  },
  {
   "cell_type": "code",
   "execution_count": null,
   "id": "c1871877-5622-4756-af0b-3de9ddf172d5",
   "metadata": {},
   "outputs": [],
   "source": [
    "# Main sorted clustermap\n",
    "\n",
    "g = sns.clustermap(\n",
    "    L_binarized.loc[gene_order, unchar_phylons],\n",
    "    method='ward',\n",
    "    metric='euclidean',\n",
    "    row_cluster=False,\n",
    "    yticklabels=False,\n",
    "    cmap='Greys'\n",
    ");"
   ]
  },
  {
   "cell_type": "code",
   "execution_count": null,
   "id": "258c2e2c-f3d9-4344-9e95-85ca2a32d507",
   "metadata": {},
   "outputs": [],
   "source": [
    "unchar_genes = L_binarized[L_binarized.loc[:,unchar_phylons].sum(axis=1) > 0].index"
   ]
  },
  {
   "cell_type": "code",
   "execution_count": null,
   "id": "b4f53178-09ae-4466-97e1-60c3396fbfd5",
   "metadata": {},
   "outputs": [],
   "source": [
    "display(\n",
    "    df_eggnog.loc[unchar_genes].shape,\n",
    "    df_eggnog.loc[unchar_genes].head(),\n",
    "    df_eggnog.loc[unchar_genes].COG_category.apply(lambda x: x[0]).value_counts() # 354 unknown genes\n",
    "    \n",
    ")"
   ]
  },
  {
   "cell_type": "code",
   "execution_count": null,
   "id": "750b7a19-047b-4bea-9955-fb5297e2bec2",
   "metadata": {
    "scrolled": true
   },
   "outputs": [],
   "source": [
    "# 37 genes are metabolic\n",
    "isMetabolic = df_eggnog.loc[unchar_genes].COG_category.str.contains('C|E|F|G|H|I|P')\n",
    "unchar_metabolic = df_eggnog.loc[unchar_genes][isMetabolic]\n",
    "\n",
    "display(unchar_metabolic)"
   ]
  },
  {
   "cell_type": "code",
   "execution_count": null,
   "id": "b1fc401f-f621-46a5-ba53-b539df6f7fbf",
   "metadata": {},
   "outputs": [],
   "source": [
    "# 0 motility genes\n",
    "\n",
    "isMotility1 = df_eggnog.loc[unchar_genes].COG_category.str.contains('N')\n",
    "isMotility2 = df_eggnog.loc[unchar_genes].Description.str.contains('pilus')\n",
    "isMotility3 = df_eggnog.loc[unchar_genes].Description.str.contains('pili')\n",
    "\n",
    "unchar_motility = df_eggnog.loc[unchar_genes][isMotility1 | isMotility2 | isMotility3]\n",
    "unchar_motility"
   ]
  },
  {
   "cell_type": "code",
   "execution_count": null,
   "id": "96e4be46-40a4-4a71-b98f-baff722956d0",
   "metadata": {},
   "outputs": [],
   "source": [
    "is_L = df_eggnog.loc[unchar_genes].COG_category.str.contains('L')\n",
    "df_eggnog.loc[unchar_genes][is_L]"
   ]
  },
  {
   "cell_type": "markdown",
   "id": "4f0f6fcb-6430-465a-be25-e36c333d4a07",
   "metadata": {
    "jp-MarkdownHeadingCollapsed": true
   },
   "source": [
    "## Unchar-1"
   ]
  },
  {
   "cell_type": "code",
   "execution_count": null,
   "id": "eb9ebd72-3793-4b4b-ac67-a312b95d39f7",
   "metadata": {},
   "outputs": [],
   "source": [
    "unchar_genes = L_binarized[L_binarized.loc[:,'unchar-1'] > 0].index"
   ]
  },
  {
   "cell_type": "code",
   "execution_count": null,
   "id": "32d25cbe-418a-4eba-a1c8-ddf6bfacd2d3",
   "metadata": {},
   "outputs": [],
   "source": [
    "display(\n",
    "    df_eggnog.loc[unchar_genes].shape,\n",
    "    df_eggnog.loc[unchar_genes].head(),\n",
    "    df_eggnog.loc[unchar_genes].COG_category.apply(lambda x: x[0]).value_counts() # 161 unknown genes\n",
    "    \n",
    ")"
   ]
  },
  {
   "cell_type": "code",
   "execution_count": null,
   "id": "fe458837-7043-45d7-a9b5-a5b7d2b7da1a",
   "metadata": {
    "scrolled": true
   },
   "outputs": [],
   "source": [
    "# 12 genes are metabolic\n",
    "isMetabolic = df_eggnog.loc[unchar_genes].COG_category.str.contains('C|E|F|G|H|I|P')\n",
    "unchar1_metabolic = df_eggnog.loc[unchar_genes][isMetabolic]\n",
    "\n",
    "display(unchar1_metabolic)"
   ]
  },
  {
   "cell_type": "code",
   "execution_count": null,
   "id": "bf5c287d-098f-4bbe-b9b6-92d507e5e36c",
   "metadata": {},
   "outputs": [],
   "source": [
    "# 2 motility genes\n",
    "\n",
    "isMotility1 = df_eggnog.loc[unchar_genes].COG_category.str.contains('N')\n",
    "isMotility2 = df_eggnog.loc[unchar_genes].Description.str.contains('pilus')\n",
    "isMotility3 = df_eggnog.loc[unchar_genes].Description.str.contains('pili')\n",
    "\n",
    "unchar1_motility = df_eggnog.loc[unchar_genes][isMotility1 | isMotility2 | isMotility3]\n",
    "unchar1_motility"
   ]
  },
  {
   "cell_type": "code",
   "execution_count": null,
   "id": "59f11225-5689-4fe9-a56f-c09a6106c0a1",
   "metadata": {},
   "outputs": [],
   "source": [
    "check_cogs = df_eggnog.loc[unchar_genes].COG_category.str.contains('L|O|T|K')\n",
    "df_eggnog.loc[unchar_genes][check_cogs]"
   ]
  },
  {
   "cell_type": "markdown",
   "id": "fbfcf645-0c35-4be8-be3d-b9df74205a55",
   "metadata": {
    "jp-MarkdownHeadingCollapsed": true
   },
   "source": [
    "## Unchar-2"
   ]
  },
  {
   "cell_type": "code",
   "execution_count": null,
   "id": "a96a3b6a-5336-434d-88db-d9e30f31a3e6",
   "metadata": {},
   "outputs": [],
   "source": [
    "unchar_genes = L_binarized[L_binarized.loc[:,'unchar-2'] > 0].index"
   ]
  },
  {
   "cell_type": "code",
   "execution_count": null,
   "id": "3c8860b2-e0d6-4de0-8a3a-2565c114dc33",
   "metadata": {},
   "outputs": [],
   "source": [
    "display(\n",
    "    df_eggnog.loc[unchar_genes].shape,\n",
    "    df_eggnog.loc[unchar_genes].head(),\n",
    "    df_eggnog.loc[unchar_genes].COG_category.apply(lambda x: x[0]).value_counts() # 82 unknown genes\n",
    "    \n",
    ")"
   ]
  },
  {
   "cell_type": "code",
   "execution_count": null,
   "id": "7fb35c95-b918-4e80-8375-15102c9b606a",
   "metadata": {
    "scrolled": true
   },
   "outputs": [],
   "source": [
    "# 2 genes are metabolic\n",
    "isMetabolic = df_eggnog.loc[unchar_genes].COG_category.str.contains('C|E|F|G|H|I|P')\n",
    "unchar2_metabolic = df_eggnog.loc[unchar_genes][isMetabolic]\n",
    "\n",
    "display(unchar2_metabolic)"
   ]
  },
  {
   "cell_type": "code",
   "execution_count": null,
   "id": "d0bf54ed-5af1-4ffb-b3c9-62526ece7d9d",
   "metadata": {},
   "outputs": [],
   "source": [
    "# 1 motility genes\n",
    "\n",
    "isMotility1 = df_eggnog.loc[unchar_genes].COG_category.str.contains('N')\n",
    "isMotility2 = df_eggnog.loc[unchar_genes].Description.str.contains('pilus')\n",
    "isMotility3 = df_eggnog.loc[unchar_genes].Description.str.contains('pili')\n",
    "\n",
    "unchar2_motility = df_eggnog.loc[unchar_genes][isMotility1 | isMotility2 | isMotility3]\n",
    "unchar2_motility"
   ]
  },
  {
   "cell_type": "code",
   "execution_count": null,
   "id": "d46355d0-b319-4f90-b5a9-021e285938e2",
   "metadata": {},
   "outputs": [],
   "source": [
    "check_cogs = df_eggnog.loc[unchar_genes].COG_category.str.contains('L|K|D')\n",
    "df_eggnog.loc[unchar_genes][check_cogs]"
   ]
  },
  {
   "cell_type": "markdown",
   "id": "eed8d309-17fe-42e5-a9a6-eb5cdcc4f70f",
   "metadata": {
    "jp-MarkdownHeadingCollapsed": true
   },
   "source": [
    "## Unchar-3"
   ]
  },
  {
   "cell_type": "code",
   "execution_count": null,
   "id": "f092c3bc-60a3-4e60-a364-e676b6ce9002",
   "metadata": {},
   "outputs": [],
   "source": [
    "unchar_genes = L_binarized[L_binarized.loc[:,['unchar-3']].sum(axis=1) > 0].index"
   ]
  },
  {
   "cell_type": "code",
   "execution_count": null,
   "id": "831208bd-3655-42b0-9eb6-d0fb3e1dfd8c",
   "metadata": {},
   "outputs": [],
   "source": [
    "display(\n",
    "    df_eggnog.loc[unchar_genes].shape,\n",
    "    df_eggnog.loc[unchar_genes].head(),\n",
    "    df_eggnog.loc[unchar_genes].COG_category.apply(lambda x: x[0]).value_counts() # 53 unknown genes\n",
    "    \n",
    ")"
   ]
  },
  {
   "cell_type": "code",
   "execution_count": null,
   "id": "be822657-ff8a-4b85-82e0-d9db9e627094",
   "metadata": {
    "scrolled": true
   },
   "outputs": [],
   "source": [
    "# 7 genes are metabolic\n",
    "isMetabolic = df_eggnog.loc[unchar_genes].COG_category.str.contains('C|E|F|G|H|I|P')\n",
    "unchar3_metabolic = df_eggnog.loc[unchar_genes][isMetabolic]\n",
    "\n",
    "display(unchar3_metabolic)"
   ]
  },
  {
   "cell_type": "code",
   "execution_count": null,
   "id": "3d0e96c9-adb3-4c66-826d-994f7ed97c4c",
   "metadata": {},
   "outputs": [],
   "source": [
    "# 3 motility genes\n",
    "\n",
    "isMotility1 = df_eggnog.loc[unchar_genes].COG_category.str.contains('N')\n",
    "isMotility2 = df_eggnog.loc[unchar_genes].Description.str.contains('pilus')\n",
    "isMotility3 = df_eggnog.loc[unchar_genes].Description.str.contains('pili')\n",
    "\n",
    "unchar3_motility = df_eggnog.loc[unchar_genes][isMotility1 | isMotility2 | isMotility3]\n",
    "unchar3_motility"
   ]
  },
  {
   "cell_type": "code",
   "execution_count": null,
   "id": "3d92d820-9d52-4be8-9be1-39cc78a32eb3",
   "metadata": {},
   "outputs": [],
   "source": [
    "check_cogs = df_eggnog.loc[unchar_genes].COG_category.str.contains('L|O|T|K|D')\n",
    "df_eggnog.loc[unchar_genes][check_cogs]"
   ]
  },
  {
   "cell_type": "code",
   "execution_count": null,
   "id": "1644f094-8e36-4ed2-ae78-d6b232e2679a",
   "metadata": {},
   "outputs": [],
   "source": [
    "df_eggnog.loc[unchar_genes][df_eggnog.loc[unchar_genes]['Description'].str.contains('opper')]"
   ]
  },
  {
   "cell_type": "markdown",
   "id": "2745edf1-f0b3-4618-9fd3-09c3a55597af",
   "metadata": {
    "jp-MarkdownHeadingCollapsed": true
   },
   "source": [
    "## Unchar-4"
   ]
  },
  {
   "cell_type": "code",
   "execution_count": null,
   "id": "8a7f322e-e20c-4d5f-99d7-e9e2ede702f9",
   "metadata": {},
   "outputs": [],
   "source": [
    "unchar_genes = L_binarized[L_binarized.loc[:,'unchar-4'] > 0].index"
   ]
  },
  {
   "cell_type": "code",
   "execution_count": null,
   "id": "60756bd0-5bb0-4d79-8235-96504381a90b",
   "metadata": {},
   "outputs": [],
   "source": [
    "display(\n",
    "    df_eggnog.loc[unchar_genes].shape,\n",
    "    df_eggnog.loc[unchar_genes].head(),\n",
    "    df_eggnog.loc[unchar_genes].COG_category.apply(lambda x: x[0]).value_counts() # 67 unknown genes\n",
    "    \n",
    ")"
   ]
  },
  {
   "cell_type": "code",
   "execution_count": null,
   "id": "48e87e70-e0b6-4eaa-b729-11fbfd962cd8",
   "metadata": {
    "scrolled": true
   },
   "outputs": [],
   "source": [
    "# 19 genes are metabolic\n",
    "isMetabolic = df_eggnog.loc[unchar_genes].COG_category.str.contains('C|E|F|G|H|I|P')\n",
    "unchar4_metabolic = df_eggnog.loc[unchar_genes][isMetabolic]\n",
    "\n",
    "display(unchar4_metabolic)"
   ]
  },
  {
   "cell_type": "code",
   "execution_count": null,
   "id": "b6b58ddf-59c2-413f-a4ae-a618fac18980",
   "metadata": {},
   "outputs": [],
   "source": [
    "# 0 motility genes\n",
    "\n",
    "isMotility1 = df_eggnog.loc[unchar_genes].COG_category.str.contains('N')\n",
    "isMotility2 = df_eggnog.loc[unchar_genes].Description.str.contains('pilus')\n",
    "isMotility3 = df_eggnog.loc[unchar_genes].Description.str.contains('pili')\n",
    "\n",
    "unchar4_motility = df_eggnog.loc[unchar_genes][isMotility1 | isMotility2 | isMotility3]\n",
    "unchar4_motility"
   ]
  },
  {
   "cell_type": "code",
   "execution_count": null,
   "id": "689e916c-aacd-4fd5-96f0-31d2865ca1bf",
   "metadata": {},
   "outputs": [],
   "source": [
    "check_cogs = df_eggnog.loc[unchar_genes].COG_category.str.contains('L|T|K')\n",
    "df_eggnog.loc[unchar_genes][check_cogs]"
   ]
  },
  {
   "cell_type": "markdown",
   "id": "339b92e5-be33-4787-a10e-6bca60f14644",
   "metadata": {
    "jp-MarkdownHeadingCollapsed": true
   },
   "source": [
    "# Genetic split testing"
   ]
  },
  {
   "cell_type": "markdown",
   "id": "dd815830-6782-4548-ad1a-373ba597dcc1",
   "metadata": {
    "jp-MarkdownHeadingCollapsed": true
   },
   "source": [
    "## Conditions"
   ]
  },
  {
   "cell_type": "code",
   "execution_count": null,
   "id": "1ef9930c-8535-4b3c-ad86-3bcf61aa5bbb",
   "metadata": {},
   "outputs": [],
   "source": [
    "c_metabolic.EC.value_counts()"
   ]
  },
  {
   "cell_type": "code",
   "execution_count": null,
   "id": "21ec215d-6474-46f2-a008-08c81dc77715",
   "metadata": {},
   "outputs": [],
   "source": [
    "isMotility1 = df_eggnog.COG_category.str.contains('N')\n",
    "isMotility2 = df_eggnog.Description.str.contains('pilus', case=False)\n",
    "isMotility3 = df_eggnog.Description.str.contains('pili', case=False)\n",
    "\n",
    "total_motility= df_eggnog[isMotility1 | isMotility2 | isMotility3]\n",
    "total_motility"
   ]
  },
  {
   "cell_type": "code",
   "execution_count": null,
   "id": "d09b6012-e683-4dae-81bf-92eb495868bf",
   "metadata": {
    "scrolled": true
   },
   "outputs": [],
   "source": [
    "# isMotility1 = df_eggnog.loc[df_eggnog.loc[df_acc.index].index].COG_category.str.contains('N')\n",
    "isMotility2 = df_eggnog.Description.str.contains('pilus', case=False)\n",
    "isMotility3 = df_eggnog.Description.str.contains('pili', case=False)\n",
    "\n",
    "total_pili= df_eggnog[isMotility2 | isMotility3]\n",
    "total_pili"
   ]
  },
  {
   "cell_type": "code",
   "execution_count": null,
   "id": "ce8410fa-86f7-41ba-a1a4-71f1d5c6fadc",
   "metadata": {},
   "outputs": [],
   "source": [
    "# # Fimbrial proteins\n",
    "# # 16 in accessory genome, 2 in core and 1 in near-core (fimZ)\n",
    "# # Pretty clear splits across 2 major groups\n",
    "# # Roggenkampii has 2 unique genes of FimC and FimF \n",
    "# # One version of fimF in all horm except S1, one in all other, roggenkampii with extra one (see above)\n",
    "# # fimI in core, but extra version found in steigerwalti phylons, extra fimD also found in all S phylons\n",
    "# # fimY 1 version in hormaechei, another in all but cancerogenous, cancerogenous has its own version in the rare-genome\n",
    "# # fimH has 2 versions: cancerogenous has none, cloacae has 1, rest have another\n",
    "# # Few other dispersed ones to note/analyze individually\n",
    "# cond = df_eggnog.loc[df_genes.index].Preferred_name.apply(lambda x : 'fim' in x)\n",
    "# cond2 = df_eggnog.loc[df_genes.index][cond].index\n",
    "\n",
    "\n",
    "# # check for location of hof genes\n",
    "# # notes: hof genes hofOMN appear to  have function related to DNA as a carbon source while hofB appears to be related to fimbrial assembly\n",
    "# #        hofB has 2 versions, one is found in all phylons but kobei and roggenkampii while the other is only found in those 2 phylons\n",
    "# #        hofM has several versions, one is found in all horm phylons and the others throughout the other phylons in both the acc. and rare\n",
    "# #        hofO has several versions, one is found in all horm phylons and the others throughout the other phylons in both the acc. and rare\n",
    "# #        hofN has several versions, one is found in all horm phylons and the others throughout the other phylons in both the acc. and rare\n",
    "# # conserved patterns of inheritance in asburiae, roggenkampii and ludwigii, especially, unique sets of genes\n",
    "# cond = df_eggnog.loc[df_genes.index].Preferred_name.apply(lambda x : 'hof' in x)\n",
    "# cond2 = df_eggnog.loc[df_genes.index][cond].index\n",
    "\n",
    "\n",
    "# check for location of che genes (chemotaxis)\n",
    "# 5 core genes\n",
    "# cheM shared between all members of the lower phylons, near core\n",
    "# cheA has one in hormaechei and one in all other phylons\n",
    "# cheV has one copy in all but S1, bugandensis and cancerogenous, but cancerogenous has another copy of cheV\n",
    "# steigerwalti-1/3 has a number of genes copies shared between them in acc genome\n",
    "cond = df_eggnog.loc[df_genes.index].Preferred_name.apply(lambda x : 'che' in x)\n",
    "cond2 = df_eggnog.loc[df_genes.index][cond].index\n",
    "\n",
    "\n",
    "# # check for puu genes (putrescine)\n",
    "# # notes: several copies of puuR-like genes are present and are in several phylons each, no clear theme\n",
    "# #        most of the puu pathway genes are found in some of the non-horm phylons, very few in horm-phylons\n",
    "# cond = df_eggnog.loc[df_genes.index].Preferred_name.apply(lambda x : 'puu' in x)\n",
    "# cond2 = df_eggnog.loc[df_genes.index][cond].index\n",
    "\n",
    "\n",
    "# # related to dapA and yagE genes, an enzyme related to lysine biosynthesis\n",
    "# # core gene of dapA\n",
    "# # near-core version of yagE everywhere but asburiae and cancerogenous\n",
    "# # 1 unique to cloacae, 1 shared between cloacae and asburiae\n",
    "# # few versions with no major pattern of inheritance\n",
    "# cond = df_eggnog.loc[df_genes.index].EC.apply(lambda x : '4.3.3.7' in x)\n",
    "# cond2 = df_eggnog.loc[df_genes.index][cond].index\n",
    "\n",
    "\n",
    "# # pehN, a endo-polygalacturonase, related to potentially breaking down plant cell walls\n",
    "# # only found in the hormaechei (all but S2)\n",
    "# cond = df_eggnog.loc[df_genes.index].EC.apply(lambda x : '3.2.1.15' in x)\n",
    "# cond2 = df_eggnog.loc[df_genes.index][cond].index\n",
    "\n",
    "\n",
    "# # pqq genes associated with pyrroloquinoline quinone\n",
    "# # only found in hormaechei cluster\n",
    "# # https://www.ncbi.nlm.nih.gov/pmc/articles/PMC2245851/ - promotes plant growth, rhizosphere associated\n",
    "# cond = df_eggnog.loc[df_genes.index].Preferred_name.apply(lambda x : 'pqq' in x)\n",
    "# cond2 = df_eggnog.loc[df_genes.index][cond].index\n",
    "\n",
    "\n",
    "# # thiamine kinase, used for recycling thiamine\n",
    "# # one thiK found in all hormaechei\n",
    "# # one enzyme found only in xian and oharae\n",
    "# # one thiK found in asb, rogg, kobei, and bugan\n",
    "# # one thiK found in ludwigii and cloacae\n",
    "# # one in rare genome of cancerogenous\n",
    "# EC = '2.7.1.89'\n",
    "# cond = df_eggnog.loc[df_genes.index].EC.apply(lambda x : EC in x)\n",
    "# cond2 = df_eggnog.loc[df_genes.index][cond].index\n",
    "\n",
    "\n",
    "# # protein-disulfide reductase, appears to be called dsbD or trxC\n",
    "# # trxC like gene is core\n",
    "# # dsbD has one core version\n",
    "# # one version of dsbD is found in all hormaechei\n",
    "# # another in all non-hormaechei but cancerogenous\n",
    "# # cancerogenous has a few in rare-genome\n",
    "# EC = '1.8.1.8'\n",
    "# cond = df_eggnog.loc[df_genes.index].EC.apply(lambda x : EC in x)\n",
    "# cond2 = df_eggnog.loc[df_genes.index][cond].index\n",
    "\n",
    "\n",
    "# # motility genes with fli name\n",
    "# # 14 core, 1 near core, some found scattered throughout a few phylons\n",
    "# # several genes unique to asburiae\n",
    "# # !!! Many genes associated only with steigerwalti-1/3 !!!\n",
    "# cond = df_eggnog.loc[df_genes.index].Preferred_name.apply(lambda x : 'fli' in x)\n",
    "# cond2 = df_eggnog.loc[df_genes.index][cond].index\n",
    "\n",
    "\n",
    "# # check for cellulose producing genes\n",
    "# # a number of genes found throughout phylons related to cellulose synthesis\n",
    "# # 2 found in near core, bcsB and bcsA\n",
    "# cond = df_eggnog.loc[df_genes.index].Description.apply(lambda x : 'ellulose' in x)\n",
    "# cond2 = df_eggnog.loc[df_genes.index][cond].index\n",
    "\n",
    "\n",
    "# # als genes related to allose metabolism\n",
    "# # most present in stiegerwalitii\n",
    "# cond = df_eggnog.loc[df_genes.index].Preferred_name.apply(lambda x : 'als' in x)\n",
    "# cond2 = df_eggnog.loc[df_genes.index][cond].index\n",
    "\n",
    "# # nan genes related to sialic acid metabolism\n",
    "# # associated mostly with stiegerwaltii and cancerogenous\n",
    "# cond = df_eggnog.loc[df_genes.index].Preferred_name.apply(lambda x : 'nan' in x)\n",
    "# cond2 = df_eggnog.loc[df_genes.index][cond].index\n",
    "\n",
    "# # ebg operon, beta-galactoside related\n",
    "# # related to stiegerwaltii\n",
    "# cond = df_eggnog.loc[df_genes.index].Preferred_name.apply(lambda x : 'ebg' in x)\n",
    "# cond2 = df_eggnog.loc[df_genes.index][cond].index\n",
    "\n",
    "# # Amino acid permease \n",
    "# # not found in hormaechei, but found in all other species in genus\n",
    "# cond = df_eggnog.loc[df_genes.index].Preferred_name.apply(lambda x : 'aap' in x)\n",
    "# cond2 = df_eggnog.loc[df_genes.index][cond].index\n",
    "\n",
    "# # related to sugar transport (similar to E coli sulfoquinovose transporter)\n",
    "# # not found in asburiae, found everywhere else\n",
    "# cond = df_eggnog.loc[df_genes.index].Preferred_name.apply(lambda x : 'yih' in x)\n",
    "# cond2 = df_eggnog.loc[df_genes.index][cond].index\n",
    "\n",
    "# # rhamnose utilization\n",
    "# # not found in rogenkampii, found everywhere else\n",
    "# cond = df_eggnog.loc[df_genes.index].Preferred_name.apply(lambda x : 'rha' in x)\n",
    "# cond2 = df_eggnog.loc[df_genes.index][cond].index\n",
    "\n",
    "# # malonate utilization\n",
    "# # not found in rogenkampii, asburiae, or bugandensis, found everywhere else\n",
    "# cond = df_eggnog.loc[df_genes.index].Preferred_name.apply(lambda x : 'mdc' in x)\n",
    "# cond2 = df_eggnog.loc[df_genes.index][cond].index\n",
    "\n",
    "# # galactitol  pts system\n",
    "# # only in horm-horm, kobei, and bugandensis\n",
    "# cond = df_eggnog.loc[df_genes.index].Preferred_name.apply(lambda x : 'gat' in x)\n",
    "# cond2 = df_eggnog.loc[df_genes.index][cond].index\n",
    "\n",
    "# # related to pts, appears to be N-acetylgalactosamine utilization\n",
    "# # everywherer but horm-horm, asburiae, roggenkampii, kobei, nor bugandensis\n",
    "# cond = df_eggnog.loc[df_genes.index].Preferred_name.apply(lambda x : 'aga' in x)\n",
    "# cond2 = df_eggnog.loc[df_genes.index][cond].index\n",
    "\n",
    "# # iro genes, related to Salmochelin siderophores\n",
    "# # found in steigerwaltii and cancerogenous\n",
    "# cond = df_eggnog.loc[df_genes.index].Preferred_name.apply(lambda x : 'iro' in x)\n",
    "# cond2 = df_eggnog.loc[df_genes.index][cond].index\n",
    "\n",
    "# # ter genes, tellurite resistance genes\n",
    "# # only in unchar phylon 1\n",
    "# cond = df_eggnog.loc[df_genes.index].Preferred_name.apply(lambda x : 'ter' in x)\n",
    "# cond2 = df_eggnog.loc[df_genes.index][cond].index\n",
    "\n",
    "# # related to ribitol usage (just rbtD)\n",
    "# # only in horm-stiegerwaltii\n",
    "# cond = df_eggnog.loc[df_genes.index].Preferred_name.apply(lambda x : 'rbt' in x)\n",
    "# cond2 = df_eggnog.loc[df_genes.index][cond].index\n",
    "\n",
    "# # related to sorbitol usage\n",
    "# # missing in cancerogenous and horm-horm\n",
    "# # based on literature, oharae should not be able to metabolize sorbitol, but it appears it can\n",
    "# cond = df_eggnog.loc[df_genes.index].Preferred_name.apply(lambda x : 'srl' in x)\n",
    "# cond2 = df_eggnog.loc[df_genes.index][cond].index\n",
    "\n",
    "\n",
    "# # puuR operon\n",
    "# # metabolic genes not found in hormaechei, asburiae, nor ludwigii, found everywhere else\n",
    "# cond = df_eggnog.loc[df_genes.index].Preferred_name.apply(lambda x : 'puu' in x)\n",
    "# cond2 = df_eggnog.loc[df_genes.index][cond].index\n",
    "\n",
    "# # arn operon\n",
    "# # \n",
    "# cond = df_eggnog.loc[df_genes.index].Preferred_name.apply(lambda x : 'arn' in x)\n",
    "# cond2 = df_eggnog.loc[df_genes.index][cond].index\n",
    "\n",
    "# # arsenite efflux pump, arsA\n",
    "# # gene found only in horm-horm and kobei, 1 copy in both and an extra in horm-horm\n",
    "# EC = '3.6.3.16'\n",
    "# cond = df_eggnog.loc[df_genes.index].EC.apply(lambda x : EC in x)\n",
    "# cond2 = df_eggnog.loc[df_genes.index][cond].index\n",
    "\n",
    "# EC = '1.1.1.262'\n",
    "# cond = df_eggnog.loc[df_genes.index].EC.apply(lambda x : EC in x)\n",
    "# cond2 = list(df_eggnog.loc[df_genes.index][cond].index) + ['Ebacter_C26996'] # this is the highest identity sequence for pdxA according to blast\n",
    "\n",
    "\n",
    "\n",
    "# # Acc AMR Genes - see section below\n",
    "\n",
    "# # Analysis of distribution of pili across dataset\n",
    "# # see diagram for better idea\n",
    "# cond2 = total_pili.index\n"
   ]
  },
  {
   "cell_type": "code",
   "execution_count": null,
   "id": "7504a35f-b463-4c45-bec8-f0da34bad2bd",
   "metadata": {},
   "outputs": [],
   "source": [
    "characterized"
   ]
  },
  {
   "cell_type": "code",
   "execution_count": null,
   "id": "63d2fffc-cc42-41bc-a978-a1051865d095",
   "metadata": {},
   "outputs": [],
   "source": [
    "operon_presence = pd.DataFrame(index = characterized)\n",
    "operon_presence['pqq'] = [1,1,1,1,1,1,1,1,0,0,0,0,0,0,0]\n",
    "operon_presence['allose'] = [0,0,1,1,1,0,0,0,0,0,0,0,0,0,0]\n",
    "operon_presence['sialic acid'] = [0,0,1,1,1,0,0,0,0,0,0,0,1,0,0]\n",
    "operon_presence['ebg'] = [0,0,1,1,1,0,0,0,0,0,0,0,0,0,0]\n",
    "operon_presence['rhamnose'] = [1,1,1,1,1,1,1,1,0,1,1,1,1,1,1]\n",
    "operon_presence['malonate'] = [1,1,1,1,1,1,1,1,0,0,1,0,1,1,1]\n",
    "operon_presence['galactitol'] = [0,0,0,0,0,1,0,0,0,0,1,1,0,0,0]\n",
    "operon_presence['N-acetylgalatosamine'] = [1,1,1,1,1,0,1,1,0,0,0,0,1,1,1]\n",
    "operon_presence['sorbitol'] = [1,1,1,1,1,0,1,1,1,1,1,1,0,1,1]\n",
    "\n",
    "sns.clustermap(operon_presence.T, cmap = 'Greys', col_cluster=False, figsize=(12,8))"
   ]
  },
  {
   "cell_type": "code",
   "execution_count": null,
   "id": "476487e4-4fc1-4085-9e5b-598dc4166f0d",
   "metadata": {},
   "outputs": [],
   "source": [
    "h_phylons = ['hormaechei-hoffmannii-1',\n",
    " 'hormaechei-hoffmannii-2',\n",
    " 'hormaechei-steigerwaltii-2',\n",
    " 'hormaechei-steigerwaltii-1',\n",
    " 'hormaechei-steigerwaltii-3',\n",
    " 'hormaechei-hormaechei',\n",
    " 'hormaechei-oharae',\n",
    " 'hormaechei-xiangfangensis']\n",
    "\n",
    "other_phylons = ['asburiae',\n",
    " 'roggenkampii',\n",
    " 'kobei',\n",
    " 'bugandensis',\n",
    " 'cancerogenous',\n",
    " 'ludwigii',\n",
    " 'cloacae']"
   ]
  },
  {
   "cell_type": "code",
   "execution_count": null,
   "id": "fb991cab-e984-45a5-a231-92d45069e82d",
   "metadata": {},
   "outputs": [],
   "source": [
    "# Genes found in all hormaechei phylons and no others\n",
    "h_shared_genes = L_binarized[(L_binarized[h_phylons].sum(axis=1) == len(h_phylons)) & (L_binarized[other_phylons].sum(axis=1) == 0)].index\n",
    "\n",
    "# Genes found in all non-hormaechei phylons and no others\n",
    "others_shared_genes = L_binarized[(L_binarized[other_phylons].sum(axis=1) == len(other_phylons)) & (L_binarized[h_phylons].sum(axis=1) == 0)].index\n",
    "\n",
    "# Near core genes\n",
    "near_core_genes = L_binarized[(L_binarized[other_phylons+h_phylons].sum(axis=1) == len(other_phylons+h_phylons))].index\n",
    "\n",
    "# Zero genes\n",
    "zero_genes = L_binarized[(L_binarized[other_phylons+h_phylons].sum(axis=1) == 0)].index\n",
    "\n",
    "# Non-discriminating first split\n",
    "non_discriminating_genes = L_binarized[(L_binarized[h_phylons].sum(axis=1) > 0) & (L_binarized[other_phylons].sum(axis=1) > 0)].index"
   ]
  },
  {
   "cell_type": "markdown",
   "id": "6dae7114-95b5-4ccd-82fb-10e309e94ec8",
   "metadata": {
    "jp-MarkdownHeadingCollapsed": true
   },
   "source": [
    "## Looking at gene in large categories"
   ]
  },
  {
   "cell_type": "code",
   "execution_count": null,
   "id": "01dcbc53-707f-44ea-a676-0501f3fdeabc",
   "metadata": {},
   "outputs": [],
   "source": [
    "observing = h_shared_genes"
   ]
  },
  {
   "cell_type": "code",
   "execution_count": null,
   "id": "e5d711da-8f74-48b9-8ecf-4dbc1ec71522",
   "metadata": {},
   "outputs": [],
   "source": [
    "display(\n",
    "    df_eggnog.loc[observing].shape,\n",
    "    df_eggnog.loc[observing].head(),\n",
    "    df_eggnog.loc[observing].COG_category.apply(lambda x: x[0]).value_counts() # 86 unknown genes   \n",
    ")"
   ]
  },
  {
   "cell_type": "code",
   "execution_count": null,
   "id": "43b111d4-17b2-4b5b-8bac-625c6ae1c2ff",
   "metadata": {
    "scrolled": true
   },
   "outputs": [],
   "source": [
    "isMetabolic = df_eggnog.loc[observing].COG_category.str.contains('C|E|F|G|H|I|P')\n",
    "others_shared_metabolic = df_eggnog.loc[observing][isMetabolic]\n",
    "display(others_shared_metabolic.shape, others_shared_metabolic)"
   ]
  },
  {
   "cell_type": "code",
   "execution_count": null,
   "id": "2ed5fd58-7a0b-4c4b-8ea1-9fb31f344d9a",
   "metadata": {},
   "outputs": [],
   "source": [
    "isMotility1 = df_eggnog.loc[observing].COG_category.str.contains('N')\n",
    "isMotility2 = df_eggnog.loc[observing].Description.str.contains('pilus')\n",
    "isMotility3 = df_eggnog.loc[observing].Description.str.contains('pili')\n",
    "\n",
    "nonhc_clust_shared_motility = df_eggnog.loc[observing][isMotility1 | isMotility2 | isMotility3]\n",
    "nonhc_clust_shared_motility"
   ]
  },
  {
   "cell_type": "code",
   "execution_count": null,
   "id": "f29afc07-df9d-4814-8e89-511c46690fbf",
   "metadata": {},
   "outputs": [],
   "source": [
    "others_shared_metabolic.EC.value_counts()"
   ]
  },
  {
   "cell_type": "code",
   "execution_count": null,
   "id": "46393e93-b61c-4510-8d07-401314cfaeaa",
   "metadata": {},
   "outputs": [],
   "source": [
    "others_shared_metabolic.Preferred_name.value_counts()"
   ]
  },
  {
   "cell_type": "markdown",
   "id": "d2ebef42-0bb8-4368-a4a0-9585f70c94b8",
   "metadata": {
    "jp-MarkdownHeadingCollapsed": true
   },
   "source": [
    "## Core"
   ]
  },
  {
   "cell_type": "code",
   "execution_count": null,
   "id": "1e038780-06ea-46cc-9e3f-ab567f9a9cb1",
   "metadata": {},
   "outputs": [],
   "source": [
    "# check in core\n",
    "df_eggnog.loc[[x for x in cond2 if x in df_core.index]]"
   ]
  },
  {
   "cell_type": "code",
   "execution_count": null,
   "id": "5c350424-59a5-4aec-96c6-e824058fb223",
   "metadata": {},
   "outputs": [],
   "source": [
    "# check in near core\n",
    "df_eggnog.loc[[x for x in cond2 if x in near_core_genes]]"
   ]
  },
  {
   "cell_type": "markdown",
   "id": "b4a74568-59cb-461e-9336-1694eac508f1",
   "metadata": {
    "jp-MarkdownHeadingCollapsed": true
   },
   "source": [
    "## Accessory Overall"
   ]
  },
  {
   "cell_type": "code",
   "execution_count": null,
   "id": "54c9abf5-7902-4c65-8c37-4bd28a6ca0c3",
   "metadata": {
    "scrolled": true
   },
   "outputs": [],
   "source": [
    "# all genes in acc\n",
    "df_eggnog.loc[[x for x in cond2 if x in df_acc.index]]"
   ]
  },
  {
   "cell_type": "code",
   "execution_count": null,
   "id": "5eed79e0-ea81-479e-85b4-90fe85d4e98d",
   "metadata": {},
   "outputs": [],
   "source": [
    "df_eggnog.loc[[x for x in cond2 if x in zero_genes]]"
   ]
  },
  {
   "cell_type": "code",
   "execution_count": null,
   "id": "f19f1231-d21c-4fc2-b5b2-c4caa47c3d4a",
   "metadata": {},
   "outputs": [],
   "source": [
    "df_eggnog.loc[[x for x in cond2 if x in non_discriminating_genes]]"
   ]
  },
  {
   "cell_type": "markdown",
   "id": "9b7b0f9b-1f7b-4496-b2a4-d00f75e4a429",
   "metadata": {
    "jp-MarkdownHeadingCollapsed": true
   },
   "source": [
    "## Hormaechei"
   ]
  },
  {
   "cell_type": "code",
   "execution_count": null,
   "id": "719e4633-f1b7-4f2a-836d-66047c1df101",
   "metadata": {},
   "outputs": [],
   "source": [
    "# shared across all hormaechei phylons\n",
    "df_eggnog.loc[[x for x in cond2 if x in h_shared_genes]]"
   ]
  },
  {
   "cell_type": "code",
   "execution_count": null,
   "id": "6ed2860d-7ed7-43b1-b4db-79d44026bf52",
   "metadata": {},
   "outputs": [],
   "source": [
    "# check in any hormaechei phylons\n",
    "df_eggnog.loc[[x for x in cond2 if x in upper_only_genes]]"
   ]
  },
  {
   "cell_type": "markdown",
   "id": "4230202f-c435-4f11-a33a-6407e9479abb",
   "metadata": {
    "jp-MarkdownHeadingCollapsed": true
   },
   "source": [
    "## Non-hormaechei"
   ]
  },
  {
   "cell_type": "code",
   "execution_count": null,
   "id": "726bbb94-d368-4455-8ba7-f4dc901d6a1d",
   "metadata": {},
   "outputs": [],
   "source": [
    "# genes in all non-hc phylons\n",
    "df_eggnog.loc[[x for x in cond2 if x in others_shared_genes]]"
   ]
  },
  {
   "cell_type": "code",
   "execution_count": null,
   "id": "a235cf16-a8fd-4550-a23f-f58949bf5af3",
   "metadata": {},
   "outputs": [],
   "source": [
    "# genes in at least one non-hc phylon\n",
    "df_eggnog.loc[[x for x in cond2 if x in lower_only_genes]]"
   ]
  },
  {
   "cell_type": "markdown",
   "id": "11899f20-74c5-4151-bd45-9f45686fe9a6",
   "metadata": {},
   "source": [
    "## Check phylon distribution"
   ]
  },
  {
   "cell_type": "code",
   "execution_count": null,
   "id": "4c6f28e9-dc84-42a1-b533-1bd874331ace",
   "metadata": {},
   "outputs": [],
   "source": [
    "display(df_eggnog.loc[[x for x in cond2 if x in df_acc.index]][['COG_category','Description', 'Preferred_name', 'EC', 'GOs']])"
   ]
  },
  {
   "cell_type": "code",
   "execution_count": null,
   "id": "19bde5f3-a231-4213-8a59-1523752fc2cb",
   "metadata": {},
   "outputs": [],
   "source": [
    "inds = L_binarized.loc[df_eggnog.loc[[x for x in cond2 if x in df_acc.index]].index, phylon_order].index.map(\n",
    "    df_eggnog.loc[[x for x in cond2 if x in df_acc.index]]['Preferred_name']\n",
    ")\n",
    "\n",
    "# inds = L_binarized.loc[df_eggnog.loc[[x for x in cond2 if x in df_acc.index]].index, h_phylons+other_phylons].index\n",
    "L_temp = L_binarized.loc[df_eggnog.loc[[x for x in cond2 if x in df_acc.index]].index, characterized].copy()\n",
    "L_temp.index = inds\n",
    "\n",
    "\n",
    "colors = [\"grey\", \"green\"]\n",
    "\n",
    "# Create the custom colormap\n",
    "cmap = sns.blend_palette(colors, as_cmap=True)\n",
    "\n",
    "try:\n",
    "    g = sns.clustermap(L_temp\n",
    "               , cmap= cmap, col_cluster=False, figsize=(14,14))\n",
    "except:\n",
    "        g = sns.clustermap(L_temp\n",
    "               , cmap= cmap, col_cluster=False, row_cluster=False)"
   ]
  },
  {
   "cell_type": "code",
   "execution_count": null,
   "id": "a6f7dc0e-86ce-4e7c-8dfe-69632bcc5107",
   "metadata": {},
   "outputs": [],
   "source": [
    "inds = L_binarized.loc[df_eggnog.loc[[x for x in cond2 if x in df_acc.index]].index, h_phylons+other_phylons].index\n",
    "sns.heatmap(df_acc.loc[inds, strain_order])"
   ]
  },
  {
   "cell_type": "code",
   "execution_count": null,
   "id": "5eec5437-46d0-4846-850d-4ab31a86115b",
   "metadata": {},
   "outputs": [],
   "source": []
  },
  {
   "cell_type": "code",
   "execution_count": null,
   "id": "e60041c3-1655-4b2c-a56e-6021ce65099e",
   "metadata": {},
   "outputs": [],
   "source": [
    "df_genes.loc[df_eggnog[df_eggnog.Preferred_name == 'ptsN'].index, metadata_complete.genome_id].sum(axis=1)"
   ]
  },
  {
   "cell_type": "code",
   "execution_count": null,
   "id": "cfda7609-67ac-4b00-9622-daeb80d0a44f",
   "metadata": {},
   "outputs": [],
   "source": [
    "hyper_core_genes = [x[0] for x in df_core.sum(axis=1).items() if x[1] == df_core.shape[1]]\n",
    "df_eggnog.loc[hyper_core_genes]"
   ]
  },
  {
   "cell_type": "code",
   "execution_count": null,
   "id": "9b338951-99cf-4486-ba45-b2d5e4b63fff",
   "metadata": {},
   "outputs": [],
   "source": [
    "df_genes.loc['Ebacter_C98738']"
   ]
  },
  {
   "cell_type": "markdown",
   "id": "8cf36469-d3e9-4c6d-9cee-0a02a6297e5d",
   "metadata": {},
   "source": [
    "# AMR Check"
   ]
  },
  {
   "cell_type": "code",
   "execution_count": null,
   "id": "34b25cc6-df19-4804-b963-c26220a5e3ba",
   "metadata": {},
   "outputs": [],
   "source": [
    "df = A_binarized.loc[characterized_order]\n",
    "\n",
    "# List to store labels and column names\n",
    "label_col = []\n",
    "name_col = []\n",
    "\n",
    "# Iterate over columns\n",
    "for col in df.columns:\n",
    "    # Find index where value is 1\n",
    "    index = df.index[df[col] == 1].tolist()\n",
    "    if index:\n",
    "        label_col.append(index[0])  # Append the first index where value is 1\n",
    "    else:\n",
    "        label_col.append('None')  # If no 1 is found, append None\n",
    "    name_col.append(col)\n",
    "\n",
    "\n",
    "clr = dict(zip(characterized + [\"None\"], custom_colors))"
   ]
  },
  {
   "cell_type": "code",
   "execution_count": null,
   "id": "8b64bf6c-6dff-4cf6-b197-dc0da7b3c6ed",
   "metadata": {},
   "outputs": [],
   "source": [
    "amr = pd.read_csv('../../data/processed/amrfinder/output', sep = '\\t')\n",
    "amr['Protein identifier'] = amr['Protein identifier'].apply(lambda x: x.split('A')[0])"
   ]
  },
  {
   "cell_type": "code",
   "execution_count": null,
   "id": "3f968772-b719-4703-b0e4-932e214c7938",
   "metadata": {},
   "outputs": [],
   "source": [
    "phylon_amr = L_binarized.loc[[x for x in amr['Protein identifier'] if x in L_binarized.index], characterized].sum()\n",
    "phylon_amr = phylon_amr.reset_index()\n",
    "phylon_amr['color'] = phylon_amr['index'].apply(lambda x: clr[x])\n",
    "phylon_amr.columns = ['phylon', 'num_amr', 'color']"
   ]
  },
  {
   "cell_type": "code",
   "execution_count": null,
   "id": "18e4240d-6981-45cf-8df9-c76fc05960bb",
   "metadata": {},
   "outputs": [],
   "source": [
    "amr.set_index('Protein identifier').loc[[x for x in amr['Protein identifier'] if x in L_binarized.index]].Class.value_counts()"
   ]
  },
  {
   "cell_type": "code",
   "execution_count": null,
   "id": "8986331a-4270-4745-b47a-e12fc46f702c",
   "metadata": {},
   "outputs": [],
   "source": [
    "sns.barplot(data = phylon_amr, x = 'phylon', y = 'num_amr', palette=phylon_amr.color.to_list());\n",
    "\n",
    "# Rotate x-axis labels\n",
    "plt.xticks([], rotation=90);\n",
    "\n",
    "# Hide x-axis label\n",
    "plt.xlabel('');\n",
    "\n",
    "# Set y-axis tick labels as integers\n",
    "plt.yticks(range(int(phylon_amr['num_amr'].min()-1), int(phylon_amr['num_amr'].max())+1))\n",
    "plt.ylabel('Number of AMR Genes');\n",
    "\n",
    "# Set title\n",
    "plt.title('Number of AMR Genes by Phylon')\n",
    "\n",
    "plt.rcParams['svg.fonttype'] = 'none'\n",
    "plt.savefig('../images/fig3/phylon_amr.svg', format='svg', dpi=300, bbox_inches='tight')\n",
    "\n",
    "# Show the plot\n",
    "plt.show()"
   ]
  },
  {
   "cell_type": "code",
   "execution_count": null,
   "id": "40cca402-906f-4033-a9c5-c71af71eb0e7",
   "metadata": {},
   "outputs": [],
   "source": [
    "## Calculate correlation between plasmid number and number of AMR genes\n",
    "plasmids = metadata_complete.set_index('genome_id').plasmids.fillna(0).astype(int)\n",
    "\n",
    "inds = L_binarized.loc[[x for x in amr['Protein identifier'] if x in df_acc.index]].index\n",
    "number_amr = df_genes_complete.loc[inds].sum()\n",
    "\n",
    "df = pd.DataFrame({'plasmids': plasmids, 'number_amr': number_amr}).fillna(0)\n",
    "\n",
    "sns.scatterplot(data=df, x = 'plasmids', y = 'number_amr')"
   ]
  },
  {
   "cell_type": "code",
   "execution_count": null,
   "id": "3f8cefe5-d091-4a40-baff-6a8a3e771797",
   "metadata": {},
   "outputs": [],
   "source": [
    "# Calculate plasmid distribution per phylon\n",
    "plasmid_dict = {}\n",
    "for phylon in characterized_order:\n",
    "    strains = list(A_binarized.loc[:,A_binarized.loc[phylon] > 0].columns)\n",
    "    number_plamids = metadata_complete.set_index('genome_id').loc[strains, 'plasmids'].fillna(0).astype(int)\n",
    "    plasmid_dict[phylon] = number_plamids.values\n",
    "\n",
    "# Extract the list of distributions for the box plot\n",
    "data = plasmid_dict\n",
    "data_list = [data[key] for key in data]\n",
    "\n",
    "# Create the box plot\n",
    "plt.figure(figsize=(10, 6))  # Optional: adjust the size of the figure\n",
    "plt.boxplot(data_list, patch_artist=True)\n",
    "\n",
    "# Add labels to the x-axis\n",
    "plt.xticks(range(1, len(data) + 1), data.keys(), rotation=90)\n",
    "\n",
    "# Add title and labels\n",
    "plt.title('Box Plots of Distributions by Key')\n",
    "plt.xlabel('Keys')\n",
    "plt.ylabel('Values')\n",
    "\n",
    "# Show the plot\n",
    "plt.show()\n"
   ]
  },
  {
   "cell_type": "code",
   "execution_count": null,
   "id": "6576ee3c-87f5-473e-81a1-fb3702fd27de",
   "metadata": {},
   "outputs": [],
   "source": [
    "df = A_binarized.loc[characterized_order]\n",
    "\n",
    "# List to store labels and column names\n",
    "label_col = []\n",
    "name_col = []\n",
    "\n",
    "# Iterate over columns\n",
    "for col in df.columns:\n",
    "    # Find index where value is 1\n",
    "    index = df.index[df[col] == 1].tolist()\n",
    "    if index:\n",
    "        label_col.append(index[0])  # Append the first index where value is 1\n",
    "    else:\n",
    "        label_col.append('None')  # If no 1 is found, append None\n",
    "    name_col.append(col)\n",
    "\n",
    "# Create a new DataFrame\n",
    "output_df = pd.DataFrame({'Column': name_col, 'Label': label_col}).set_index('Column')\n",
    "\n",
    "custom_colors = [\n",
    "    # Shades of red/orange/yellow\n",
    "    \"Red\",\n",
    "    \"IndianRed\",\n",
    "    \"DarkRed\",\n",
    "    \"FireBrick\",\n",
    "    \"Tomato\",\n",
    "    \"Gold\",\n",
    "    \"DarkGoldenrod\",\n",
    "    \"Goldenrod\",\n",
    "    # Other species\n",
    "    \"Green\",\n",
    "    \"Blue\",\n",
    "    \"Purple\",\n",
    "    \"Cyan\",\n",
    "    \"Magenta\",\n",
    "    \"Lime\",\n",
    "    \"Pink\",\n",
    "    'Grey'\n",
    "]\n",
    "\n",
    "\n",
    "clr = dict(zip(characterized_order + [\"Total\"], custom_colors))"
   ]
  },
  {
   "cell_type": "code",
   "execution_count": null,
   "id": "da6441da-123d-4807-84c4-4cc01dee5c03",
   "metadata": {},
   "outputs": [],
   "source": [
    "amr_genes = L_binarized.loc[[x for x in amr['Protein identifier'] if x in L_binarized.index]]\n",
    "inds = [x for x in amr_genes.index if amr_genes.sum(axis=1).loc[x]]\n",
    "\n",
    "map = {x:amr.set_index('Protein identifier').loc[x, 'Class'] for x in inds}\n",
    "\n",
    "DF_gene_sums = pd.DataFrame(index = sorted(set(map.values())), columns = characterized, dtype=int).fillna(0)\n",
    "for phylon in DF_gene_sums.columns:\n",
    "    phylon_genes = get_genes(phylon)\n",
    "    for gene in inds:\n",
    "        if gene in phylon_genes:\n",
    "            amr_phenotype = map[gene]\n",
    "            DF_gene_sums.loc[amr_phenotype, phylon] += 1\n",
    "\n",
    "# DF_gene_sums['Total'] = [0] * len(DF_gene_sums)\n",
    "# for gene in inds:\n",
    "#     amr_phenotype = map[gene]\n",
    "#     DF_gene_sums.loc[amr_phenotype, 'Total'] += 1\n",
    "    \n",
    "\n",
    "df_melt = DF_gene_sums.reset_index().melt(id_vars='index', var_name='phylon', value_name='Presence')\n",
    "\n",
    "fig, ax = plt.subplots(figsize=(7, 6))\n",
    "ax.set_facecolor('#f4f4f4')\n",
    "\n",
    "# Scatter plot\n",
    "sizes = set()\n",
    "for i, row in df_melt.iterrows():\n",
    "    if row['Presence'] >= 1:\n",
    "        ax.scatter(\n",
    "            row['phylon'], row['index'], \n",
    "            color=clr[row['phylon']], \n",
    "            s=100 * row['Presence'],         # Adjust the size (larger points)\n",
    "            edgecolor='black',  # Thin black border\n",
    "            linewidth=0.5   # Border thickness\n",
    "        )\n",
    "        sizes.add(100 * row['Presence'])\n",
    "\n",
    "# Remove the top, left, and right axes\n",
    "ax.spines['top'].set_visible(False)\n",
    "ax.spines['left'].set_visible(False)\n",
    "ax.spines['right'].set_visible(False)\n",
    "\n",
    "# Add labels\n",
    "ax.set_xlabel('Phylons')\n",
    "ax.set_ylabel('AMR Genes by Antiobiotic Category')\n",
    "ax.set_title('Dot Plot of Accessory Genome AMR Gene Presence')\n",
    "\n",
    "# Customize the grid\n",
    "ax.grid(True, which='both', linestyle='--', linewidth=0.5)\n",
    "\n",
    "ax.set_xticks([])\n",
    "ax.set_xticklabels([])\n",
    "\n",
    "# Show plot\n",
    "plt.xticks(rotation=45)\n",
    "\n",
    "# Legend\n",
    "#make legend\n",
    "handles = []\n",
    "legend_labels = []\n",
    "\n",
    "for size in sizes:\n",
    "    # Add a handle for the title\n",
    "    # handles.append(plt.Line2D([0], [0], color='none'))  # Invisible handle for spacing\n",
    "    size_handles = [plt.Line2D([0], [0], color='grey', lw=0, marker = 'o',markersize=size**.5, alpha=.7, markeredgecolor='black', linewidth=.5)]\n",
    "    handles.extend(size_handles)\n",
    "    legend_labels.append(str(int(size/100)))\n",
    "\n",
    "# Create a single legend\n",
    "plt.legend(handles, legend_labels, title='Num Genes', loc='upper left', bbox_to_anchor=(0, 1), ncol=1)\n",
    "\n",
    "\n",
    "plt.rcParams['svg.fonttype'] = 'none'\n",
    "plt.savefig('../images/fig3/AMR_Dot.svg', format='svg', dpi=300, bbox_inches='tight')\n",
    "\n",
    "\n",
    "plt.show()\n"
   ]
  },
  {
   "cell_type": "code",
   "execution_count": null,
   "id": "16c787d8-e952-4a85-92d8-58c97d16bb96",
   "metadata": {},
   "outputs": [],
   "source": []
  },
  {
   "cell_type": "markdown",
   "id": "01c2e4dd-232a-462b-a308-97fe3ac85e86",
   "metadata": {},
   "source": [
    "# Chrom vs plasmid L"
   ]
  },
  {
   "cell_type": "code",
   "execution_count": null,
   "id": "476219b0-c6ad-4173-a10c-ff0f1a7e6c62",
   "metadata": {
    "scrolled": true
   },
   "outputs": [],
   "source": [
    "highlight_mask = np.zeros(L_binarized.loc[gene_order].shape, dtype='bool')\n",
    "gene_locs_acc = gene_locs_acc.loc[gene_order]\n",
    "\n",
    "for i in range(0, gene_locs_acc.shape[0]):\n",
    "    if gene_locs_acc.iloc[i, 1] == 'chrom':\n",
    "        highlight_mask[i,:] = True\n",
    "    else:\n",
    "        highlight_mask[i,:] = False\n",
    "\n",
    "highlight_mask = pd.DataFrame(highlight_mask, index = gene_locs_acc.index, columns = L_binarized.columns)"
   ]
  },
  {
   "cell_type": "code",
   "execution_count": null,
   "id": "7e3e927e-d1f1-4208-a9f2-44114c67d961",
   "metadata": {},
   "outputs": [],
   "source": [
    "df = A_binarized.loc[phylon_order]\n",
    "\n",
    "# List to store labels and column names\n",
    "label_col = []\n",
    "name_col = []\n",
    "\n",
    "# Iterate over columns\n",
    "for col in df.columns:\n",
    "    # Find index where value is 1\n",
    "    index = df.index[df[col] == 1].tolist()\n",
    "    if index:\n",
    "        label_col.append(index[0])  # Append the first index where value is 1\n",
    "    else:\n",
    "        label_col.append('None')  # If no 1 is found, append None\n",
    "    name_col.append(col)\n",
    "\n",
    "# Create a new DataFrame\n",
    "output_df = pd.DataFrame({'Column': name_col, 'Label': label_col}).set_index('Column')\n",
    "\n",
    "custom_colors = [\n",
    "    # Shades of red/orange/yellow\n",
    "    \"Red\",\n",
    "    \"IndianRed\",\n",
    "    \"DarkRed\",\n",
    "    \"FireBrick\",\n",
    "    \"Tomato\",\n",
    "    \"Gold\",\n",
    "    \"DarkGoldenrod\",\n",
    "    \"Goldenrod\",\n",
    "    # Unchar\n",
    "    'white',\n",
    "    'white',\n",
    "    'white',\n",
    "    'white',\n",
    "    # Other species\n",
    "    \"Green\",\n",
    "    \"Blue\",\n",
    "    \"Purple\",\n",
    "    \"Cyan\",\n",
    "    \"Magenta\",\n",
    "    \"Lime\",\n",
    "    \"Pink\",\n",
    "]\n",
    "\n",
    "\n",
    "clr = dict(zip(phylon_order, custom_colors))"
   ]
  },
  {
   "cell_type": "code",
   "execution_count": null,
   "id": "e1c9f2bc-18a8-4922-a704-23a002f7f9f7",
   "metadata": {},
   "outputs": [],
   "source": [
    "from scipy.cluster.hierarchy import linkage, leaves_list\n",
    "from matplotlib.patches import Patch\n",
    "\n",
    "\n",
    "# Main sorted clustermap\n",
    "custom_cmap = matplotlib.colors.LinearSegmentedColormap.from_list('custom_cmap', ['white', 'white'])\n",
    "\n",
    "g = sns.clustermap(\n",
    "    L_binarized.loc[gene_order, phylon_order],\n",
    "    method='ward',\n",
    "    metric='euclidean',\n",
    "    row_cluster=False,\n",
    "    yticklabels=False,\n",
    "    cmap=custom_cmap,\n",
    "    col_colors=list(clr.values()),\n",
    "    cbar_pos=None,\n",
    "    figsize=(10,12)\n",
    ");\n",
    "\n",
    "# Perform hierarchical clustering\n",
    "linkage_matrix = linkage(L_binarized.loc[gene_order], method='ward', metric='euclidean')\n",
    "\n",
    "# Get the order of rows based on the clustering\n",
    "row_order = leaves_list(linkage_matrix)\n",
    "\n",
    "# Reorder the data based on clustering\n",
    "data_ordered = L_binarized.loc[gene_order, phylon_order]\n",
    "\n",
    "# Create masks for the heatmaps\n",
    "mask1 = ~highlight_mask.loc[gene_order, phylon_order]\n",
    "mask2 = highlight_mask.loc[gene_order, phylon_order]\n",
    "\n",
    "# Create the figure and the axes\n",
    "# fig, ax = plt.subplots(figsize=(10, 10))\n",
    "ax = g.ax_heatmap\n",
    "\n",
    "custom_cmap = matplotlib.colors.LinearSegmentedColormap.from_list('custom_cmap', ['white', 'black'])\n",
    "# Plot the first heatmap\n",
    "sns.heatmap(data_ordered, ax=ax, cmap=custom_cmap, mask=mask1, cbar=False, yticklabels=False)\n",
    "\n",
    "custom_cmap = matplotlib.colors.LinearSegmentedColormap.from_list('custom_cmap', ['white', 'red'])\n",
    "# Overlay the second heatmap\n",
    "sns.heatmap(data_ordered, ax=ax, cmap=custom_cmap, mask=mask2, cbar=False, yticklabels=False)\n",
    "\n",
    "\n",
    "legend_elements = [\n",
    "    Patch(facecolor='black', edgecolor='black', label='Chromosomal'),\n",
    "    Patch(facecolor='red', edgecolor='red', label='Plasmid')\n",
    "]\n",
    "\n",
    "# Adjust the legend size here\n",
    "ax.legend(handles=legend_elements, loc='upper right', fontsize=20, title_fontsize='13', markerscale=1.5)\n",
    "ax.tick_params(axis='x', which='both', bottom=False, top=False, labelbottom=False)\n",
    "\n",
    "plt.rcParams['svg.fonttype'] = 'none'\n",
    "plt.savefig('../images/fig3/L.png', format='png', dpi=600, bbox_inches='tight')\n",
    "plt.show()"
   ]
  },
  {
   "cell_type": "code",
   "execution_count": null,
   "id": "973a4f0d-581b-4ff8-bf94-483976dc6df9",
   "metadata": {},
   "outputs": [],
   "source": [
    "L_binarized.sum(axis=1).loc[gene_order]"
   ]
  },
  {
   "cell_type": "code",
   "execution_count": null,
   "id": "d5b613d3-2860-422e-afa6-0355ac50ff0c",
   "metadata": {},
   "outputs": [],
   "source": [
    "import matplotlib.pyplot as plt\n",
    "\n",
    "# Create the figure and axis for the area plot\n",
    "fig, ax = plt.subplots(figsize=(3, 12))\n",
    "\n",
    "row_sums = L_binarized.sum(axis=1).loc[gene_order].values\n",
    "\n",
    "# Plot the area chart vertically with reversed order\n",
    "ax.fill_betweenx(range(len(row_sums)), row_sums[::-1], color=\"black\", alpha=1)\n",
    "ax.plot(row_sums[::-1], range(len(row_sums)), color=\"black\")\n",
    "\n",
    "# Customize the plot\n",
    "ax.set_xlabel(\"Number of Phylons\")\n",
    "ax.set_xlim(right=0, left=max(row_sums))\n",
    "ax.set_ylim(bottom=0)\n",
    "plt.tick_params(left=False, labelleft=False)\n",
    "\n",
    "# Remove the axis borders\n",
    "for spine in ax.spines.values():\n",
    "    spine.set_visible(False)\n",
    "\n",
    "# Save and display the plot\n",
    "plt.savefig('../images/fig3/L_genes_hist.png', format='png', dpi=600)\n",
    "plt.show()\n"
   ]
  },
  {
   "cell_type": "code",
   "execution_count": null,
   "id": "0c6cf72e-235a-4838-bd7b-82b029c58e9a",
   "metadata": {},
   "outputs": [],
   "source": [
    "strain_order = []\n",
    "unchar_strain_order = []\n",
    "A_bin_char = A_binarized.loc[phylon_order]\n",
    "# zero-phylon strains\n",
    "noPhylon = A_bin_char.sum() == 0\n",
    "strain_order.extend(A_bin_char.sum()[noPhylon].index.tolist())\n",
    "\n",
    "# strain lists\n",
    "single_phylon_strains = A_bin_char.sum()[A_bin_char.sum() == 1].index\n",
    "multi_phylon_strains = A_bin_char.sum()[A_bin_char.sum() > 1].index\n",
    "\n",
    "for phylon in phylon_order:\n",
    "    if 'unchar' in phylon:\n",
    "        continue\n",
    "    else:\n",
    "        phylon_aff_binarized_single = A_bin_char.loc[phylon, single_phylon_strains]\n",
    "        phylon_aff_binarized_multi = A_bin_char.loc[phylon, multi_phylon_strains]\n",
    "    \n",
    "        inPhylon_single = phylon_aff_binarized_single == 1\n",
    "        inPhylon_multi = phylon_aff_binarized_multi == 1\n",
    "    \n",
    "        list1 = phylon_aff_binarized_single[inPhylon_single].index.tolist()\n",
    "        list2 = phylon_aff_binarized_multi[inPhylon_multi].index.tolist()\n",
    "        new_list2 = list(set(list2) - set(strain_order)) # ensures no double-counting\n",
    "        \n",
    "        strain_order.extend(list1)\n",
    "        strain_order.extend(new_list2)\n",
    "\n",
    "for phylon in characterized: # must be done after the first loop\n",
    "    if 'unchar' in phylon:\n",
    "        phylon_aff_binarized_single = A_bin_char.loc[phylon, single_phylon_strains]\n",
    "        phylon_aff_binarized_multi = A_bin_char.loc[phylon, multi_phylon_strains]\n",
    "    \n",
    "        inPhylon_single = phylon_aff_binarized_single == 1\n",
    "        inPhylon_multi = phylon_aff_binarized_multi == 1\n",
    "    \n",
    "        list1 = phylon_aff_binarized_single[inPhylon_single].index.tolist()\n",
    "        list2 = phylon_aff_binarized_multi[inPhylon_multi].index.tolist()\n",
    "        new_list1 = list(set(list1) - set(strain_order)) # ensures no double-counting\n",
    "        new_list2 = list(set(list2) - set(strain_order)) # ensures no double-counting\n",
    "        \n",
    "        strain_order.extend(new_list1)\n",
    "        strain_order.extend(new_list2)\n",
    "\n",
    "strain_order += unchar_strain_order\n",
    "\n",
    "A_bin_plotting = A_bin_char.loc[phylon_order, strain_order]"
   ]
  },
  {
   "cell_type": "code",
   "execution_count": null,
   "id": "dd07b1e1-f962-4e9c-b757-8c13048229d0",
   "metadata": {},
   "outputs": [],
   "source": [
    "custom_colors = [\n",
    "    '#FFFFFF',\n",
    "    # Shades of red/orange/yellow\n",
    "    \"Red\",\n",
    "    \"IndianRed\",\n",
    "    \"DarkRed\",\n",
    "    \"FireBrick\",\n",
    "    \"Tomato\",\n",
    "    \"Gold\",\n",
    "    \"DarkGoldenrod\",\n",
    "    \"Goldenrod\",\n",
    "    # Other species\n",
    "    \"Green\",\n",
    "    \"Blue\",\n",
    "    \"Purple\",\n",
    "    \"Cyan\",\n",
    "    \"Magenta\",\n",
    "    \"Lime\",\n",
    "    \"Pink\",\n",
    "]\n",
    "\n",
    "# custom_colors = {phylon:color for phylon, color in zip(range(len(characterized)+1), custom_colors)}"
   ]
  },
  {
   "cell_type": "code",
   "execution_count": null,
   "id": "ab6cfc43-f31e-4a2c-add3-a6322b004176",
   "metadata": {},
   "outputs": [],
   "source": [
    "A_bin_plotting = A_bin_char.loc[phylon_order, strain_order]\n",
    "for strain in A_bin_plotting.columns:\n",
    "    if A_bin_plotting.loc[characterized, strain].max() > 0:\n",
    "        phylon = A_bin_plotting.loc[characterized, strain].idxmax()\n",
    "        mult = characterized.index(phylon) + 1\n",
    "        A_bin_plotting[strain] *= mult\n",
    "\n",
    "# A-binarized\n",
    "sns.clustermap(A_bin_plotting.loc[phylon_order, strain_order].astype(int), xticklabels=False, row_cluster=False, col_cluster=False,\n",
    "               cmap = custom_colors, figsize=(6,10), cbar_pos=None)\n",
    "plt.rcParams['svg.fonttype'] = 'none'\n",
    "plt.savefig('../images/fig3/A.png', format='png', dpi=600, bbox_inches='tight')\n"
   ]
  },
  {
   "cell_type": "markdown",
   "id": "a4943087-a9e5-47c9-a040-80ce43ae52d2",
   "metadata": {},
   "source": [
    "# BGCFlow"
   ]
  },
  {
   "cell_type": "code",
   "execution_count": null,
   "id": "673d5b59-601b-443f-bf6b-74cbde041a1d",
   "metadata": {},
   "outputs": [],
   "source": [
    "bgc_genes = pd.read_pickle('../../data/processed/bgcflow_outputs/bgcFlow_CDS_Output.pickle')\n",
    "bgc_genes['genome_id'] = bgc_genes.genome_id.apply(lambda x: x.split('_')[1])"
   ]
  },
  {
   "cell_type": "code",
   "execution_count": null,
   "id": "bdf5400e-9890-4c9f-b35b-c47884a3c1fa",
   "metadata": {},
   "outputs": [],
   "source": [
    "bgc_clusters = pd.read_pickle('../../data/processed/bgcflow_outputs/bgcFlow_clusters.pickle')\n",
    "bgc_clusters['genome_id'] = bgc_clusters.genome_id.apply(lambda x: x.split('_')[1])"
   ]
  },
  {
   "cell_type": "code",
   "execution_count": null,
   "id": "f62d64cf-a3ff-4dce-807a-1e1ed8dec96b",
   "metadata": {},
   "outputs": [],
   "source": [
    "import gzip\n",
    "with gzip.open(f'../../data/processed/cd-hit-results/header_to_allele_80.pickle.gz', 'rb') as f:\n",
    "    header_to_allele = pickle.load(f)"
   ]
  },
  {
   "cell_type": "code",
   "execution_count": null,
   "id": "fe26b5bf-4eb8-4c21-bd4c-f2fe8b907b22",
   "metadata": {},
   "outputs": [],
   "source": [
    "def h2a(x):\n",
    "    try:\n",
    "        return header_to_allele[x].split('A')[0]\n",
    "    except:\n",
    "        return None\n",
    "\n",
    "def find_cat(gene):\n",
    "    if gene in df_core.index:\n",
    "        return 'core'\n",
    "    elif gene in df_acc.index:\n",
    "        return 'acc'\n",
    "    else:\n",
    "        return 'rare'"
   ]
  },
  {
   "cell_type": "code",
   "execution_count": null,
   "id": "c2e3d045-6a60-45ea-bd7a-ca38ee506e85",
   "metadata": {},
   "outputs": [],
   "source": [
    "for locus in bgc_genes.index:\n",
    "    gene = h2a(locus)\n",
    "    bgc_genes.loc[locus, 'Gene'] = gene\n",
    "    bgc_genes.loc[locus, 'Gene_cat'] = find_cat(gene)"
   ]
  },
  {
   "cell_type": "code",
   "execution_count": null,
   "id": "1665ceab-6a73-4c19-853a-bb0298078bb3",
   "metadata": {},
   "outputs": [],
   "source": [
    "clusters_core = pd.DataFrame()\n",
    "for cluster in bgc_clusters.index:\n",
    "    genome_id = bgc_clusters.loc[cluster, 'genome_id']\n",
    "    region = bgc_clusters.loc[cluster, 'bgc_id']\n",
    "    \n",
    "    cluster_genes = bgc_genes[(bgc_genes.genome_id == genome_id) & (bgc_genes.region_id == region)]\n",
    "    cluster_core = cluster_genes[cluster_genes.Gene_cat == 'core']\n",
    "    clusters_core.loc[cluster, 'core_genes'] = len(cluster_core.Gene.to_list())\n",
    "    clusters_core.loc[cluster, 'total_genes'] = len(cluster_genes.Gene.to_list())\n",
    "    if clusters_core.loc[cluster, 'total_genes'] > 0:\n",
    "        clusters_core.loc[cluster, 'ratio'] = clusters_core.loc[cluster, 'core_genes'] / clusters_core.loc[cluster, 'total_genes'] \n",
    "    else:\n",
    "        clusters_core.loc[cluster, 'ratio'] = 0"
   ]
  },
  {
   "cell_type": "markdown",
   "id": "8d0e7b6b-f770-4288-b895-f3d2abfd3942",
   "metadata": {},
   "source": [
    "### Region to type plots"
   ]
  },
  {
   "cell_type": "code",
   "execution_count": null,
   "id": "843fa82c-8381-40dd-9d80-c78763fb1700",
   "metadata": {},
   "outputs": [],
   "source": [
    "def region_to_type(region):\n",
    "    return bgc_clusters.set_index('bgc_id').loc[region, 'fam_id_0.30']\n",
    "\n",
    "def get_phylon_genes(phylon, L_binarized = L_binarized):\n",
    "    phylon_genes = L_binarized.loc[:,phylon]\n",
    "    return (phylon_genes[phylon_genes == 1]).index\n"
   ]
  },
  {
   "cell_type": "code",
   "execution_count": null,
   "id": "949deb5f-3b05-4eb2-a2b7-3f57dd412d6a",
   "metadata": {},
   "outputs": [],
   "source": [
    "phylon_bgc_classifications = {}\n",
    "\n",
    "## First line checks ot see struccture for all bgc genes\n",
    "# bgc_genes_acc = bgc_genes\n",
    "bgc_genes_acc = bgc_genes[bgc_genes.Gene.isin(L_binarized.index)]\n",
    "\n",
    "for phylon in characterized:\n",
    "    strains = get_strains(phylon)\n",
    "    ## First line checks to see structure for all bgc genes\n",
    "    # bgc_phylon_genes = bgc_genes_acc[bgc_genes_acc.genome_id.isin(strains)]\n",
    "    bgc_phylon_genes = bgc_genes_acc[bgc_genes_acc.genome_id.isin(strains) & bgc_genes_acc.Gene.isin(get_phylon_genes(phylon))]\n",
    "    \n",
    "    genes_and_regions = bgc_phylon_genes.groupby('Gene')['region_id'].apply(list)\n",
    "    \n",
    "    df_bgc_classifications = pd.DataFrame(genes_and_regions)\n",
    "    df_bgc_classifications['categories'] = df_bgc_classifications['region_id'].apply(lambda x: ([region_to_type(y) for y in x][0]))\n",
    "    \n",
    "    phylon_bgc_classifications[phylon] = df_bgc_classifications['categories'].to_dict()"
   ]
  },
  {
   "cell_type": "code",
   "execution_count": null,
   "id": "2826b7ab-4e56-4c30-96b6-df20683cefd2",
   "metadata": {},
   "outputs": [],
   "source": [
    "df = A_binarized.loc[characterized_order]\n",
    "\n",
    "# List to store labels and column names\n",
    "label_col = []\n",
    "name_col = []\n",
    "\n",
    "# Iterate over columns\n",
    "for col in df.columns:\n",
    "    # Find index where value is 1\n",
    "    index = df.index[df[col] == 1].tolist()\n",
    "    if index:\n",
    "        label_col.append(index[0])  # Append the first index where value is 1\n",
    "    else:\n",
    "        label_col.append('None')  # If no 1 is found, append None\n",
    "    name_col.append(col)\n",
    "\n",
    "# Create a new DataFrame\n",
    "output_df = pd.DataFrame({'Column': name_col, 'Label': label_col}).set_index('Column')\n",
    "\n",
    "custom_colors = [\n",
    "    # Shades of red/orange/yellow\n",
    "    \"Red\",\n",
    "    \"IndianRed\",\n",
    "    \"DarkRed\",\n",
    "    \"FireBrick\",\n",
    "    \"Tomato\",\n",
    "    \"Gold\",\n",
    "    \"DarkGoldenrod\",\n",
    "    \"Goldenrod\",\n",
    "    # Other species\n",
    "    \"Green\",\n",
    "    \"Blue\",\n",
    "    \"Purple\",\n",
    "    \"Cyan\",\n",
    "    \"Magenta\",\n",
    "    \"Lime\",\n",
    "    \"Pink\",\n",
    "]\n",
    "\n",
    "\n",
    "clr = dict(zip(characterized_order, custom_colors))"
   ]
  },
  {
   "cell_type": "code",
   "execution_count": null,
   "id": "87ca4b9c-b5ab-4f09-9cb8-976817c4804f",
   "metadata": {},
   "outputs": [],
   "source": [
    "phylon_bgc_classifications = {}\n",
    "for phylon in characterized:\n",
    "    strains = get_strains(phylon)\n",
    "    phylon_clusters = bgc_clusters[bgc_clusters.genome_id.isin(strains)]\n",
    "    # Remove duplicate genome_id and product pairs\n",
    "    phylon_clusters = phylon_clusters.drop_duplicates(subset=['genome_id', 'product'])\n",
    "    \n",
    "    phylon_bgc_classifications[phylon] = (phylon_clusters['product'].value_counts() / len(strains)).to_dict()\n",
    "\n",
    "from collections import Counter\n",
    "phylon_genes_bgc_counts = {}\n",
    "for phylon in phylon_bgc_classifications.keys():\n",
    "    genes_and_cats = phylon_bgc_classifications[phylon]\n",
    "    counts = Counter(genes_and_cats.values())\n",
    "    phylon_genes_bgc_counts[phylon] = counts\n",
    "\n",
    "\n",
    "\n",
    "from matplotlib import cm\n",
    "from matplotlib.colors import ListedColormap, LinearSegmentedColormap\n",
    "\n",
    "blue = \"#323ec1\" \n",
    "white = '#FFFFFF'\n",
    "red = \"#7a0600\"  \n",
    "\n",
    "# Generate the correct rows for the heatmap\n",
    "heatmap_df = pd.DataFrame(phylon_bgc_classifications).fillna(0)\n",
    "heatmap_df = heatmap_df.drop(heatmap_df.max(axis=1)[heatmap_df.max(axis=1) < .5].index)\n",
    "\n",
    "# Create a colormap from grey to red\n",
    "cmap = matplotlib.colors.LinearSegmentedColormap.from_list(\"grey_red\", [blue, white, red])\n",
    "plt.figure(figsize=(10, 5))\n",
    "g = sns.clustermap(heatmap_df, cmap=cmap, col_colors = list(clr.values()), col_cluster=False, row_cluster=False, \n",
    "                   cbar_pos=(0, .35, .03, .4))\n",
    "\n",
    "heatmap_ax = g.ax_heatmap\n",
    "pos = heatmap_ax.get_position()\n",
    "heatmap_ax.set_position([pos.x0, pos.y0, pos.width, pos.height * 0.98])  # Shift down and adjust height\n",
    "\n",
    "# Remove x-ticks and x-labels\n",
    "g.ax_heatmap.set_xticks([])\n",
    "g.ax_heatmap.set_xticklabels([])\n",
    "g.ax_heatmap.set_xlabel('')  # Optional, to clear any x-axis label"
   ]
  },
  {
   "cell_type": "markdown",
   "id": "2da2373e-7b6d-4835-8954-b03f80e80937",
   "metadata": {},
   "source": [
    "### Making plots for genes and presence of bgcs in strains"
   ]
  },
  {
   "cell_type": "code",
   "execution_count": null,
   "id": "4698784e-b9ae-403b-8dc2-e4ea3d912880",
   "metadata": {},
   "outputs": [],
   "source": [
    "fam_list = []\n",
    "for fam in bgc_clusters['fam_id_0.30'].unique():\n",
    "    if len((bgc_clusters[bgc_clusters['fam_id_0.30'] ==  fam]).genome_id.unique()) > 10: \n",
    "        fam_list.append(fam)\n",
    "bgc_clusters_temp = bgc_clusters[bgc_clusters['fam_id_0.30'].isin(fam_list)]\n",
    "\n",
    "fam_list = bgc_clusters['fam_id_0.30'].unique()"
   ]
  },
  {
   "cell_type": "code",
   "execution_count": null,
   "id": "b7733d66-416e-47aa-b0a9-cfca4bd319db",
   "metadata": {
    "scrolled": true
   },
   "outputs": [],
   "source": [
    "genes_per_fam = {fam:set() for fam in fam_list}\n",
    "for fam in tqdm(fam_list):\n",
    "    bgc_clusters_temp = bgc_clusters[bgc_clusters['fam_id_0.30'] == fam]['bgc_id'].values\n",
    "    for cluster in bgc_clusters_temp:\n",
    "        genes = set(bgc_genes[bgc_genes.region_id == cluster]['Gene'].values)\n",
    "        genes_per_fam[fam] = genes_per_fam[fam].union(genes)"
   ]
  },
  {
   "cell_type": "code",
   "execution_count": null,
   "id": "c2b060e2-def7-4ea0-b939-4f38e1c811f1",
   "metadata": {},
   "outputs": [],
   "source": [
    "phylon_genes_by_fam = {phylon:{} for phylon in characterized_order}\n",
    "for phylon in characterized_order:\n",
    "    phylon_genes = set(get_phylon_genes(phylon))\n",
    "    for fam in fam_list:\n",
    "        phylon_genes_by_fam[phylon][fam] = phylon_genes.intersection(genes_per_fam[fam])"
   ]
  },
  {
   "cell_type": "code",
   "execution_count": null,
   "id": "413faf4e-7da3-4e23-b079-45d769c6a85c",
   "metadata": {},
   "outputs": [],
   "source": [
    "phylon_bgc_classifications = {}\n",
    "for phylon in characterized:\n",
    "    strains = get_strains(phylon)\n",
    "    phylon_clusters = bgc_clusters[bgc_clusters.genome_id.isin(strains)]\n",
    "    # Remove duplicate genome_id and product pairs\n",
    "    phylon_clusters = phylon_clusters.drop_duplicates(subset=['genome_id', 'fam_id_0.30'])\n",
    "    \n",
    "    phylon_bgc_classifications[phylon] = (phylon_clusters['fam_id_0.30'].value_counts() / len(strains)).to_dict()"
   ]
  },
  {
   "cell_type": "code",
   "execution_count": null,
   "id": "475b71ac-cff7-48da-a6bd-737b4da90cde",
   "metadata": {},
   "outputs": [],
   "source": [
    "## Purpose of this cell:\n",
    "# Make lists of acc genes per phylon\n",
    "# Make list of core genes in BGCs\n",
    "# Make list of genes in each BGC\n",
    "\n",
    "accessory_genes_by_phylon = {}\n",
    "for phylon in tqdm(characterized_order):\n",
    "    strains = get_strains(phylon)\n",
    "    bgc_genes_from_strains = bgc_genes[bgc_genes.genome_id.isin(strains)].Gene.unique()\n",
    "    phylon_genes = get_phylon_genes(phylon)\n",
    "    accessory_genes_by_phylon[phylon] = [x for x in phylon_genes if x in bgc_genes_from_strains]\n",
    "\n",
    "\n",
    "core_genes = [x for x in df_core.index if x in bgc_genes.Gene.unique()]\n",
    "\n",
    "rare_genes = [x for x in df_rare.index if x in bgc_genes.Gene.unique()]\n",
    "\n",
    "\n",
    "bgc_genes_list = {}\n",
    "for bgc in tqdm(bgc_clusters['fam_id_0.30'].unique()):\n",
    "    bgc_ids = bgc_clusters[bgc_clusters['fam_id_0.30'] == bgc]['bgc_id'].unique()\n",
    "    bgc_genes_from_bgc = bgc_genes[bgc_genes.region_id.isin(bgc_ids)].Gene.unique()\n",
    "    bgc_genes_list[bgc] = bgc_genes_from_bgc"
   ]
  },
  {
   "cell_type": "code",
   "execution_count": null,
   "id": "8caee1fb-46cc-4740-b652-ba7c2df09333",
   "metadata": {},
   "outputs": [],
   "source": [
    "import numpy as np\n",
    "import pandas as pd\n",
    "import seaborn as sns\n",
    "import matplotlib.pyplot as plt\n",
    "from matplotlib.colors import to_hex, Normalize\n",
    "from matplotlib.cm import ScalarMappable\n",
    "\n",
    "# Generate phylon_bgc_classifications dictionary\n",
    "phylon_bgc_classifications = {}\n",
    "for phylon in characterized:\n",
    "    strains = get_strains(phylon)\n",
    "    phylon_clusters = bgc_clusters[bgc_clusters.genome_id.isin(strains)]\n",
    "    # Remove duplicate genome_id and product pairs\n",
    "    phylon_clusters = phylon_clusters.drop_duplicates(subset=['genome_id', 'fam_id_0.30'])\n",
    "    \n",
    "    phylon_bgc_classifications[phylon] = (phylon_clusters['fam_id_0.30'].value_counts() / len(strains)).to_dict()\n",
    "\n",
    "# Determine minimum percentage for BGCs\n",
    "bgc_min_percentage = {}\n",
    "for fam in bgc_clusters['fam_id_0.30'].unique():\n",
    "    try: \n",
    "        bgc_min_percentage[fam] = (min(d[fam] for d in phylon_bgc_classifications.values() if fam in d.keys()))\n",
    "    except: \n",
    "        bgc_min_percentage[fam] = 0\n",
    "\n",
    "# Collect BGCs that meet the criteria\n",
    "filtered_bgcs = [bgc for bgc in genes_per_fam.keys() if len(genes_per_fam[bgc]) > 0]\n",
    "filtered_bgcs = [bgc for bgc in filtered_bgcs if bgc_min_percentage[bgc] > .25]\n",
    "\n",
    "# Initialize matrices\n",
    "core_bgc_matrix = pd.DataFrame(0, index=['Core Genome', 'Rare Genome'], columns=filtered_bgcs)\n",
    "phylon_bgc_matrix = pd.DataFrame(0, index=accessory_genes_by_phylon.keys(), columns=filtered_bgcs)\n",
    "\n",
    "# Fill matrices with counts\n",
    "for gene in core_genes:\n",
    "    for bgc in filtered_bgcs:\n",
    "        if gene in genes_per_fam[bgc]:\n",
    "            core_bgc_matrix.loc['Core Genome', bgc] += 1\n",
    "\n",
    "for gene in rare_genes:\n",
    "    for bgc in filtered_bgcs:\n",
    "        if gene in genes_per_fam[bgc]:\n",
    "            core_bgc_matrix.loc['Rare Genome', bgc] += 1\n",
    "\n",
    "for phylon, phylon_genes in accessory_genes_by_phylon.items():\n",
    "    for bgc in filtered_bgcs:\n",
    "        if any(gene in genes_per_fam[bgc] for gene in phylon_genes):\n",
    "            phylon_bgc_matrix.loc[phylon, bgc] = len([gene for gene in phylon_genes if gene in genes_per_fam[bgc]])\n",
    "\n",
    "# Combine matrices for a comprehensive heatmap\n",
    "heatmap_data = pd.concat([core_bgc_matrix, phylon_bgc_matrix]).T\n",
    "\n",
    "# Separate the data into two parts\n",
    "core_rare_data = heatmap_data[['Core Genome', 'Rare Genome']]\n",
    "phylon_data = heatmap_data.drop(columns=['Core Genome', 'Rare Genome'])\n",
    "\n",
    "text_colors = phylon_data.copy().map(lambda x: 'grey')\n",
    "# Add percentage data to the text colors\n",
    "for phylon, bgc_counts in phylon_bgc_classifications.items():\n",
    "    for bgc, percentage in bgc_counts.items():\n",
    "        if bgc in heatmap_data.index and phylon in heatmap_data.columns:\n",
    "            # Use color gradient based on percentage\n",
    "            text_colors.at[bgc, phylon] = 'black'  # Example colormap\n",
    "\n",
    "\n",
    "# Plot heatmap with different colormaps\n",
    "fig, (ax1, ax2) = plt.subplots(ncols=2, figsize=(14, 8), gridspec_kw={'width_ratios': [1, len(phylon_data.columns) / 2]})\n",
    "\n",
    "# Core and rare genome heatmap\n",
    "sns.heatmap(core_rare_data, cmap=\"YlGnBu\", annot=False, fmt=\"d\", linewidths=.5, annot_kws={\"size\": 10}, cbar_kws={\"label\": \"Gene Count Across Pangenome\"}, ax=ax1)\n",
    "ax1.set_title('Core & Rare Genome')\n",
    "ax1.set_xlabel('Gene Categories')\n",
    "ax1.set_ylabel('BGCs')\n",
    "\n",
    "# Phylon heatmap\n",
    "sns.heatmap(phylon_data, cmap=\"RdYlBu_r\", annot=False, fmt=\"d\", linewidths=.5, annot_kws={\"size\": 10}, cbar_kws={\"label\": \"Gene Count Across Pangenome\"}, ax=ax2)\n",
    "ax2.set_title('Phylons')\n",
    "ax2.set_xlabel('Phylon')\n",
    "ax2.set_ylabel('')\n",
    "\n",
    "# Apply custom text colors\n",
    "for i in range(len(phylon_data.index)):\n",
    "    for j in range(len(phylon_data.columns)):\n",
    "        ind1 = phylon_data.index[i]\n",
    "        ind2 = phylon_data.columns[j]\n",
    "        text = str(phylon_data.iloc[i, j]) + '\\n(' + str(round(pd.DataFrame(phylon_bgc_classifications).fillna(0).loc[ind1,ind2],2)) + ')'\n",
    "        color = text_colors.iloc[i, j]\n",
    "        ax2.text(j + 0.5, i + 0.5, text, ha='center', va='center', color=color, fontsize=10, weight='bold')\n",
    "\n",
    "for i in range(len(core_rare_data.index)):\n",
    "    for j in range(len(core_rare_data.columns)):\n",
    "        color = 'grey'\n",
    "        text = str(core_rare_data.iloc[i, j])\n",
    "        ax1.text(j + 0.5, i + 0.5, text, ha='center', va='center', color=color, fontsize=10, weight='bold')\n",
    "\n",
    "\n",
    "# Align y-axis of both heatmaps\n",
    "ax2.yaxis.set_tick_params(length=0)\n",
    "ax2.set_yticks(ax1.get_yticks())\n",
    "ax2.set_yticklabels([])\n",
    "\n",
    "plt.tight_layout()\n",
    "\n",
    "\n",
    "plt.rcParams['svg.fonttype'] = 'none'\n",
    "plt.savefig('../images/fig3/BGC_heatmap.svg', format='svg', dpi=600, bbox_inches='tight')\n",
    "\n",
    "\n",
    "plt.show()\n"
   ]
  },
  {
   "cell_type": "code",
   "execution_count": null,
   "id": "9f5d614b-ca81-4ffb-a4d1-08f9d0a4730e",
   "metadata": {},
   "outputs": [],
   "source": [
    "plotting_data = pd.DataFrame(columns=['BGC', 'Phylon', 'Number_Genes', 'Pct'])\n",
    "for key in phylon_genes_by_fam.keys():\n",
    "    for bgc in genes_per_fam.keys():\n",
    "        plotting_data.loc[len(plotting_data)] = [bgc,key, len(phylon_genes_by_fam[key][bgc]), phylon_bgc_classifications[key].get(bgc,0)]\n",
    "plotting_data['BGC'] = plotting_data['BGC'].astype('category')\n",
    "plotting_data['Phylon'] = plotting_data['Phylon'].astype('category')"
   ]
  },
  {
   "cell_type": "code",
   "execution_count": null,
   "id": "4ecbe1d4-0316-45c4-996f-65903bc26625",
   "metadata": {},
   "outputs": [],
   "source": [
    "filtered_bgcs = [bgc for bgc in genes_per_fam.keys() if len(genes_per_fam[bgc]) > 0]\n",
    "\n",
    "# Determine minimum percentage for BGCs\n",
    "bgc_min_percentage = {}\n",
    "for fam in bgc_clusters['fam_id_0.30'].unique():\n",
    "    try: \n",
    "        bgc_min_percentage[fam] = (min(d[fam] for d in phylon_bgc_classifications.values() if fam in d.keys()))\n",
    "    except: \n",
    "        bgc_min_percentage[fam] = 0\n",
    "\n",
    "filtered_bgcs = [bgc for bgc in filtered_bgcs if bgc_min_percentage[bgc] > .25]"
   ]
  },
  {
   "cell_type": "code",
   "execution_count": null,
   "id": "8dfb16e6-3c02-48e3-b30e-0c0daa48d2ab",
   "metadata": {},
   "outputs": [],
   "source": [
    "custom_colors = [\n",
    "    # Shades of red/orange/yellow\n",
    "    \"Red\",\n",
    "    \"IndianRed\",\n",
    "    \"DarkRed\",\n",
    "    \"FireBrick\",\n",
    "    \"Tomato\",\n",
    "    \"Gold\",\n",
    "    \"DarkGoldenrod\",\n",
    "    \"Goldenrod\",\n",
    "    # Other species\n",
    "    \"Green\",\n",
    "    \"Blue\",\n",
    "    \"Purple\",\n",
    "    \"Cyan\",\n",
    "    \"Magenta\",\n",
    "    \"Lime\",\n",
    "    \"Pink\",\n",
    "]"
   ]
  },
  {
   "cell_type": "code",
   "execution_count": null,
   "id": "f63f9a5b-bd68-49cd-aef6-223359b2a210",
   "metadata": {},
   "outputs": [],
   "source": [
    "plotting_data_filt = plotting_data[plotting_data.BGC.isin(filtered_bgcs)]"
   ]
  },
  {
   "cell_type": "code",
   "execution_count": null,
   "id": "ad88eba8-9b92-400c-a6fc-5bf8c4fe6d2f",
   "metadata": {},
   "outputs": [],
   "source": [
    "import matplotlib.pyplot as plt\n",
    "import seaborn as sns\n",
    "import matplotlib.colors as mcolors\n",
    "\n",
    "# Create a custom colormap that starts with white and transitions to the desired colors\n",
    "cmap = mcolors.LinearSegmentedColormap.from_list(\"custom_white_to_orange\", [\"white\", \"#550044\", \"#BB0000\"])\n",
    "\n",
    "# Generate the clustermap with a colorbar\n",
    "clustermap = sns.clustermap(\n",
    "    plotting_data_filt.pivot(index='BGC', columns='Phylon', values='Pct')[characterized_order], \n",
    "    cmap=cmap, col_colors=list(clr.values()), row_cluster=False, col_cluster=False, figsize = (6,7)\n",
    ")\n",
    "\n",
    "# Add the colorbar alongside the heatmap\n",
    "clustermap.cax.set_position([.95, 0.25, 0.02, .578])  # Adjust these values as needed for positioning\n",
    "\n",
    "# Move y-axis labels to the left and remove x-axis labels and ticks\n",
    "clustermap.ax_heatmap.yaxis.set_ticks_position('left')\n",
    "clustermap.ax_heatmap.yaxis.set_label_position('left')\n",
    "clustermap.ax_heatmap.set_xticks([])  # Remove x-axis ticks\n",
    "clustermap.ax_heatmap.set_xticklabels([])  # Remove x-axis labels\n",
    "\n",
    "# Save and display\n",
    "plt.rcParams['svg.fonttype'] = 'none'\n",
    "plt.savefig('../images/fig3/BGC_heatmap.svg', format='svg', dpi=600, bbox_inches='tight')\n",
    "plt.show()\n"
   ]
  },
  {
   "cell_type": "markdown",
   "id": "4e1de223-c8aa-471f-beda-006f9d3b6911",
   "metadata": {},
   "source": [
    "# VFDB Analysis"
   ]
  },
  {
   "cell_type": "code",
   "execution_count": null,
   "id": "6f2d63b4-4e2b-4f38-9b56-b565cfe41db1",
   "metadata": {},
   "outputs": [],
   "source": [
    "# import blast results and faa file to translate between IDs\n",
    "blast_results = pd.read_csv('../../data/blastdbs/vfdb.txt', sep='\\t', header=None)\n",
    "                           \n",
    "blast_results.columns = ['query', 'target', 'identity', 'len', 'mismatch', 'gapopen', 'qstart', 'qend', 'tstart', 'tend',\n",
    "                                     'eval', 'bitscore']\n",
    "blast_results = blast_results[blast_results.identity > 80]\n",
    "blast_results['query'] = blast_results['query'].apply(lambda x: x.split('A')[0])\n",
    "blast_results['target'] = blast_results['target'].apply(lambda x: x.split('(')[0])\n",
    "blast_results = blast_results.sort_values(by=['query', 'eval'], ascending=[True, True])\n",
    "blast_results  = blast_results.drop_duplicates(subset='query', keep='first')\n",
    "\n",
    "def parse_fasta(file_path):\n",
    "    with open(file_path, \"r\") as f:\n",
    "        fasta_data = f.readlines()\n",
    "\n",
    "    # Initialize an empty list to store the results\n",
    "    results = {}\n",
    "\n",
    "    # Regular expressions for matching the labels\n",
    "    vfg_pattern = r\"VFG\\d{6}\"  # Match VFG followed by 6 digits\n",
    "    vf_pattern = r\"VF\\d{4,6}\"  # Match VF followed by 4 to 6 digits\n",
    "    vfc_pattern = r\"VFC\\d{4,6}\"  # Match VFC followed by 4 to 6 digits\n",
    "\n",
    "    # Iterate over the lines\n",
    "    for line in fasta_data:\n",
    "        # If the line starts with '>' it's a header\n",
    "        if line.startswith(\">\"):\n",
    "            # Extract the VFG label using regex\n",
    "            vfg_match = re.search(vfg_pattern, line)\n",
    "            vf_match = re.search(vf_pattern, line)\n",
    "            vfc_match = re.search(vfc_pattern, line)\n",
    "\n",
    "            if vfg_match:\n",
    "                vfg_label = vfg_match.group(0)\n",
    "                \n",
    "                # Extract VF and VFC labels if they exist in the header\n",
    "                vf_label = vf_match.group(0) if vf_match else \"Unknown VF\"\n",
    "                vfc_label = vfc_match.group(0) if vfc_match else \"Unknown VFC\"\n",
    "                \n",
    "                results[vfg_label] =  (vf_label, vfc_label)\n",
    "\n",
    "    return results\n",
    "\n",
    "# Step 2: Use the function and print the results\n",
    "file_path = \"../../data/blastdbs/vfdb/VFDB_setA_pro.fas\"  # Replace with your FASTA file path\n",
    "mapped_data = parse_fasta(file_path)\n",
    "\n",
    "vf_annots = pd.read_csv('../../data/blastdbs/vfdb/VFs.csv', skiprows=1, index_col=0)\n",
    "\n",
    "blast_results['vfid'] = blast_results.target.apply(lambda x: mapped_data[x][0])\n",
    "blast_results['category'] = blast_results['vfid'].apply(lambda x: vf_annots.loc[x, 'VFcategory'])\n",
    "blast_results['vfname'] = blast_results['vfid'].apply(lambda x: vf_annots.loc[x, 'VF_Name'])\n",
    "blast_results['gene_name'] = [bakta_annotations.loc[x, 'Name'] for x in blast_results['query']]"
   ]
  },
  {
   "cell_type": "code",
   "execution_count": null,
   "id": "f386a3d5-8cdf-4d8a-bf91-3332879b8382",
   "metadata": {},
   "outputs": [],
   "source": [
    "pili_genes_acc = list(set(df_eggnog.loc[df_acc.index][df_eggnog.loc[df_acc.index].Description.str.contains('pil', case=False)].index).union(set(bakta_annotations.loc[df_acc.index][bakta_annotations.loc[df_acc.index].Product.str.contains('pil', case=False)].index)))\n",
    "pili_genes_acc = (df_eggnog.loc[df_acc.index][df_eggnog.loc[df_acc.index].Description.str.contains('pil', case=False)].index)\n",
    "L_temp = L_binarized.loc[pili_genes_acc, characterized_order].copy()\n",
    "L_temp = L_temp[L_temp.sum(axis=1) > 0]\n",
    "L_temp.index = bakta_annotations.loc[L_temp.index, 'Name']\n",
    "\n",
    "sns.barplot(data  = L_temp.sum().reset_index(), x = 'index', y = 0, hue='index', palette=custom_colors)\n",
    "plt.xticks([])\n",
    "plt.xlabel(\"Phylon\")\n",
    "plt.ylabel('Number of Pili-Associated Genes')\n",
    "plt.title('Pili-Associated Genes Across Phylons')\n",
    "# colors = [\"grey\", \"green\"]\n",
    "\n",
    "# # Create the custom colormap\n",
    "# cmap = sns.blend_palette(colors, as_cmap=True)\n",
    "\n",
    "# g = sns.clustermap(L_temp\n",
    "#            , cmap= cmap, col_cluster=False, figsize=(14,14), row_cluster=True)\n"
   ]
  },
  {
   "cell_type": "code",
   "execution_count": null,
   "id": "d6632449-dd96-4d84-aa85-6a5dd903b866",
   "metadata": {},
   "outputs": [],
   "source": [
    "inds = blast_results.set_index('query').loc[[x for x in blast_results['query'] if x in df_acc.index]].sort_values('category').index\n",
    "L_temp = L_binarized.loc[inds, characterized_order].copy()\n",
    "L_temp = L_temp[L_temp.sum(axis=1) > 0]\n",
    "\n",
    "# Create a color palette (you can customize this)\n",
    "unique_categories = blast_results.set_index('query').loc[L_temp.index].sort_values('category').category.unique()\n",
    "palette = sns.color_palette(\"tab10\", len(unique_categories))\n",
    "category_color_map = dict(zip(unique_categories, palette))\n",
    "\n",
    "# Step 2: Map the colors to the categories\n",
    "row_colors = blast_results.set_index('query').loc[L_temp.index].sort_values('category').category.map(category_color_map)\n",
    "\n",
    "L_temp.index = blast_results.set_index('query').loc[L_temp.index].sort_values('category').vfname\n",
    "\n",
    "\n",
    "# Remove the colorbar from the clustermap\n",
    "g = sns.clustermap(\n",
    "    L_temp,\n",
    "    cmap='Greys',\n",
    "    col_cluster=False,\n",
    "    figsize=(14, 14),\n",
    "    row_cluster=True,\n",
    "    row_colors=row_colors.values,\n",
    "    cbar_pos=None,\n",
    "    col_colors=custom_colors\n",
    ")\n",
    "\n",
    "plt.ylabel(\"Genes By Virulence Factor Name\", fontsize=15)\n",
    "plt.xlabel(\"Phylons\", fontsize=15)\n",
    "plt.title(\"Virulence Factors by Phylon\", y=1.05, fontsize=20)\n",
    "\n",
    "# Remove x-ticks\n",
    "g.ax_heatmap.set_xticks([])\n",
    "\n",
    "# Add a legend for row colors\n",
    "row_legend_patches = [\n",
    "    mpatches.Patch(color=color, label=category)\n",
    "    for category, color in category_color_map.items()\n",
    "]\n",
    "\n",
    "# Add a separate axis for the row legend\n",
    "row_legend_ax = g.fig.add_axes([0.02, 0.3, 0.1, 0.1])  # Adjust position as needed\n",
    "row_legend_ax.axis(\"off\")\n",
    "row_legend_ax.legend(\n",
    "    handles=row_legend_patches,\n",
    "    title=\"Row Categories\",\n",
    "    loc='center',\n",
    "    fontsize=12\n",
    ")\n",
    "\n",
    "# Add a legend for column colors\n",
    "column_unique_categories = characterized_order\n",
    "column_palette = custom_colors\n",
    "column_color_map = dict(zip(column_unique_categories, column_palette))\n",
    "column_legend_patches = [\n",
    "    mpatches.Patch(color=color, label=category)\n",
    "    for category, color in column_color_map.items()\n",
    "]\n",
    "\n",
    "# Add a separate axis for the column legend\n",
    "column_legend_ax = g.fig.add_axes([0.02, 0.5, 0.1, 0.1])  # Adjust position as needed\n",
    "column_legend_ax.axis(\"off\")\n",
    "column_legend_ax.legend(\n",
    "    handles=column_legend_patches,\n",
    "    title=\"Phylons\",\n",
    "    loc='center',\n",
    "    fontsize=12\n",
    ")\n",
    "\n",
    "\n",
    "plt.show()"
   ]
  },
  {
   "cell_type": "markdown",
   "id": "dfd20186-c811-4e6f-8ec2-8ba0576839f2",
   "metadata": {},
   "source": [
    "# Hormaechei core gene analysis and visualization"
   ]
  },
  {
   "cell_type": "code",
   "execution_count": null,
   "id": "8cbe364e-af03-4541-8ec2-79b29c38a13d",
   "metadata": {},
   "outputs": [],
   "source": [
    "hormaechei_core_genes = set(get_phylon_genes('hormaechei-hormaechei')) # hormaechei phylon to start set\n",
    "for phylon in characterized:\n",
    "    if 'hormaechei' in phylon:\n",
    "        hormaechei_core_genes = hormaechei_core_genes.intersection(set(get_phylon_genes(phylon)))\n",
    "    else:\n",
    "        hormaechei_core_genes = hormaechei_core_genes - set(get_phylon_genes(phylon))"
   ]
  },
  {
   "cell_type": "code",
   "execution_count": null,
   "id": "16a35f77-dc0e-4e01-b139-586810648f6e",
   "metadata": {},
   "outputs": [],
   "source": [
    "n_genes = pd.Series()\n",
    "for phylon in characterized:\n",
    "    n_genes[phylon] = df_eggnog.loc[get_phylon_genes(phylon)].COG_category.apply(lambda x:x[0]).value_counts()['N']\n",
    "    # display(phylon, df_eggnog.loc[get_phylon_genes(phylon)].COG_category.apply(lambda x:x[0]).value_counts())"
   ]
  },
  {
   "cell_type": "code",
   "execution_count": null,
   "id": "f305804a-e049-4c98-9041-3739fd9630d7",
   "metadata": {},
   "outputs": [],
   "source": [
    "plt.bar(n_genes.index, n_genes.values, color = custom_colors)\n",
    "plt.xticks([]);\n",
    "plt.title('Number of Motility Associated Genes')"
   ]
  }
 ],
 "metadata": {
  "kernelspec": {
   "display_name": "Python [conda env:pan-phylon]",
   "language": "python",
   "name": "conda-env-pan-phylon-py"
  },
  "language_info": {
   "codemirror_mode": {
    "name": "ipython",
    "version": 3
   },
   "file_extension": ".py",
   "mimetype": "text/x-python",
   "name": "python",
   "nbconvert_exporter": "python",
   "pygments_lexer": "ipython3",
   "version": "3.12.2"
  }
 },
 "nbformat": 4,
 "nbformat_minor": 5
}
