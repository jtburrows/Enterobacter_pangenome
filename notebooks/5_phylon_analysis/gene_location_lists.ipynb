{
 "cells": [
  {
   "cell_type": "code",
   "execution_count": null,
   "id": "8cbe84ba-fd51-427e-91d2-0eb046c3dcea",
   "metadata": {},
   "outputs": [],
   "source": [
    "import logging\n",
    "import re\n",
    "import urllib\n",
    "from io import StringIO\n",
    "import pandas as pd\n",
    "import numpy as np\n",
    "import matplotlib\n",
    "import matplotlib.pyplot as plt\n",
    "import gzip\n",
    "import pickle\n",
    "from tqdm.notebook import tqdm, trange\n",
    "import multiprocessing\n",
    "from IPython.display import display, HTML\n",
    "import itertools\n",
    "from statistics import mode\n",
    "\n",
    "%matplotlib inline\n",
    "%config InlineBackend.figure_format = 'svg'"
   ]
  },
  {
   "cell_type": "code",
   "execution_count": null,
   "id": "51bc7fcb-d5dd-4df3-95ae-e2519dcd3da8",
   "metadata": {},
   "outputs": [],
   "source": [
    "PATH_TO_DATA = '../../data'"
   ]
  },
  {
   "cell_type": "code",
   "execution_count": null,
   "id": "62f92219-4a5f-452e-b004-daf8a4d51ad6",
   "metadata": {},
   "outputs": [],
   "source": [
    "DF_GENES = f'{PATH_TO_DATA}/processed/cd-hit-results/sim80/Ebacter_strain_by_gene.pickle.gz'\n",
    "ENRICHED_METADATA = f'{PATH_TO_DATA}/metadata/enriched_metadata.csv'\n",
    "GFF_Paths = f'{PATH_TO_DATA}/processed/bakta/'\n",
    "DF_EGGNOG = f'{PATH_TO_DATA}/processed/df_eggnog.csv'\n",
    "DF_CORE_COMPLETE = f'{PATH_TO_DATA}/processed/CAR_genomes/df_core_complete.pickle'\n",
    "L_BINARIZED = f'{PATH_TO_DATA}/processed/nmf-outputs/L_binarized.csv'"
   ]
  },
  {
   "cell_type": "code",
   "execution_count": null,
   "id": "f74981e8-d33d-4c27-a436-7d910b1ee15f",
   "metadata": {},
   "outputs": [],
   "source": [
    "df_eggnog = pd.read_csv(DF_EGGNOG, low_memory=False).set_index('gene')"
   ]
  },
  {
   "cell_type": "code",
   "execution_count": null,
   "id": "17f2f5d9-fa51-4316-ae10-7e8f4d1b629d",
   "metadata": {},
   "outputs": [],
   "source": [
    "metadata = pd.read_csv(ENRICHED_METADATA, index_col = 0, dtype='object')\n",
    "complete_metadata = metadata[metadata.genome_status == 'Complete']"
   ]
  },
  {
   "cell_type": "code",
   "execution_count": null,
   "id": "e0e2fff8-a4f1-423c-9117-d604f0f725de",
   "metadata": {},
   "outputs": [],
   "source": [
    "df_core = pd.read_pickle(DF_CORE_COMPLETE)\n",
    "df_genes = pd.read_pickle(DF_GENES)\n",
    "df_genes"
   ]
  },
  {
   "cell_type": "code",
   "execution_count": null,
   "id": "6c092541-3ff4-4eb7-b06c-6a5b05fd6bb3",
   "metadata": {},
   "outputs": [],
   "source": [
    "L_binarized = pd.read_csv(L_BINARIZED, index_col=0)\n",
    "L_binarized"
   ]
  },
  {
   "cell_type": "code",
   "execution_count": null,
   "id": "8aa9b7f1-e4b3-45aa-b28a-46279d69570f",
   "metadata": {},
   "outputs": [],
   "source": [
    "# create dict where each strain has a gene vector\n",
    "strain_vectors = {}"
   ]
  },
  {
   "cell_type": "code",
   "execution_count": null,
   "id": "08e87957-d5ad-4447-81f6-cd0a58861850",
   "metadata": {},
   "outputs": [],
   "source": [
    "with gzip.open(f'{PATH_TO_DATA}/processed/cd-hit-results/header_to_allele_80.pickle.gz', 'rb') as f:\n",
    "    header_to_allele = pickle.load(f)"
   ]
  },
  {
   "cell_type": "markdown",
   "id": "db873b68-1c43-4d46-976f-c834adf49a5a",
   "metadata": {},
   "source": [
    "## Functions to parse GFF"
   ]
  },
  {
   "cell_type": "code",
   "execution_count": null,
   "id": "683fad74-e6ee-4e6d-ae03-14f85e80e4ab",
   "metadata": {},
   "outputs": [],
   "source": [
    "def extract_contig_sizes(gff_file, index=None):\n",
    "     if isinstance(gff_file, str):\n",
    "        gff_file = [gff_file]\n",
    "\n",
    "    for gff in gff_file:\n",
    "        with open(gff, \"r\") as f:\n",
    "            lines = f.readlines()\n",
    "\n",
    "        # Get lines to skip\n",
    "        skiprow = sum([line.startswith(\"#\") for line in lines]) - 2\n",
    "\n",
    "        # Read GFF\n",
    "        names = [\n",
    "            \"accession\",\n",
    "            \"source\",\n",
    "            \"feature\",\n",
    "            \"start\",\n",
    "            \"end\",\n",
    "            \"score\",\n",
    "            \"strand\",\n",
    "            \"phase\",\n",
    "            \"attributes\",\n",
    "        ]\n",
    "        DF_gff = pd.read_csv(gff, sep=\"\\t\", skiprows=skiprow, names=names, header=None, low_memory=False)\n",
    "\n",
    "def _get_attr(attributes, attr_id, ignore=False):\n",
    "    \"\"\"\n",
    "    Helper function for parsing GFF annotations\n",
    "\n",
    "    Parameters\n",
    "    ----------\n",
    "    attributes : str\n",
    "        Attribute string\n",
    "    attr_id : str\n",
    "        Attribute ID\n",
    "    ignore : bool\n",
    "        If true, ignore errors if ID is not in attributes (default: False)\n",
    "\n",
    "    Returns\n",
    "    -------\n",
    "    str, optional\n",
    "        Value of attribute\n",
    "    \"\"\"\n",
    "\n",
    "    try:\n",
    "        return re.search(attr_id + \"=(.*?)(;|$)\", attributes).group(1)\n",
    "    except AttributeError:\n",
    "        if ignore:\n",
    "            return None\n",
    "        else:\n",
    "            raise ValueError(\"{} not in attributes: {}\".format(attr_id, attributes))\n",
    "\n",
    "def gff2pandas(gff_file, feature=[\"CDS\"], index=None):\n",
    "    \"\"\"\n",
    "    Converts GFF file(s) to a Pandas DataFrame\n",
    "    Parameters\n",
    "    ----------\n",
    "    gff_file : str or list\n",
    "        Path(s) to GFF file\n",
    "    feature: str or list\n",
    "        Name(s) of features to keep (default = \"CDS\")\n",
    "    index : str, optional\n",
    "        Column or attribute to use as index\n",
    "\n",
    "    Returns\n",
    "    -------\n",
    "    df_gff: ~pandas.DataFrame\n",
    "        GFF formatted as a DataFrame\n",
    "    \"\"\"\n",
    "\n",
    "    # Argument checking\n",
    "    if isinstance(gff_file, str):\n",
    "        gff_file = [gff_file]\n",
    "\n",
    "    if isinstance(feature, str):\n",
    "        feature = [feature]\n",
    "\n",
    "    result = []\n",
    "\n",
    "    for gff in gff_file:\n",
    "        with open(gff, \"r\") as f:\n",
    "            lines = f.readlines()\n",
    "\n",
    "        # Get lines to skip\n",
    "        skiprow = sum([line.startswith(\"#\") for line in lines]) - 2\n",
    "\n",
    "        # Read GFF\n",
    "        names = [\n",
    "            \"accession\",\n",
    "            \"source\",\n",
    "            \"feature\",\n",
    "            \"start\",\n",
    "            \"end\",\n",
    "            \"score\",\n",
    "            \"strand\",\n",
    "            \"phase\",\n",
    "            \"attributes\",\n",
    "        ]\n",
    "        DF_gff = pd.read_csv(gff, sep=\"\\t\", skiprows=skiprow, names=names, header=None, low_memory=False)\n",
    "        \n",
    "        region = DF_gff[DF_gff.feature == 'region']\n",
    "        region_len = int(region.iloc[0].end)\n",
    "\n",
    "        oric = 0\n",
    "        # try:\n",
    "        #     oric = list(DF_gff[DF_gff.feature == 'oriC'].start)[0]\n",
    "        # except:\n",
    "        #     oric = [0]\n",
    "        \n",
    "        # Filter for CDSs\n",
    "        DF_cds = DF_gff[DF_gff.feature.isin(feature)]\n",
    "\n",
    "        # Sort by start position\n",
    "        DF_cds = DF_cds.sort_values(\"start\")\n",
    "\n",
    "        # Extract attribute information\n",
    "        DF_cds[\"locus_tag\"] = DF_cds.attributes.apply(_get_attr, attr_id=\"locus_tag\")\n",
    "\n",
    "        result.append(DF_cds)\n",
    "\n",
    "    DF_gff = pd.concat(result)\n",
    "\n",
    "    if index:\n",
    "        if DF_gff[index].duplicated().any():\n",
    "            logging.warning(\"Duplicate {} detected. Dropping duplicates.\".format(index))\n",
    "            DF_gff = DF_gff.drop_duplicates(index)\n",
    "        DF_gff.set_index(\"locus_tag\", drop=True, inplace=True)\n",
    "\n",
    "    return DF_gff[['accession', 'start', 'end', 'locus_tag']], region_len, oric"
   ]
  },
  {
   "cell_type": "markdown",
   "id": "d8e2cd3c-ff8c-4ed6-9049-c0012c30e108",
   "metadata": {},
   "source": [
    "## Get vectors of genes on chromosomes"
   ]
  },
  {
   "cell_type": "code",
   "execution_count": null,
   "id": "6c8e3a11-84d0-4c79-b686-2a796f53ff91",
   "metadata": {},
   "outputs": [],
   "source": [
    "def h2a(x):\n",
    "    try:\n",
    "        return header_to_allele[x].split('A')[0]\n",
    "    except:\n",
    "        return None\n",
    "        \n",
    "    \n",
    "for strain in tqdm(complete_metadata.genome_id):\n",
    "    DF_gff, size, oric = gff2pandas(f'{PATH_TO_DATA}/processed/bakta/{strain}/{strain}.gff3')\n",
    "    DF_gff['gene'] = DF_gff.locus_tag.apply(lambda x: h2a(x))\n",
    "    DF_gff = DF_gff[DF_gff.accession == DF_gff.accession.value_counts().index[0]]\n",
    "    DF_gff = DF_gff[['gene','start']]\n",
    "    gene_order = (DF_gff.sort_values('start').gene.to_list())\n",
    " \n",
    "    strain_vectors[strain] = gene_order"
   ]
  },
  {
   "cell_type": "code",
   "execution_count": null,
   "id": "41092e2a-d639-48b6-84e6-cea4d0352dff",
   "metadata": {},
   "outputs": [],
   "source": [
    "gene_chrom_counts = {}\n",
    "gene_totals = df_genes.loc[L_binarized.index,df_core.columns].sum(axis=1)\n",
    "for gene in tqdm(L_binarized.index):\n",
    "    count = 0\n",
    "    total_count = gene_totals.loc[gene]\n",
    "    for strain in strain_vectors.keys():\n",
    "        if gene in strain_vectors[strain]:\n",
    "            count +=1\n",
    "    gene_chrom_counts[gene] = count/total_count"
   ]
  },
  {
   "cell_type": "code",
   "execution_count": null,
   "id": "6748db2d-10df-4c61-b824-92b1bf821bc9",
   "metadata": {},
   "outputs": [],
   "source": [
    "gene_locs = pd.DataFrame.from_dict(gene_chrom_counts, orient='index', columns=['chrom_presence'])\n",
    "gene_locs['location'] = gene_locs.chrom_presence.apply(lambda x: 'chrom' if x > .5 else 'plasmid')\n",
    "gene_locs"
   ]
  },
  {
   "cell_type": "code",
   "execution_count": null,
   "id": "fc5e3573-da17-47f7-839c-dc7afc200630",
   "metadata": {},
   "outputs": [],
   "source": [
    "gene_locs.to_csv('acc_gene_location.csv')"
   ]
  },
  {
   "cell_type": "markdown",
   "id": "ea9041ea-1084-4629-ad5e-396114438f76",
   "metadata": {},
   "source": [
    "# Location of all genes"
   ]
  },
  {
   "cell_type": "code",
   "execution_count": null,
   "id": "8f8e599f-480f-4f5b-8e07-840365cefc2a",
   "metadata": {},
   "outputs": [],
   "source": [
    "gene_chrom_counts = {}\n",
    "gene_totals = df_genes.loc[:,df_core.columns].sum(axis=1)\n",
    "for gene in tqdm(df_genes.index):\n",
    "    count = 0\n",
    "    total_count = gene_totals.loc[gene]\n",
    "    for strain in strain_vectors.keys():\n",
    "        if gene in strain_vectors[strain]:\n",
    "            count +=1\n",
    "    gene_chrom_counts[gene] = count/total_count"
   ]
  },
  {
   "cell_type": "code",
   "execution_count": null,
   "id": "91c31974-3f20-4d53-821b-be2261b26f41",
   "metadata": {},
   "outputs": [],
   "source": [
    "gene_locs = pd.DataFrame.from_dict(gene_chrom_counts, orient='index', columns=['chrom_presence']).dropna()\n",
    "gene_locs['location'] = gene_locs.chrom_presence.apply(lambda x: 'chrom' if x > .5 else 'plasmid')\n",
    "gene_locs"
   ]
  },
  {
   "cell_type": "code",
   "execution_count": null,
   "id": "f52db6ca-4311-40b2-abfe-220b44e90350",
   "metadata": {},
   "outputs": [],
   "source": [
    "gene_locs.to_csv('complete_gene_location.csv')"
   ]
  },
  {
   "cell_type": "code",
   "execution_count": null,
   "id": "0401da45-b52d-41e0-982a-d4ae21a5efd1",
   "metadata": {},
   "outputs": [],
   "source": [
    "from scipy.cluster.hierarchy import linkage, leaves_list\n",
    "from matplotlib.patches import Patch\n",
    "\n",
    "\n",
    "# Main sorted clustermap\n",
    "custom_cmap = matplotlib.colors.LinearSegmentedColormap.from_list('custom_cmap', ['white', 'white'])\n",
    "\n",
    "g = sns.clustermap(\n",
    "    L_binarized.loc[gene_order, phylon_order],\n",
    "    method='ward',\n",
    "    metric='euclidean',\n",
    "    row_cluster=False,\n",
    "    yticklabels=False,\n",
    "    cmap=custom_cmap,\n",
    "    col_colors=list(clr.values()),\n",
    "    cbar_pos=None,\n",
    "    figsize=(10,12)\n",
    ");\n",
    "\n",
    "# Perform hierarchical clustering\n",
    "linkage_matrix = linkage(L_binarized.loc[gene_order], method='ward', metric='euclidean')\n",
    "\n",
    "# Get the order of rows based on the clustering\n",
    "row_order = leaves_list(linkage_matrix)\n",
    "\n",
    "# Reorder the data based on clustering\n",
    "data_ordered = L_binarized.loc[gene_order, phylon_order]\n",
    "\n",
    "# Create masks for the heatmaps\n",
    "mask1 = ~highlight_mask.loc[gene_order, phylon_order]\n",
    "mask2 = highlight_mask.loc[gene_order, phylon_order]\n",
    "\n",
    "# Create the figure and the axes\n",
    "# fig, ax = plt.subplots(figsize=(10, 10))\n",
    "ax = g.ax_heatmap\n",
    "\n",
    "custom_cmap = matplotlib.colors.LinearSegmentedColormap.from_list('custom_cmap', ['white', 'black'])\n",
    "# Plot the first heatmap\n",
    "sns.heatmap(data_ordered, ax=ax, cmap=custom_cmap, mask=mask1, cbar=False, yticklabels=False)\n",
    "\n",
    "custom_cmap = matplotlib.colors.LinearSegmentedColormap.from_list('custom_cmap', ['white', 'red'])\n",
    "# Overlay the second heatmap\n",
    "sns.heatmap(data_ordered, ax=ax, cmap=custom_cmap, mask=mask2, cbar=False, yticklabels=False)\n",
    "\n",
    "# # Add a colorbar for each heatmap\n",
    "# norm1 = plt.Normalize(vmin=data_ordered.min().min(), vmax=data_ordered.max().max())\n",
    "# sm1 = plt.cm.ScalarMappable(cmap='Greys', norm=norm1)\n",
    "# sm1.set_array([])\n",
    "# cbar1 = fig.colorbar(sm1, ax=ax, orientation='vertical', fraction=0.05, pad=0.02)\n",
    "# cbar1.set_label('Non-Highlighted Data')\n",
    "\n",
    "# sm2 = plt.cm.ScalarMappable(cmap='Blues', norm=norm1)  # Use same norm for consistency\n",
    "# sm2.set_array([])\n",
    "# cbar2 = fig.colorbar(sm2, ax=ax, orientation='vertical', fraction=0.05, pad=0.02)\n",
    "# cbar2.set_label('Highlighted Data')\n",
    "\n",
    "legend_elements = [\n",
    "    Patch(facecolor='black', edgecolor='black', label='Chromosomal'),\n",
    "    Patch(facecolor='red', edgecolor='red', label='Plasmid')\n",
    "]\n",
    "ax.legend(handles=legend_elements, loc='upper right')\n",
    "\n",
    "\n",
    "plt.show()"
   ]
  }
 ],
 "metadata": {
  "kernelspec": {
   "display_name": "Python [conda env:pan-phylon]",
   "language": "python",
   "name": "conda-env-pan-phylon-py"
  },
  "language_info": {
   "codemirror_mode": {
    "name": "ipython",
    "version": 3
   },
   "file_extension": ".py",
   "mimetype": "text/x-python",
   "name": "python",
   "nbconvert_exporter": "python",
   "pygments_lexer": "ipython3",
   "version": "3.12.2"
  }
 },
 "nbformat": 4,
 "nbformat_minor": 5
}
