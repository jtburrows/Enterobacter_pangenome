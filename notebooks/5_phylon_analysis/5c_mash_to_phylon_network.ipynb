{
 "cells": [
  {
   "cell_type": "code",
   "execution_count": null,
   "id": "d0f73a5b-98a2-4a66-9d22-8f14d55cb438",
   "metadata": {},
   "outputs": [],
   "source": [
    "import logging\n",
    "import re\n",
    "import urllib\n",
    "from io import StringIO\n",
    "import pandas as pd\n",
    "import numpy as np\n",
    "import matplotlib\n",
    "import matplotlib.pyplot as plt\n",
    "import gzip\n",
    "import pickle\n",
    "from tqdm.notebook import tqdm, trange\n",
    "import multiprocessing\n",
    "from IPython.display import display, HTML\n",
    "import itertools\n",
    "\n",
    "from collections import Counter\n",
    "import plotly.graph_objects as go\n",
    "import networkx as nx\n",
    "import seaborn as sns\n",
    "%matplotlib inline\n",
    "%config InlineBackend.figure_format = 'svg'"
   ]
  },
  {
   "cell_type": "code",
   "execution_count": null,
   "id": "e7276cc6-c0d2-418a-b511-e9bef6825163",
   "metadata": {
    "editable": true,
    "slideshow": {
     "slide_type": ""
    },
    "tags": []
   },
   "outputs": [],
   "source": [
    "DF_GENES = '../../data/processed/cd-hit-results/sim80/Ebacter_strain_by_gene.pickle.gz'\n",
    "ENRICHED_METADATA = '../../data/metadata/enriched_metadata.csv'\n",
    "DF_EGGNOG = '../../data/processed/df_eggnog.csv'\n",
    "\n",
    "DF_CORE_COMPLETE = '../../data/processed/CAR_genomes/df_core_complete.pickle'\n",
    "DF_ACC_COMPLETE = '../../data/processed/CAR_genomes/df_acc_complete.pickle'\n",
    "DF_RARE_COMPLETE = '../../data/processed/CAR_genomes/df_rare_complete.pickle'\n",
    "\n",
    "L_BINARIZED = '../../data/processed/nmf-outputs/L_binarized.csv'\n",
    "A_BINARIZED = '../../data/processed/nmf-outputs/A_binarized.csv'\n",
    "L_MATRIX = '../../data/processed/nmf-outputs/L.csv'\n",
    "A_MATRIX = '../../data/processed/nmf-outputs/A.csv'\n",
    "BAKTA_ANNOTATIONS = '../../data/processed/bakta_gene_annotations.csv'"
   ]
  },
  {
   "cell_type": "code",
   "execution_count": null,
   "id": "afd48d59-a90c-4d3f-9586-b5ae8863900b",
   "metadata": {},
   "outputs": [],
   "source": [
    "bakta_annotations = pd.read_csv(BAKTA_ANNOTATIONS, index_col=0)"
   ]
  },
  {
   "cell_type": "code",
   "execution_count": null,
   "id": "3a4ccc23-49d0-46bb-bc8b-6429ed709d59",
   "metadata": {},
   "outputs": [],
   "source": [
    "gene_locs_acc = pd.read_csv('acc_gene_location.csv', index_col=0)\n",
    "gene_locs = pd.read_csv('complete_gene_location.csv', index_col=0)"
   ]
  },
  {
   "cell_type": "code",
   "execution_count": null,
   "id": "567442de-7fbc-4035-80e9-97a7e1df4cf2",
   "metadata": {},
   "outputs": [],
   "source": [
    "df_rare = pd.read_pickle(DF_RARE_COMPLETE)\n",
    "df_acc = pd.read_pickle(DF_ACC_COMPLETE)\n",
    "df_core = pd.read_pickle(DF_CORE_COMPLETE)"
   ]
  },
  {
   "cell_type": "code",
   "execution_count": null,
   "id": "4764d7a9-5cd3-41f3-82de-667146baedcf",
   "metadata": {},
   "outputs": [],
   "source": [
    "metadata = pd.read_csv(ENRICHED_METADATA, index_col=0, dtype='object')\n",
    "\n",
    "display( metadata.shape, metadata.head())"
   ]
  },
  {
   "cell_type": "code",
   "execution_count": null,
   "id": "0e715ddf-92e6-4d50-b696-2dcaa530fdcb",
   "metadata": {},
   "outputs": [],
   "source": [
    "# Load in (full) P matrix\n",
    "df_genes = pd.read_pickle(DF_GENES)\n",
    "\n",
    "# Filter metadata for Complete sequences only\n",
    "metadata_complete = metadata[metadata.genome_status == 'Complete'] # filter for only Complete sequences\n",
    "\n",
    "# Filter P matrix for Complete sequences only\n",
    "df_genes_complete = df_genes[metadata_complete.genome_id].copy()\n",
    "df_genes_complete.fillna(0, inplace=True) # replace N/A with 0\n",
    "df_genes_complete = df_genes_complete.sparse.to_dense().astype('int8') # densify & typecast to int8 for space and compute reasons\n",
    "inCompleteseqs = df_genes_complete.sum(axis=1) > 0 # filter for genes found in complete sequences\n",
    "df_genes_complete = df_genes_complete[inCompleteseqs]\n",
    "\n",
    "df_genes_complete.shape"
   ]
  },
  {
   "cell_type": "code",
   "execution_count": null,
   "id": "262e112b-5310-452e-b569-d323f26378fc",
   "metadata": {},
   "outputs": [],
   "source": [
    "# Load in eggNOG annotations\n",
    "df_eggnog = pd.read_csv(DF_EGGNOG, index_col=0)\n",
    "df_eggnog.fillna('-', inplace=True)\n",
    "\n",
    "display(\n",
    "    df_eggnog.shape,\n",
    "    df_eggnog.head()\n",
    ")"
   ]
  },
  {
   "cell_type": "code",
   "execution_count": null,
   "id": "98f2a66e-aabe-41ec-895a-8ebfc328417b",
   "metadata": {},
   "outputs": [],
   "source": [
    "# Load in A_binarized matrix\n",
    "A_binarized = pd.read_csv(A_BINARIZED, index_col=0)\n",
    "A_binarized"
   ]
  },
  {
   "cell_type": "code",
   "execution_count": null,
   "id": "a5ba9436-8e9b-47ae-a80b-7fa8fccfbb5f",
   "metadata": {
    "editable": true,
    "slideshow": {
     "slide_type": ""
    },
    "tags": []
   },
   "outputs": [],
   "source": [
    "# Load in L_binarized matrix\n",
    "L_binarized = pd.read_csv(L_BINARIZED, index_col=0)\n",
    "L_binarized"
   ]
  },
  {
   "cell_type": "code",
   "execution_count": null,
   "id": "4f6376b9-9e61-42fb-80c1-5d16e5541d5e",
   "metadata": {},
   "outputs": [],
   "source": [
    "characterized_order = ['hormaechei-xiangfangensis',\n",
    " 'hormaechei-oharae',\n",
    " 'hormaechei-steigerwaltii-2',\n",
    " 'hormaechei-steigerwaltii-1',\n",
    " 'hormaechei-steigerwaltii-3',\n",
    " 'hormaechei-hormaechei',\n",
    " 'hormaechei-hoffmannii-1',\n",
    " 'hormaechei-hoffmannii-2',\n",
    " 'roggenkampii',\n",
    " 'asburiae',\n",
    " 'kobei',\n",
    " 'bugandensis',\n",
    " 'cancerogenous',\n",
    " 'ludwigii',\n",
    " 'cloacae']"
   ]
  },
  {
   "cell_type": "markdown",
   "id": "cf6861b3-bb13-46b2-94ca-e4a956536c38",
   "metadata": {},
   "source": [
    "# Analyze the overlap between phylons and mash clusters"
   ]
  },
  {
   "cell_type": "code",
   "execution_count": null,
   "id": "29958b4f-d75b-4442-8ecf-1d7a81592678",
   "metadata": {},
   "outputs": [],
   "source": [
    "def get_strains(phylon, A_binarized = A_binarized):\n",
    "    phylon_membership = A_binarized.loc[phylon]\n",
    "    return (phylon_membership[phylon_membership == 1]).index"
   ]
  },
  {
   "cell_type": "code",
   "execution_count": null,
   "id": "a75b1042-cdd2-48ea-9e67-335b9c064451",
   "metadata": {},
   "outputs": [],
   "source": []
  },
  {
   "cell_type": "code",
   "execution_count": null,
   "id": "e21190d1-f606-47a1-959c-86e3cecf71da",
   "metadata": {},
   "outputs": [],
   "source": [
    "strain_maps = pd.DataFrame(index = metadata_complete.genome_id.values, columns = ['phylon', 'mash_cluster'])\n",
    "for strain, mash in zip(metadata_complete.genome_id.values, metadata_complete.complete_mash_cluster.values):\n",
    "    if A_binarized.loc[characterized_order, strain].max() > 0:\n",
    "        strain_maps.loc[strain] = [A_binarized.loc[characterized_order, strain].idxmax(), int(float(mash))]\n",
    "    else:\n",
    "        strain_maps.loc[strain] = ['None', int(float(mash))]"
   ]
  },
  {
   "cell_type": "code",
   "execution_count": null,
   "id": "bbc8c15b-7dc7-48e3-8a91-1249c7c2a6af",
   "metadata": {},
   "outputs": [],
   "source": [
    "mash_nodes = list(range(1, len(metadata_complete.complete_mash_cluster.unique())+1))\n",
    "phylon_nodes = characterized_order\n",
    "mash_strain_counts = metadata_complete.complete_mash_cluster.astype(float).astype(int).value_counts()\n",
    "\n",
    "edge_counter = Counter()\n",
    "for strain in strain_maps.index:\n",
    "    phylon, mash = strain_maps.loc[strain]\n",
    "    edge_counter[(int(float(mash)), phylon)] += 1\n",
    "\n",
    "sankey_diagram = pd.DataFrame(columns = ['mash', 'phylon', 'strain_percentage'])\n",
    "for item in edge_counter.items():\n",
    "    sankey_diagram.loc[len(sankey_diagram)] = [item[0][0], item[0][1], item[1]]\n",
    "\n",
    "sankey_diagram"
   ]
  },
  {
   "cell_type": "code",
   "execution_count": null,
   "id": "c8a1e110-da82-485b-85eb-5aa501f75ef5",
   "metadata": {},
   "outputs": [],
   "source": [
    "import plotly.graph_objects as go\n",
    "import matplotlib\n",
    "\n",
    "# Ensure sankey_diagram is sorted\n",
    "sankey_diagram = sankey_diagram.sort_values(['mash', 'phylon'])\n",
    "\n",
    "# Extract source and target nodes in order\n",
    "mash_nodes = sankey_diagram['mash'].unique()\n",
    "phylon_nodes = sankey_diagram['phylon'].unique()\n",
    "\n",
    "# Combine mash and phylon nodes into one ordered list\n",
    "all_nodes = list(mash_nodes) + list(phylon_nodes)\n",
    "\n",
    "# Map node names to indices\n",
    "node_indices = {node: idx for idx, node in enumerate(all_nodes)}\n",
    "\n",
    "# Map 'mash' and 'phylon' columns to their indices\n",
    "sankey_diagram['source'] = sankey_diagram['mash'].map(node_indices)\n",
    "sankey_diagram['target'] = sankey_diagram['phylon'].map(node_indices)\n",
    "\n",
    "# Mash cluster colors\n",
    "cm = matplotlib.colormaps.get_cmap('tab20')\n",
    "mash_clr = dict(zip(sorted(strain_maps.dropna().mash_cluster.unique()), cm.colors + cm.colors))\n",
    "\n",
    "# Phylon colors\n",
    "custom_colors = [\n",
    "    '#FFFFFF',\n",
    "    \"Red\", \"IndianRed\", \"DarkRed\", \"FireBrick\", \"Tomato\",\n",
    "    \"Gold\", \"DarkGoldenrod\", \"Goldenrod\", \"Green\",\n",
    "    \"Blue\", \"Purple\", \"Cyan\", \"Magenta\", \"Lime\", \"Pink\",\n",
    "]\n",
    "phylon_colors = {phylon: color for phylon, color in zip((['None'] + characterized_order), custom_colors)}\n",
    "\n",
    "# Assign colors to nodes\n",
    "node_colors = []\n",
    "for node in all_nodes:\n",
    "    if node in mash_clr:  # Mash cluster node\n",
    "        node_colors.append(mash_clr[node])\n",
    "    elif node in phylon_colors:  # Phylon node\n",
    "        node_colors.append(phylon_colors[node])\n",
    "    else:  # Default color\n",
    "        node_colors.append(\"lightblue\")\n",
    "\n",
    "# Convert RGB tuples to hex if applicable\n",
    "node_colors = [\n",
    "    '#%02x%02x%02x' % (int(c[0]*255), int(c[1]*255), int(c[2]*255)) if isinstance(c, tuple) else c\n",
    "    for c in node_colors\n",
    "]\n",
    "\n",
    "# Create the Sankey diagram\n",
    "fig = go.Figure(go.Sankey(\n",
    "    node=dict(\n",
    "        pad=5,  # Adjust padding between nodes (decrease to bring source/target closer)\n",
    "        thickness=50,  # Increase thickness to make nodes larger\n",
    "        line=dict(color=\"black\", width=0.5),\n",
    "        label=all_nodes,\n",
    "        color=node_colors\n",
    "    ),\n",
    "    link=dict(\n",
    "        source=sankey_diagram['source'].astype(int).tolist(),\n",
    "        target=sankey_diagram['target'].astype(int).tolist(),\n",
    "        value=sankey_diagram['strain_percentage'].astype(float).tolist()\n",
    "    )\n",
    "))\n",
    "\n",
    "# Adjust layout for a narrower and slightly taller diagram\n",
    "fig.update_layout(\n",
    "    title_text=\"Sankey Diagram of Mash to Phylon Nodes\",\n",
    "    font_size=10,\n",
    "    margin=dict(l=10, r=10, t=40, b=10),  # Adjust margins for tighter spacing\n",
    "    width=500,  # Set width to make the diagram narrower\n",
    "    height=600  # Set height to make the diagram slightly taller\n",
    ")\n",
    "fig.write_image(\"../images/supplemental/sankey_diagram.svg\")\n",
    "fig.show()\n"
   ]
  }
 ],
 "metadata": {
  "kernelspec": {
   "display_name": "Python [conda env:phylon_analysis]",
   "language": "python",
   "name": "conda-env-phylon_analysis-py"
  },
  "language_info": {
   "codemirror_mode": {
    "name": "ipython",
    "version": 3
   },
   "file_extension": ".py",
   "mimetype": "text/x-python",
   "name": "python",
   "nbconvert_exporter": "python",
   "pygments_lexer": "ipython3",
   "version": "3.12.2"
  }
 },
 "nbformat": 4,
 "nbformat_minor": 5
}
