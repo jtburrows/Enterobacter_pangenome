{
 "cells": [
  {
   "cell_type": "code",
   "execution_count": null,
   "id": "c14ff16d-26fc-417b-b875-4a32f1fd3aff",
   "metadata": {},
   "outputs": [],
   "source": [
    "import logging\n",
    "import re\n",
    "import urllib\n",
    "from io import StringIO\n",
    "import pandas as pd\n",
    "import numpy as np\n",
    "import matplotlib\n",
    "import matplotlib.pyplot as plt\n",
    "import matplotlib.patches as patches\n",
    "\n",
    "import gzip\n",
    "import pickle\n",
    "from tqdm.notebook import tqdm, trange\n",
    "import multiprocessing\n",
    "from IPython.display import display, HTML\n",
    "import itertools\n",
    "\n",
    "import plotly.graph_objects as go\n",
    "from Bio import SeqIO\n",
    "import os\n",
    "\n",
    "import seaborn as sns\n",
    "\n",
    "%matplotlib inline\n",
    "%config InlineBackend.figure_format = 'svg'"
   ]
  },
  {
   "cell_type": "code",
   "execution_count": null,
   "id": "aca6b5c6-b2b6-4f5d-a42a-5b80fc985ceb",
   "metadata": {},
   "outputs": [],
   "source": [
    "import os\n",
    "import pickle\n",
    "\n",
    "import plotly.express as px\n",
    "import numpy as np\n",
    "import pandas as pd\n",
    "import scipy.cluster.hierarchy as hc\n",
    "import scipy.spatial as sp\n",
    "from kneebow.rotor import Rotor"
   ]
  },
  {
   "cell_type": "code",
   "execution_count": null,
   "id": "29c904ef-a801-4cc1-bde3-55e4fef5c475",
   "metadata": {},
   "outputs": [],
   "source": [
    "L_BINARIZED = '../../data/processed/nmf-outputs/L_binarized.csv'\n",
    "L_bin = pd.read_csv(L_BINARIZED, index_col=0)\n",
    "A_BINARIZED = '../../data/processed/nmf-outputs/A_binarized.csv'\n",
    "A_bin = pd.read_csv(A_BINARIZED, index_col=0)"
   ]
  },
  {
   "cell_type": "code",
   "execution_count": null,
   "id": "64a17e89-3c45-40c7-8f92-829b6513cf2b",
   "metadata": {},
   "outputs": [],
   "source": [
    "PATH_TO_DATA = '../../data/'\n",
    "ENRICHED_METADATA = f'{PATH_TO_DATA}/metadata/enriched_metadata.csv'"
   ]
  },
  {
   "cell_type": "code",
   "execution_count": null,
   "id": "bf179258-f28e-43e2-a562-28647e8ecceb",
   "metadata": {},
   "outputs": [],
   "source": [
    "metadata = pd.read_csv(ENRICHED_METADATA, index_col = 0, dtype='object')\n",
    "complete_metadata = metadata[metadata.genome_status == 'Complete']"
   ]
  },
  {
   "cell_type": "code",
   "execution_count": null,
   "id": "317c6559-ba49-4ffe-8253-0122326a20e3",
   "metadata": {},
   "outputs": [],
   "source": [
    "for genome in complete_metadata.genome_id:\n",
    "    input_file = '../../data/processed/bakta/' + genome + '/' + genome + '.fna'\n",
    "    \n",
    "    contigs = list(SeqIO.parse(input_file, \"fasta\"))\n",
    "    largest_contig = max(contigs, key=lambda x: len(x.seq))\n",
    "    filtered_contigs = [contig for contig in contigs if contig.id != largest_contig.id]\n",
    "    if len(filtered_contigs) > 0:\n",
    "        for i in range(0,len(filtered_contigs)):\n",
    "                outfile = '../../data/processed/plasmid_fna_files/' + genome + '_' + filtered_contigs[i].id + '.fna'\n",
    "                SeqIO.write(filtered_contigs[i], outfile, \"fasta\")\n"
   ]
  },
  {
   "cell_type": "markdown",
   "id": "178cac1c-fff0-414b-9d06-919d0af40623",
   "metadata": {},
   "source": [
    "## Run Mash"
   ]
  },
  {
   "cell_type": "markdown",
   "id": "6cd0c410-2270-4a80-830e-220b61a5da1e",
   "metadata": {},
   "source": [
    "Command:\n",
    "\n",
    "mash sketch -o combined_sketch ../../data/processed/plasmid_fna_files/*.fna\n",
    "\n",
    "mash dist combined_sketch.msh combined_sketch.msh > mash_distances.txt"
   ]
  },
  {
   "cell_type": "markdown",
   "id": "12d7d330-2f51-407d-9501-5370e7b072d3",
   "metadata": {},
   "source": [
    "## Calculations"
   ]
  },
  {
   "cell_type": "code",
   "execution_count": null,
   "id": "bdc37b8c-206b-45af-a341-736ad67912d4",
   "metadata": {},
   "outputs": [],
   "source": [
    "names = [\n",
    "    'genome1',\n",
    "    'genome2',\n",
    "    'mash_distance',\n",
    "    'p_value',\n",
    "    'matching_hashes'\n",
    "]\n",
    "\n",
    "df_mash = pd.read_csv('../../data/processed/plasmid_data/mash_distances.txt', sep='\\t', names=names)\n",
    "df_mash['genome1'] = df_mash['genome1'].apply(lambda x: x.split('/')[-1].split('.fna')[0])\n",
    "df_mash['genome2'] = df_mash['genome2'].apply(lambda x: x.split('/')[-1].split('.fna')[0])\n",
    "\n",
    "df_mash"
   ]
  },
  {
   "cell_type": "code",
   "execution_count": null,
   "id": "6d5587ff-478a-40af-831b-e0b7596d1044",
   "metadata": {},
   "outputs": [],
   "source": [
    "df_mash_square = df_mash.pivot(index='genome1', columns='genome2', values='mash_distance')\n",
    "\n",
    "display(\n",
    "    df_mash_square.shape,\n",
    "    df_mash_square.head()\n",
    ")"
   ]
  },
  {
   "cell_type": "code",
   "execution_count": null,
   "id": "8026be60-e61c-4753-97ef-56b441f143a2",
   "metadata": {},
   "outputs": [],
   "source": [
    "# This may take HOURS to run\n",
    "# Once finished it will IMMEDIATELY save all 3 matrices\n",
    "# so you don't have to re-compute this over and over again\n",
    "\n",
    "df_mash_corr = df_mash_square.corr()\n",
    "df_mash_corr_dist = 1 - df_mash_corr\n",
    "df_mash_corr_dist\n",
    "\n",
    "display(\n",
    "    df_mash_corr_dist.shape,\n",
    "    df_mash_corr_dist.head()\n",
    ")"
   ]
  },
  {
   "cell_type": "code",
   "execution_count": null,
   "id": "fb52751f-68dd-4179-970a-438e74eebd74",
   "metadata": {},
   "outputs": [],
   "source": [
    "sns.histplot(df_mash_square.values.flatten())"
   ]
  },
  {
   "cell_type": "code",
   "execution_count": null,
   "id": "cd637b4d-8783-490f-a4e8-637b9f8ccd68",
   "metadata": {},
   "outputs": [],
   "source": [
    "def cluster_corr_dist(df_mash_corr_dist, maxclust=4, method='ward', metric='euclidean'):\n",
    "    '''\n",
    "    Hierarchically Mash-based pairwise-pearson-distance matrix\n",
    "    '''\n",
    "    link = hc.linkage(sp.distance.squareform(df_mash_corr_dist), method=method, metric=metric)\n",
    "    dist = sp.distance.squareform(df_mash_corr_dist)\n",
    "    \n",
    "    clst = pd.DataFrame(index=df_mash_corr_dist.index)\n",
    "    clst['cluster'] = hc.fcluster(link, maxclust, 'maxclust')\n",
    "    \n",
    "    return link, dist, clst\n",
    "\n",
    "\n",
    "def remove_bad_strains(df_mash_scd, bad_strains_list):\n",
    "    good_strains_list = sorted(set(df_mash_scd.index) - set(bad_strains_list))\n",
    "    \n",
    "    return df_mash_scd.loc[good_strains_list, good_strains_list]\n",
    "\n",
    "\n",
    "# Sensitivity analysis to pick the threshold (for E. coli we use 0.1)\n",
    "# We pick the threshold where the curve just starts to bottom out\n",
    "def sensitivity_analysis(df_mash_corr_dist_complete):\n",
    "    x = list(np.logspace(-3, -1, 10)) + list(np.linspace(0.1, 1, 19))\n",
    "    \n",
    "    def num_uniq_clusters(thresh):\n",
    "        link = hc.linkage(sp.distance.squareform(df_mash_corr_dist_complete), method='ward', metric='euclidean')\n",
    "        dist = sp.distance.squareform(df_mash_corr_dist_complete)\n",
    "        \n",
    "        clst = pd.DataFrame(index=df_mash_corr_dist_complete.index)\n",
    "        clst['cluster'] = hc.fcluster(link, thresh * dist.max(), 'distance')\n",
    "        \n",
    "        return len(clst.cluster.unique())\n",
    "    \n",
    "    tmp = pd.DataFrame()\n",
    "    tmp['threshold'] = pd.Series(x)\n",
    "    tmp['num_clusters'] = pd.Series(x).apply(num_uniq_clusters)\n",
    "    \n",
    "    # Find which value the elbow corresponds to\n",
    "    df_temp = tmp.sort_values(by='num_clusters', ascending=True).reset_index(drop=True)\n",
    "    \n",
    "    # transform input into form necessary for package\n",
    "    results_itr = zip(list(df_temp.index), list(df_temp.num_clusters))\n",
    "    data = list(results_itr)\n",
    "    \n",
    "    rotor = Rotor()\n",
    "    rotor.fit_rotate(data)\n",
    "    elbow_idx = rotor.get_elbow_index()\n",
    "    df_temp['num_clusters'][elbow_idx]\n",
    "    contamination_cutoff = df_temp['num_clusters'][elbow_idx]\n",
    "    \n",
    "    # Grab elbow threshold\n",
    "    cond = tmp['num_clusters'] == df_temp['num_clusters'][elbow_idx]\n",
    "    elbow_threshold = tmp[cond]['threshold'].iloc[0]\n",
    "    \n",
    "    return tmp, df_temp, elbow_idx, elbow_threshold\n",
    "\n"
   ]
  },
  {
   "cell_type": "code",
   "execution_count": null,
   "id": "aef9eb4e-ead2-415f-aa04-23ffa9e65404",
   "metadata": {},
   "outputs": [],
   "source": [
    "df_mash_square_complete = df_mash_square\n",
    "df_mash_corr_complete = df_mash_square\n",
    "df_mash_corr_dist_complete = df_mash_square\n",
    "\n",
    "df_mash_corr_dist_complete.shape"
   ]
  },
  {
   "cell_type": "code",
   "execution_count": null,
   "id": "be506735-9afd-49f4-a0ca-c598a14e24e6",
   "metadata": {},
   "outputs": [],
   "source": [
    "# Initial sensitivity analysis (gives min val to consider)\n",
    "tmp, df_temp, elbow_idx, elbow_threshold = sensitivity_analysis(df_mash_corr_dist_complete)\n",
    "\n",
    "# Plot (tells us to pick something > 0.25)\n",
    "plt.rcParams[\"figure.dpi\"] = 200\n",
    "fig, axs = plt.subplots(figsize=(4,3),)\n",
    "axs.plot(tmp['threshold'], tmp['num_clusters'])\n",
    "plt.axhline(y=df_temp['num_clusters'][elbow_idx], c=\"#ff00ff\", linestyle='--')\n",
    "axs.set_ylabel('num_clusters')\n",
    "axs.set_xlabel('index')\n",
    "fig.suptitle(\n",
    "    f\"Num clusters decelerates \\nafter a value of {df_temp['num_clusters'][elbow_idx]} (threshold: {elbow_threshold})\",\n",
    "    y=1\n",
    ")\n",
    "plt.show()"
   ]
  },
  {
   "cell_type": "code",
   "execution_count": null,
   "id": "8c8a507f-11a2-495b-95c3-3c8b7773f80d",
   "metadata": {},
   "outputs": [],
   "source": [
    "px.line(tmp, x='threshold', y='num_clusters')"
   ]
  },
  {
   "cell_type": "markdown",
   "id": "57a05da5-8fa3-4870-9272-9a02b4833e23",
   "metadata": {},
   "source": [
    "## Plot initial clustermap of Mash values"
   ]
  },
  {
   "cell_type": "code",
   "execution_count": null,
   "id": "a46387be-e234-405d-aeae-6544739bab63",
   "metadata": {},
   "outputs": [],
   "source": [
    "elbow_threshold = elbow_threshold+0.1 # \"round\" up\n",
    "\n",
    "link, dist, clst = cluster_corr_dist(df_mash_corr_dist_complete)\n",
    "\n",
    "# Color each cluster\n",
    "cm = matplotlib.colormaps.get_cmap('tab20')\n",
    "clr = dict(zip(sorted(clst.cluster.unique()), cm.colors+cm.colors))\n",
    "clst['color'] = clst.cluster.map(clr)\n",
    "\n",
    "print('Number of colors: ', len(clr))\n",
    "print('Number of clusters', len(clst.cluster.unique()))"
   ]
  },
  {
   "cell_type": "code",
   "execution_count": null,
   "id": "a22549e6-7f0f-49b9-aaea-a1c4cb413b94",
   "metadata": {},
   "outputs": [],
   "source": [
    "from scipy.cluster.hierarchy import dendrogram, linkage\n",
    "from scipy.spatial.distance import squareform\n",
    "\n",
    "import matplotlib.pyplot as plt\n",
    "\n",
    "\n",
    "mat = np.array([[0.0, 2.0, 0.1], [2.0, 0.0, 2.0], [0.1, 2.0, 0.0]])\n",
    "dists = squareform(mat)\n",
    "linkage_matrix = linkage(dists, \"single\")\n",
    "dendrogram(link)\n",
    "plt.title(\"test\")\n",
    "plt.show()"
   ]
  },
  {
   "cell_type": "code",
   "execution_count": null,
   "id": "b5223a12-d78e-4140-890c-2b31053d26a9",
   "metadata": {},
   "outputs": [],
   "source": [
    "import numpy as np\n",
    "import pandas as pd\n",
    "import matplotlib.pyplot as plt\n",
    "from scipy.cluster.hierarchy import linkage, leaves_list\n",
    "import seaborn as sns\n",
    "\n",
    "# Load the distance matrix from a file\n",
    "distance_matrix = df_mash_corr_dist_complete.values\n",
    "\n",
    "# Ensure the matrix is in condensed form\n",
    "if distance_matrix.shape[0] == distance_matrix.shape[1]:\n",
    "    condensed_distance_matrix = squareform(distance_matrix)\n",
    "else:\n",
    "    condensed_distance_matrix = distance_matrix\n",
    "\n",
    "# Perform hierarchical clustering\n",
    "link, dist, clst = cluster_corr_dist(df_mash_corr_dist_complete, maxclust=5)\n",
    "# Get the order of the leaves\n",
    "ordered_leaves = leaves_list(link)\n",
    "\n",
    "# Reorder the distance matrix\n",
    "ordered_distance_matrix = distance_matrix[ordered_leaves, :][:, ordered_leaves]"
   ]
  },
  {
   "cell_type": "code",
   "execution_count": null,
   "id": "a8d2cc0e-956e-44bb-8dac-9abb1463fac1",
   "metadata": {},
   "outputs": [],
   "source": [
    "import matplotlib.pyplot as plt\n",
    "import numpy as np\n",
    "import matplotlib.patches as patches\n",
    "\n",
    "# Assuming ordered_distance_matrix, clst, and ordered_leaves are already defined\n",
    "\n",
    "fig, ax = plt.subplots(figsize=(12, 12))\n",
    "cax = ax.matshow(ordered_distance_matrix, cmap='Greens_r')\n",
    "\n",
    "# Add a colorbar with adjusted size and position\n",
    "cbar = fig.colorbar(cax, ax=ax, orientation='vertical', fraction=0.046, pad=0.04)\n",
    "cbar.set_label('Distance')  # Add a label to the colorbar (optional)\n",
    "\n",
    "# Customize the ticks on the colorbar\n",
    "cbar_ticks = np.linspace(np.min(ordered_distance_matrix), np.max(ordered_distance_matrix), num=5)\n",
    "cbar.set_ticks(cbar_ticks)\n",
    "cbar.ax.set_yticklabels(['{:.2f}'.format(tick) for tick in cbar_ticks])\n",
    "\n",
    "# Create a colormap for the clusters\n",
    "cluster_labels = list(clst.cluster[ordered_leaves].astype(int).values)\n",
    "unique_clusters = np.unique(cluster_labels)\n",
    "cluster_colors = plt.cm.tab20(np.linspace(0, 1, len(unique_clusters)))\n",
    "color_map = dict(zip(unique_clusters, cluster_colors))\n",
    "\n",
    "# Add rectangles for clusters\n",
    "for cluster in unique_clusters:\n",
    "    indices = np.where(cluster_labels == cluster)[0]\n",
    "    if len(indices) > 0:\n",
    "        min_idx, max_idx = np.min(indices), np.max(indices)\n",
    "        rect = patches.Rectangle((min_idx, min_idx), max_idx - min_idx + 1, max_idx - min_idx + 1,\n",
    "                                 linewidth=5, edgecolor='red', facecolor='none', label=f'Cluster {cluster}')\n",
    "        ax.add_patch(rect)\n",
    "\n",
    "# Optionally, add a legend\n",
    "# handles, labels = ax.get_legend_handles_labels()\n",
    "# ax.legend(handles, labels, loc='upper right', bbox_to_anchor=(.95, 1), ncols=2)\n",
    "\n",
    "# Set the tick parameters to make the labels more readable\n",
    "ax.tick_params(axis='x', which='major', labelsize=10)\n",
    "ax.tick_params(axis='y', which='major', labelsize=10)\n",
    "\n",
    "plt.savefig('../images/supplemental/plasmid_mash.jpg', dpi = 400)\n",
    "plt.show()\n"
   ]
  },
  {
   "cell_type": "code",
   "execution_count": null,
   "id": "243cb284-0c38-45d2-a612-0ca7a1183ff2",
   "metadata": {},
   "outputs": [],
   "source": [
    "cluster_strains = {}\n",
    "for cluster in clst.cluster.unique():\n",
    "    ind = clst[clst.cluster == cluster].index\n",
    "    cluster_strains[cluster] = list(set([x.split('_')[0] for x in ind]))"
   ]
  },
  {
   "cell_type": "code",
   "execution_count": null,
   "id": "74425355-6f5b-4bd0-ab6c-5a6b50ad1dc5",
   "metadata": {},
   "outputs": [],
   "source": [
    "information = pd.DataFrame(columns = A_bin.index)\n",
    "\n",
    "for cluster in cluster_strains.keys():\n",
    "    strains = cluster_strains[cluster]\n",
    "    information.loc[cluster] = A_bin.loc[:,strains].sum(axis=1) / A_bin.sum(axis=1)    \n",
    "# sns.heatmap(information.astype(int).loc[:,['unchar-1','unchar-2','unchar-3', 'unchar-4']])\n",
    "fig, ax = plt.subplots(figsize=(8,8))\n",
    "sns.heatmap(information.astype(float).loc[:,[x for x in A_bin.index if 'unchar' in x]], ax=ax, cmap = 'coolwarm', annot=True)\n",
    "plt.title('Percentage of Strains for each Plasmid Cluster Associated with Unchar Phylons')"
   ]
  }
 ],
 "metadata": {
  "kernelspec": {
   "display_name": "Python [conda env:pan-phylon]",
   "language": "python",
   "name": "conda-env-pan-phylon-py"
  },
  "language_info": {
   "codemirror_mode": {
    "name": "ipython",
    "version": 3
   },
   "file_extension": ".py",
   "mimetype": "text/x-python",
   "name": "python",
   "nbconvert_exporter": "python",
   "pygments_lexer": "ipython3",
   "version": "3.12.2"
  }
 },
 "nbformat": 4,
 "nbformat_minor": 5
}
