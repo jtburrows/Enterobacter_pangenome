{
 "cells": [
  {
   "cell_type": "markdown",
   "id": "e7af1449-b7fa-4a84-943f-6145ce732b8c",
   "metadata": {},
   "source": [
    "# Setup"
   ]
  },
  {
   "cell_type": "code",
   "execution_count": null,
   "id": "0b642855-7a06-4440-a062-a6c54587fbf1",
   "metadata": {},
   "outputs": [],
   "source": [
    "import os\n",
    "import pickle\n",
    "\n",
    "import numpy as np\n",
    "import pandas as pd\n",
    "import scipy\n",
    "\n",
    "import matplotlib\n",
    "from matplotlib import pyplot as plt\n",
    "import seaborn as sns\n",
    "import plotly.express as px\n",
    "\n",
    "from tqdm.notebook import tqdm, trange\n",
    "\n",
    "matplotlib.rcParams['pdf.fonttype'] = 42\n",
    "matplotlib.rcParams['ps.fonttype'] = 42\n",
    "matplotlib.rcParams['svg.fonttype'] = 'none'\n",
    "matplotlib.rcParams['font.sans-serif'] = 'Arial'\n",
    "matplotlib.rcParams['font.family'] = 'sans-serif'\n",
    "matplotlib.rcParams['text.color'] = '#000000'\n",
    "matplotlib.rcParams['axes.labelcolor'] = '#000000'\n",
    "matplotlib.rcParams['xtick.color'] = '#000000'\n",
    "matplotlib.rcParams['ytick.color'] = '#000000'"
   ]
  },
  {
   "cell_type": "code",
   "execution_count": null,
   "id": "e8ed0431-7512-44f4-87fd-a387e4034c68",
   "metadata": {},
   "outputs": [],
   "source": [
    "import random\n",
    "from random import sample\n",
    "\n",
    "random.seed(42) # set random seed for reproducibility"
   ]
  },
  {
   "cell_type": "code",
   "execution_count": null,
   "id": "d4f1e794-0aca-4768-b9d3-733c13535f20",
   "metadata": {},
   "outputs": [],
   "source": [
    "matplotlib.rcParams['pdf.fonttype'] = 42\n",
    "plt.rcParams[\"figure.dpi\"] = 300\n",
    "sns.set_palette(\"deep\")\n",
    "sns.set_context(\"paper\")\n",
    "sns.set_style(\"whitegrid\")"
   ]
  },
  {
   "cell_type": "code",
   "execution_count": null,
   "id": "29e3b3af-6e80-4958-b995-8506e3bba843",
   "metadata": {},
   "outputs": [],
   "source": [
    "df_genes = pd.read_pickle('../../data/processed/cd-hit-results/sim80/Ebacter_strain_by_gene.pickle.gz')\n",
    "df_genes.fillna(0, inplace=True)\n",
    "df_genes = df_genes.sparse.to_dense().astype('int8')\n",
    "\n",
    "display(\n",
    "    df_genes.shape,\n",
    "    df_genes.head()\n",
    ")"
   ]
  },
  {
   "cell_type": "code",
   "execution_count": null,
   "id": "1ddad3e7-3266-4dd5-9234-f5cce500e6e7",
   "metadata": {},
   "outputs": [],
   "source": [
    "metadata = pd.read_csv('../../data/metadata/mash_scrubbed_species_metadata.csv', index_col=0, dtype='object')\n",
    "\n",
    "display(\n",
    "    metadata.shape,\n",
    "    metadata.head()\n",
    ")"
   ]
  },
  {
   "cell_type": "code",
   "execution_count": null,
   "id": "866bbc38-91e3-4bc1-81c5-274fb0ad2095",
   "metadata": {},
   "outputs": [],
   "source": [
    "# Filter metadata for Complete sequences only\n",
    "metadata_complete = metadata[metadata.genome_status == 'Complete'] # filter for only Complete sequences\n",
    "\n",
    "# Filter P matrix for Complete sequences only\n",
    "df_genes_complete = df_genes[metadata_complete.genome_id].copy()\n",
    "inCompleteseqs = df_genes_complete.sum(axis=1) > 0 # filter for genes found in complete sequences\n",
    "df_genes_complete = df_genes_complete[inCompleteseqs]\n",
    "\n",
    "df_genes_complete.shape"
   ]
  },
  {
   "cell_type": "code",
   "execution_count": null,
   "id": "67ddfcbf-d2a2-4c21-ad75-0ce93017186a",
   "metadata": {},
   "outputs": [],
   "source": [
    "df_eggnog = pd.read_csv('../../data/processed/df_eggnog.csv', index_col=0, dtype='object')\n",
    "\n",
    "display(\n",
    "    df_eggnog.shape,\n",
    "    df_eggnog.head()\n",
    ")"
   ]
  },
  {
   "cell_type": "markdown",
   "id": "8b0eec65-ab4c-4b66-be50-733a0a8c1df0",
   "metadata": {},
   "source": [
    "## useful functions"
   ]
  },
  {
   "cell_type": "code",
   "execution_count": null,
   "id": "536e97a7-e196-44f0-9395-f73649cc980c",
   "metadata": {
    "jupyter": {
     "source_hidden": true
    }
   },
   "outputs": [],
   "source": [
    "import scipy.sparse\n",
    "from scipy.sparse import coo_matrix\n",
    "\n",
    "def estimate_pan_core_size(df_genes, num_iter=10, log_batch=1):\n",
    "    '''\n",
    "    Computes pan/core genome size curves for many randomizations\n",
    "    '''\n",
    "    num_genes, num_strains = df_genes.shape\n",
    "    \n",
    "    #gene_data = sparse_arrays_to_sparse_matrix(df_genes)\n",
    "    #gene_data = coo_matrix(df_genes)\n",
    "    gene_data = df_genes.sparse.to_coo()\n",
    "    \n",
    "    gene_data = gene_data.T.tocsr() # now strain x cluster\n",
    "    pan_genomes = np.zeros((num_iter, num_strains)) # estimated pan-genome curve per iteration\n",
    "    core_genomes = np.zeros((num_iter, num_strains)) # estimated core-genome curve per iteration\n",
    "    \n",
    "    acc_genomes = np.zeros((num_iter, num_strains)) # estimated acc-genome curve per iteration\n",
    "    rare_genomes = np.zeros((num_iter, num_strains)) # estimated rare-genome curve per iteration\n",
    "\n",
    "    ''' Simulate pan/core-genomes for randomly ordered strains '''\n",
    "    for i in trange(num_iter):\n",
    "        if (i+1) % log_batch == 0:\n",
    "            print('Iteration', i+1, 'of', num_iter)\n",
    "        shuffle_indices = np.arange(num_strains)\n",
    "        np.random.shuffle(shuffle_indices)\n",
    "        gene_incidence = np.zeros(num_genes, dtype='int')\n",
    "        for j,shuffle_col in enumerate(shuffle_indices):\n",
    "            gene_incidence += gene_data[shuffle_col,:]\n",
    "            #print(gene_incidence)\n",
    "            pan_genomes[i,j] = (gene_incidence > 0).sum()\n",
    "            core_genomes[i,j] = (gene_incidence >= (j+1)*0.987).sum()\n",
    "            \n",
    "            acc_genomes[i,j] = ((gene_incidence > j*0.037 ) & (gene_incidence < (j+1)*0.987)).sum()\n",
    "            rare_genomes[i,j] = ((gene_incidence > 0 ) & (gene_incidence < j*0.037)).sum()\n",
    "\n",
    "    ''' Save to DataFrame '''\n",
    "    iter_index = map(lambda x: 'Iter' + str(x), range(1,num_iter+1))\n",
    "    pan_cols = list(map(lambda x: 'Pan' + str(x), range(1,num_strains+1)))\n",
    "    core_cols = list(map(lambda x: 'Core' + str(x), range(1,num_strains+1)))\n",
    "    \n",
    "    acc_cols = list(map(lambda x: 'Acc' + str(x), range(1,num_strains+1)))\n",
    "    rare_cols = list(map(lambda x: 'Rare' + str(x), range(1,num_strains+1)))\n",
    "    \n",
    "    df_pan_core = pd.DataFrame(index=iter_index, columns=pan_cols + core_cols + acc_cols + rare_cols,\n",
    "                               data=np.hstack([pan_genomes, core_genomes, acc_genomes, rare_genomes]))\n",
    "    return df_pan_core\n",
    "\n",
    "\n",
    "def fit_heaps(df_freqs):\n",
    "    ''' Fits a single iteration to Heaps Law: PG size = kappa * (genes)^lambda_ '''\n",
    "    heaps = lambda x, lambda_, kappa: kappa * np.power(x, lambda_)\n",
    "    n_strains = df_freqs.shape[0]\n",
    "    p0 = [0.5, float(min(df_freqs.values))]\n",
    "    popt, pcov = scipy.optimize.curve_fit(heaps, \n",
    "        np.arange(1,n_strains+1), df_freqs.values, p0=p0)\n",
    "    return popt\n",
    "\n",
    "\n",
    "def fit_heaps_by_iteration(df_pan_core, section='pan'):\n",
    "    ''' Fits Heaps Law to each iteration and returns lambda_ and kappa for each iteration '''\n",
    "    #df = df_pan_core.iloc[:,:int(df_pan_core.shape[1]/2)].T\n",
    "    if section.lower() == 'pan':\n",
    "        df = df_pan_core[ [x for x in df_pan_core.columns if 'Pan' in x] ].T\n",
    "    elif section.lower() == 'core':\n",
    "        df = df_pan_core[ [x for x in df_pan_core.columns if 'Core' in x] ].T\n",
    "    elif section.lower() == 'acc':\n",
    "        df = df_pan_core[ [x for x in df_pan_core.columns if 'Acc' in x] ].T\n",
    "    elif section.lower() == 'rare':\n",
    "        df = df_pan_core[ [x for x in df_pan_core.columns if 'Rare' in x] ].T\n",
    "    \n",
    "    n_samples, n_iters = df.shape\n",
    "    heaps_fits = {}\n",
    "    for i,iter_label in enumerate(df.columns):\n",
    "        lambda_, kappa = fit_heaps(df.iloc[:,i])\n",
    "        heaps_fits[iter_label] = {'lambda_': lambda_, 'kappa': kappa}\n",
    "    return pd.DataFrame.from_dict(heaps_fits, orient='index').reindex(df.columns)"
   ]
  },
  {
   "cell_type": "markdown",
   "id": "d546efce-bf2b-4295-8944-041206f991c4",
   "metadata": {},
   "source": [
    "# Heaps' Law Plot for CAR genomes"
   ]
  },
  {
   "cell_type": "markdown",
   "id": "232da89c-6641-4e57-8596-c57909c10f5b",
   "metadata": {},
   "source": [
    "## Total (Complete + WGS)"
   ]
  },
  {
   "cell_type": "code",
   "execution_count": null,
   "id": "879af4b1-bc1f-4f69-82e2-362e5e67a800",
   "metadata": {},
   "outputs": [],
   "source": [
    "# Generate sparse dataframe (needed for function to work)\n",
    "df_genes_sparse = df_genes.astype(pd.SparseDtype(\"int8\", 0))\n",
    "\n",
    "# Estimate pan/core curve\n",
    "df_pan_core = estimate_pan_core_size(df_genes_sparse, num_iter=20, log_batch=1) # generate pan/core size curves"
   ]
  },
  {
   "cell_type": "code",
   "execution_count": null,
   "id": "d4aec945-54ad-43b6-a71c-3336a9c74356",
   "metadata": {},
   "outputs": [],
   "source": [
    "df_pan_core.head()"
   ]
  },
  {
   "cell_type": "code",
   "execution_count": null,
   "id": "0a6c8e66-5b68-43fe-be5e-179afc765709",
   "metadata": {},
   "outputs": [],
   "source": [
    "output_pan = fit_heaps_by_iteration(df_pan_core, section='pan')\n",
    "output_core = fit_heaps_by_iteration(df_pan_core, section='core')\n",
    "output_acc = fit_heaps_by_iteration(df_pan_core, section='acc')\n",
    "output_rare = fit_heaps_by_iteration(df_pan_core, section='rare')"
   ]
  },
  {
   "cell_type": "code",
   "execution_count": null,
   "id": "bcbb2ba5-1a2e-4eb4-b9ba-4df5f3b83f31",
   "metadata": {},
   "outputs": [],
   "source": [
    "# Heaps' Law coefficient\n",
    "# This determines how open/closed your pangenome is\n",
    "output_pan.lambda_.mean()"
   ]
  },
  {
   "cell_type": "code",
   "execution_count": null,
   "id": "cc04b19e-0cbd-4d49-aef6-c93d1a4447af",
   "metadata": {},
   "outputs": [],
   "source": [
    "x = list(range(1, df_genes.shape[1]+1))\n",
    "\n",
    "y_core = output_core.kappa.mean() * np.array(x) ** output_core.lambda_.mean()\n",
    "y_acc = output_acc.kappa.mean() * np.array(x) ** output_acc.lambda_.mean()\n",
    "y_rare = output_rare.kappa.mean() * np.array(x) ** output_rare.lambda_.mean()"
   ]
  },
  {
   "cell_type": "code",
   "execution_count": null,
   "id": "13fa5e79-ac08-4068-b8a8-ab1f44b0e35b",
   "metadata": {},
   "outputs": [],
   "source": [
    "# Log-linear plot\n",
    "fig, ax = plt.subplots()\n",
    "\n",
    "ax.stackplot(x, y_core, y_acc, y_rare)\n",
    "ax.set_yscale('log')\n",
    "ax.grid(False)\n",
    "plt.show()"
   ]
  },
  {
   "cell_type": "code",
   "execution_count": null,
   "id": "11e453b8-1aec-4b8d-ad23-d08689e37220",
   "metadata": {},
   "outputs": [],
   "source": [
    "fig.savefig('../../data/figures/heaps_law_total.pdf', transparent=True)"
   ]
  },
  {
   "cell_type": "markdown",
   "id": "283cd92f-4589-4e8f-a174-ab7986c46aff",
   "metadata": {},
   "source": [
    "## Complete seqs only"
   ]
  },
  {
   "cell_type": "code",
   "execution_count": null,
   "id": "4fc8930a-e8b8-4635-96ac-df2d499261f2",
   "metadata": {},
   "outputs": [],
   "source": [
    "# Generate sparse dataframe (needed for function to work)\n",
    "df_genes_complete_sparse = df_genes_complete.astype(pd.SparseDtype(\"int8\", 0))\n",
    "\n",
    "# Estimate pan/core curve\n",
    "df_pan_core_complete = estimate_pan_core_size(df_genes_complete_sparse, num_iter=20, log_batch=1) # generate pan/core size curves"
   ]
  },
  {
   "cell_type": "code",
   "execution_count": null,
   "id": "0f4f73cf-9c60-4d6b-b819-bfb128d98586",
   "metadata": {},
   "outputs": [],
   "source": [
    "df_pan_core_complete.head()"
   ]
  },
  {
   "cell_type": "code",
   "execution_count": null,
   "id": "ff77b09a-482c-4727-80f9-f7555d91c13d",
   "metadata": {},
   "outputs": [],
   "source": [
    "output_pan_complete = fit_heaps_by_iteration(df_pan_core_complete, section='pan')\n",
    "output_core_complete = fit_heaps_by_iteration(df_pan_core_complete, section='core')\n",
    "output_acc_complete = fit_heaps_by_iteration(df_pan_core_complete, section='acc')\n",
    "output_rare_complete = fit_heaps_by_iteration(df_pan_core_complete, section='rare')"
   ]
  },
  {
   "cell_type": "code",
   "execution_count": null,
   "id": "63bb0ef8-3ab2-4975-bc33-e9cb200b0364",
   "metadata": {},
   "outputs": [],
   "source": [
    "# Heaps' Law coefficient\n",
    "# This determines how open/closed your pangenome is\n",
    "output_pan_complete.lambda_.mean()"
   ]
  },
  {
   "cell_type": "code",
   "execution_count": null,
   "id": "11dca006-b0f8-4144-83cf-8a3f3247e5b9",
   "metadata": {},
   "outputs": [],
   "source": [
    "x_complete = list(range(1, df_genes_complete.shape[1]+1))\n",
    "\n",
    "y_core_complete = output_core_complete.kappa.mean() * np.array(x_complete) ** output_core_complete.lambda_.mean()\n",
    "y_acc_complete = output_acc_complete.kappa.mean() * np.array(x_complete) ** output_acc_complete.lambda_.mean()\n",
    "y_rare_complete = output_rare_complete.kappa.mean() * np.array(x_complete) ** output_rare_complete.lambda_.mean()"
   ]
  },
  {
   "cell_type": "code",
   "execution_count": null,
   "id": "1fe0038f-47be-4dd5-a32c-ea448488b5cd",
   "metadata": {},
   "outputs": [],
   "source": [
    "# Log-linear plot\n",
    "fig, ax = plt.subplots()\n",
    "\n",
    "ax.stackplot(x_complete, y_core_complete, y_acc_complete, y_rare_complete)\n",
    "ax.set_yscale('log')\n",
    "ax.grid(False)\n",
    "plt.show()"
   ]
  },
  {
   "cell_type": "code",
   "execution_count": null,
   "id": "68a7fd77-79e4-4280-82f7-6e0f297f8b1f",
   "metadata": {},
   "outputs": [],
   "source": [
    "fig.savefig('../../data/figures/heaps_law_complete.pdf', transparent=True)"
   ]
  },
  {
   "cell_type": "code",
   "execution_count": null,
   "id": "b5f0cda0-a105-4cba-9616-465966107d64",
   "metadata": {},
   "outputs": [],
   "source": [
    "# Log-linear plot\n",
    "fig, ax = plt.subplots()\n",
    "\n",
    "ax.stackplot(x_complete, y_core_complete, y_acc_complete, y_rare_complete)\n",
    "ax.set_yscale('log')\n",
    "ax.set_ylim(bottom = 1000)\n",
    "ax.grid(False)\n",
    "ax.text(10, 60000, \"Heap's Coefficient: \" + str(.480), style='italic')\n",
    "ax.set_xlabel('Number of strains')\n",
    "ax.set_ylabel('Number of Genes')\n",
    "plt.savefig('../images/supplemental/heaps_law.svg', format='svg')\n",
    "plt.show()"
   ]
  },
  {
   "cell_type": "markdown",
   "id": "fecf3a9c-e0ed-4181-8f1a-150d4ce033b3",
   "metadata": {},
   "source": [
    "# Heaps' Law Plot, Stratified Rare Genome"
   ]
  },
  {
   "cell_type": "code",
   "execution_count": null,
   "id": "9b5076ed-97b2-4759-9b08-9721f74a1710",
   "metadata": {},
   "outputs": [],
   "source": [
    "# These thresholds come from notebook 3a\n",
    "rg_threshold_total = 198/2709\n",
    "rg_threshold_complete = 35/517\n",
    "\n",
    "display(\n",
    "    rg_threshold_total,\n",
    "    rg_threshold_complete\n",
    ")"
   ]
  },
  {
   "cell_type": "code",
   "execution_count": null,
   "id": "bf27a345-7d05-4e2a-a7b7-e4d97d51ddd0",
   "metadata": {},
   "outputs": [],
   "source": [
    "import string\n",
    "from multiprocessing import Pool"
   ]
  },
  {
   "cell_type": "code",
   "execution_count": null,
   "id": "478dd098-0baf-4249-afee-25397250910b",
   "metadata": {},
   "outputs": [],
   "source": [
    "# Change rg_threshold to whatever your rare-genome threshold is (e.g. =0.05 for 5%)\n",
    "# For L. plantarum, we used 15% (=0.15) as the cutoff for the rare/accessory genomes\n",
    "# For E. coli, this number is 3.7% (using the cutoff method based on gene frequency)\n",
    "\n",
    "# Generates multiple df_pan_core-like matrices for multiple iterations (can take a lot of time to run!)\n",
    "def estimate_rare_categories_sizes(\n",
    "    df_genes, df_eggnog, rg_threshold=0.07,\n",
    "    cog_list=None, functional_list=None, num_iter=10, processes=-1\n",
    "):\n",
    "    # List of COG categories\n",
    "    if cog_list is None:\n",
    "        cog_list = list(string.ascii_uppercase)\n",
    "        cog_list.append('-') # no COG category, no known orthologs\n",
    "    \n",
    "    # List of funcational categories\n",
    "    if functional_list is None:\n",
    "        functional_list = ['Prophage', 'Transposase']\n",
    "        \n",
    "    # Fit to Heap's law by simulating num_iter iterations for each COG & functional category\n",
    "    with Pool(processes=processes) as p:\n",
    "        args = [(df_genes, df_eggnog, rg_threshold, cog_list, functional_list) for x in range(num_iter)]\n",
    "        results = p.starmap(func=_simulate_rare_categories, iterable=args)\n",
    "    \n",
    "    # Return dict\n",
    "    results_dict = dict.fromkeys(cog_list+functional_list)\n",
    "    \n",
    "    # Format output\n",
    "    for category in results_dict.keys():\n",
    "        results_dict[category] = pd.DataFrame(\n",
    "            data=[results[i][category] for i in range(num_iter)],\n",
    "            index=[f'Iter{i+1}' for i in range(num_iter)],\n",
    "            columns=[f'Rare{i+1}' for i in range(df_genes.shape[1])]\n",
    "        )\n",
    "    \n",
    "    return results_dict\n",
    "\n",
    "\n",
    "def _simulate_rare_categories(df_genes, df_eggnog, rg_threshold=0.07, cog_list=None, functional_list=None):\n",
    "    '''Simulates a single iteration for rare genes by given COG or functional category.'''\n",
    "    \n",
    "    # Generate random strain order for iteration\n",
    "    strain_order = sample(df_genes.columns.tolist(), k=len(df_genes.columns))\n",
    "    curr_order = [] \n",
    "    \n",
    "    # List of COG categories\n",
    "    if cog_list is None:\n",
    "        cog_list = list(string.ascii_uppercase)\n",
    "        cog_list.append('-') # no COG category, no known orthologs\n",
    "    \n",
    "    # List of funcational categories\n",
    "    if functional_list is None:\n",
    "        functional_list = ['Prophage', 'Transposase']\n",
    "    \n",
    "    # Return dict\n",
    "    categories_sim = dict.fromkeys(cog_list+functional_list)\n",
    "    for key in categories_sim.keys():\n",
    "        categories_sim[key] = np.zeros(df_genes.shape[1], dtype='int')\n",
    "    \n",
    "    # Get list of rare genes\n",
    "    inRareGenome = df_genes.sum(axis=1) < rg_threshold*df_genes.shape[1]\n",
    "    rare_genes = df_genes[inRareGenome].index.tolist()\n",
    "    \n",
    "    # Simulate Heaps' Plot size curve for each COG and functional category\n",
    "    for i, strain in tqdm(enumerate(strain_order), total=len(strain_order)):\n",
    "        curr_order = strain_order[:i+1]\n",
    "        df_genes_curr_order = df_genes.loc[rare_genes, curr_order]\n",
    "        \n",
    "        inCurrentRareGenome = df_genes_curr_order.sum(axis=1) > 0\n",
    "        curr_rare_genes = df_genes_curr_order[inCurrentRareGenome].index.tolist()\n",
    "        \n",
    "        # Get functional category sums (Part 1: for Prophage)\n",
    "        if 'Prophage' in functional_list:\n",
    "            value = (\n",
    "                df_eggnog.loc[curr_rare_genes].Description.str.lower().str.contains('phage ').sum()\n",
    "                + df_eggnog.loc[curr_rare_genes].Description.str.lower().str.contains('prophage').sum()\n",
    "            )\n",
    "            categories_sim['Prophage'][i] = value\n",
    "        \n",
    "        # Get functional category sums (Part 2: for everything else)\n",
    "        curr_list = [x for x in functional_list if x != 'Prophage']\n",
    "        \n",
    "        def get_sum_func(category):\n",
    "            return df_eggnog.loc[curr_rare_genes].Description.str.lower().str.contains(category.lower()).sum()\n",
    "        \n",
    "        results = list(map(get_sum_func, curr_list))\n",
    "        \n",
    "        for j, category in enumerate(curr_list):\n",
    "            categories_sim[category][i] = results[j]\n",
    "        \n",
    "        # TODO: make category V also include all CRISPR + bacteriophage-resistance genes\n",
    "        # TODO: remove double-counting (if possible) between COG and functional categories\n",
    "        \n",
    "        # Get COG category sums\n",
    "        def get_sum_cog(category):\n",
    "            return df_eggnog.loc[curr_rare_genes].COG_category.str.upper().str.contains(category.upper()).sum()\n",
    "        \n",
    "        results = list(map(get_sum_cog, cog_list))\n",
    "        \n",
    "        for j, category in enumerate(cog_list):\n",
    "            categories_sim[category][i] = results[j]\n",
    "    \n",
    "    # Return dict of bootstrapped values for each rare-genome category\n",
    "    return categories_sim"
   ]
  }
 ],
 "metadata": {
  "kernelspec": {
   "display_name": "Python phylon_analysis",
   "language": "python",
   "name": "phylon_analysis"
  },
  "language_info": {
   "codemirror_mode": {
    "name": "ipython",
    "version": 3
   },
   "file_extension": ".py",
   "mimetype": "text/x-python",
   "name": "python",
   "nbconvert_exporter": "python",
   "pygments_lexer": "ipython3",
   "version": "3.12.2"
  }
 },
 "nbformat": 4,
 "nbformat_minor": 5
}
