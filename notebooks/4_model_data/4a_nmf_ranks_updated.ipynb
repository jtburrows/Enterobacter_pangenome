{
 "cells": [
  {
   "cell_type": "markdown",
   "id": "52694f34-5690-4a6e-a124-cd8736f3a415",
   "metadata": {
    "editable": true,
    "slideshow": {
     "slide_type": ""
    },
    "tags": []
   },
   "source": [
    "# Setup"
   ]
  },
  {
   "cell_type": "code",
   "execution_count": 1,
   "id": "0c7afb41-e3b1-420c-840d-5a84cedd157c",
   "metadata": {
    "execution": {
     "iopub.execute_input": "2025-03-07T02:13:20.110455Z",
     "iopub.status.busy": "2025-03-07T02:13:20.110031Z",
     "iopub.status.idle": "2025-03-07T02:13:21.193678Z",
     "shell.execute_reply": "2025-03-07T02:13:21.193067Z",
     "shell.execute_reply.started": "2025-03-07T02:13:20.110426Z"
    }
   },
   "outputs": [],
   "source": [
    "import pickle\n",
    "import numpy as np\n",
    "import pandas as pd\n",
    "import prince\n",
    "from sklearn.decomposition import NMF\n",
    "from sklearn.cluster import KMeans\n",
    "from sklearn.metrics import confusion_matrix, auc\n",
    "from scipy.spatial.distance import hamming\n",
    "\n",
    "from matplotlib import pyplot as plt\n",
    "import seaborn as sns\n",
    "\n",
    "from tqdm.notebook import tqdm, trange\n",
    "\n",
    "import matplotlib\n",
    "matplotlib.rcParams['pdf.fonttype'] = 42\n",
    "matplotlib.rcParams['ps.fonttype'] = 42\n",
    "matplotlib.rcParams['svg.fonttype'] = 'none'\n",
    "matplotlib.rcParams['font.sans-serif'] = 'Arial'\n",
    "matplotlib.rcParams['font.family'] = 'sans-serif'\n",
    "sns.set_style('ticks')\n",
    "matplotlib.rcParams['text.color'] = '#000000'\n",
    "matplotlib.rcParams['axes.labelcolor'] = '#000000'\n",
    "matplotlib.rcParams['xtick.color'] = '#000000'\n",
    "matplotlib.rcParams['ytick.color'] = '#000000'"
   ]
  },
  {
   "cell_type": "code",
   "execution_count": 2,
   "id": "2a883c5d-063e-434a-bd4d-bbc2ca962d3c",
   "metadata": {
    "execution": {
     "iopub.execute_input": "2025-03-07T02:13:21.194371Z",
     "iopub.status.busy": "2025-03-07T02:13:21.194222Z",
     "iopub.status.idle": "2025-03-07T02:13:21.196652Z",
     "shell.execute_reply": "2025-03-07T02:13:21.196317Z",
     "shell.execute_reply.started": "2025-03-07T02:13:21.194360Z"
    }
   },
   "outputs": [],
   "source": [
    "# # Annotated L_bin and A_bin matrices\n",
    "# L_bin = pd.read_csv('../../data/processed/nmf-outputs/L_binarized.csv', index_col=0)\n",
    "# A_bin = pd.read_csv('../../data/processed/nmf-outputs/A_binarized.csv', index_col=0)\n",
    "\n",
    "# display(\n",
    "#     'L_bin',\n",
    "#     L_bin.shape,\n",
    "#     L_bin.head(),\n",
    "#     'A_bin',\n",
    "#     A_bin.shape,\n",
    "#     A_bin.head()\n",
    "# )"
   ]
  },
  {
   "cell_type": "markdown",
   "id": "ec1b03d2-6e02-4832-9c3d-513ad7815a2a",
   "metadata": {},
   "source": [
    "# MCA (for rank analysis)"
   ]
  },
  {
   "cell_type": "code",
   "execution_count": 3,
   "id": "de32f953-a6e2-422d-b351-76022e715959",
   "metadata": {
    "execution": {
     "iopub.execute_input": "2025-03-07T02:13:21.197589Z",
     "iopub.status.busy": "2025-03-07T02:13:21.197486Z",
     "iopub.status.idle": "2025-03-07T02:13:21.217933Z",
     "shell.execute_reply": "2025-03-07T02:13:21.217636Z",
     "shell.execute_reply.started": "2025-03-07T02:13:21.197580Z"
    }
   },
   "outputs": [
    {
     "data": {
      "text/plain": [
       "(4889, 473)"
      ]
     },
     "metadata": {},
     "output_type": "display_data"
    },
    {
     "data": {
      "text/html": [
       "<div>\n",
       "<style scoped>\n",
       "    .dataframe tbody tr th:only-of-type {\n",
       "        vertical-align: middle;\n",
       "    }\n",
       "\n",
       "    .dataframe tbody tr th {\n",
       "        vertical-align: top;\n",
       "    }\n",
       "\n",
       "    .dataframe thead th {\n",
       "        text-align: right;\n",
       "    }\n",
       "</style>\n",
       "<table border=\"1\" class=\"dataframe\">\n",
       "  <thead>\n",
       "    <tr style=\"text-align: right;\">\n",
       "      <th></th>\n",
       "      <th>158836.809</th>\n",
       "      <th>550.1141</th>\n",
       "      <th>1686399.7</th>\n",
       "      <th>1296536.241</th>\n",
       "      <th>550.3830</th>\n",
       "      <th>1812935.464</th>\n",
       "      <th>1333851.3</th>\n",
       "      <th>208224.404</th>\n",
       "      <th>158836.2021</th>\n",
       "      <th>158836.2356</th>\n",
       "      <th>...</th>\n",
       "      <th>158836.801</th>\n",
       "      <th>550.2813</th>\n",
       "      <th>158836.2201</th>\n",
       "      <th>550.2254</th>\n",
       "      <th>299766.198</th>\n",
       "      <th>1045856.3</th>\n",
       "      <th>299766.187</th>\n",
       "      <th>158836.1100</th>\n",
       "      <th>299766.116</th>\n",
       "      <th>158836.2022</th>\n",
       "    </tr>\n",
       "  </thead>\n",
       "  <tbody>\n",
       "    <tr>\n",
       "      <th>Ebacter_C15853</th>\n",
       "      <td>0</td>\n",
       "      <td>0</td>\n",
       "      <td>0</td>\n",
       "      <td>0</td>\n",
       "      <td>0</td>\n",
       "      <td>0</td>\n",
       "      <td>0</td>\n",
       "      <td>0</td>\n",
       "      <td>0</td>\n",
       "      <td>0</td>\n",
       "      <td>...</td>\n",
       "      <td>0</td>\n",
       "      <td>1</td>\n",
       "      <td>0</td>\n",
       "      <td>0</td>\n",
       "      <td>0</td>\n",
       "      <td>0</td>\n",
       "      <td>0</td>\n",
       "      <td>0</td>\n",
       "      <td>0</td>\n",
       "      <td>0</td>\n",
       "    </tr>\n",
       "    <tr>\n",
       "      <th>Ebacter_C51247</th>\n",
       "      <td>0</td>\n",
       "      <td>0</td>\n",
       "      <td>0</td>\n",
       "      <td>0</td>\n",
       "      <td>0</td>\n",
       "      <td>0</td>\n",
       "      <td>0</td>\n",
       "      <td>0</td>\n",
       "      <td>0</td>\n",
       "      <td>0</td>\n",
       "      <td>...</td>\n",
       "      <td>0</td>\n",
       "      <td>0</td>\n",
       "      <td>0</td>\n",
       "      <td>0</td>\n",
       "      <td>0</td>\n",
       "      <td>0</td>\n",
       "      <td>1</td>\n",
       "      <td>0</td>\n",
       "      <td>0</td>\n",
       "      <td>0</td>\n",
       "    </tr>\n",
       "    <tr>\n",
       "      <th>Ebacter_C100996</th>\n",
       "      <td>0</td>\n",
       "      <td>0</td>\n",
       "      <td>0</td>\n",
       "      <td>0</td>\n",
       "      <td>0</td>\n",
       "      <td>0</td>\n",
       "      <td>1</td>\n",
       "      <td>0</td>\n",
       "      <td>0</td>\n",
       "      <td>0</td>\n",
       "      <td>...</td>\n",
       "      <td>1</td>\n",
       "      <td>0</td>\n",
       "      <td>0</td>\n",
       "      <td>0</td>\n",
       "      <td>0</td>\n",
       "      <td>0</td>\n",
       "      <td>0</td>\n",
       "      <td>1</td>\n",
       "      <td>0</td>\n",
       "      <td>0</td>\n",
       "    </tr>\n",
       "    <tr>\n",
       "      <th>Ebacter_C20249</th>\n",
       "      <td>0</td>\n",
       "      <td>0</td>\n",
       "      <td>0</td>\n",
       "      <td>0</td>\n",
       "      <td>0</td>\n",
       "      <td>1</td>\n",
       "      <td>0</td>\n",
       "      <td>0</td>\n",
       "      <td>0</td>\n",
       "      <td>0</td>\n",
       "      <td>...</td>\n",
       "      <td>0</td>\n",
       "      <td>1</td>\n",
       "      <td>0</td>\n",
       "      <td>0</td>\n",
       "      <td>0</td>\n",
       "      <td>0</td>\n",
       "      <td>0</td>\n",
       "      <td>0</td>\n",
       "      <td>0</td>\n",
       "      <td>0</td>\n",
       "    </tr>\n",
       "    <tr>\n",
       "      <th>Ebacter_C95262</th>\n",
       "      <td>0</td>\n",
       "      <td>0</td>\n",
       "      <td>0</td>\n",
       "      <td>0</td>\n",
       "      <td>0</td>\n",
       "      <td>0</td>\n",
       "      <td>0</td>\n",
       "      <td>1</td>\n",
       "      <td>0</td>\n",
       "      <td>0</td>\n",
       "      <td>...</td>\n",
       "      <td>0</td>\n",
       "      <td>1</td>\n",
       "      <td>0</td>\n",
       "      <td>1</td>\n",
       "      <td>0</td>\n",
       "      <td>0</td>\n",
       "      <td>0</td>\n",
       "      <td>0</td>\n",
       "      <td>0</td>\n",
       "      <td>0</td>\n",
       "    </tr>\n",
       "  </tbody>\n",
       "</table>\n",
       "<p>5 rows × 473 columns</p>\n",
       "</div>"
      ],
      "text/plain": [
       "                 158836.809  550.1141  1686399.7  1296536.241  550.3830  \\\n",
       "Ebacter_C15853            0         0          0            0         0   \n",
       "Ebacter_C51247            0         0          0            0         0   \n",
       "Ebacter_C100996           0         0          0            0         0   \n",
       "Ebacter_C20249            0         0          0            0         0   \n",
       "Ebacter_C95262            0         0          0            0         0   \n",
       "\n",
       "                 1812935.464  1333851.3  208224.404  158836.2021  158836.2356  \\\n",
       "Ebacter_C15853             0          0           0            0            0   \n",
       "Ebacter_C51247             0          0           0            0            0   \n",
       "Ebacter_C100996            0          1           0            0            0   \n",
       "Ebacter_C20249             1          0           0            0            0   \n",
       "Ebacter_C95262             0          0           1            0            0   \n",
       "\n",
       "                 ...  158836.801  550.2813  158836.2201  550.2254  299766.198  \\\n",
       "Ebacter_C15853   ...           0         1            0         0           0   \n",
       "Ebacter_C51247   ...           0         0            0         0           0   \n",
       "Ebacter_C100996  ...           1         0            0         0           0   \n",
       "Ebacter_C20249   ...           0         1            0         0           0   \n",
       "Ebacter_C95262   ...           0         1            0         1           0   \n",
       "\n",
       "                 1045856.3  299766.187  158836.1100  299766.116  158836.2022  \n",
       "Ebacter_C15853           0           0            0           0            0  \n",
       "Ebacter_C51247           0           1            0           0            0  \n",
       "Ebacter_C100996          0           0            1           0            0  \n",
       "Ebacter_C20249           0           0            0           0            0  \n",
       "Ebacter_C95262           0           0            0           0            0  \n",
       "\n",
       "[5 rows x 473 columns]"
      ]
     },
     "metadata": {},
     "output_type": "display_data"
    },
    {
     "data": {
      "text/plain": [
       "158836.809     int8\n",
       "550.1141       int8\n",
       "1686399.7      int8\n",
       "1296536.241    int8\n",
       "550.3830       int8\n",
       "               ... \n",
       "1045856.3      int8\n",
       "299766.187     int8\n",
       "158836.1100    int8\n",
       "299766.116     int8\n",
       "158836.2022    int8\n",
       "Length: 473, dtype: object"
      ]
     },
     "metadata": {},
     "output_type": "display_data"
    }
   ],
   "source": [
    "# Step 1: Read the data\n",
    "P_complete = pd.read_pickle('../../data/processed/CAR_genomes/df_acc_complete.pickle')\n",
    "\n",
    "display(\n",
    "    P_complete.shape,\n",
    "    P_complete.head(),\n",
    "    P_complete.dtypes\n",
    ")"
   ]
  },
  {
   "cell_type": "code",
   "execution_count": 4,
   "id": "8d5c5269-e89e-4685-9e6d-8a9f93ddd2fe",
   "metadata": {
    "execution": {
     "iopub.execute_input": "2025-03-07T02:13:21.218473Z",
     "iopub.status.busy": "2025-03-07T02:13:21.218357Z",
     "iopub.status.idle": "2025-03-07T02:13:22.833314Z",
     "shell.execute_reply": "2025-03-07T02:13:22.832958Z",
     "shell.execute_reply.started": "2025-03-07T02:13:21.218462Z"
    }
   },
   "outputs": [
    {
     "data": {
      "text/html": [
       "<style>#sk-container-id-1 {\n",
       "  /* Definition of color scheme common for light and dark mode */\n",
       "  --sklearn-color-text: black;\n",
       "  --sklearn-color-line: gray;\n",
       "  /* Definition of color scheme for unfitted estimators */\n",
       "  --sklearn-color-unfitted-level-0: #fff5e6;\n",
       "  --sklearn-color-unfitted-level-1: #f6e4d2;\n",
       "  --sklearn-color-unfitted-level-2: #ffe0b3;\n",
       "  --sklearn-color-unfitted-level-3: chocolate;\n",
       "  /* Definition of color scheme for fitted estimators */\n",
       "  --sklearn-color-fitted-level-0: #f0f8ff;\n",
       "  --sklearn-color-fitted-level-1: #d4ebff;\n",
       "  --sklearn-color-fitted-level-2: #b3dbfd;\n",
       "  --sklearn-color-fitted-level-3: cornflowerblue;\n",
       "\n",
       "  /* Specific color for light theme */\n",
       "  --sklearn-color-text-on-default-background: var(--sg-text-color, var(--theme-code-foreground, var(--jp-content-font-color1, black)));\n",
       "  --sklearn-color-background: var(--sg-background-color, var(--theme-background, var(--jp-layout-color0, white)));\n",
       "  --sklearn-color-border-box: var(--sg-text-color, var(--theme-code-foreground, var(--jp-content-font-color1, black)));\n",
       "  --sklearn-color-icon: #696969;\n",
       "\n",
       "  @media (prefers-color-scheme: dark) {\n",
       "    /* Redefinition of color scheme for dark theme */\n",
       "    --sklearn-color-text-on-default-background: var(--sg-text-color, var(--theme-code-foreground, var(--jp-content-font-color1, white)));\n",
       "    --sklearn-color-background: var(--sg-background-color, var(--theme-background, var(--jp-layout-color0, #111)));\n",
       "    --sklearn-color-border-box: var(--sg-text-color, var(--theme-code-foreground, var(--jp-content-font-color1, white)));\n",
       "    --sklearn-color-icon: #878787;\n",
       "  }\n",
       "}\n",
       "\n",
       "#sk-container-id-1 {\n",
       "  color: var(--sklearn-color-text);\n",
       "}\n",
       "\n",
       "#sk-container-id-1 pre {\n",
       "  padding: 0;\n",
       "}\n",
       "\n",
       "#sk-container-id-1 input.sk-hidden--visually {\n",
       "  border: 0;\n",
       "  clip: rect(1px 1px 1px 1px);\n",
       "  clip: rect(1px, 1px, 1px, 1px);\n",
       "  height: 1px;\n",
       "  margin: -1px;\n",
       "  overflow: hidden;\n",
       "  padding: 0;\n",
       "  position: absolute;\n",
       "  width: 1px;\n",
       "}\n",
       "\n",
       "#sk-container-id-1 div.sk-dashed-wrapped {\n",
       "  border: 1px dashed var(--sklearn-color-line);\n",
       "  margin: 0 0.4em 0.5em 0.4em;\n",
       "  box-sizing: border-box;\n",
       "  padding-bottom: 0.4em;\n",
       "  background-color: var(--sklearn-color-background);\n",
       "}\n",
       "\n",
       "#sk-container-id-1 div.sk-container {\n",
       "  /* jupyter's `normalize.less` sets `[hidden] { display: none; }`\n",
       "     but bootstrap.min.css set `[hidden] { display: none !important; }`\n",
       "     so we also need the `!important` here to be able to override the\n",
       "     default hidden behavior on the sphinx rendered scikit-learn.org.\n",
       "     See: https://github.com/scikit-learn/scikit-learn/issues/21755 */\n",
       "  display: inline-block !important;\n",
       "  position: relative;\n",
       "}\n",
       "\n",
       "#sk-container-id-1 div.sk-text-repr-fallback {\n",
       "  display: none;\n",
       "}\n",
       "\n",
       "div.sk-parallel-item,\n",
       "div.sk-serial,\n",
       "div.sk-item {\n",
       "  /* draw centered vertical line to link estimators */\n",
       "  background-image: linear-gradient(var(--sklearn-color-text-on-default-background), var(--sklearn-color-text-on-default-background));\n",
       "  background-size: 2px 100%;\n",
       "  background-repeat: no-repeat;\n",
       "  background-position: center center;\n",
       "}\n",
       "\n",
       "/* Parallel-specific style estimator block */\n",
       "\n",
       "#sk-container-id-1 div.sk-parallel-item::after {\n",
       "  content: \"\";\n",
       "  width: 100%;\n",
       "  border-bottom: 2px solid var(--sklearn-color-text-on-default-background);\n",
       "  flex-grow: 1;\n",
       "}\n",
       "\n",
       "#sk-container-id-1 div.sk-parallel {\n",
       "  display: flex;\n",
       "  align-items: stretch;\n",
       "  justify-content: center;\n",
       "  background-color: var(--sklearn-color-background);\n",
       "  position: relative;\n",
       "}\n",
       "\n",
       "#sk-container-id-1 div.sk-parallel-item {\n",
       "  display: flex;\n",
       "  flex-direction: column;\n",
       "}\n",
       "\n",
       "#sk-container-id-1 div.sk-parallel-item:first-child::after {\n",
       "  align-self: flex-end;\n",
       "  width: 50%;\n",
       "}\n",
       "\n",
       "#sk-container-id-1 div.sk-parallel-item:last-child::after {\n",
       "  align-self: flex-start;\n",
       "  width: 50%;\n",
       "}\n",
       "\n",
       "#sk-container-id-1 div.sk-parallel-item:only-child::after {\n",
       "  width: 0;\n",
       "}\n",
       "\n",
       "/* Serial-specific style estimator block */\n",
       "\n",
       "#sk-container-id-1 div.sk-serial {\n",
       "  display: flex;\n",
       "  flex-direction: column;\n",
       "  align-items: center;\n",
       "  background-color: var(--sklearn-color-background);\n",
       "  padding-right: 1em;\n",
       "  padding-left: 1em;\n",
       "}\n",
       "\n",
       "\n",
       "/* Toggleable style: style used for estimator/Pipeline/ColumnTransformer box that is\n",
       "clickable and can be expanded/collapsed.\n",
       "- Pipeline and ColumnTransformer use this feature and define the default style\n",
       "- Estimators will overwrite some part of the style using the `sk-estimator` class\n",
       "*/\n",
       "\n",
       "/* Pipeline and ColumnTransformer style (default) */\n",
       "\n",
       "#sk-container-id-1 div.sk-toggleable {\n",
       "  /* Default theme specific background. It is overwritten whether we have a\n",
       "  specific estimator or a Pipeline/ColumnTransformer */\n",
       "  background-color: var(--sklearn-color-background);\n",
       "}\n",
       "\n",
       "/* Toggleable label */\n",
       "#sk-container-id-1 label.sk-toggleable__label {\n",
       "  cursor: pointer;\n",
       "  display: block;\n",
       "  width: 100%;\n",
       "  margin-bottom: 0;\n",
       "  padding: 0.5em;\n",
       "  box-sizing: border-box;\n",
       "  text-align: center;\n",
       "}\n",
       "\n",
       "#sk-container-id-1 label.sk-toggleable__label-arrow:before {\n",
       "  /* Arrow on the left of the label */\n",
       "  content: \"▸\";\n",
       "  float: left;\n",
       "  margin-right: 0.25em;\n",
       "  color: var(--sklearn-color-icon);\n",
       "}\n",
       "\n",
       "#sk-container-id-1 label.sk-toggleable__label-arrow:hover:before {\n",
       "  color: var(--sklearn-color-text);\n",
       "}\n",
       "\n",
       "/* Toggleable content - dropdown */\n",
       "\n",
       "#sk-container-id-1 div.sk-toggleable__content {\n",
       "  max-height: 0;\n",
       "  max-width: 0;\n",
       "  overflow: hidden;\n",
       "  text-align: left;\n",
       "  /* unfitted */\n",
       "  background-color: var(--sklearn-color-unfitted-level-0);\n",
       "}\n",
       "\n",
       "#sk-container-id-1 div.sk-toggleable__content.fitted {\n",
       "  /* fitted */\n",
       "  background-color: var(--sklearn-color-fitted-level-0);\n",
       "}\n",
       "\n",
       "#sk-container-id-1 div.sk-toggleable__content pre {\n",
       "  margin: 0.2em;\n",
       "  border-radius: 0.25em;\n",
       "  color: var(--sklearn-color-text);\n",
       "  /* unfitted */\n",
       "  background-color: var(--sklearn-color-unfitted-level-0);\n",
       "}\n",
       "\n",
       "#sk-container-id-1 div.sk-toggleable__content.fitted pre {\n",
       "  /* unfitted */\n",
       "  background-color: var(--sklearn-color-fitted-level-0);\n",
       "}\n",
       "\n",
       "#sk-container-id-1 input.sk-toggleable__control:checked~div.sk-toggleable__content {\n",
       "  /* Expand drop-down */\n",
       "  max-height: 200px;\n",
       "  max-width: 100%;\n",
       "  overflow: auto;\n",
       "}\n",
       "\n",
       "#sk-container-id-1 input.sk-toggleable__control:checked~label.sk-toggleable__label-arrow:before {\n",
       "  content: \"▾\";\n",
       "}\n",
       "\n",
       "/* Pipeline/ColumnTransformer-specific style */\n",
       "\n",
       "#sk-container-id-1 div.sk-label input.sk-toggleable__control:checked~label.sk-toggleable__label {\n",
       "  color: var(--sklearn-color-text);\n",
       "  background-color: var(--sklearn-color-unfitted-level-2);\n",
       "}\n",
       "\n",
       "#sk-container-id-1 div.sk-label.fitted input.sk-toggleable__control:checked~label.sk-toggleable__label {\n",
       "  background-color: var(--sklearn-color-fitted-level-2);\n",
       "}\n",
       "\n",
       "/* Estimator-specific style */\n",
       "\n",
       "/* Colorize estimator box */\n",
       "#sk-container-id-1 div.sk-estimator input.sk-toggleable__control:checked~label.sk-toggleable__label {\n",
       "  /* unfitted */\n",
       "  background-color: var(--sklearn-color-unfitted-level-2);\n",
       "}\n",
       "\n",
       "#sk-container-id-1 div.sk-estimator.fitted input.sk-toggleable__control:checked~label.sk-toggleable__label {\n",
       "  /* fitted */\n",
       "  background-color: var(--sklearn-color-fitted-level-2);\n",
       "}\n",
       "\n",
       "#sk-container-id-1 div.sk-label label.sk-toggleable__label,\n",
       "#sk-container-id-1 div.sk-label label {\n",
       "  /* The background is the default theme color */\n",
       "  color: var(--sklearn-color-text-on-default-background);\n",
       "}\n",
       "\n",
       "/* On hover, darken the color of the background */\n",
       "#sk-container-id-1 div.sk-label:hover label.sk-toggleable__label {\n",
       "  color: var(--sklearn-color-text);\n",
       "  background-color: var(--sklearn-color-unfitted-level-2);\n",
       "}\n",
       "\n",
       "/* Label box, darken color on hover, fitted */\n",
       "#sk-container-id-1 div.sk-label.fitted:hover label.sk-toggleable__label.fitted {\n",
       "  color: var(--sklearn-color-text);\n",
       "  background-color: var(--sklearn-color-fitted-level-2);\n",
       "}\n",
       "\n",
       "/* Estimator label */\n",
       "\n",
       "#sk-container-id-1 div.sk-label label {\n",
       "  font-family: monospace;\n",
       "  font-weight: bold;\n",
       "  display: inline-block;\n",
       "  line-height: 1.2em;\n",
       "}\n",
       "\n",
       "#sk-container-id-1 div.sk-label-container {\n",
       "  text-align: center;\n",
       "}\n",
       "\n",
       "/* Estimator-specific */\n",
       "#sk-container-id-1 div.sk-estimator {\n",
       "  font-family: monospace;\n",
       "  border: 1px dotted var(--sklearn-color-border-box);\n",
       "  border-radius: 0.25em;\n",
       "  box-sizing: border-box;\n",
       "  margin-bottom: 0.5em;\n",
       "  /* unfitted */\n",
       "  background-color: var(--sklearn-color-unfitted-level-0);\n",
       "}\n",
       "\n",
       "#sk-container-id-1 div.sk-estimator.fitted {\n",
       "  /* fitted */\n",
       "  background-color: var(--sklearn-color-fitted-level-0);\n",
       "}\n",
       "\n",
       "/* on hover */\n",
       "#sk-container-id-1 div.sk-estimator:hover {\n",
       "  /* unfitted */\n",
       "  background-color: var(--sklearn-color-unfitted-level-2);\n",
       "}\n",
       "\n",
       "#sk-container-id-1 div.sk-estimator.fitted:hover {\n",
       "  /* fitted */\n",
       "  background-color: var(--sklearn-color-fitted-level-2);\n",
       "}\n",
       "\n",
       "/* Specification for estimator info (e.g. \"i\" and \"?\") */\n",
       "\n",
       "/* Common style for \"i\" and \"?\" */\n",
       "\n",
       ".sk-estimator-doc-link,\n",
       "a:link.sk-estimator-doc-link,\n",
       "a:visited.sk-estimator-doc-link {\n",
       "  float: right;\n",
       "  font-size: smaller;\n",
       "  line-height: 1em;\n",
       "  font-family: monospace;\n",
       "  background-color: var(--sklearn-color-background);\n",
       "  border-radius: 1em;\n",
       "  height: 1em;\n",
       "  width: 1em;\n",
       "  text-decoration: none !important;\n",
       "  margin-left: 1ex;\n",
       "  /* unfitted */\n",
       "  border: var(--sklearn-color-unfitted-level-1) 1pt solid;\n",
       "  color: var(--sklearn-color-unfitted-level-1);\n",
       "}\n",
       "\n",
       ".sk-estimator-doc-link.fitted,\n",
       "a:link.sk-estimator-doc-link.fitted,\n",
       "a:visited.sk-estimator-doc-link.fitted {\n",
       "  /* fitted */\n",
       "  border: var(--sklearn-color-fitted-level-1) 1pt solid;\n",
       "  color: var(--sklearn-color-fitted-level-1);\n",
       "}\n",
       "\n",
       "/* On hover */\n",
       "div.sk-estimator:hover .sk-estimator-doc-link:hover,\n",
       ".sk-estimator-doc-link:hover,\n",
       "div.sk-label-container:hover .sk-estimator-doc-link:hover,\n",
       ".sk-estimator-doc-link:hover {\n",
       "  /* unfitted */\n",
       "  background-color: var(--sklearn-color-unfitted-level-3);\n",
       "  color: var(--sklearn-color-background);\n",
       "  text-decoration: none;\n",
       "}\n",
       "\n",
       "div.sk-estimator.fitted:hover .sk-estimator-doc-link.fitted:hover,\n",
       ".sk-estimator-doc-link.fitted:hover,\n",
       "div.sk-label-container:hover .sk-estimator-doc-link.fitted:hover,\n",
       ".sk-estimator-doc-link.fitted:hover {\n",
       "  /* fitted */\n",
       "  background-color: var(--sklearn-color-fitted-level-3);\n",
       "  color: var(--sklearn-color-background);\n",
       "  text-decoration: none;\n",
       "}\n",
       "\n",
       "/* Span, style for the box shown on hovering the info icon */\n",
       ".sk-estimator-doc-link span {\n",
       "  display: none;\n",
       "  z-index: 9999;\n",
       "  position: relative;\n",
       "  font-weight: normal;\n",
       "  right: .2ex;\n",
       "  padding: .5ex;\n",
       "  margin: .5ex;\n",
       "  width: min-content;\n",
       "  min-width: 20ex;\n",
       "  max-width: 50ex;\n",
       "  color: var(--sklearn-color-text);\n",
       "  box-shadow: 2pt 2pt 4pt #999;\n",
       "  /* unfitted */\n",
       "  background: var(--sklearn-color-unfitted-level-0);\n",
       "  border: .5pt solid var(--sklearn-color-unfitted-level-3);\n",
       "}\n",
       "\n",
       ".sk-estimator-doc-link.fitted span {\n",
       "  /* fitted */\n",
       "  background: var(--sklearn-color-fitted-level-0);\n",
       "  border: var(--sklearn-color-fitted-level-3);\n",
       "}\n",
       "\n",
       ".sk-estimator-doc-link:hover span {\n",
       "  display: block;\n",
       "}\n",
       "\n",
       "/* \"?\"-specific style due to the `<a>` HTML tag */\n",
       "\n",
       "#sk-container-id-1 a.estimator_doc_link {\n",
       "  float: right;\n",
       "  font-size: 1rem;\n",
       "  line-height: 1em;\n",
       "  font-family: monospace;\n",
       "  background-color: var(--sklearn-color-background);\n",
       "  border-radius: 1rem;\n",
       "  height: 1rem;\n",
       "  width: 1rem;\n",
       "  text-decoration: none;\n",
       "  /* unfitted */\n",
       "  color: var(--sklearn-color-unfitted-level-1);\n",
       "  border: var(--sklearn-color-unfitted-level-1) 1pt solid;\n",
       "}\n",
       "\n",
       "#sk-container-id-1 a.estimator_doc_link.fitted {\n",
       "  /* fitted */\n",
       "  border: var(--sklearn-color-fitted-level-1) 1pt solid;\n",
       "  color: var(--sklearn-color-fitted-level-1);\n",
       "}\n",
       "\n",
       "/* On hover */\n",
       "#sk-container-id-1 a.estimator_doc_link:hover {\n",
       "  /* unfitted */\n",
       "  background-color: var(--sklearn-color-unfitted-level-3);\n",
       "  color: var(--sklearn-color-background);\n",
       "  text-decoration: none;\n",
       "}\n",
       "\n",
       "#sk-container-id-1 a.estimator_doc_link.fitted:hover {\n",
       "  /* fitted */\n",
       "  background-color: var(--sklearn-color-fitted-level-3);\n",
       "}\n",
       "</style><div id=\"sk-container-id-1\" class=\"sk-top-container\"><div class=\"sk-text-repr-fallback\"><pre>MCA(n_components=4889, n_iter=3, random_state=42)</pre><b>In a Jupyter environment, please rerun this cell to show the HTML representation or trust the notebook. <br />On GitHub, the HTML representation is unable to render, please try loading this page with nbviewer.org.</b></div><div class=\"sk-container\" hidden><div class=\"sk-item\"><div class=\"sk-estimator fitted sk-toggleable\"><input class=\"sk-toggleable__control sk-hidden--visually\" id=\"sk-estimator-id-1\" type=\"checkbox\" checked><label for=\"sk-estimator-id-1\" class=\"sk-toggleable__label fitted sk-toggleable__label-arrow fitted\">&nbsp;MCA<span class=\"sk-estimator-doc-link fitted\">i<span>Fitted</span></span></label><div class=\"sk-toggleable__content fitted\"><pre>MCA(n_components=4889, n_iter=3, random_state=42)</pre></div> </div></div></div></div>"
      ],
      "text/plain": [
       "MCA(n_components=4889, n_iter=3, random_state=42)"
      ]
     },
     "execution_count": 4,
     "metadata": {},
     "output_type": "execute_result"
    }
   ],
   "source": [
    "# Step 2: Perform MCA with prince (run once)\n",
    "mca = prince.MCA(\n",
    "    n_components=4889,  # Set the number of components\n",
    "    n_iter=3,           # Set the number of iterations for the CA algorithm\n",
    "    copy=True,\n",
    "    check_input=True,\n",
    "    engine='sklearn',\n",
    "    random_state=42\n",
    ")\n",
    "mca = mca.fit(P_complete)  # Fit MCA on the dataframe\n",
    "\n",
    "mca"
   ]
  },
  {
   "cell_type": "code",
   "execution_count": 5,
   "id": "96b1cd6e-c48e-4002-a069-2eb92cff5331",
   "metadata": {
    "execution": {
     "iopub.execute_input": "2025-03-07T02:13:22.833983Z",
     "iopub.status.busy": "2025-03-07T02:13:22.833863Z",
     "iopub.status.idle": "2025-03-07T02:13:23.011644Z",
     "shell.execute_reply": "2025-03-07T02:13:23.011208Z",
     "shell.execute_reply.started": "2025-03-07T02:13:22.833971Z"
    }
   },
   "outputs": [],
   "source": [
    "# Save mca model for future use\n",
    "with open('mca_model.pickle', 'wb') as f:\n",
    "    pickle.dump(mca, f)"
   ]
  },
  {
   "cell_type": "code",
   "execution_count": 6,
   "id": "31c56bee-2391-467e-a874-10d7566d5470",
   "metadata": {
    "execution": {
     "iopub.execute_input": "2025-03-07T02:13:23.013012Z",
     "iopub.status.busy": "2025-03-07T02:13:23.012876Z",
     "iopub.status.idle": "2025-03-07T02:13:23.046399Z",
     "shell.execute_reply": "2025-03-07T02:13:23.045851Z",
     "shell.execute_reply.started": "2025-03-07T02:13:23.013000Z"
    }
   },
   "outputs": [
    {
     "data": {
      "text/html": [
       "<style>#sk-container-id-2 {\n",
       "  /* Definition of color scheme common for light and dark mode */\n",
       "  --sklearn-color-text: black;\n",
       "  --sklearn-color-line: gray;\n",
       "  /* Definition of color scheme for unfitted estimators */\n",
       "  --sklearn-color-unfitted-level-0: #fff5e6;\n",
       "  --sklearn-color-unfitted-level-1: #f6e4d2;\n",
       "  --sklearn-color-unfitted-level-2: #ffe0b3;\n",
       "  --sklearn-color-unfitted-level-3: chocolate;\n",
       "  /* Definition of color scheme for fitted estimators */\n",
       "  --sklearn-color-fitted-level-0: #f0f8ff;\n",
       "  --sklearn-color-fitted-level-1: #d4ebff;\n",
       "  --sklearn-color-fitted-level-2: #b3dbfd;\n",
       "  --sklearn-color-fitted-level-3: cornflowerblue;\n",
       "\n",
       "  /* Specific color for light theme */\n",
       "  --sklearn-color-text-on-default-background: var(--sg-text-color, var(--theme-code-foreground, var(--jp-content-font-color1, black)));\n",
       "  --sklearn-color-background: var(--sg-background-color, var(--theme-background, var(--jp-layout-color0, white)));\n",
       "  --sklearn-color-border-box: var(--sg-text-color, var(--theme-code-foreground, var(--jp-content-font-color1, black)));\n",
       "  --sklearn-color-icon: #696969;\n",
       "\n",
       "  @media (prefers-color-scheme: dark) {\n",
       "    /* Redefinition of color scheme for dark theme */\n",
       "    --sklearn-color-text-on-default-background: var(--sg-text-color, var(--theme-code-foreground, var(--jp-content-font-color1, white)));\n",
       "    --sklearn-color-background: var(--sg-background-color, var(--theme-background, var(--jp-layout-color0, #111)));\n",
       "    --sklearn-color-border-box: var(--sg-text-color, var(--theme-code-foreground, var(--jp-content-font-color1, white)));\n",
       "    --sklearn-color-icon: #878787;\n",
       "  }\n",
       "}\n",
       "\n",
       "#sk-container-id-2 {\n",
       "  color: var(--sklearn-color-text);\n",
       "}\n",
       "\n",
       "#sk-container-id-2 pre {\n",
       "  padding: 0;\n",
       "}\n",
       "\n",
       "#sk-container-id-2 input.sk-hidden--visually {\n",
       "  border: 0;\n",
       "  clip: rect(1px 1px 1px 1px);\n",
       "  clip: rect(1px, 1px, 1px, 1px);\n",
       "  height: 1px;\n",
       "  margin: -1px;\n",
       "  overflow: hidden;\n",
       "  padding: 0;\n",
       "  position: absolute;\n",
       "  width: 1px;\n",
       "}\n",
       "\n",
       "#sk-container-id-2 div.sk-dashed-wrapped {\n",
       "  border: 1px dashed var(--sklearn-color-line);\n",
       "  margin: 0 0.4em 0.5em 0.4em;\n",
       "  box-sizing: border-box;\n",
       "  padding-bottom: 0.4em;\n",
       "  background-color: var(--sklearn-color-background);\n",
       "}\n",
       "\n",
       "#sk-container-id-2 div.sk-container {\n",
       "  /* jupyter's `normalize.less` sets `[hidden] { display: none; }`\n",
       "     but bootstrap.min.css set `[hidden] { display: none !important; }`\n",
       "     so we also need the `!important` here to be able to override the\n",
       "     default hidden behavior on the sphinx rendered scikit-learn.org.\n",
       "     See: https://github.com/scikit-learn/scikit-learn/issues/21755 */\n",
       "  display: inline-block !important;\n",
       "  position: relative;\n",
       "}\n",
       "\n",
       "#sk-container-id-2 div.sk-text-repr-fallback {\n",
       "  display: none;\n",
       "}\n",
       "\n",
       "div.sk-parallel-item,\n",
       "div.sk-serial,\n",
       "div.sk-item {\n",
       "  /* draw centered vertical line to link estimators */\n",
       "  background-image: linear-gradient(var(--sklearn-color-text-on-default-background), var(--sklearn-color-text-on-default-background));\n",
       "  background-size: 2px 100%;\n",
       "  background-repeat: no-repeat;\n",
       "  background-position: center center;\n",
       "}\n",
       "\n",
       "/* Parallel-specific style estimator block */\n",
       "\n",
       "#sk-container-id-2 div.sk-parallel-item::after {\n",
       "  content: \"\";\n",
       "  width: 100%;\n",
       "  border-bottom: 2px solid var(--sklearn-color-text-on-default-background);\n",
       "  flex-grow: 1;\n",
       "}\n",
       "\n",
       "#sk-container-id-2 div.sk-parallel {\n",
       "  display: flex;\n",
       "  align-items: stretch;\n",
       "  justify-content: center;\n",
       "  background-color: var(--sklearn-color-background);\n",
       "  position: relative;\n",
       "}\n",
       "\n",
       "#sk-container-id-2 div.sk-parallel-item {\n",
       "  display: flex;\n",
       "  flex-direction: column;\n",
       "}\n",
       "\n",
       "#sk-container-id-2 div.sk-parallel-item:first-child::after {\n",
       "  align-self: flex-end;\n",
       "  width: 50%;\n",
       "}\n",
       "\n",
       "#sk-container-id-2 div.sk-parallel-item:last-child::after {\n",
       "  align-self: flex-start;\n",
       "  width: 50%;\n",
       "}\n",
       "\n",
       "#sk-container-id-2 div.sk-parallel-item:only-child::after {\n",
       "  width: 0;\n",
       "}\n",
       "\n",
       "/* Serial-specific style estimator block */\n",
       "\n",
       "#sk-container-id-2 div.sk-serial {\n",
       "  display: flex;\n",
       "  flex-direction: column;\n",
       "  align-items: center;\n",
       "  background-color: var(--sklearn-color-background);\n",
       "  padding-right: 1em;\n",
       "  padding-left: 1em;\n",
       "}\n",
       "\n",
       "\n",
       "/* Toggleable style: style used for estimator/Pipeline/ColumnTransformer box that is\n",
       "clickable and can be expanded/collapsed.\n",
       "- Pipeline and ColumnTransformer use this feature and define the default style\n",
       "- Estimators will overwrite some part of the style using the `sk-estimator` class\n",
       "*/\n",
       "\n",
       "/* Pipeline and ColumnTransformer style (default) */\n",
       "\n",
       "#sk-container-id-2 div.sk-toggleable {\n",
       "  /* Default theme specific background. It is overwritten whether we have a\n",
       "  specific estimator or a Pipeline/ColumnTransformer */\n",
       "  background-color: var(--sklearn-color-background);\n",
       "}\n",
       "\n",
       "/* Toggleable label */\n",
       "#sk-container-id-2 label.sk-toggleable__label {\n",
       "  cursor: pointer;\n",
       "  display: block;\n",
       "  width: 100%;\n",
       "  margin-bottom: 0;\n",
       "  padding: 0.5em;\n",
       "  box-sizing: border-box;\n",
       "  text-align: center;\n",
       "}\n",
       "\n",
       "#sk-container-id-2 label.sk-toggleable__label-arrow:before {\n",
       "  /* Arrow on the left of the label */\n",
       "  content: \"▸\";\n",
       "  float: left;\n",
       "  margin-right: 0.25em;\n",
       "  color: var(--sklearn-color-icon);\n",
       "}\n",
       "\n",
       "#sk-container-id-2 label.sk-toggleable__label-arrow:hover:before {\n",
       "  color: var(--sklearn-color-text);\n",
       "}\n",
       "\n",
       "/* Toggleable content - dropdown */\n",
       "\n",
       "#sk-container-id-2 div.sk-toggleable__content {\n",
       "  max-height: 0;\n",
       "  max-width: 0;\n",
       "  overflow: hidden;\n",
       "  text-align: left;\n",
       "  /* unfitted */\n",
       "  background-color: var(--sklearn-color-unfitted-level-0);\n",
       "}\n",
       "\n",
       "#sk-container-id-2 div.sk-toggleable__content.fitted {\n",
       "  /* fitted */\n",
       "  background-color: var(--sklearn-color-fitted-level-0);\n",
       "}\n",
       "\n",
       "#sk-container-id-2 div.sk-toggleable__content pre {\n",
       "  margin: 0.2em;\n",
       "  border-radius: 0.25em;\n",
       "  color: var(--sklearn-color-text);\n",
       "  /* unfitted */\n",
       "  background-color: var(--sklearn-color-unfitted-level-0);\n",
       "}\n",
       "\n",
       "#sk-container-id-2 div.sk-toggleable__content.fitted pre {\n",
       "  /* unfitted */\n",
       "  background-color: var(--sklearn-color-fitted-level-0);\n",
       "}\n",
       "\n",
       "#sk-container-id-2 input.sk-toggleable__control:checked~div.sk-toggleable__content {\n",
       "  /* Expand drop-down */\n",
       "  max-height: 200px;\n",
       "  max-width: 100%;\n",
       "  overflow: auto;\n",
       "}\n",
       "\n",
       "#sk-container-id-2 input.sk-toggleable__control:checked~label.sk-toggleable__label-arrow:before {\n",
       "  content: \"▾\";\n",
       "}\n",
       "\n",
       "/* Pipeline/ColumnTransformer-specific style */\n",
       "\n",
       "#sk-container-id-2 div.sk-label input.sk-toggleable__control:checked~label.sk-toggleable__label {\n",
       "  color: var(--sklearn-color-text);\n",
       "  background-color: var(--sklearn-color-unfitted-level-2);\n",
       "}\n",
       "\n",
       "#sk-container-id-2 div.sk-label.fitted input.sk-toggleable__control:checked~label.sk-toggleable__label {\n",
       "  background-color: var(--sklearn-color-fitted-level-2);\n",
       "}\n",
       "\n",
       "/* Estimator-specific style */\n",
       "\n",
       "/* Colorize estimator box */\n",
       "#sk-container-id-2 div.sk-estimator input.sk-toggleable__control:checked~label.sk-toggleable__label {\n",
       "  /* unfitted */\n",
       "  background-color: var(--sklearn-color-unfitted-level-2);\n",
       "}\n",
       "\n",
       "#sk-container-id-2 div.sk-estimator.fitted input.sk-toggleable__control:checked~label.sk-toggleable__label {\n",
       "  /* fitted */\n",
       "  background-color: var(--sklearn-color-fitted-level-2);\n",
       "}\n",
       "\n",
       "#sk-container-id-2 div.sk-label label.sk-toggleable__label,\n",
       "#sk-container-id-2 div.sk-label label {\n",
       "  /* The background is the default theme color */\n",
       "  color: var(--sklearn-color-text-on-default-background);\n",
       "}\n",
       "\n",
       "/* On hover, darken the color of the background */\n",
       "#sk-container-id-2 div.sk-label:hover label.sk-toggleable__label {\n",
       "  color: var(--sklearn-color-text);\n",
       "  background-color: var(--sklearn-color-unfitted-level-2);\n",
       "}\n",
       "\n",
       "/* Label box, darken color on hover, fitted */\n",
       "#sk-container-id-2 div.sk-label.fitted:hover label.sk-toggleable__label.fitted {\n",
       "  color: var(--sklearn-color-text);\n",
       "  background-color: var(--sklearn-color-fitted-level-2);\n",
       "}\n",
       "\n",
       "/* Estimator label */\n",
       "\n",
       "#sk-container-id-2 div.sk-label label {\n",
       "  font-family: monospace;\n",
       "  font-weight: bold;\n",
       "  display: inline-block;\n",
       "  line-height: 1.2em;\n",
       "}\n",
       "\n",
       "#sk-container-id-2 div.sk-label-container {\n",
       "  text-align: center;\n",
       "}\n",
       "\n",
       "/* Estimator-specific */\n",
       "#sk-container-id-2 div.sk-estimator {\n",
       "  font-family: monospace;\n",
       "  border: 1px dotted var(--sklearn-color-border-box);\n",
       "  border-radius: 0.25em;\n",
       "  box-sizing: border-box;\n",
       "  margin-bottom: 0.5em;\n",
       "  /* unfitted */\n",
       "  background-color: var(--sklearn-color-unfitted-level-0);\n",
       "}\n",
       "\n",
       "#sk-container-id-2 div.sk-estimator.fitted {\n",
       "  /* fitted */\n",
       "  background-color: var(--sklearn-color-fitted-level-0);\n",
       "}\n",
       "\n",
       "/* on hover */\n",
       "#sk-container-id-2 div.sk-estimator:hover {\n",
       "  /* unfitted */\n",
       "  background-color: var(--sklearn-color-unfitted-level-2);\n",
       "}\n",
       "\n",
       "#sk-container-id-2 div.sk-estimator.fitted:hover {\n",
       "  /* fitted */\n",
       "  background-color: var(--sklearn-color-fitted-level-2);\n",
       "}\n",
       "\n",
       "/* Specification for estimator info (e.g. \"i\" and \"?\") */\n",
       "\n",
       "/* Common style for \"i\" and \"?\" */\n",
       "\n",
       ".sk-estimator-doc-link,\n",
       "a:link.sk-estimator-doc-link,\n",
       "a:visited.sk-estimator-doc-link {\n",
       "  float: right;\n",
       "  font-size: smaller;\n",
       "  line-height: 1em;\n",
       "  font-family: monospace;\n",
       "  background-color: var(--sklearn-color-background);\n",
       "  border-radius: 1em;\n",
       "  height: 1em;\n",
       "  width: 1em;\n",
       "  text-decoration: none !important;\n",
       "  margin-left: 1ex;\n",
       "  /* unfitted */\n",
       "  border: var(--sklearn-color-unfitted-level-1) 1pt solid;\n",
       "  color: var(--sklearn-color-unfitted-level-1);\n",
       "}\n",
       "\n",
       ".sk-estimator-doc-link.fitted,\n",
       "a:link.sk-estimator-doc-link.fitted,\n",
       "a:visited.sk-estimator-doc-link.fitted {\n",
       "  /* fitted */\n",
       "  border: var(--sklearn-color-fitted-level-1) 1pt solid;\n",
       "  color: var(--sklearn-color-fitted-level-1);\n",
       "}\n",
       "\n",
       "/* On hover */\n",
       "div.sk-estimator:hover .sk-estimator-doc-link:hover,\n",
       ".sk-estimator-doc-link:hover,\n",
       "div.sk-label-container:hover .sk-estimator-doc-link:hover,\n",
       ".sk-estimator-doc-link:hover {\n",
       "  /* unfitted */\n",
       "  background-color: var(--sklearn-color-unfitted-level-3);\n",
       "  color: var(--sklearn-color-background);\n",
       "  text-decoration: none;\n",
       "}\n",
       "\n",
       "div.sk-estimator.fitted:hover .sk-estimator-doc-link.fitted:hover,\n",
       ".sk-estimator-doc-link.fitted:hover,\n",
       "div.sk-label-container:hover .sk-estimator-doc-link.fitted:hover,\n",
       ".sk-estimator-doc-link.fitted:hover {\n",
       "  /* fitted */\n",
       "  background-color: var(--sklearn-color-fitted-level-3);\n",
       "  color: var(--sklearn-color-background);\n",
       "  text-decoration: none;\n",
       "}\n",
       "\n",
       "/* Span, style for the box shown on hovering the info icon */\n",
       ".sk-estimator-doc-link span {\n",
       "  display: none;\n",
       "  z-index: 9999;\n",
       "  position: relative;\n",
       "  font-weight: normal;\n",
       "  right: .2ex;\n",
       "  padding: .5ex;\n",
       "  margin: .5ex;\n",
       "  width: min-content;\n",
       "  min-width: 20ex;\n",
       "  max-width: 50ex;\n",
       "  color: var(--sklearn-color-text);\n",
       "  box-shadow: 2pt 2pt 4pt #999;\n",
       "  /* unfitted */\n",
       "  background: var(--sklearn-color-unfitted-level-0);\n",
       "  border: .5pt solid var(--sklearn-color-unfitted-level-3);\n",
       "}\n",
       "\n",
       ".sk-estimator-doc-link.fitted span {\n",
       "  /* fitted */\n",
       "  background: var(--sklearn-color-fitted-level-0);\n",
       "  border: var(--sklearn-color-fitted-level-3);\n",
       "}\n",
       "\n",
       ".sk-estimator-doc-link:hover span {\n",
       "  display: block;\n",
       "}\n",
       "\n",
       "/* \"?\"-specific style due to the `<a>` HTML tag */\n",
       "\n",
       "#sk-container-id-2 a.estimator_doc_link {\n",
       "  float: right;\n",
       "  font-size: 1rem;\n",
       "  line-height: 1em;\n",
       "  font-family: monospace;\n",
       "  background-color: var(--sklearn-color-background);\n",
       "  border-radius: 1rem;\n",
       "  height: 1rem;\n",
       "  width: 1rem;\n",
       "  text-decoration: none;\n",
       "  /* unfitted */\n",
       "  color: var(--sklearn-color-unfitted-level-1);\n",
       "  border: var(--sklearn-color-unfitted-level-1) 1pt solid;\n",
       "}\n",
       "\n",
       "#sk-container-id-2 a.estimator_doc_link.fitted {\n",
       "  /* fitted */\n",
       "  border: var(--sklearn-color-fitted-level-1) 1pt solid;\n",
       "  color: var(--sklearn-color-fitted-level-1);\n",
       "}\n",
       "\n",
       "/* On hover */\n",
       "#sk-container-id-2 a.estimator_doc_link:hover {\n",
       "  /* unfitted */\n",
       "  background-color: var(--sklearn-color-unfitted-level-3);\n",
       "  color: var(--sklearn-color-background);\n",
       "  text-decoration: none;\n",
       "}\n",
       "\n",
       "#sk-container-id-2 a.estimator_doc_link.fitted:hover {\n",
       "  /* fitted */\n",
       "  background-color: var(--sklearn-color-fitted-level-3);\n",
       "}\n",
       "</style><div id=\"sk-container-id-2\" class=\"sk-top-container\"><div class=\"sk-text-repr-fallback\"><pre>MCA(n_components=4889, n_iter=3, random_state=42)</pre><b>In a Jupyter environment, please rerun this cell to show the HTML representation or trust the notebook. <br />On GitHub, the HTML representation is unable to render, please try loading this page with nbviewer.org.</b></div><div class=\"sk-container\" hidden><div class=\"sk-item\"><div class=\"sk-estimator fitted sk-toggleable\"><input class=\"sk-toggleable__control sk-hidden--visually\" id=\"sk-estimator-id-2\" type=\"checkbox\" checked><label for=\"sk-estimator-id-2\" class=\"sk-toggleable__label fitted sk-toggleable__label-arrow fitted\">&nbsp;MCA<span class=\"sk-estimator-doc-link fitted\">i<span>Fitted</span></span></label><div class=\"sk-toggleable__content fitted\"><pre>MCA(n_components=4889, n_iter=3, random_state=42)</pre></div> </div></div></div></div>"
      ],
      "text/plain": [
       "MCA(n_components=4889, n_iter=3, random_state=42)"
      ]
     },
     "execution_count": 6,
     "metadata": {},
     "output_type": "execute_result"
    }
   ],
   "source": [
    "# Step 2: Load in MCA model\n",
    "with open('mca_model.pickle', 'rb') as f:\n",
    "    mca = pickle.load(f)\n",
    "\n",
    "mca"
   ]
  },
  {
   "cell_type": "code",
   "execution_count": 7,
   "id": "edfea25c-f0c1-47ea-83ac-63c1702f4775",
   "metadata": {
    "execution": {
     "iopub.execute_input": "2025-03-07T02:13:23.047074Z",
     "iopub.status.busy": "2025-03-07T02:13:23.046952Z",
     "iopub.status.idle": "2025-03-07T02:13:23.049728Z",
     "shell.execute_reply": "2025-03-07T02:13:23.049308Z",
     "shell.execute_reply.started": "2025-03-07T02:13:23.047063Z"
    }
   },
   "outputs": [],
   "source": [
    "# Step 3: Extract and plot the cumulative explained variance\n",
    "explained_variance_percentage = mca.percentage_of_variance_  # Retrieve explained inertia which gives variance explained by each component\n",
    "cumulative_variance = pd.Series(explained_variance_percentage).cumsum()  # Cumulative sum to find cumulative explained variance"
   ]
  },
  {
   "cell_type": "code",
   "execution_count": 8,
   "id": "16051d08-5aec-4061-a823-375fd5708189",
   "metadata": {
    "execution": {
     "iopub.execute_input": "2025-03-07T02:13:23.050342Z",
     "iopub.status.busy": "2025-03-07T02:13:23.050225Z",
     "iopub.status.idle": "2025-03-07T02:13:23.200747Z",
     "shell.execute_reply": "2025-03-07T02:13:23.200272Z",
     "shell.execute_reply.started": "2025-03-07T02:13:23.050331Z"
    }
   },
   "outputs": [
    {
     "data": {
      "image/png": "[encoded data removed]",
      "text/plain": [
       "<Figure size 1200x600 with 1 Axes>"
      ]
     },
     "metadata": {},
     "output_type": "display_data"
    }
   ],
   "source": [
    "# Create the plot (full)\n",
    "sns.set(style='whitegrid')\n",
    "plt.figure(figsize=(12, 6))\n",
    "plt.plot(cumulative_variance, marker='o', linestyle='-', color='blue')\n",
    "plt.title('Cumulative Explained Variance by Dimension')\n",
    "plt.xlabel('Number of Dimensions')\n",
    "plt.ylabel('Cumulative Explained Variance')\n",
    "\n",
    "# Calculate explained inertia (variance) thresholds\n",
    "threshold = {num: cumulative_variance[cumulative_variance >= num].index[0] for num in range(1,99)}\n",
    "\n",
    "# Add vertical lines for explained inertia thresholds\n",
    "plt.axvline(x=threshold[70], color='grey', label=f'70% Explained Variance: {threshold[70]}', linestyle='--')\n",
    "plt.axvline(x=threshold[75], color='limegreen', label=f'75% Explained Variance: {threshold[75]}', linestyle='--')\n",
    "plt.axvline(x=threshold[80], color='purple', label=f'80% Explained Variance: {threshold[80]}', linestyle='--')\n",
    "plt.axvline(x=threshold[85], color='pink', label=f'85% Explained Variance: {threshold[85]}', linestyle='--')\n",
    "plt.axvline(x=threshold[90], color='maroon', label=f'90% Explained Variance: {threshold[90]}', linestyle='--')\n",
    "\n",
    "plt.legend()\n",
    "plt.show()"
   ]
  },
  {
   "cell_type": "code",
   "execution_count": 9,
   "id": "76aee04e-5397-4d64-a5b1-330814a75dc9",
   "metadata": {
    "execution": {
     "iopub.execute_input": "2025-03-07T02:13:23.201390Z",
     "iopub.status.busy": "2025-03-07T02:13:23.201284Z",
     "iopub.status.idle": "2025-03-07T02:13:23.349259Z",
     "shell.execute_reply": "2025-03-07T02:13:23.348723Z",
     "shell.execute_reply.started": "2025-03-07T02:13:23.201380Z"
    }
   },
   "outputs": [
    {
     "data": {
      "image/png": "[encoded data removed]",
      "text/plain": [
       "<Figure size 1200x600 with 1 Axes>"
      ]
     },
     "metadata": {},
     "output_type": "display_data"
    }
   ],
   "source": [
    "# Create the plot (first n components)\n",
    "n_significant_components = (explained_variance_percentage > 0.01).sum()\n",
    "\n",
    "sns.set(style='whitegrid')\n",
    "plt.figure(figsize=(12, 6))\n",
    "plt.plot(cumulative_variance[:n_significant_components], marker='o', linestyle='-', color='blue')\n",
    "plt.title('Cumulative Explained Inertia (Variance) by Dimension')\n",
    "plt.xlabel('Number of Dimensions')\n",
    "plt.ylabel('Cumulative Explained Inertia (Variance)')\n",
    "\n",
    "# Add vertical lines for explained inertia thresholds\n",
    "plt.axvline(x=threshold[70], color='grey', label=f'70% Explained Variance: {threshold[70]}', linestyle='--')\n",
    "plt.axvline(x=threshold[75], color='limegreen', label=f'75% Explained Variance: {threshold[75]}', linestyle='--')\n",
    "plt.axvline(x=threshold[80], color='purple', label=f'80% Explained Variance: {threshold[80]}', linestyle='--')\n",
    "plt.axvline(x=threshold[85], color='pink', label=f'85% Explained Variance: {threshold[85]}', linestyle='--')\n",
    "plt.axvline(x=threshold[90], color='maroon', label=f'90% Explained Variance: {threshold[90]}', linestyle='--')\n",
    "\n",
    "plt.legend()\n",
    "plt.show()"
   ]
  },
  {
   "cell_type": "markdown",
   "id": "69de855e-33e3-456a-beba-c642789bc807",
   "metadata": {},
   "source": [
    "* take the genes in a phylogroup and plot CDF histogram (to see distribution of genes in a phylogroup)\n",
    "* see if they overlap with poor-performing genes"
   ]
  },
  {
   "cell_type": "markdown",
   "id": "9da46005-69b2-4caf-be1d-085e8d0ff6aa",
   "metadata": {},
   "source": [
    "# NMF at various ranks (determined by MCA)"
   ]
  },
  {
   "cell_type": "code",
   "execution_count": 10,
   "id": "54ac436a-1c65-424e-a793-dabb1f3d6059",
   "metadata": {
    "execution": {
     "iopub.execute_input": "2025-03-07T02:13:23.349771Z",
     "iopub.status.busy": "2025-03-07T02:13:23.349671Z",
     "iopub.status.idle": "2025-03-07T02:13:23.352187Z",
     "shell.execute_reply": "2025-03-07T02:13:23.351784Z",
     "shell.execute_reply.started": "2025-03-07T02:13:23.349761Z"
    }
   },
   "outputs": [],
   "source": [
    "mash_rank = 21 # Calculated from Mash analysis"
   ]
  },
  {
   "cell_type": "code",
   "execution_count": 11,
   "id": "ff4eab62-2818-4371-ad3d-5cf2bf66adc3",
   "metadata": {
    "execution": {
     "iopub.execute_input": "2025-03-07T02:13:23.352771Z",
     "iopub.status.busy": "2025-03-07T02:13:23.352660Z",
     "iopub.status.idle": "2025-03-07T02:13:23.362828Z",
     "shell.execute_reply": "2025-03-07T02:13:23.362366Z",
     "shell.execute_reply.started": "2025-03-07T02:13:23.352761Z"
    }
   },
   "outputs": [
    {
     "data": {
      "text/plain": [
       "[2, 7, 12, 17, 18, 19, 20, 21, 22, 23, 24, 25, 26, 39, 74]"
      ]
     },
     "execution_count": 11,
     "metadata": {},
     "output_type": "execute_result"
    }
   ],
   "source": [
    "# Explore ranks up to 90% explained variance in MCA, including the 10 ranks surrouding the optimal mash cluster value\n",
    "rank_list = sorted(set([2, threshold[70], threshold[75], threshold[80], threshold[85], threshold[90]] + \n",
    "                       list(range(mash_rank - 2, mash_rank + 3))))\n",
    "rank_list = sorted(set([2, threshold[70], threshold[75], threshold[80], threshold[85], threshold[90]] + \n",
    "                       list(range(mash_rank - 4, mash_rank + 6))))\n",
    "rank_list"
   ]
  },
  {
   "cell_type": "code",
   "execution_count": 12,
   "id": "f15a8a5a-41c0-495a-81e5-ecad719a1448",
   "metadata": {
    "execution": {
     "iopub.execute_input": "2025-03-07T02:13:23.363413Z",
     "iopub.status.busy": "2025-03-07T02:13:23.363300Z",
     "iopub.status.idle": "2025-03-07T02:19:54.340143Z",
     "shell.execute_reply": "2025-03-07T02:19:54.339701Z",
     "shell.execute_reply.started": "2025-03-07T02:13:23.363402Z"
    }
   },
   "outputs": [
    {
     "data": {
      "application/vnd.jupyter.widget-view+json": {
       "model_id": "0eade1be15ff42119ae45f915bc2ac45",
       "version_major": 2,
       "version_minor": 0
      },
      "text/plain": [
       "Running NMF at varying ranks...:   0%|          | 0/15 [00:00<?, ?it/s]"
      ]
     },
     "metadata": {},
     "output_type": "display_data"
    },
    {
     "data": {
      "application/vnd.jupyter.widget-view+json": {
       "model_id": "",
       "version_major": 2,
       "version_minor": 0
      },
      "text/plain": [
       "NMF run at random state:   0%|          | 0/3 [00:00<?, ?it/s]"
      ]
     },
     "metadata": {},
     "output_type": "display_data"
    },
    {
     "data": {
      "application/vnd.jupyter.widget-view+json": {
       "model_id": "",
       "version_major": 2,
       "version_minor": 0
      },
      "text/plain": [
       "NMF run at random state:   0%|          | 0/3 [00:00<?, ?it/s]"
      ]
     },
     "metadata": {},
     "output_type": "display_data"
    },
    {
     "data": {
      "application/vnd.jupyter.widget-view+json": {
       "model_id": "",
       "version_major": 2,
       "version_minor": 0
      },
      "text/plain": [
       "NMF run at random state:   0%|          | 0/3 [00:00<?, ?it/s]"
      ]
     },
     "metadata": {},
     "output_type": "display_data"
    },
    {
     "data": {
      "application/vnd.jupyter.widget-view+json": {
       "model_id": "",
       "version_major": 2,
       "version_minor": 0
      },
      "text/plain": [
       "NMF run at random state:   0%|          | 0/3 [00:00<?, ?it/s]"
      ]
     },
     "metadata": {},
     "output_type": "display_data"
    },
    {
     "data": {
      "application/vnd.jupyter.widget-view+json": {
       "model_id": "",
       "version_major": 2,
       "version_minor": 0
      },
      "text/plain": [
       "NMF run at random state:   0%|          | 0/3 [00:00<?, ?it/s]"
      ]
     },
     "metadata": {},
     "output_type": "display_data"
    },
    {
     "data": {
      "application/vnd.jupyter.widget-view+json": {
       "model_id": "",
       "version_major": 2,
       "version_minor": 0
      },
      "text/plain": [
       "NMF run at random state:   0%|          | 0/3 [00:00<?, ?it/s]"
      ]
     },
     "metadata": {},
     "output_type": "display_data"
    },
    {
     "data": {
      "application/vnd.jupyter.widget-view+json": {
       "model_id": "",
       "version_major": 2,
       "version_minor": 0
      },
      "text/plain": [
       "NMF run at random state:   0%|          | 0/3 [00:00<?, ?it/s]"
      ]
     },
     "metadata": {},
     "output_type": "display_data"
    },
    {
     "data": {
      "application/vnd.jupyter.widget-view+json": {
       "model_id": "",
       "version_major": 2,
       "version_minor": 0
      },
      "text/plain": [
       "NMF run at random state:   0%|          | 0/3 [00:00<?, ?it/s]"
      ]
     },
     "metadata": {},
     "output_type": "display_data"
    },
    {
     "data": {
      "application/vnd.jupyter.widget-view+json": {
       "model_id": "",
       "version_major": 2,
       "version_minor": 0
      },
      "text/plain": [
       "NMF run at random state:   0%|          | 0/3 [00:00<?, ?it/s]"
      ]
     },
     "metadata": {},
     "output_type": "display_data"
    },
    {
     "data": {
      "application/vnd.jupyter.widget-view+json": {
       "model_id": "",
       "version_major": 2,
       "version_minor": 0
      },
      "text/plain": [
       "NMF run at random state:   0%|          | 0/3 [00:00<?, ?it/s]"
      ]
     },
     "metadata": {},
     "output_type": "display_data"
    },
    {
     "data": {
      "application/vnd.jupyter.widget-view+json": {
       "model_id": "",
       "version_major": 2,
       "version_minor": 0
      },
      "text/plain": [
       "NMF run at random state:   0%|          | 0/3 [00:00<?, ?it/s]"
      ]
     },
     "metadata": {},
     "output_type": "display_data"
    },
    {
     "data": {
      "application/vnd.jupyter.widget-view+json": {
       "model_id": "",
       "version_major": 2,
       "version_minor": 0
      },
      "text/plain": [
       "NMF run at random state:   0%|          | 0/3 [00:00<?, ?it/s]"
      ]
     },
     "metadata": {},
     "output_type": "display_data"
    },
    {
     "data": {
      "application/vnd.jupyter.widget-view+json": {
       "model_id": "",
       "version_major": 2,
       "version_minor": 0
      },
      "text/plain": [
       "NMF run at random state:   0%|          | 0/3 [00:00<?, ?it/s]"
      ]
     },
     "metadata": {},
     "output_type": "display_data"
    },
    {
     "data": {
      "application/vnd.jupyter.widget-view+json": {
       "model_id": "",
       "version_major": 2,
       "version_minor": 0
      },
      "text/plain": [
       "NMF run at random state:   0%|          | 0/3 [00:00<?, ?it/s]"
      ]
     },
     "metadata": {},
     "output_type": "display_data"
    },
    {
     "data": {
      "application/vnd.jupyter.widget-view+json": {
       "model_id": "",
       "version_major": 2,
       "version_minor": 0
      },
      "text/plain": [
       "NMF run at random state:   0%|          | 0/3 [00:00<?, ?it/s]"
      ]
     },
     "metadata": {},
     "output_type": "display_data"
    }
   ],
   "source": [
    "# Dictionaries to store the best W and H matrices\n",
    "W_dict = {}\n",
    "H_dict = {}\n",
    "\n",
    "# Perform NMF for each rank in rank_list\n",
    "for rank in tqdm(rank_list, desc='Running NMF at varying ranks...'):\n",
    "    best_reconstruction_error = np.inf\n",
    "    best_W = None\n",
    "    best_H = None\n",
    "\n",
    "    # Run NMF three times with different random states\n",
    "    for random_state in tqdm([1, 2, 3], leave=False, desc='NMF run at random state'):\n",
    "        model = NMF(n_components=rank, init='nndsvd', max_iter=5_000, random_state=random_state)\n",
    "        W = model.fit_transform(P_complete)\n",
    "        H = model.components_\n",
    "        reconstruction = np.dot(W, H)\n",
    "        error = np.linalg.norm(P_complete - reconstruction, 'fro')  # Calculate the Frobenius norm of the difference\n",
    "\n",
    "        # Update the best W and H matrices if the current model has a lower reconstruction error\n",
    "        if error < best_reconstruction_error:\n",
    "            best_reconstruction_error = error\n",
    "            best_W = W\n",
    "            best_H = H\n",
    "\n",
    "    # Store the best W and H matrices in the dictionaries with the rank as the key\n",
    "    W_dict[rank] = best_W\n",
    "    H_dict[rank] = best_H\n",
    "\n",
    "# At this point, W_dict and H_dict hold the best W and H matrices for each rank\n"
   ]
  },
  {
   "cell_type": "code",
   "execution_count": 13,
   "id": "98e165e3-7389-4222-b481-e090ee5ef397",
   "metadata": {
    "execution": {
     "iopub.execute_input": "2025-03-07T02:19:54.341732Z",
     "iopub.status.busy": "2025-03-07T02:19:54.341323Z",
     "iopub.status.idle": "2025-03-07T02:19:54.379310Z",
     "shell.execute_reply": "2025-03-07T02:19:54.378825Z",
     "shell.execute_reply.started": "2025-03-07T02:19:54.341714Z"
    }
   },
   "outputs": [],
   "source": [
    "# Save W_dict and H_dict for future use\n",
    "with open('W_dict.pickle', 'wb') as f1:\n",
    "    pickle.dump(W_dict, f1)\n",
    "\n",
    "with open('H_dict.pickle', 'wb') as f2:\n",
    "    pickle.dump(H_dict, f2)"
   ]
  },
  {
   "cell_type": "code",
   "execution_count": 14,
   "id": "a473887b-e854-4686-ba6d-b96000a95f97",
   "metadata": {
    "execution": {
     "iopub.execute_input": "2025-03-07T02:19:54.380318Z",
     "iopub.status.busy": "2025-03-07T02:19:54.380138Z",
     "iopub.status.idle": "2025-03-07T02:19:54.385168Z",
     "shell.execute_reply": "2025-03-07T02:19:54.384764Z",
     "shell.execute_reply.started": "2025-03-07T02:19:54.380301Z"
    }
   },
   "outputs": [],
   "source": [
    "# Read in saved W_dict and H_dict\n",
    "with open('W_dict.pickle', 'rb') as f1:\n",
    "    W_dict = pickle.load(f1)\n",
    "\n",
    "with open('H_dict.pickle', 'rb') as f2:\n",
    "    H_dict = pickle.load(f2)"
   ]
  },
  {
   "cell_type": "markdown",
   "id": "48a7a8fc-4cd1-4003-9e5b-3498cd21f296",
   "metadata": {},
   "source": [
    "# NMF rank analysis (via P - L<sub>bin</sub> * A<sub>bin</sub> )"
   ]
  },
  {
   "cell_type": "markdown",
   "id": "f8d4a6c4-0b57-4152-96c9-5016009d844e",
   "metadata": {},
   "source": [
    "## Useful functions"
   ]
  },
  {
   "cell_type": "code",
   "execution_count": 15,
   "id": "8bfd8681-6901-42f9-b296-a0d3d40a4dbf",
   "metadata": {
    "execution": {
     "iopub.execute_input": "2025-03-07T02:19:54.386202Z",
     "iopub.status.busy": "2025-03-07T02:19:54.385928Z",
     "iopub.status.idle": "2025-03-07T02:19:54.389052Z",
     "shell.execute_reply": "2025-03-07T02:19:54.388644Z",
     "shell.execute_reply.started": "2025-03-07T02:19:54.386183Z"
    }
   },
   "outputs": [],
   "source": [
    "# Generate normalization matrices (to normalize W and H matrices into L and A)\n",
    "def get_normalization_diagonals(L):\n",
    "    normalization_vals = [1/np.quantile(L[col], q=0.99) for col in L.columns]\n",
    "    recipricol_vals = [1/x for x in normalization_vals]\n",
    "    \n",
    "    D1 = np.diag(normalization_vals)\n",
    "    D2 = np.diag(recipricol_vals)\n",
    "    \n",
    "    return D1, D2"
   ]
  },
  {
   "cell_type": "code",
   "execution_count": 16,
   "id": "b6eab5da-6a29-4605-89e5-fe345dd58c6d",
   "metadata": {
    "execution": {
     "iopub.execute_input": "2025-03-07T02:19:54.390105Z",
     "iopub.status.busy": "2025-03-07T02:19:54.389812Z",
     "iopub.status.idle": "2025-03-07T02:19:54.396374Z",
     "shell.execute_reply": "2025-03-07T02:19:54.395900Z",
     "shell.execute_reply.started": "2025-03-07T02:19:54.390087Z"
    }
   },
   "outputs": [],
   "source": [
    "# Use k-means clustering (k=3) to binarize L_norm and A_norm matrices\n",
    "def k_means_binarize_L(L_norm):\n",
    "    \n",
    "    # Initialize an empty array to hold the binarized matrix\n",
    "    L_binarized = np.zeros_like(L_norm.values)\n",
    "    \n",
    "    # Loop through each column\n",
    "    for col_idx in trange(L_norm.values.shape[1], leave=False, desc='looping column by column...'):\n",
    "        column_data = L_norm.values[:, col_idx]\n",
    "    \n",
    "        # Reshape the column data to fit the KMeans input shape\n",
    "        column_data_reshaped = column_data.reshape(-1, 1)\n",
    "    \n",
    "        # Apply 3-means clustering (generally better precision-recall tradeoff than 2-means)\n",
    "        kmeans = KMeans(n_clusters=3, random_state=0, n_init='auto')\n",
    "        kmeans.fit(column_data_reshaped)\n",
    "        labels = kmeans.labels_\n",
    "        centers = kmeans.cluster_centers_\n",
    "    \n",
    "        # Find the cluster with the highest mean\n",
    "        highest_mean_cluster = np.argmax(centers)\n",
    "    \n",
    "        # Binarize the column based on the cluster with the highest mean\n",
    "        binarized_column = (labels == highest_mean_cluster).astype(int)\n",
    "    \n",
    "        # Update the binarized matrix\n",
    "        L_binarized[:, col_idx] = binarized_column\n",
    "    \n",
    "    # Typecast to DataFrame\n",
    "    L_binarized = pd.DataFrame(L_binarized, index=L_norm.index, columns=L_norm.columns)\n",
    "    return L_binarized\n",
    "\n",
    "\n",
    "def k_means_binarize_A(A_norm):\n",
    "    # Initialize an empty array to hold the binarized matrix\n",
    "    A_binarized = np.zeros_like(A_norm.values)\n",
    "    \n",
    "    # Loop through each row\n",
    "    for row_idx in trange(A_norm.values.shape[0], leave=False, desc='looping row by row...'):\n",
    "        row_data = A_norm.values[row_idx, :]\n",
    "    \n",
    "        # Reshape the row data to fit the KMeans input shape\n",
    "        row_data_reshaped = row_data.reshape(-1, 1)\n",
    "    \n",
    "        # Apply 3-means clustering (generally better precision-recall tradeoff than 2-means)\n",
    "        kmeans = KMeans(n_clusters=3, random_state=0, n_init='auto')\n",
    "        kmeans.fit(row_data_reshaped)\n",
    "        labels = kmeans.labels_\n",
    "        centers = kmeans.cluster_centers_\n",
    "    \n",
    "        # Find the cluster with the highest mean\n",
    "        highest_mean_cluster = np.argmax(centers)\n",
    "    \n",
    "        # Binarize the row based on the cluster with the highest mean\n",
    "        binarized_row = (labels == highest_mean_cluster).astype(int)\n",
    "    \n",
    "        # Update the binarized matrix\n",
    "        A_binarized[row_idx, :] = binarized_row\n",
    "    \n",
    "    # Typecast to DataFrame\n",
    "    A_binarized = pd.DataFrame(A_binarized, index=A_norm.index, columns=A_norm.columns)\n",
    "    return A_binarized\n",
    "\n"
   ]
  },
  {
   "cell_type": "code",
   "execution_count": 17,
   "id": "d0bf9b26-fcbc-41b9-8211-8ba50d67bccc",
   "metadata": {
    "execution": {
     "iopub.execute_input": "2025-03-07T02:19:54.397749Z",
     "iopub.status.busy": "2025-03-07T02:19:54.397290Z",
     "iopub.status.idle": "2025-03-07T02:19:54.406455Z",
     "shell.execute_reply": "2025-03-07T02:19:54.405918Z",
     "shell.execute_reply.started": "2025-03-07T02:19:54.397728Z"
    }
   },
   "outputs": [],
   "source": [
    "# Model evaluation and metrics\n",
    "\n",
    "def evaluate_model_reconstruction(P_complete, L_binarized, A_binarized):\n",
    "    \n",
    "    # Multiply the binarized matrices to get the reconstructed matrix\n",
    "    P_reconstructed = pd.DataFrame(\n",
    "        np.dot(L_binarized, A_binarized),\n",
    "        index=P_complete.index,\n",
    "        columns=P_complete.columns\n",
    "    )\n",
    "    \n",
    "    # Calculate the error matrix\n",
    "    P_error = P_complete - P_reconstructed\n",
    "    \n",
    "    # Binarize the original and reconstructed matrices for confusion matrix calculation\n",
    "    P_complete_binary = (P_complete.values > 0).astype(int)\n",
    "    P_reconstructed_binary = (P_reconstructed.values > 0).astype(int)\n",
    "    \n",
    "    # Flatten the matrices to use them in the confusion matrix calculation\n",
    "    P_complete_flat = P_complete_binary.flatten()\n",
    "    P_reconstructed_flat = P_reconstructed_binary.flatten()\n",
    "    \n",
    "    # Generate the confusion matrix\n",
    "    # Definitions:\n",
    "    # True Positive (TP): both actual and predicted are true\n",
    "    # False Positive (FP): actual is false, but predicted is true\n",
    "    # True Negative (TN): both actual and predicted are false\n",
    "    # False Negative (FN): actual is true, but predicted is false\n",
    "    P_confusion = confusion_matrix(P_complete_flat, P_reconstructed_flat, labels=[1, 0])\n",
    "    \n",
    "    return P_reconstructed, P_error, P_confusion\n",
    "\n",
    "\n",
    "def calculate_metrics(P_confusion, n_components, P_complete):\n",
    "    \n",
    "    # Unpack confusion matrix elements\n",
    "    TP = P_confusion[0, 0]\n",
    "    FN = P_confusion[0, 1]\n",
    "    FP = P_confusion[1, 0]\n",
    "    TN = P_confusion[1, 1]\n",
    "    \n",
    "    # Use float for calculations to prevent integer overflow\n",
    "    TP, FN, FP, TN = map(float, [TP, FN, FP, TN])\n",
    "    \n",
    "    # Calculations\n",
    "    Precision = TP / (TP + FP) if TP + FP != 0 else 0\n",
    "    Recall = TP / (TP + FN) if TP + FN != 0 else 0\n",
    "    FPR = FP / (FP + TN) if FP + TN != 0 else 0\n",
    "    FNR = FN / (TP + FN) if TP + FN != 0 else 0\n",
    "    Specificity = TN / (TN + FP) if TN + FP != 0 else 0\n",
    "    Prevalence = (TP + FN) / (TP + TN + FP + FN)\n",
    "    Accuracy = (TP + TN) / (TP + TN + FP + FN)\n",
    "    F1_score = 2 * (Precision * Recall) / (Precision + Recall) if Precision + Recall != 0 else 0\n",
    "    BM = Recall + Specificity - 1\n",
    "\n",
    "    # Adjusted MCC calculation to avoid overflow\n",
    "    numerator = TP * TN - FP * FN\n",
    "    denominator = np.sqrt((TP + FP) * (TP + FN) * (TN + FP) * (TN + FN))\n",
    "    MCC = numerator / denominator if denominator != 0 else 0\n",
    "\n",
    "    Jaccard_index = TP / (TP + FP + FN) if TP + FP + FN != 0 else 0\n",
    "    Prevalence_Threshold = (np.sqrt(Recall * (1 - Specificity)) + Specificity - 1) / (Recall + Specificity - 1) if Recall + Specificity - 1 != 0 else 0\n",
    "\n",
    "        \n",
    "     # Calculate AIC and BIC\n",
    "    Reconstruction_error = 1 - Jaccard_index\n",
    "    data_shape = P_complete.shape\n",
    "    k = 2 * n_components * (data_shape[0] + data_shape[1])  # number of parameters in NMF (W and H matrices)\n",
    "    Total = TP + TN + FP + FN\n",
    "    AIC = 2 * k + 2 * Reconstruction_error * Total\n",
    "    BIC = np.log(Total) * k + 2 * Reconstruction_error * Total\n",
    "    return {\n",
    "        'Precision': Precision,\n",
    "        'Recall': Recall,\n",
    "        'FPR': FPR,\n",
    "        'FNR': FNR,\n",
    "        'Specificity': Specificity,\n",
    "        'Prevalence': Prevalence,\n",
    "        'Accuracy': Accuracy,\n",
    "        'F1 Score': F1_score,\n",
    "        'BM': BM,\n",
    "        'Prevalence Threshold': Prevalence_Threshold,\n",
    "        'MCC': MCC,\n",
    "        'Jaccard Index': Jaccard_index,\n",
    "        'AIC': AIC,\n",
    "        'BIC': BIC\n",
    "    }\n",
    "\n",
    "# Example usage:\n",
    "# P_confusion = np.array([[100, 10], [20, 70]])  # Example confusion matrix\n",
    "# results = calculate_metrics(P_confusion)\n",
    "# print(results)"
   ]
  },
  {
   "cell_type": "code",
   "execution_count": 18,
   "id": "b97fdf58-2164-4662-8c43-6f9cb543756a",
   "metadata": {
    "execution": {
     "iopub.execute_input": "2025-03-07T02:19:54.408206Z",
     "iopub.status.busy": "2025-03-07T02:19:54.407696Z",
     "iopub.status.idle": "2025-03-07T02:19:54.413533Z",
     "shell.execute_reply": "2025-03-07T02:19:54.413004Z",
     "shell.execute_reply.started": "2025-03-07T02:19:54.408185Z"
    }
   },
   "outputs": [],
   "source": [
    "# Utility functions\n",
    "\n",
    "def find_closest_ranks_to_metric(df_metrics, metric='Accuracy'):\n",
    "    # Find the rank with the maximum accuracy\n",
    "    max_accuracy_rank = df_metrics[metric].idxmax()\n",
    "\n",
    "    # Get all ranks\n",
    "    all_ranks = df_metrics.index.tolist()\n",
    "\n",
    "    # Sort ranks just in case\n",
    "    all_ranks.sort()\n",
    "\n",
    "    # Find ranks directly before and after the max_accuracy_rank\n",
    "    higher_rank = None\n",
    "    lower_rank = None\n",
    "\n",
    "    # Find the position of the max_accuracy_rank in sorted list\n",
    "    pos = all_ranks.index(max_accuracy_rank)\n",
    "\n",
    "    # Check if there's a higher rank available\n",
    "    if pos + 1 < len(all_ranks):\n",
    "        higher_rank = all_ranks[pos + 1]\n",
    "\n",
    "    # Check if there's a lower rank available\n",
    "    if pos - 1 >= 0:\n",
    "        lower_rank = all_ranks[pos - 1]\n",
    "\n",
    "    return lower_rank, max_accuracy_rank, higher_rank\n",
    "\n",
    "\n",
    "def generate_diff_list(lower_rank, max_acc_rank, higher_rank, rank_list):\n",
    "    lower_diff = max_acc_rank - lower_rank\n",
    "    higher_diff = higher_rank - max_acc_rank\n",
    "    \n",
    "    if lower_diff < 5:\n",
    "        lower_diff_list = list(range(lower_rank, max_acc_rank))\n",
    "    else:\n",
    "        lower_diff_list = np.linspace(lower_rank, max_acc_rank, 5, dtype='int')\n",
    "    lower_diff_list = sorted(set(lower_diff_list) - set(rank_list))\n",
    "    \n",
    "    if higher_diff < 5:\n",
    "        higher_diff_list = list(range(max_acc_rank, higher_rank))\n",
    "    else:\n",
    "        higher_diff_list = np.linspace(max_acc_rank, higher_rank, 5, dtype='int')\n",
    "    higher_diff_list = sorted(set(higher_diff_list) - set(rank_list))\n",
    "\n",
    "    diff_list = lower_diff_list + higher_diff_list\n",
    "    return diff_list\n",
    "    "
   ]
  },
  {
   "cell_type": "markdown",
   "id": "5eef0c3a-bfd4-4535-af04-bdb955eb2a0d",
   "metadata": {},
   "source": [
    "## Rank analysis"
   ]
  },
  {
   "cell_type": "code",
   "execution_count": 19,
   "id": "ed0de661-af35-4cfa-9778-1457658f390b",
   "metadata": {
    "execution": {
     "iopub.execute_input": "2025-03-07T02:19:54.416820Z",
     "iopub.status.busy": "2025-03-07T02:19:54.415574Z",
     "iopub.status.idle": "2025-03-07T02:19:54.517511Z",
     "shell.execute_reply": "2025-03-07T02:19:54.517107Z",
     "shell.execute_reply.started": "2025-03-07T02:19:54.416802Z"
    }
   },
   "outputs": [
    {
     "data": {
      "application/vnd.jupyter.widget-view+json": {
       "model_id": "3d3b3588dc2948a9b505b2a1259845bc",
       "version_major": 2,
       "version_minor": 0
      },
      "text/plain": [
       "Normalizing matrices...:   0%|          | 0/15 [00:00<?, ?it/s]"
      ]
     },
     "metadata": {},
     "output_type": "display_data"
    }
   ],
   "source": [
    "# L_norm and A_norm dictionaries\n",
    "L_norm_dict = {}\n",
    "A_norm_dict = {}\n",
    "\n",
    "for rank, matrix in tqdm(W_dict.items(), desc='Normalizing matrices...'):\n",
    "    D1, D2 = get_normalization_diagonals(pd.DataFrame(matrix))\n",
    "    \n",
    "    L_norm_dict[rank] = pd.DataFrame(np.dot(W_dict[rank], D1), index=P_complete.index)\n",
    "    A_norm_dict[rank] = pd.DataFrame(np.dot(D2, H_dict[rank]), columns=P_complete.columns)"
   ]
  },
  {
   "cell_type": "code",
   "execution_count": 20,
   "id": "1e1c1dd0-3707-40e2-ab35-ec5ede62c3f5",
   "metadata": {
    "execution": {
     "iopub.execute_input": "2025-03-07T02:19:54.521474Z",
     "iopub.status.busy": "2025-03-07T02:19:54.520043Z",
     "iopub.status.idle": "2025-03-07T02:19:57.791255Z",
     "shell.execute_reply": "2025-03-07T02:19:57.790928Z",
     "shell.execute_reply.started": "2025-03-07T02:19:54.521455Z"
    }
   },
   "outputs": [
    {
     "data": {
      "application/vnd.jupyter.widget-view+json": {
       "model_id": "19ee2f4bb9964a52ba3ec633cef254b7",
       "version_major": 2,
       "version_minor": 0
      },
      "text/plain": [
       "Binarizing matrices...:   0%|          | 0/15 [00:00<?, ?it/s]"
      ]
     },
     "metadata": {},
     "output_type": "display_data"
    },
    {
     "data": {
      "application/vnd.jupyter.widget-view+json": {
       "model_id": "",
       "version_major": 2,
       "version_minor": 0
      },
      "text/plain": [
       "looping column by column...:   0%|          | 0/2 [00:00<?, ?it/s]"
      ]
     },
     "metadata": {},
     "output_type": "display_data"
    },
    {
     "data": {
      "application/vnd.jupyter.widget-view+json": {
       "model_id": "",
       "version_major": 2,
       "version_minor": 0
      },
      "text/plain": [
       "looping row by row...:   0%|          | 0/2 [00:00<?, ?it/s]"
      ]
     },
     "metadata": {},
     "output_type": "display_data"
    },
    {
     "data": {
      "application/vnd.jupyter.widget-view+json": {
       "model_id": "",
       "version_major": 2,
       "version_minor": 0
      },
      "text/plain": [
       "looping column by column...:   0%|          | 0/7 [00:00<?, ?it/s]"
      ]
     },
     "metadata": {},
     "output_type": "display_data"
    },
    {
     "data": {
      "application/vnd.jupyter.widget-view+json": {
       "model_id": "",
       "version_major": 2,
       "version_minor": 0
      },
      "text/plain": [
       "looping row by row...:   0%|          | 0/7 [00:00<?, ?it/s]"
      ]
     },
     "metadata": {},
     "output_type": "display_data"
    },
    {
     "data": {
      "application/vnd.jupyter.widget-view+json": {
       "model_id": "",
       "version_major": 2,
       "version_minor": 0
      },
      "text/plain": [
       "looping column by column...:   0%|          | 0/12 [00:00<?, ?it/s]"
      ]
     },
     "metadata": {},
     "output_type": "display_data"
    },
    {
     "data": {
      "application/vnd.jupyter.widget-view+json": {
       "model_id": "",
       "version_major": 2,
       "version_minor": 0
      },
      "text/plain": [
       "looping row by row...:   0%|          | 0/12 [00:00<?, ?it/s]"
      ]
     },
     "metadata": {},
     "output_type": "display_data"
    },
    {
     "data": {
      "application/vnd.jupyter.widget-view+json": {
       "model_id": "",
       "version_major": 2,
       "version_minor": 0
      },
      "text/plain": [
       "looping column by column...:   0%|          | 0/17 [00:00<?, ?it/s]"
      ]
     },
     "metadata": {},
     "output_type": "display_data"
    },
    {
     "data": {
      "application/vnd.jupyter.widget-view+json": {
       "model_id": "",
       "version_major": 2,
       "version_minor": 0
      },
      "text/plain": [
       "looping row by row...:   0%|          | 0/17 [00:00<?, ?it/s]"
      ]
     },
     "metadata": {},
     "output_type": "display_data"
    },
    {
     "data": {
      "application/vnd.jupyter.widget-view+json": {
       "model_id": "",
       "version_major": 2,
       "version_minor": 0
      },
      "text/plain": [
       "looping column by column...:   0%|          | 0/18 [00:00<?, ?it/s]"
      ]
     },
     "metadata": {},
     "output_type": "display_data"
    },
    {
     "data": {
      "application/vnd.jupyter.widget-view+json": {
       "model_id": "",
       "version_major": 2,
       "version_minor": 0
      },
      "text/plain": [
       "looping row by row...:   0%|          | 0/18 [00:00<?, ?it/s]"
      ]
     },
     "metadata": {},
     "output_type": "display_data"
    },
    {
     "data": {
      "application/vnd.jupyter.widget-view+json": {
       "model_id": "",
       "version_major": 2,
       "version_minor": 0
      },
      "text/plain": [
       "looping column by column...:   0%|          | 0/19 [00:00<?, ?it/s]"
      ]
     },
     "metadata": {},
     "output_type": "display_data"
    },
    {
     "data": {
      "application/vnd.jupyter.widget-view+json": {
       "model_id": "",
       "version_major": 2,
       "version_minor": 0
      },
      "text/plain": [
       "looping row by row...:   0%|          | 0/19 [00:00<?, ?it/s]"
      ]
     },
     "metadata": {},
     "output_type": "display_data"
    },
    {
     "data": {
      "application/vnd.jupyter.widget-view+json": {
       "model_id": "",
       "version_major": 2,
       "version_minor": 0
      },
      "text/plain": [
       "looping column by column...:   0%|          | 0/20 [00:00<?, ?it/s]"
      ]
     },
     "metadata": {},
     "output_type": "display_data"
    },
    {
     "data": {
      "application/vnd.jupyter.widget-view+json": {
       "model_id": "",
       "version_major": 2,
       "version_minor": 0
      },
      "text/plain": [
       "looping row by row...:   0%|          | 0/20 [00:00<?, ?it/s]"
      ]
     },
     "metadata": {},
     "output_type": "display_data"
    },
    {
     "data": {
      "application/vnd.jupyter.widget-view+json": {
       "model_id": "",
       "version_major": 2,
       "version_minor": 0
      },
      "text/plain": [
       "looping column by column...:   0%|          | 0/21 [00:00<?, ?it/s]"
      ]
     },
     "metadata": {},
     "output_type": "display_data"
    },
    {
     "data": {
      "application/vnd.jupyter.widget-view+json": {
       "model_id": "",
       "version_major": 2,
       "version_minor": 0
      },
      "text/plain": [
       "looping row by row...:   0%|          | 0/21 [00:00<?, ?it/s]"
      ]
     },
     "metadata": {},
     "output_type": "display_data"
    },
    {
     "data": {
      "application/vnd.jupyter.widget-view+json": {
       "model_id": "",
       "version_major": 2,
       "version_minor": 0
      },
      "text/plain": [
       "looping column by column...:   0%|          | 0/22 [00:00<?, ?it/s]"
      ]
     },
     "metadata": {},
     "output_type": "display_data"
    },
    {
     "data": {
      "application/vnd.jupyter.widget-view+json": {
       "model_id": "",
       "version_major": 2,
       "version_minor": 0
      },
      "text/plain": [
       "looping row by row...:   0%|          | 0/22 [00:00<?, ?it/s]"
      ]
     },
     "metadata": {},
     "output_type": "display_data"
    },
    {
     "data": {
      "application/vnd.jupyter.widget-view+json": {
       "model_id": "",
       "version_major": 2,
       "version_minor": 0
      },
      "text/plain": [
       "looping column by column...:   0%|          | 0/23 [00:00<?, ?it/s]"
      ]
     },
     "metadata": {},
     "output_type": "display_data"
    },
    {
     "data": {
      "application/vnd.jupyter.widget-view+json": {
       "model_id": "",
       "version_major": 2,
       "version_minor": 0
      },
      "text/plain": [
       "looping row by row...:   0%|          | 0/23 [00:00<?, ?it/s]"
      ]
     },
     "metadata": {},
     "output_type": "display_data"
    },
    {
     "data": {
      "application/vnd.jupyter.widget-view+json": {
       "model_id": "",
       "version_major": 2,
       "version_minor": 0
      },
      "text/plain": [
       "looping column by column...:   0%|          | 0/24 [00:00<?, ?it/s]"
      ]
     },
     "metadata": {},
     "output_type": "display_data"
    },
    {
     "data": {
      "application/vnd.jupyter.widget-view+json": {
       "model_id": "",
       "version_major": 2,
       "version_minor": 0
      },
      "text/plain": [
       "looping row by row...:   0%|          | 0/24 [00:00<?, ?it/s]"
      ]
     },
     "metadata": {},
     "output_type": "display_data"
    },
    {
     "data": {
      "application/vnd.jupyter.widget-view+json": {
       "model_id": "",
       "version_major": 2,
       "version_minor": 0
      },
      "text/plain": [
       "looping column by column...:   0%|          | 0/25 [00:00<?, ?it/s]"
      ]
     },
     "metadata": {},
     "output_type": "display_data"
    },
    {
     "data": {
      "application/vnd.jupyter.widget-view+json": {
       "model_id": "",
       "version_major": 2,
       "version_minor": 0
      },
      "text/plain": [
       "looping row by row...:   0%|          | 0/25 [00:00<?, ?it/s]"
      ]
     },
     "metadata": {},
     "output_type": "display_data"
    },
    {
     "data": {
      "application/vnd.jupyter.widget-view+json": {
       "model_id": "",
       "version_major": 2,
       "version_minor": 0
      },
      "text/plain": [
       "looping column by column...:   0%|          | 0/26 [00:00<?, ?it/s]"
      ]
     },
     "metadata": {},
     "output_type": "display_data"
    },
    {
     "data": {
      "application/vnd.jupyter.widget-view+json": {
       "model_id": "",
       "version_major": 2,
       "version_minor": 0
      },
      "text/plain": [
       "looping row by row...:   0%|          | 0/26 [00:00<?, ?it/s]"
      ]
     },
     "metadata": {},
     "output_type": "display_data"
    },
    {
     "data": {
      "application/vnd.jupyter.widget-view+json": {
       "model_id": "",
       "version_major": 2,
       "version_minor": 0
      },
      "text/plain": [
       "looping column by column...:   0%|          | 0/39 [00:00<?, ?it/s]"
      ]
     },
     "metadata": {},
     "output_type": "display_data"
    },
    {
     "data": {
      "application/vnd.jupyter.widget-view+json": {
       "model_id": "",
       "version_major": 2,
       "version_minor": 0
      },
      "text/plain": [
       "looping row by row...:   0%|          | 0/39 [00:00<?, ?it/s]"
      ]
     },
     "metadata": {},
     "output_type": "display_data"
    },
    {
     "data": {
      "application/vnd.jupyter.widget-view+json": {
       "model_id": "",
       "version_major": 2,
       "version_minor": 0
      },
      "text/plain": [
       "looping column by column...:   0%|          | 0/74 [00:00<?, ?it/s]"
      ]
     },
     "metadata": {},
     "output_type": "display_data"
    },
    {
     "data": {
      "application/vnd.jupyter.widget-view+json": {
       "model_id": "",
       "version_major": 2,
       "version_minor": 0
      },
      "text/plain": [
       "looping row by row...:   0%|          | 0/74 [00:00<?, ?it/s]"
      ]
     },
     "metadata": {},
     "output_type": "display_data"
    }
   ],
   "source": [
    "# L_bin and A_bin dictionaries\n",
    "L_binarized_dict = {}\n",
    "A_binarized_dict = {}\n",
    "\n",
    "for rank in tqdm(L_norm_dict, desc='Binarizing matrices...'):\n",
    "    L_binarized_dict[rank] = k_means_binarize_L(L_norm_dict[rank])\n",
    "    A_binarized_dict[rank] = k_means_binarize_A(A_norm_dict[rank])"
   ]
  },
  {
   "cell_type": "code",
   "execution_count": 21,
   "id": "96e9724d-517f-4b7f-9d91-b03e48931fd9",
   "metadata": {
    "execution": {
     "iopub.execute_input": "2025-03-07T02:19:57.793250Z",
     "iopub.status.busy": "2025-03-07T02:19:57.793112Z",
     "iopub.status.idle": "2025-03-07T02:20:06.944834Z",
     "shell.execute_reply": "2025-03-07T02:20:06.944454Z",
     "shell.execute_reply.started": "2025-03-07T02:19:57.793237Z"
    }
   },
   "outputs": [
    {
     "data": {
      "application/vnd.jupyter.widget-view+json": {
       "model_id": "0d783644215e45c981562eef5c80ff6f",
       "version_major": 2,
       "version_minor": 0
      },
      "text/plain": [
       "Evaluating model reconstructions...:   0%|          | 0/15 [00:00<?, ?it/s]"
      ]
     },
     "metadata": {},
     "output_type": "display_data"
    }
   ],
   "source": [
    "# Model evaluation dictionaries\n",
    "P_reconstructed_dict = {}\n",
    "P_error_dict = {}\n",
    "P_confusion = {}\n",
    "\n",
    "for rank in tqdm(L_binarized_dict, desc='Evaluating model reconstructions...'):\n",
    "    P_reconstructed_dict[rank], P_error_dict[rank], P_confusion[rank] = evaluate_model_reconstruction(\n",
    "        P_complete,\n",
    "        L_binarized_dict[rank],\n",
    "        A_binarized_dict[rank]\n",
    "    )"
   ]
  },
  {
   "cell_type": "code",
   "execution_count": 22,
   "id": "9dc1d046-343d-4cf9-bd5c-e457ef22cf26",
   "metadata": {
    "execution": {
     "iopub.execute_input": "2025-03-07T02:20:06.945457Z",
     "iopub.status.busy": "2025-03-07T02:20:06.945347Z",
     "iopub.status.idle": "2025-03-07T02:20:06.964252Z",
     "shell.execute_reply": "2025-03-07T02:20:06.963952Z",
     "shell.execute_reply.started": "2025-03-07T02:20:06.945447Z"
    }
   },
   "outputs": [
    {
     "data": {
      "application/vnd.jupyter.widget-view+json": {
       "model_id": "614c719877034ea7bc570ac69dd1a12e",
       "version_major": 2,
       "version_minor": 0
      },
      "text/plain": [
       "Tabulating metrics...:   0%|          | 0/15 [00:00<?, ?it/s]"
      ]
     },
     "metadata": {},
     "output_type": "display_data"
    },
    {
     "data": {
      "text/html": [
       "<div>\n",
       "<style scoped>\n",
       "    .dataframe tbody tr th:only-of-type {\n",
       "        vertical-align: middle;\n",
       "    }\n",
       "\n",
       "    .dataframe tbody tr th {\n",
       "        vertical-align: top;\n",
       "    }\n",
       "\n",
       "    .dataframe thead th {\n",
       "        text-align: right;\n",
       "    }\n",
       "</style>\n",
       "<table border=\"1\" class=\"dataframe\">\n",
       "  <thead>\n",
       "    <tr style=\"text-align: right;\">\n",
       "      <th></th>\n",
       "      <th>Precision</th>\n",
       "      <th>Recall</th>\n",
       "      <th>FPR</th>\n",
       "      <th>FNR</th>\n",
       "      <th>Specificity</th>\n",
       "      <th>Prevalence</th>\n",
       "      <th>Accuracy</th>\n",
       "      <th>F1 Score</th>\n",
       "      <th>BM</th>\n",
       "      <th>Prevalence Threshold</th>\n",
       "      <th>MCC</th>\n",
       "      <th>Jaccard Index</th>\n",
       "      <th>AIC</th>\n",
       "      <th>BIC</th>\n",
       "    </tr>\n",
       "    <tr>\n",
       "      <th>rank</th>\n",
       "      <th></th>\n",
       "      <th></th>\n",
       "      <th></th>\n",
       "      <th></th>\n",
       "      <th></th>\n",
       "      <th></th>\n",
       "      <th></th>\n",
       "      <th></th>\n",
       "      <th></th>\n",
       "      <th></th>\n",
       "      <th></th>\n",
       "      <th></th>\n",
       "      <th></th>\n",
       "      <th></th>\n",
       "    </tr>\n",
       "  </thead>\n",
       "  <tbody>\n",
       "    <tr>\n",
       "      <th>2</th>\n",
       "      <td>0.922420</td>\n",
       "      <td>0.509164</td>\n",
       "      <td>0.022297</td>\n",
       "      <td>0.490836</td>\n",
       "      <td>0.977703</td>\n",
       "      <td>0.342396</td>\n",
       "      <td>0.817277</td>\n",
       "      <td>0.656145</td>\n",
       "      <td>0.486867</td>\n",
       "      <td>0.173050</td>\n",
       "      <td>0.590089</td>\n",
       "      <td>0.488255</td>\n",
       "      <td>2.409712e+06</td>\n",
       "      <td>2.681111e+06</td>\n",
       "    </tr>\n",
       "    <tr>\n",
       "      <th>7</th>\n",
       "      <td>0.944923</td>\n",
       "      <td>0.651876</td>\n",
       "      <td>0.019784</td>\n",
       "      <td>0.348124</td>\n",
       "      <td>0.980216</td>\n",
       "      <td>0.342396</td>\n",
       "      <td>0.867794</td>\n",
       "      <td>0.771509</td>\n",
       "      <td>0.632093</td>\n",
       "      <td>0.148363</td>\n",
       "      <td>0.706141</td>\n",
       "      <td>0.628014</td>\n",
       "      <td>1.870569e+06</td>\n",
       "      <td>2.820467e+06</td>\n",
       "    </tr>\n",
       "    <tr>\n",
       "      <th>12</th>\n",
       "      <td>0.950896</td>\n",
       "      <td>0.629115</td>\n",
       "      <td>0.016915</td>\n",
       "      <td>0.370885</td>\n",
       "      <td>0.983085</td>\n",
       "      <td>0.342396</td>\n",
       "      <td>0.861887</td>\n",
       "      <td>0.757239</td>\n",
       "      <td>0.612200</td>\n",
       "      <td>0.140874</td>\n",
       "      <td>0.693993</td>\n",
       "      <td>0.609320</td>\n",
       "      <td>2.064269e+06</td>\n",
       "      <td>3.692666e+06</td>\n",
       "    </tr>\n",
       "    <tr>\n",
       "      <th>17</th>\n",
       "      <td>0.951504</td>\n",
       "      <td>0.716354</td>\n",
       "      <td>0.019010</td>\n",
       "      <td>0.283646</td>\n",
       "      <td>0.980990</td>\n",
       "      <td>0.342396</td>\n",
       "      <td>0.890380</td>\n",
       "      <td>0.817352</td>\n",
       "      <td>0.697344</td>\n",
       "      <td>0.140083</td>\n",
       "      <td>0.756491</td>\n",
       "      <td>0.691121</td>\n",
       "      <td>1.793181e+06</td>\n",
       "      <td>4.100077e+06</td>\n",
       "    </tr>\n",
       "    <tr>\n",
       "      <th>18</th>\n",
       "      <td>0.951301</td>\n",
       "      <td>0.721710</td>\n",
       "      <td>0.019236</td>\n",
       "      <td>0.278290</td>\n",
       "      <td>0.980764</td>\n",
       "      <td>0.342396</td>\n",
       "      <td>0.892065</td>\n",
       "      <td>0.820752</td>\n",
       "      <td>0.702474</td>\n",
       "      <td>0.140347</td>\n",
       "      <td>0.760158</td>\n",
       "      <td>0.695996</td>\n",
       "      <td>1.792079e+06</td>\n",
       "      <td>4.234674e+06</td>\n",
       "    </tr>\n",
       "    <tr>\n",
       "      <th>19</th>\n",
       "      <td>0.954481</td>\n",
       "      <td>0.725288</td>\n",
       "      <td>0.018009</td>\n",
       "      <td>0.274712</td>\n",
       "      <td>0.981991</td>\n",
       "      <td>0.342396</td>\n",
       "      <td>0.894097</td>\n",
       "      <td>0.824249</td>\n",
       "      <td>0.707279</td>\n",
       "      <td>0.136127</td>\n",
       "      <td>0.764959</td>\n",
       "      <td>0.701040</td>\n",
       "      <td>1.790199e+06</td>\n",
       "      <td>4.368495e+06</td>\n",
       "    </tr>\n",
       "    <tr>\n",
       "      <th>20</th>\n",
       "      <td>0.955990</td>\n",
       "      <td>0.688896</td>\n",
       "      <td>0.016513</td>\n",
       "      <td>0.311104</td>\n",
       "      <td>0.983487</td>\n",
       "      <td>0.342396</td>\n",
       "      <td>0.882620</td>\n",
       "      <td>0.800758</td>\n",
       "      <td>0.672383</td>\n",
       "      <td>0.134066</td>\n",
       "      <td>0.740073</td>\n",
       "      <td>0.667720</td>\n",
       "      <td>1.965754e+06</td>\n",
       "      <td>4.679749e+06</td>\n",
       "    </tr>\n",
       "    <tr>\n",
       "      <th>21</th>\n",
       "      <td>0.957338</td>\n",
       "      <td>0.684466</td>\n",
       "      <td>0.015881</td>\n",
       "      <td>0.315534</td>\n",
       "      <td>0.984119</td>\n",
       "      <td>0.342396</td>\n",
       "      <td>0.881519</td>\n",
       "      <td>0.798226</td>\n",
       "      <td>0.668584</td>\n",
       "      <td>0.132189</td>\n",
       "      <td>0.737844</td>\n",
       "      <td>0.664206</td>\n",
       "      <td>2.003453e+06</td>\n",
       "      <td>4.853148e+06</td>\n",
       "    </tr>\n",
       "    <tr>\n",
       "      <th>22</th>\n",
       "      <td>0.958845</td>\n",
       "      <td>0.678959</td>\n",
       "      <td>0.015173</td>\n",
       "      <td>0.321041</td>\n",
       "      <td>0.984827</td>\n",
       "      <td>0.342396</td>\n",
       "      <td>0.880099</td>\n",
       "      <td>0.794987</td>\n",
       "      <td>0.663786</td>\n",
       "      <td>0.130050</td>\n",
       "      <td>0.734949</td>\n",
       "      <td>0.659733</td>\n",
       "      <td>2.045587e+06</td>\n",
       "      <td>5.030982e+06</td>\n",
       "    </tr>\n",
       "    <tr>\n",
       "      <th>23</th>\n",
       "      <td>0.960682</td>\n",
       "      <td>0.668427</td>\n",
       "      <td>0.014244</td>\n",
       "      <td>0.331573</td>\n",
       "      <td>0.985756</td>\n",
       "      <td>0.342396</td>\n",
       "      <td>0.877104</td>\n",
       "      <td>0.788340</td>\n",
       "      <td>0.654183</td>\n",
       "      <td>0.127383</td>\n",
       "      <td>0.728674</td>\n",
       "      <td>0.650628</td>\n",
       "      <td>2.109147e+06</td>\n",
       "      <td>5.230242e+06</td>\n",
       "    </tr>\n",
       "    <tr>\n",
       "      <th>24</th>\n",
       "      <td>0.963601</td>\n",
       "      <td>0.605477</td>\n",
       "      <td>0.011908</td>\n",
       "      <td>0.394523</td>\n",
       "      <td>0.988092</td>\n",
       "      <td>0.342396</td>\n",
       "      <td>0.857086</td>\n",
       "      <td>0.743671</td>\n",
       "      <td>0.593569</td>\n",
       "      <td>0.122993</td>\n",
       "      <td>0.685422</td>\n",
       "      <td>0.591939</td>\n",
       "      <td>2.402031e+06</td>\n",
       "      <td>5.658825e+06</td>\n",
       "    </tr>\n",
       "    <tr>\n",
       "      <th>25</th>\n",
       "      <td>0.960731</td>\n",
       "      <td>0.637318</td>\n",
       "      <td>0.013563</td>\n",
       "      <td>0.362682</td>\n",
       "      <td>0.986437</td>\n",
       "      <td>0.342396</td>\n",
       "      <td>0.866900</td>\n",
       "      <td>0.766298</td>\n",
       "      <td>0.623755</td>\n",
       "      <td>0.127311</td>\n",
       "      <td>0.706426</td>\n",
       "      <td>0.621137</td>\n",
       "      <td>2.288437e+06</td>\n",
       "      <td>5.680931e+06</td>\n",
       "    </tr>\n",
       "    <tr>\n",
       "      <th>26</th>\n",
       "      <td>0.958753</td>\n",
       "      <td>0.646142</td>\n",
       "      <td>0.014474</td>\n",
       "      <td>0.353858</td>\n",
       "      <td>0.985526</td>\n",
       "      <td>0.342396</td>\n",
       "      <td>0.869323</td>\n",
       "      <td>0.772002</td>\n",
       "      <td>0.631669</td>\n",
       "      <td>0.130182</td>\n",
       "      <td>0.711424</td>\n",
       "      <td>0.628667</td>\n",
       "      <td>2.275062e+06</td>\n",
       "      <td>5.803256e+06</td>\n",
       "    </tr>\n",
       "    <tr>\n",
       "      <th>39</th>\n",
       "      <td>0.968994</td>\n",
       "      <td>0.660717</td>\n",
       "      <td>0.011008</td>\n",
       "      <td>0.339283</td>\n",
       "      <td>0.988992</td>\n",
       "      <td>0.342396</td>\n",
       "      <td>0.876592</td>\n",
       "      <td>0.785698</td>\n",
       "      <td>0.649709</td>\n",
       "      <td>0.114320</td>\n",
       "      <td>0.728766</td>\n",
       "      <td>0.647037</td>\n",
       "      <td>2.468923e+06</td>\n",
       "      <td>7.761214e+06</td>\n",
       "    </tr>\n",
       "    <tr>\n",
       "      <th>74</th>\n",
       "      <td>0.979484</td>\n",
       "      <td>0.647218</td>\n",
       "      <td>0.007059</td>\n",
       "      <td>0.352782</td>\n",
       "      <td>0.992941</td>\n",
       "      <td>0.342396</td>\n",
       "      <td>0.874567</td>\n",
       "      <td>0.779417</td>\n",
       "      <td>0.640160</td>\n",
       "      <td>0.094557</td>\n",
       "      <td>0.726010</td>\n",
       "      <td>0.638562</td>\n",
       "      <td>3.258802e+06</td>\n",
       "      <td>1.330058e+07</td>\n",
       "    </tr>\n",
       "  </tbody>\n",
       "</table>\n",
       "</div>"
      ],
      "text/plain": [
       "      Precision    Recall       FPR       FNR  Specificity  Prevalence  \\\n",
       "rank                                                                     \n",
       "2      0.922420  0.509164  0.022297  0.490836     0.977703    0.342396   \n",
       "7      0.944923  0.651876  0.019784  0.348124     0.980216    0.342396   \n",
       "12     0.950896  0.629115  0.016915  0.370885     0.983085    0.342396   \n",
       "17     0.951504  0.716354  0.019010  0.283646     0.980990    0.342396   \n",
       "18     0.951301  0.721710  0.019236  0.278290     0.980764    0.342396   \n",
       "19     0.954481  0.725288  0.018009  0.274712     0.981991    0.342396   \n",
       "20     0.955990  0.688896  0.016513  0.311104     0.983487    0.342396   \n",
       "21     0.957338  0.684466  0.015881  0.315534     0.984119    0.342396   \n",
       "22     0.958845  0.678959  0.015173  0.321041     0.984827    0.342396   \n",
       "23     0.960682  0.668427  0.014244  0.331573     0.985756    0.342396   \n",
       "24     0.963601  0.605477  0.011908  0.394523     0.988092    0.342396   \n",
       "25     0.960731  0.637318  0.013563  0.362682     0.986437    0.342396   \n",
       "26     0.958753  0.646142  0.014474  0.353858     0.985526    0.342396   \n",
       "39     0.968994  0.660717  0.011008  0.339283     0.988992    0.342396   \n",
       "74     0.979484  0.647218  0.007059  0.352782     0.992941    0.342396   \n",
       "\n",
       "      Accuracy  F1 Score        BM  Prevalence Threshold       MCC  \\\n",
       "rank                                                                 \n",
       "2     0.817277  0.656145  0.486867              0.173050  0.590089   \n",
       "7     0.867794  0.771509  0.632093              0.148363  0.706141   \n",
       "12    0.861887  0.757239  0.612200              0.140874  0.693993   \n",
       "17    0.890380  0.817352  0.697344              0.140083  0.756491   \n",
       "18    0.892065  0.820752  0.702474              0.140347  0.760158   \n",
       "19    0.894097  0.824249  0.707279              0.136127  0.764959   \n",
       "20    0.882620  0.800758  0.672383              0.134066  0.740073   \n",
       "21    0.881519  0.798226  0.668584              0.132189  0.737844   \n",
       "22    0.880099  0.794987  0.663786              0.130050  0.734949   \n",
       "23    0.877104  0.788340  0.654183              0.127383  0.728674   \n",
       "24    0.857086  0.743671  0.593569              0.122993  0.685422   \n",
       "25    0.866900  0.766298  0.623755              0.127311  0.706426   \n",
       "26    0.869323  0.772002  0.631669              0.130182  0.711424   \n",
       "39    0.876592  0.785698  0.649709              0.114320  0.728766   \n",
       "74    0.874567  0.779417  0.640160              0.094557  0.726010   \n",
       "\n",
       "      Jaccard Index           AIC           BIC  \n",
       "rank                                             \n",
       "2          0.488255  2.409712e+06  2.681111e+06  \n",
       "7          0.628014  1.870569e+06  2.820467e+06  \n",
       "12         0.609320  2.064269e+06  3.692666e+06  \n",
       "17         0.691121  1.793181e+06  4.100077e+06  \n",
       "18         0.695996  1.792079e+06  4.234674e+06  \n",
       "19         0.701040  1.790199e+06  4.368495e+06  \n",
       "20         0.667720  1.965754e+06  4.679749e+06  \n",
       "21         0.664206  2.003453e+06  4.853148e+06  \n",
       "22         0.659733  2.045587e+06  5.030982e+06  \n",
       "23         0.650628  2.109147e+06  5.230242e+06  \n",
       "24         0.591939  2.402031e+06  5.658825e+06  \n",
       "25         0.621137  2.288437e+06  5.680931e+06  \n",
       "26         0.628667  2.275062e+06  5.803256e+06  \n",
       "39         0.647037  2.468923e+06  7.761214e+06  \n",
       "74         0.638562  3.258802e+06  1.330058e+07  "
      ]
     },
     "execution_count": 22,
     "metadata": {},
     "output_type": "execute_result"
    }
   ],
   "source": [
    "df_metrics = pd.DataFrame()\n",
    "\n",
    "for rank in tqdm(P_reconstructed_dict, desc='Tabulating metrics...'):\n",
    "    df_metrics[rank] = calculate_metrics(P_confusion[rank], rank, P_complete)\n",
    "\n",
    "df_metrics = df_metrics.T\n",
    "df_metrics.index.name = 'rank'\n",
    "\n",
    "df_metrics"
   ]
  },
  {
   "cell_type": "code",
   "execution_count": 23,
   "id": "c3165fcd-304f-4e28-a8a1-c8c467984bd1",
   "metadata": {
    "execution": {
     "iopub.execute_input": "2025-03-07T02:20:06.964805Z",
     "iopub.status.busy": "2025-03-07T02:20:06.964690Z",
     "iopub.status.idle": "2025-03-07T02:20:06.974244Z",
     "shell.execute_reply": "2025-03-07T02:20:06.973896Z",
     "shell.execute_reply.started": "2025-03-07T02:20:06.964795Z"
    }
   },
   "outputs": [
    {
     "data": {
      "text/html": [
       "<div>\n",
       "<style scoped>\n",
       "    .dataframe tbody tr th:only-of-type {\n",
       "        vertical-align: middle;\n",
       "    }\n",
       "\n",
       "    .dataframe tbody tr th {\n",
       "        vertical-align: top;\n",
       "    }\n",
       "\n",
       "    .dataframe thead th {\n",
       "        text-align: right;\n",
       "    }\n",
       "</style>\n",
       "<table border=\"1\" class=\"dataframe\">\n",
       "  <thead>\n",
       "    <tr style=\"text-align: right;\">\n",
       "      <th></th>\n",
       "      <th>Precision</th>\n",
       "      <th>Recall</th>\n",
       "      <th>FPR</th>\n",
       "      <th>FNR</th>\n",
       "      <th>Specificity</th>\n",
       "      <th>Prevalence</th>\n",
       "      <th>Accuracy</th>\n",
       "      <th>F1 Score</th>\n",
       "      <th>BM</th>\n",
       "      <th>Prevalence Threshold</th>\n",
       "      <th>MCC</th>\n",
       "      <th>Jaccard Index</th>\n",
       "      <th>AIC</th>\n",
       "      <th>BIC</th>\n",
       "    </tr>\n",
       "    <tr>\n",
       "      <th>rank</th>\n",
       "      <th></th>\n",
       "      <th></th>\n",
       "      <th></th>\n",
       "      <th></th>\n",
       "      <th></th>\n",
       "      <th></th>\n",
       "      <th></th>\n",
       "      <th></th>\n",
       "      <th></th>\n",
       "      <th></th>\n",
       "      <th></th>\n",
       "      <th></th>\n",
       "      <th></th>\n",
       "      <th></th>\n",
       "    </tr>\n",
       "  </thead>\n",
       "  <tbody>\n",
       "    <tr>\n",
       "      <th>19</th>\n",
       "      <td>0.954481</td>\n",
       "      <td>0.725288</td>\n",
       "      <td>0.018009</td>\n",
       "      <td>0.274712</td>\n",
       "      <td>0.981991</td>\n",
       "      <td>0.342396</td>\n",
       "      <td>0.894097</td>\n",
       "      <td>0.824249</td>\n",
       "      <td>0.707279</td>\n",
       "      <td>0.136127</td>\n",
       "      <td>0.764959</td>\n",
       "      <td>0.701040</td>\n",
       "      <td>1.790199e+06</td>\n",
       "      <td>4.368495e+06</td>\n",
       "    </tr>\n",
       "    <tr>\n",
       "      <th>18</th>\n",
       "      <td>0.951301</td>\n",
       "      <td>0.721710</td>\n",
       "      <td>0.019236</td>\n",
       "      <td>0.278290</td>\n",
       "      <td>0.980764</td>\n",
       "      <td>0.342396</td>\n",
       "      <td>0.892065</td>\n",
       "      <td>0.820752</td>\n",
       "      <td>0.702474</td>\n",
       "      <td>0.140347</td>\n",
       "      <td>0.760158</td>\n",
       "      <td>0.695996</td>\n",
       "      <td>1.792079e+06</td>\n",
       "      <td>4.234674e+06</td>\n",
       "    </tr>\n",
       "    <tr>\n",
       "      <th>17</th>\n",
       "      <td>0.951504</td>\n",
       "      <td>0.716354</td>\n",
       "      <td>0.019010</td>\n",
       "      <td>0.283646</td>\n",
       "      <td>0.980990</td>\n",
       "      <td>0.342396</td>\n",
       "      <td>0.890380</td>\n",
       "      <td>0.817352</td>\n",
       "      <td>0.697344</td>\n",
       "      <td>0.140083</td>\n",
       "      <td>0.756491</td>\n",
       "      <td>0.691121</td>\n",
       "      <td>1.793181e+06</td>\n",
       "      <td>4.100077e+06</td>\n",
       "    </tr>\n",
       "    <tr>\n",
       "      <th>7</th>\n",
       "      <td>0.944923</td>\n",
       "      <td>0.651876</td>\n",
       "      <td>0.019784</td>\n",
       "      <td>0.348124</td>\n",
       "      <td>0.980216</td>\n",
       "      <td>0.342396</td>\n",
       "      <td>0.867794</td>\n",
       "      <td>0.771509</td>\n",
       "      <td>0.632093</td>\n",
       "      <td>0.148363</td>\n",
       "      <td>0.706141</td>\n",
       "      <td>0.628014</td>\n",
       "      <td>1.870569e+06</td>\n",
       "      <td>2.820467e+06</td>\n",
       "    </tr>\n",
       "    <tr>\n",
       "      <th>20</th>\n",
       "      <td>0.955990</td>\n",
       "      <td>0.688896</td>\n",
       "      <td>0.016513</td>\n",
       "      <td>0.311104</td>\n",
       "      <td>0.983487</td>\n",
       "      <td>0.342396</td>\n",
       "      <td>0.882620</td>\n",
       "      <td>0.800758</td>\n",
       "      <td>0.672383</td>\n",
       "      <td>0.134066</td>\n",
       "      <td>0.740073</td>\n",
       "      <td>0.667720</td>\n",
       "      <td>1.965754e+06</td>\n",
       "      <td>4.679749e+06</td>\n",
       "    </tr>\n",
       "    <tr>\n",
       "      <th>21</th>\n",
       "      <td>0.957338</td>\n",
       "      <td>0.684466</td>\n",
       "      <td>0.015881</td>\n",
       "      <td>0.315534</td>\n",
       "      <td>0.984119</td>\n",
       "      <td>0.342396</td>\n",
       "      <td>0.881519</td>\n",
       "      <td>0.798226</td>\n",
       "      <td>0.668584</td>\n",
       "      <td>0.132189</td>\n",
       "      <td>0.737844</td>\n",
       "      <td>0.664206</td>\n",
       "      <td>2.003453e+06</td>\n",
       "      <td>4.853148e+06</td>\n",
       "    </tr>\n",
       "    <tr>\n",
       "      <th>22</th>\n",
       "      <td>0.958845</td>\n",
       "      <td>0.678959</td>\n",
       "      <td>0.015173</td>\n",
       "      <td>0.321041</td>\n",
       "      <td>0.984827</td>\n",
       "      <td>0.342396</td>\n",
       "      <td>0.880099</td>\n",
       "      <td>0.794987</td>\n",
       "      <td>0.663786</td>\n",
       "      <td>0.130050</td>\n",
       "      <td>0.734949</td>\n",
       "      <td>0.659733</td>\n",
       "      <td>2.045587e+06</td>\n",
       "      <td>5.030982e+06</td>\n",
       "    </tr>\n",
       "    <tr>\n",
       "      <th>12</th>\n",
       "      <td>0.950896</td>\n",
       "      <td>0.629115</td>\n",
       "      <td>0.016915</td>\n",
       "      <td>0.370885</td>\n",
       "      <td>0.983085</td>\n",
       "      <td>0.342396</td>\n",
       "      <td>0.861887</td>\n",
       "      <td>0.757239</td>\n",
       "      <td>0.612200</td>\n",
       "      <td>0.140874</td>\n",
       "      <td>0.693993</td>\n",
       "      <td>0.609320</td>\n",
       "      <td>2.064269e+06</td>\n",
       "      <td>3.692666e+06</td>\n",
       "    </tr>\n",
       "    <tr>\n",
       "      <th>23</th>\n",
       "      <td>0.960682</td>\n",
       "      <td>0.668427</td>\n",
       "      <td>0.014244</td>\n",
       "      <td>0.331573</td>\n",
       "      <td>0.985756</td>\n",
       "      <td>0.342396</td>\n",
       "      <td>0.877104</td>\n",
       "      <td>0.788340</td>\n",
       "      <td>0.654183</td>\n",
       "      <td>0.127383</td>\n",
       "      <td>0.728674</td>\n",
       "      <td>0.650628</td>\n",
       "      <td>2.109147e+06</td>\n",
       "      <td>5.230242e+06</td>\n",
       "    </tr>\n",
       "    <tr>\n",
       "      <th>26</th>\n",
       "      <td>0.958753</td>\n",
       "      <td>0.646142</td>\n",
       "      <td>0.014474</td>\n",
       "      <td>0.353858</td>\n",
       "      <td>0.985526</td>\n",
       "      <td>0.342396</td>\n",
       "      <td>0.869323</td>\n",
       "      <td>0.772002</td>\n",
       "      <td>0.631669</td>\n",
       "      <td>0.130182</td>\n",
       "      <td>0.711424</td>\n",
       "      <td>0.628667</td>\n",
       "      <td>2.275062e+06</td>\n",
       "      <td>5.803256e+06</td>\n",
       "    </tr>\n",
       "    <tr>\n",
       "      <th>25</th>\n",
       "      <td>0.960731</td>\n",
       "      <td>0.637318</td>\n",
       "      <td>0.013563</td>\n",
       "      <td>0.362682</td>\n",
       "      <td>0.986437</td>\n",
       "      <td>0.342396</td>\n",
       "      <td>0.866900</td>\n",
       "      <td>0.766298</td>\n",
       "      <td>0.623755</td>\n",
       "      <td>0.127311</td>\n",
       "      <td>0.706426</td>\n",
       "      <td>0.621137</td>\n",
       "      <td>2.288437e+06</td>\n",
       "      <td>5.680931e+06</td>\n",
       "    </tr>\n",
       "    <tr>\n",
       "      <th>24</th>\n",
       "      <td>0.963601</td>\n",
       "      <td>0.605477</td>\n",
       "      <td>0.011908</td>\n",
       "      <td>0.394523</td>\n",
       "      <td>0.988092</td>\n",
       "      <td>0.342396</td>\n",
       "      <td>0.857086</td>\n",
       "      <td>0.743671</td>\n",
       "      <td>0.593569</td>\n",
       "      <td>0.122993</td>\n",
       "      <td>0.685422</td>\n",
       "      <td>0.591939</td>\n",
       "      <td>2.402031e+06</td>\n",
       "      <td>5.658825e+06</td>\n",
       "    </tr>\n",
       "    <tr>\n",
       "      <th>2</th>\n",
       "      <td>0.922420</td>\n",
       "      <td>0.509164</td>\n",
       "      <td>0.022297</td>\n",
       "      <td>0.490836</td>\n",
       "      <td>0.977703</td>\n",
       "      <td>0.342396</td>\n",
       "      <td>0.817277</td>\n",
       "      <td>0.656145</td>\n",
       "      <td>0.486867</td>\n",
       "      <td>0.173050</td>\n",
       "      <td>0.590089</td>\n",
       "      <td>0.488255</td>\n",
       "      <td>2.409712e+06</td>\n",
       "      <td>2.681111e+06</td>\n",
       "    </tr>\n",
       "    <tr>\n",
       "      <th>39</th>\n",
       "      <td>0.968994</td>\n",
       "      <td>0.660717</td>\n",
       "      <td>0.011008</td>\n",
       "      <td>0.339283</td>\n",
       "      <td>0.988992</td>\n",
       "      <td>0.342396</td>\n",
       "      <td>0.876592</td>\n",
       "      <td>0.785698</td>\n",
       "      <td>0.649709</td>\n",
       "      <td>0.114320</td>\n",
       "      <td>0.728766</td>\n",
       "      <td>0.647037</td>\n",
       "      <td>2.468923e+06</td>\n",
       "      <td>7.761214e+06</td>\n",
       "    </tr>\n",
       "    <tr>\n",
       "      <th>74</th>\n",
       "      <td>0.979484</td>\n",
       "      <td>0.647218</td>\n",
       "      <td>0.007059</td>\n",
       "      <td>0.352782</td>\n",
       "      <td>0.992941</td>\n",
       "      <td>0.342396</td>\n",
       "      <td>0.874567</td>\n",
       "      <td>0.779417</td>\n",
       "      <td>0.640160</td>\n",
       "      <td>0.094557</td>\n",
       "      <td>0.726010</td>\n",
       "      <td>0.638562</td>\n",
       "      <td>3.258802e+06</td>\n",
       "      <td>1.330058e+07</td>\n",
       "    </tr>\n",
       "  </tbody>\n",
       "</table>\n",
       "</div>"
      ],
      "text/plain": [
       "      Precision    Recall       FPR       FNR  Specificity  Prevalence  \\\n",
       "rank                                                                     \n",
       "19     0.954481  0.725288  0.018009  0.274712     0.981991    0.342396   \n",
       "18     0.951301  0.721710  0.019236  0.278290     0.980764    0.342396   \n",
       "17     0.951504  0.716354  0.019010  0.283646     0.980990    0.342396   \n",
       "7      0.944923  0.651876  0.019784  0.348124     0.980216    0.342396   \n",
       "20     0.955990  0.688896  0.016513  0.311104     0.983487    0.342396   \n",
       "21     0.957338  0.684466  0.015881  0.315534     0.984119    0.342396   \n",
       "22     0.958845  0.678959  0.015173  0.321041     0.984827    0.342396   \n",
       "12     0.950896  0.629115  0.016915  0.370885     0.983085    0.342396   \n",
       "23     0.960682  0.668427  0.014244  0.331573     0.985756    0.342396   \n",
       "26     0.958753  0.646142  0.014474  0.353858     0.985526    0.342396   \n",
       "25     0.960731  0.637318  0.013563  0.362682     0.986437    0.342396   \n",
       "24     0.963601  0.605477  0.011908  0.394523     0.988092    0.342396   \n",
       "2      0.922420  0.509164  0.022297  0.490836     0.977703    0.342396   \n",
       "39     0.968994  0.660717  0.011008  0.339283     0.988992    0.342396   \n",
       "74     0.979484  0.647218  0.007059  0.352782     0.992941    0.342396   \n",
       "\n",
       "      Accuracy  F1 Score        BM  Prevalence Threshold       MCC  \\\n",
       "rank                                                                 \n",
       "19    0.894097  0.824249  0.707279              0.136127  0.764959   \n",
       "18    0.892065  0.820752  0.702474              0.140347  0.760158   \n",
       "17    0.890380  0.817352  0.697344              0.140083  0.756491   \n",
       "7     0.867794  0.771509  0.632093              0.148363  0.706141   \n",
       "20    0.882620  0.800758  0.672383              0.134066  0.740073   \n",
       "21    0.881519  0.798226  0.668584              0.132189  0.737844   \n",
       "22    0.880099  0.794987  0.663786              0.130050  0.734949   \n",
       "12    0.861887  0.757239  0.612200              0.140874  0.693993   \n",
       "23    0.877104  0.788340  0.654183              0.127383  0.728674   \n",
       "26    0.869323  0.772002  0.631669              0.130182  0.711424   \n",
       "25    0.866900  0.766298  0.623755              0.127311  0.706426   \n",
       "24    0.857086  0.743671  0.593569              0.122993  0.685422   \n",
       "2     0.817277  0.656145  0.486867              0.173050  0.590089   \n",
       "39    0.876592  0.785698  0.649709              0.114320  0.728766   \n",
       "74    0.874567  0.779417  0.640160              0.094557  0.726010   \n",
       "\n",
       "      Jaccard Index           AIC           BIC  \n",
       "rank                                             \n",
       "19         0.701040  1.790199e+06  4.368495e+06  \n",
       "18         0.695996  1.792079e+06  4.234674e+06  \n",
       "17         0.691121  1.793181e+06  4.100077e+06  \n",
       "7          0.628014  1.870569e+06  2.820467e+06  \n",
       "20         0.667720  1.965754e+06  4.679749e+06  \n",
       "21         0.664206  2.003453e+06  4.853148e+06  \n",
       "22         0.659733  2.045587e+06  5.030982e+06  \n",
       "12         0.609320  2.064269e+06  3.692666e+06  \n",
       "23         0.650628  2.109147e+06  5.230242e+06  \n",
       "26         0.628667  2.275062e+06  5.803256e+06  \n",
       "25         0.621137  2.288437e+06  5.680931e+06  \n",
       "24         0.591939  2.402031e+06  5.658825e+06  \n",
       "2          0.488255  2.409712e+06  2.681111e+06  \n",
       "39         0.647037  2.468923e+06  7.761214e+06  \n",
       "74         0.638562  3.258802e+06  1.330058e+07  "
      ]
     },
     "execution_count": 23,
     "metadata": {},
     "output_type": "execute_result"
    }
   ],
   "source": [
    "df_metrics.sort_values('AIC')"
   ]
  },
  {
   "cell_type": "markdown",
   "id": "faaf57dd-a9c7-4809-96c1-570d5da869cc",
   "metadata": {},
   "source": [
    "## Plots"
   ]
  },
  {
   "cell_type": "code",
   "execution_count": 24,
   "id": "b481d811-2d2c-476b-863b-e0bb591f445f",
   "metadata": {
    "execution": {
     "iopub.execute_input": "2025-03-07T02:20:06.974802Z",
     "iopub.status.busy": "2025-03-07T02:20:06.974685Z",
     "iopub.status.idle": "2025-03-07T02:20:07.121368Z",
     "shell.execute_reply": "2025-03-07T02:20:07.121052Z",
     "shell.execute_reply.started": "2025-03-07T02:20:06.974791Z"
    }
   },
   "outputs": [
    {
     "data": {
      "image/png": "[encoded data removed]",
      "text/plain": [
       "<Figure size 800x800 with 1 Axes>"
      ]
     },
     "metadata": {},
     "output_type": "display_data"
    }
   ],
   "source": [
    "# Sort DataFrame by Rank to ensure lines connect in the correct order\n",
    "df_metrics.sort_index(inplace=True)\n",
    "\n",
    "# Set style\n",
    "sns.set(style=\"whitegrid\")\n",
    "\n",
    "# Create the plot\n",
    "plt.figure(figsize=(8, 8))\n",
    "plot = sns.lineplot(x='Recall', y='Precision', data=df_metrics, sort=False, marker='o', linestyle='-', color='grey')\n",
    "\n",
    "# Annotate each point with rank and F1 Score\n",
    "for rank, row in df_metrics.iterrows():\n",
    "    #plt.text(row['Recall'] + 0.01, row['Precision'], f'Rank: {rank}, F1: {row[\"F1 Score\"]:.2f}', color='black')\n",
    "    plt.text(row['Recall'] - 0.005, row['Precision'], f'Rank: {rank}', color='navy')\n",
    "    plt.text(row['Recall'] - 0.005, row['Precision'] - 0.002, f'F1: {row[\"F1 Score\"]:.2f}', color='red')\n",
    "    \n",
    "    # Annotate the highest accuracy value\n",
    "    if rank == df_metrics.Accuracy.idxmax():\n",
    "        plt.text(row['Recall'] + 0.005*4, row['Precision'], f'ACC: {df_metrics.Accuracy.max():.2f}', color='green')\n",
    "\n",
    "# Plot labels and title\n",
    "plt.xlabel('Recall')\n",
    "plt.ylabel('Precision')\n",
    "plt.title('Precision-Recall Curve with F1 Scores and Rank Annotations')\n",
    "plt.grid(False)\n",
    "plt.show()\n"
   ]
  },
  {
   "cell_type": "markdown",
   "id": "cbb748d1-96cf-4c6c-8345-03800c7db986",
   "metadata": {},
   "source": [
    "## Repeat with additional ranks nearby most accurate model\n",
    "\n",
    "This is just to confirm we are selecting the most accurate rank for decomposition"
   ]
  },
  {
   "cell_type": "code",
   "execution_count": 25,
   "id": "2c3e71c7-b4ce-4d26-9f69-4db4b2db8923",
   "metadata": {
    "execution": {
     "iopub.execute_input": "2025-03-07T02:20:07.121868Z",
     "iopub.status.busy": "2025-03-07T02:20:07.121764Z",
     "iopub.status.idle": "2025-03-07T02:20:07.123652Z",
     "shell.execute_reply": "2025-03-07T02:20:07.123387Z",
     "shell.execute_reply.started": "2025-03-07T02:20:07.121858Z"
    }
   },
   "outputs": [],
   "source": [
    "# lower_rank, max_acc_rank, higher_rank = find_closest_ranks_to_metric(df_metrics, metric='Accuracy')\n",
    "\n",
    "# extra_rank_list = generate_diff_list(lower_rank, max_acc_rank, higher_rank, rank_list)\n",
    "extra_rank_list = [74]"
   ]
  },
  {
   "cell_type": "code",
   "execution_count": 26,
   "id": "6a010c98-e111-407f-b317-d587708201c5",
   "metadata": {
    "execution": {
     "iopub.execute_input": "2025-03-07T02:20:07.124758Z",
     "iopub.status.busy": "2025-03-07T02:20:07.124347Z",
     "iopub.status.idle": "2025-03-07T02:23:57.403582Z",
     "shell.execute_reply": "2025-03-07T02:23:57.403132Z",
     "shell.execute_reply.started": "2025-03-07T02:20:07.124733Z"
    }
   },
   "outputs": [
    {
     "data": {
      "application/vnd.jupyter.widget-view+json": {
       "model_id": "23eb7f40c7fb416982ef7482ec87a3a1",
       "version_major": 2,
       "version_minor": 0
      },
      "text/plain": [
       "Running NMF at extra ranks...:   0%|          | 0/1 [00:00<?, ?it/s]"
      ]
     },
     "metadata": {},
     "output_type": "display_data"
    },
    {
     "data": {
      "application/vnd.jupyter.widget-view+json": {
       "model_id": "",
       "version_major": 2,
       "version_minor": 0
      },
      "text/plain": [
       "NMF run at random state:   0%|          | 0/3 [00:00<?, ?it/s]"
      ]
     },
     "metadata": {},
     "output_type": "display_data"
    }
   ],
   "source": [
    "# Perform NMF for each rank in extra_rank_list\n",
    "for rank in tqdm(extra_rank_list, desc='Running NMF at extra ranks...'):\n",
    "    best_reconstruction_error = np.inf\n",
    "    best_W = None\n",
    "    best_H = None\n",
    "\n",
    "    # Run NMF three times with different random states\n",
    "    for random_state in tqdm([1, 2, 3], leave=False, desc='NMF run at random state'):\n",
    "        model = NMF(n_components=rank, init='nndsvd', max_iter=5_000, random_state=random_state)\n",
    "        W = model.fit_transform(P_complete)\n",
    "        H = model.components_\n",
    "        reconstruction = np.dot(W, H)\n",
    "        error = np.linalg.norm(P_complete - reconstruction, 'fro')  # Calculate the Frobenius norm of the difference\n",
    "\n",
    "        # Update the best W and H matrices if the current model has a lower reconstruction error\n",
    "        if error < best_reconstruction_error:\n",
    "            best_reconstruction_error = error\n",
    "            best_W = W\n",
    "            best_H = H\n",
    "\n",
    "    # Store the best W and H matrices in the dictionaries with the rank as the key\n",
    "    W_dict[rank] = best_W\n",
    "    H_dict[rank] = best_H\n",
    "\n",
    "# At this point, W_dict and H_dict hold the best W and H matrices for each extra rank\n"
   ]
  },
  {
   "cell_type": "code",
   "execution_count": 27,
   "id": "2f77295c-9027-47c5-9afb-c3050df59db2",
   "metadata": {
    "execution": {
     "iopub.execute_input": "2025-03-07T02:23:57.404675Z",
     "iopub.status.busy": "2025-03-07T02:23:57.404409Z",
     "iopub.status.idle": "2025-03-07T02:23:57.439185Z",
     "shell.execute_reply": "2025-03-07T02:23:57.438686Z",
     "shell.execute_reply.started": "2025-03-07T02:23:57.404656Z"
    }
   },
   "outputs": [],
   "source": [
    "# Update W_dict and H_dict for future use\n",
    "with open('W_dict.pickle', 'wb') as f1:\n",
    "    pickle.dump(W_dict, f1)\n",
    "\n",
    "with open('H_dict.pickle', 'wb') as f2:\n",
    "    pickle.dump(H_dict, f2)"
   ]
  },
  {
   "cell_type": "code",
   "execution_count": 28,
   "id": "d2c2a3ee-56fa-4850-91f2-764a72ace689",
   "metadata": {
    "execution": {
     "iopub.execute_input": "2025-03-07T02:23:57.440288Z",
     "iopub.status.busy": "2025-03-07T02:23:57.440019Z",
     "iopub.status.idle": "2025-03-07T02:23:57.472376Z",
     "shell.execute_reply": "2025-03-07T02:23:57.471980Z",
     "shell.execute_reply.started": "2025-03-07T02:23:57.440270Z"
    }
   },
   "outputs": [
    {
     "data": {
      "application/vnd.jupyter.widget-view+json": {
       "model_id": "63554912064f49bdb9e689176f98a2f5",
       "version_major": 2,
       "version_minor": 0
      },
      "text/plain": [
       "Normalizing matrices...:   0%|          | 0/1 [00:00<?, ?it/s]"
      ]
     },
     "metadata": {},
     "output_type": "display_data"
    }
   ],
   "source": [
    "for rank in tqdm(extra_rank_list, desc='Normalizing matrices...'):\n",
    "    D1, D2 = get_normalization_diagonals(pd.DataFrame(W_dict[rank]))\n",
    "    \n",
    "    L_norm_dict[rank] = pd.DataFrame(np.dot(W_dict[rank], D1), index=P_complete.index)\n",
    "    A_norm_dict[rank] = pd.DataFrame(np.dot(D2, H_dict[rank]), columns=P_complete.columns)"
   ]
  },
  {
   "cell_type": "code",
   "execution_count": 29,
   "id": "bf0fe688-99a3-4dc1-aada-617f51b9e1cc",
   "metadata": {
    "execution": {
     "iopub.execute_input": "2025-03-07T02:23:57.473755Z",
     "iopub.status.busy": "2025-03-07T02:23:57.473336Z",
     "iopub.status.idle": "2025-03-07T02:23:58.207669Z",
     "shell.execute_reply": "2025-03-07T02:23:58.207327Z",
     "shell.execute_reply.started": "2025-03-07T02:23:57.473737Z"
    }
   },
   "outputs": [
    {
     "data": {
      "application/vnd.jupyter.widget-view+json": {
       "model_id": "32077a0f30244c038c90657d07882ad3",
       "version_major": 2,
       "version_minor": 0
      },
      "text/plain": [
       "Binarizing matrices...:   0%|          | 0/1 [00:00<?, ?it/s]"
      ]
     },
     "metadata": {},
     "output_type": "display_data"
    },
    {
     "data": {
      "application/vnd.jupyter.widget-view+json": {
       "model_id": "",
       "version_major": 2,
       "version_minor": 0
      },
      "text/plain": [
       "looping column by column...:   0%|          | 0/74 [00:00<?, ?it/s]"
      ]
     },
     "metadata": {},
     "output_type": "display_data"
    },
    {
     "data": {
      "application/vnd.jupyter.widget-view+json": {
       "model_id": "",
       "version_major": 2,
       "version_minor": 0
      },
      "text/plain": [
       "looping row by row...:   0%|          | 0/74 [00:00<?, ?it/s]"
      ]
     },
     "metadata": {},
     "output_type": "display_data"
    }
   ],
   "source": [
    "for rank in tqdm(extra_rank_list, desc='Binarizing matrices...'):\n",
    "    L_binarized_dict[rank] = k_means_binarize_L(L_norm_dict[rank])\n",
    "    A_binarized_dict[rank] = k_means_binarize_A(A_norm_dict[rank])"
   ]
  },
  {
   "cell_type": "code",
   "execution_count": 30,
   "id": "0c753dcc-1506-403b-b99f-e3f29b1650bb",
   "metadata": {
    "execution": {
     "iopub.execute_input": "2025-03-07T02:23:58.208457Z",
     "iopub.status.busy": "2025-03-07T02:23:58.208205Z",
     "iopub.status.idle": "2025-03-07T02:23:58.834888Z",
     "shell.execute_reply": "2025-03-07T02:23:58.834590Z",
     "shell.execute_reply.started": "2025-03-07T02:23:58.208444Z"
    }
   },
   "outputs": [
    {
     "data": {
      "application/vnd.jupyter.widget-view+json": {
       "model_id": "7510221746c74579abcc305e39d357b8",
       "version_major": 2,
       "version_minor": 0
      },
      "text/plain": [
       "Evaluating model reconstructions...:   0%|          | 0/1 [00:00<?, ?it/s]"
      ]
     },
     "metadata": {},
     "output_type": "display_data"
    }
   ],
   "source": [
    "for rank in tqdm(extra_rank_list, desc='Evaluating model reconstructions...'):\n",
    "    P_reconstructed_dict[rank], P_error_dict[rank], P_confusion[rank] = evaluate_model_reconstruction(\n",
    "        P_complete,\n",
    "        L_binarized_dict[rank],\n",
    "        A_binarized_dict[rank]\n",
    "    )"
   ]
  },
  {
   "cell_type": "code",
   "execution_count": 31,
   "id": "47284cb3-471e-40cc-bc11-2d9297ebf549",
   "metadata": {
    "execution": {
     "iopub.execute_input": "2025-03-07T02:23:58.835422Z",
     "iopub.status.busy": "2025-03-07T02:23:58.835317Z",
     "iopub.status.idle": "2025-03-07T02:23:58.850153Z",
     "shell.execute_reply": "2025-03-07T02:23:58.849887Z",
     "shell.execute_reply.started": "2025-03-07T02:23:58.835411Z"
    }
   },
   "outputs": [
    {
     "data": {
      "application/vnd.jupyter.widget-view+json": {
       "model_id": "923c2b509bae4c608f971f2e359663bc",
       "version_major": 2,
       "version_minor": 0
      },
      "text/plain": [
       "Tabulating metrics...:   0%|          | 0/1 [00:00<?, ?it/s]"
      ]
     },
     "metadata": {},
     "output_type": "display_data"
    },
    {
     "data": {
      "text/html": [
       "<div>\n",
       "<style scoped>\n",
       "    .dataframe tbody tr th:only-of-type {\n",
       "        vertical-align: middle;\n",
       "    }\n",
       "\n",
       "    .dataframe tbody tr th {\n",
       "        vertical-align: top;\n",
       "    }\n",
       "\n",
       "    .dataframe thead th {\n",
       "        text-align: right;\n",
       "    }\n",
       "</style>\n",
       "<table border=\"1\" class=\"dataframe\">\n",
       "  <thead>\n",
       "    <tr style=\"text-align: right;\">\n",
       "      <th></th>\n",
       "      <th>Precision</th>\n",
       "      <th>Recall</th>\n",
       "      <th>FPR</th>\n",
       "      <th>FNR</th>\n",
       "      <th>Specificity</th>\n",
       "      <th>Prevalence</th>\n",
       "      <th>Accuracy</th>\n",
       "      <th>F1 Score</th>\n",
       "      <th>BM</th>\n",
       "      <th>Prevalence Threshold</th>\n",
       "      <th>MCC</th>\n",
       "      <th>Jaccard Index</th>\n",
       "      <th>AIC</th>\n",
       "      <th>BIC</th>\n",
       "    </tr>\n",
       "    <tr>\n",
       "      <th>rank</th>\n",
       "      <th></th>\n",
       "      <th></th>\n",
       "      <th></th>\n",
       "      <th></th>\n",
       "      <th></th>\n",
       "      <th></th>\n",
       "      <th></th>\n",
       "      <th></th>\n",
       "      <th></th>\n",
       "      <th></th>\n",
       "      <th></th>\n",
       "      <th></th>\n",
       "      <th></th>\n",
       "      <th></th>\n",
       "    </tr>\n",
       "  </thead>\n",
       "  <tbody>\n",
       "    <tr>\n",
       "      <th>2</th>\n",
       "      <td>0.922420</td>\n",
       "      <td>0.509164</td>\n",
       "      <td>0.022297</td>\n",
       "      <td>0.490836</td>\n",
       "      <td>0.977703</td>\n",
       "      <td>0.342396</td>\n",
       "      <td>0.817277</td>\n",
       "      <td>0.656145</td>\n",
       "      <td>0.486867</td>\n",
       "      <td>0.173050</td>\n",
       "      <td>0.590089</td>\n",
       "      <td>0.488255</td>\n",
       "      <td>2.409712e+06</td>\n",
       "      <td>2.681111e+06</td>\n",
       "    </tr>\n",
       "    <tr>\n",
       "      <th>7</th>\n",
       "      <td>0.944923</td>\n",
       "      <td>0.651876</td>\n",
       "      <td>0.019784</td>\n",
       "      <td>0.348124</td>\n",
       "      <td>0.980216</td>\n",
       "      <td>0.342396</td>\n",
       "      <td>0.867794</td>\n",
       "      <td>0.771509</td>\n",
       "      <td>0.632093</td>\n",
       "      <td>0.148363</td>\n",
       "      <td>0.706141</td>\n",
       "      <td>0.628014</td>\n",
       "      <td>1.870569e+06</td>\n",
       "      <td>2.820467e+06</td>\n",
       "    </tr>\n",
       "    <tr>\n",
       "      <th>12</th>\n",
       "      <td>0.950896</td>\n",
       "      <td>0.629115</td>\n",
       "      <td>0.016915</td>\n",
       "      <td>0.370885</td>\n",
       "      <td>0.983085</td>\n",
       "      <td>0.342396</td>\n",
       "      <td>0.861887</td>\n",
       "      <td>0.757239</td>\n",
       "      <td>0.612200</td>\n",
       "      <td>0.140874</td>\n",
       "      <td>0.693993</td>\n",
       "      <td>0.609320</td>\n",
       "      <td>2.064269e+06</td>\n",
       "      <td>3.692666e+06</td>\n",
       "    </tr>\n",
       "    <tr>\n",
       "      <th>17</th>\n",
       "      <td>0.951504</td>\n",
       "      <td>0.716354</td>\n",
       "      <td>0.019010</td>\n",
       "      <td>0.283646</td>\n",
       "      <td>0.980990</td>\n",
       "      <td>0.342396</td>\n",
       "      <td>0.890380</td>\n",
       "      <td>0.817352</td>\n",
       "      <td>0.697344</td>\n",
       "      <td>0.140083</td>\n",
       "      <td>0.756491</td>\n",
       "      <td>0.691121</td>\n",
       "      <td>1.793181e+06</td>\n",
       "      <td>4.100077e+06</td>\n",
       "    </tr>\n",
       "    <tr>\n",
       "      <th>18</th>\n",
       "      <td>0.951301</td>\n",
       "      <td>0.721710</td>\n",
       "      <td>0.019236</td>\n",
       "      <td>0.278290</td>\n",
       "      <td>0.980764</td>\n",
       "      <td>0.342396</td>\n",
       "      <td>0.892065</td>\n",
       "      <td>0.820752</td>\n",
       "      <td>0.702474</td>\n",
       "      <td>0.140347</td>\n",
       "      <td>0.760158</td>\n",
       "      <td>0.695996</td>\n",
       "      <td>1.792079e+06</td>\n",
       "      <td>4.234674e+06</td>\n",
       "    </tr>\n",
       "    <tr>\n",
       "      <th>19</th>\n",
       "      <td>0.954481</td>\n",
       "      <td>0.725288</td>\n",
       "      <td>0.018009</td>\n",
       "      <td>0.274712</td>\n",
       "      <td>0.981991</td>\n",
       "      <td>0.342396</td>\n",
       "      <td>0.894097</td>\n",
       "      <td>0.824249</td>\n",
       "      <td>0.707279</td>\n",
       "      <td>0.136127</td>\n",
       "      <td>0.764959</td>\n",
       "      <td>0.701040</td>\n",
       "      <td>1.790199e+06</td>\n",
       "      <td>4.368495e+06</td>\n",
       "    </tr>\n",
       "    <tr>\n",
       "      <th>20</th>\n",
       "      <td>0.955990</td>\n",
       "      <td>0.688896</td>\n",
       "      <td>0.016513</td>\n",
       "      <td>0.311104</td>\n",
       "      <td>0.983487</td>\n",
       "      <td>0.342396</td>\n",
       "      <td>0.882620</td>\n",
       "      <td>0.800758</td>\n",
       "      <td>0.672383</td>\n",
       "      <td>0.134066</td>\n",
       "      <td>0.740073</td>\n",
       "      <td>0.667720</td>\n",
       "      <td>1.965754e+06</td>\n",
       "      <td>4.679749e+06</td>\n",
       "    </tr>\n",
       "    <tr>\n",
       "      <th>21</th>\n",
       "      <td>0.957338</td>\n",
       "      <td>0.684466</td>\n",
       "      <td>0.015881</td>\n",
       "      <td>0.315534</td>\n",
       "      <td>0.984119</td>\n",
       "      <td>0.342396</td>\n",
       "      <td>0.881519</td>\n",
       "      <td>0.798226</td>\n",
       "      <td>0.668584</td>\n",
       "      <td>0.132189</td>\n",
       "      <td>0.737844</td>\n",
       "      <td>0.664206</td>\n",
       "      <td>2.003453e+06</td>\n",
       "      <td>4.853148e+06</td>\n",
       "    </tr>\n",
       "    <tr>\n",
       "      <th>22</th>\n",
       "      <td>0.958845</td>\n",
       "      <td>0.678959</td>\n",
       "      <td>0.015173</td>\n",
       "      <td>0.321041</td>\n",
       "      <td>0.984827</td>\n",
       "      <td>0.342396</td>\n",
       "      <td>0.880099</td>\n",
       "      <td>0.794987</td>\n",
       "      <td>0.663786</td>\n",
       "      <td>0.130050</td>\n",
       "      <td>0.734949</td>\n",
       "      <td>0.659733</td>\n",
       "      <td>2.045587e+06</td>\n",
       "      <td>5.030982e+06</td>\n",
       "    </tr>\n",
       "    <tr>\n",
       "      <th>23</th>\n",
       "      <td>0.960682</td>\n",
       "      <td>0.668427</td>\n",
       "      <td>0.014244</td>\n",
       "      <td>0.331573</td>\n",
       "      <td>0.985756</td>\n",
       "      <td>0.342396</td>\n",
       "      <td>0.877104</td>\n",
       "      <td>0.788340</td>\n",
       "      <td>0.654183</td>\n",
       "      <td>0.127383</td>\n",
       "      <td>0.728674</td>\n",
       "      <td>0.650628</td>\n",
       "      <td>2.109147e+06</td>\n",
       "      <td>5.230242e+06</td>\n",
       "    </tr>\n",
       "    <tr>\n",
       "      <th>24</th>\n",
       "      <td>0.963601</td>\n",
       "      <td>0.605477</td>\n",
       "      <td>0.011908</td>\n",
       "      <td>0.394523</td>\n",
       "      <td>0.988092</td>\n",
       "      <td>0.342396</td>\n",
       "      <td>0.857086</td>\n",
       "      <td>0.743671</td>\n",
       "      <td>0.593569</td>\n",
       "      <td>0.122993</td>\n",
       "      <td>0.685422</td>\n",
       "      <td>0.591939</td>\n",
       "      <td>2.402031e+06</td>\n",
       "      <td>5.658825e+06</td>\n",
       "    </tr>\n",
       "    <tr>\n",
       "      <th>25</th>\n",
       "      <td>0.960731</td>\n",
       "      <td>0.637318</td>\n",
       "      <td>0.013563</td>\n",
       "      <td>0.362682</td>\n",
       "      <td>0.986437</td>\n",
       "      <td>0.342396</td>\n",
       "      <td>0.866900</td>\n",
       "      <td>0.766298</td>\n",
       "      <td>0.623755</td>\n",
       "      <td>0.127311</td>\n",
       "      <td>0.706426</td>\n",
       "      <td>0.621137</td>\n",
       "      <td>2.288437e+06</td>\n",
       "      <td>5.680931e+06</td>\n",
       "    </tr>\n",
       "    <tr>\n",
       "      <th>26</th>\n",
       "      <td>0.958753</td>\n",
       "      <td>0.646142</td>\n",
       "      <td>0.014474</td>\n",
       "      <td>0.353858</td>\n",
       "      <td>0.985526</td>\n",
       "      <td>0.342396</td>\n",
       "      <td>0.869323</td>\n",
       "      <td>0.772002</td>\n",
       "      <td>0.631669</td>\n",
       "      <td>0.130182</td>\n",
       "      <td>0.711424</td>\n",
       "      <td>0.628667</td>\n",
       "      <td>2.275062e+06</td>\n",
       "      <td>5.803256e+06</td>\n",
       "    </tr>\n",
       "    <tr>\n",
       "      <th>39</th>\n",
       "      <td>0.968994</td>\n",
       "      <td>0.660717</td>\n",
       "      <td>0.011008</td>\n",
       "      <td>0.339283</td>\n",
       "      <td>0.988992</td>\n",
       "      <td>0.342396</td>\n",
       "      <td>0.876592</td>\n",
       "      <td>0.785698</td>\n",
       "      <td>0.649709</td>\n",
       "      <td>0.114320</td>\n",
       "      <td>0.728766</td>\n",
       "      <td>0.647037</td>\n",
       "      <td>2.468923e+06</td>\n",
       "      <td>7.761214e+06</td>\n",
       "    </tr>\n",
       "    <tr>\n",
       "      <th>74</th>\n",
       "      <td>0.979484</td>\n",
       "      <td>0.647218</td>\n",
       "      <td>0.007059</td>\n",
       "      <td>0.352782</td>\n",
       "      <td>0.992941</td>\n",
       "      <td>0.342396</td>\n",
       "      <td>0.874567</td>\n",
       "      <td>0.779417</td>\n",
       "      <td>0.640160</td>\n",
       "      <td>0.094557</td>\n",
       "      <td>0.726010</td>\n",
       "      <td>0.638562</td>\n",
       "      <td>3.258802e+06</td>\n",
       "      <td>1.330058e+07</td>\n",
       "    </tr>\n",
       "    <tr>\n",
       "      <th>74</th>\n",
       "      <td>0.979484</td>\n",
       "      <td>0.647218</td>\n",
       "      <td>0.007059</td>\n",
       "      <td>0.352782</td>\n",
       "      <td>0.992941</td>\n",
       "      <td>0.342396</td>\n",
       "      <td>0.874567</td>\n",
       "      <td>0.779417</td>\n",
       "      <td>0.640160</td>\n",
       "      <td>0.094557</td>\n",
       "      <td>0.726010</td>\n",
       "      <td>0.638562</td>\n",
       "      <td>3.258802e+06</td>\n",
       "      <td>1.330058e+07</td>\n",
       "    </tr>\n",
       "  </tbody>\n",
       "</table>\n",
       "</div>"
      ],
      "text/plain": [
       "      Precision    Recall       FPR       FNR  Specificity  Prevalence  \\\n",
       "rank                                                                     \n",
       "2      0.922420  0.509164  0.022297  0.490836     0.977703    0.342396   \n",
       "7      0.944923  0.651876  0.019784  0.348124     0.980216    0.342396   \n",
       "12     0.950896  0.629115  0.016915  0.370885     0.983085    0.342396   \n",
       "17     0.951504  0.716354  0.019010  0.283646     0.980990    0.342396   \n",
       "18     0.951301  0.721710  0.019236  0.278290     0.980764    0.342396   \n",
       "19     0.954481  0.725288  0.018009  0.274712     0.981991    0.342396   \n",
       "20     0.955990  0.688896  0.016513  0.311104     0.983487    0.342396   \n",
       "21     0.957338  0.684466  0.015881  0.315534     0.984119    0.342396   \n",
       "22     0.958845  0.678959  0.015173  0.321041     0.984827    0.342396   \n",
       "23     0.960682  0.668427  0.014244  0.331573     0.985756    0.342396   \n",
       "24     0.963601  0.605477  0.011908  0.394523     0.988092    0.342396   \n",
       "25     0.960731  0.637318  0.013563  0.362682     0.986437    0.342396   \n",
       "26     0.958753  0.646142  0.014474  0.353858     0.985526    0.342396   \n",
       "39     0.968994  0.660717  0.011008  0.339283     0.988992    0.342396   \n",
       "74     0.979484  0.647218  0.007059  0.352782     0.992941    0.342396   \n",
       "74     0.979484  0.647218  0.007059  0.352782     0.992941    0.342396   \n",
       "\n",
       "      Accuracy  F1 Score        BM  Prevalence Threshold       MCC  \\\n",
       "rank                                                                 \n",
       "2     0.817277  0.656145  0.486867              0.173050  0.590089   \n",
       "7     0.867794  0.771509  0.632093              0.148363  0.706141   \n",
       "12    0.861887  0.757239  0.612200              0.140874  0.693993   \n",
       "17    0.890380  0.817352  0.697344              0.140083  0.756491   \n",
       "18    0.892065  0.820752  0.702474              0.140347  0.760158   \n",
       "19    0.894097  0.824249  0.707279              0.136127  0.764959   \n",
       "20    0.882620  0.800758  0.672383              0.134066  0.740073   \n",
       "21    0.881519  0.798226  0.668584              0.132189  0.737844   \n",
       "22    0.880099  0.794987  0.663786              0.130050  0.734949   \n",
       "23    0.877104  0.788340  0.654183              0.127383  0.728674   \n",
       "24    0.857086  0.743671  0.593569              0.122993  0.685422   \n",
       "25    0.866900  0.766298  0.623755              0.127311  0.706426   \n",
       "26    0.869323  0.772002  0.631669              0.130182  0.711424   \n",
       "39    0.876592  0.785698  0.649709              0.114320  0.728766   \n",
       "74    0.874567  0.779417  0.640160              0.094557  0.726010   \n",
       "74    0.874567  0.779417  0.640160              0.094557  0.726010   \n",
       "\n",
       "      Jaccard Index           AIC           BIC  \n",
       "rank                                             \n",
       "2          0.488255  2.409712e+06  2.681111e+06  \n",
       "7          0.628014  1.870569e+06  2.820467e+06  \n",
       "12         0.609320  2.064269e+06  3.692666e+06  \n",
       "17         0.691121  1.793181e+06  4.100077e+06  \n",
       "18         0.695996  1.792079e+06  4.234674e+06  \n",
       "19         0.701040  1.790199e+06  4.368495e+06  \n",
       "20         0.667720  1.965754e+06  4.679749e+06  \n",
       "21         0.664206  2.003453e+06  4.853148e+06  \n",
       "22         0.659733  2.045587e+06  5.030982e+06  \n",
       "23         0.650628  2.109147e+06  5.230242e+06  \n",
       "24         0.591939  2.402031e+06  5.658825e+06  \n",
       "25         0.621137  2.288437e+06  5.680931e+06  \n",
       "26         0.628667  2.275062e+06  5.803256e+06  \n",
       "39         0.647037  2.468923e+06  7.761214e+06  \n",
       "74         0.638562  3.258802e+06  1.330058e+07  \n",
       "74         0.638562  3.258802e+06  1.330058e+07  "
      ]
     },
     "execution_count": 31,
     "metadata": {},
     "output_type": "execute_result"
    }
   ],
   "source": [
    "df_metrics_extra = pd.DataFrame()\n",
    "\n",
    "for rank in tqdm(extra_rank_list, desc='Tabulating metrics...'):\n",
    "    df_metrics_extra[rank] = calculate_metrics(P_confusion[rank], rank, P_complete)\n",
    "\n",
    "df_metrics_extra = df_metrics_extra.T\n",
    "df_metrics_extra.index.name = 'rank'\n",
    "\n",
    "df_metrics = pd.concat([df_metrics, df_metrics_extra]).sort_index()\n",
    "\n",
    "df_metrics"
   ]
  },
  {
   "cell_type": "code",
   "execution_count": 32,
   "id": "6e9956f3-9125-4a76-b621-85f8b328d30e",
   "metadata": {
    "execution": {
     "iopub.execute_input": "2025-03-07T02:23:58.850656Z",
     "iopub.status.busy": "2025-03-07T02:23:58.850558Z",
     "iopub.status.idle": "2025-03-07T02:23:59.029122Z",
     "shell.execute_reply": "2025-03-07T02:23:59.028860Z",
     "shell.execute_reply.started": "2025-03-07T02:23:58.850647Z"
    }
   },
   "outputs": [
    {
     "data": {
      "image/png": "[encoded data removed]",
      "text/plain": [
       "<Figure size 800x800 with 1 Axes>"
      ]
     },
     "metadata": {},
     "output_type": "display_data"
    }
   ],
   "source": [
    "# Sort DataFrame by Rank to ensure lines connect in the correct order\n",
    "df_metrics.sort_index(inplace=True)\n",
    "\n",
    "# Set style\n",
    "sns.set(style=\"whitegrid\")\n",
    "\n",
    "# Create the plot\n",
    "plt.figure(figsize=(8, 8))\n",
    "plot = sns.lineplot(x=df_metrics.index, y='AIC', data=df_metrics, sort=False, marker='o', linestyle='-', color='grey')\n",
    "\n",
    "# Annotate each point with rank and F1 Score\n",
    "for rank, row in df_metrics.iterrows():\n",
    "    #plt.text(row['Recall'] + 0.01, row['Precision'], f'Rank: {rank}, F1: {row[\"F1 Score\"]:.2f}', color='black')\n",
    "    # plt.text(row['Recall'] - 0.005, row['Precision'], f'{rank}', color='navy')\n",
    "    #plt.text(row['Recall'] - 0.005, row['Precision'] - 0.002, f'F1: {row[\"F1 Score\"]:.2f}', color='red')\n",
    "    \n",
    "    # Annotate the highest accuracy value\n",
    "\n",
    "    if rank == df_metrics.AIC.idxmin():\n",
    "        plt.text(rank + .15, row['AIC'] - .02*row['AIC'], f'{rank} AIC: {df_metrics.AIC.min():.2f}', color='green')\n",
    "\n",
    "# Plot labels and title\n",
    "plt.xlabel('Rank')\n",
    "plt.ylabel('AIC')\n",
    "plt.title('AIC vs Rank')\n",
    "plt.grid(False)\n",
    "plt.savefig('../images/supplemental/reconstruction_metrics.svg', format='svg')\n",
    "plt.show()\n"
   ]
  },
  {
   "cell_type": "code",
   "execution_count": 33,
   "id": "8bddd061-3f4e-4004-a0d2-c7392a271df2",
   "metadata": {
    "execution": {
     "iopub.execute_input": "2025-03-07T02:23:59.029566Z",
     "iopub.status.busy": "2025-03-07T02:23:59.029469Z",
     "iopub.status.idle": "2025-03-07T02:23:59.044279Z",
     "shell.execute_reply": "2025-03-07T02:23:59.043972Z",
     "shell.execute_reply.started": "2025-03-07T02:23:59.029557Z"
    }
   },
   "outputs": [
    {
     "data": {
      "text/html": [
       "<div>\n",
       "<style scoped>\n",
       "    .dataframe tbody tr th:only-of-type {\n",
       "        vertical-align: middle;\n",
       "    }\n",
       "\n",
       "    .dataframe tbody tr th {\n",
       "        vertical-align: top;\n",
       "    }\n",
       "\n",
       "    .dataframe thead th {\n",
       "        text-align: right;\n",
       "    }\n",
       "</style>\n",
       "<table border=\"1\" class=\"dataframe\">\n",
       "  <thead>\n",
       "    <tr style=\"text-align: right;\">\n",
       "      <th></th>\n",
       "      <th>Precision</th>\n",
       "      <th>Recall</th>\n",
       "      <th>FPR</th>\n",
       "      <th>FNR</th>\n",
       "      <th>Specificity</th>\n",
       "      <th>Prevalence</th>\n",
       "      <th>Accuracy</th>\n",
       "      <th>F1 Score</th>\n",
       "      <th>BM</th>\n",
       "      <th>Prevalence Threshold</th>\n",
       "      <th>MCC</th>\n",
       "      <th>Jaccard Index</th>\n",
       "      <th>AIC</th>\n",
       "      <th>BIC</th>\n",
       "    </tr>\n",
       "    <tr>\n",
       "      <th>rank</th>\n",
       "      <th></th>\n",
       "      <th></th>\n",
       "      <th></th>\n",
       "      <th></th>\n",
       "      <th></th>\n",
       "      <th></th>\n",
       "      <th></th>\n",
       "      <th></th>\n",
       "      <th></th>\n",
       "      <th></th>\n",
       "      <th></th>\n",
       "      <th></th>\n",
       "      <th></th>\n",
       "      <th></th>\n",
       "    </tr>\n",
       "  </thead>\n",
       "  <tbody>\n",
       "    <tr>\n",
       "      <th>19</th>\n",
       "      <td>0.954481</td>\n",
       "      <td>0.725288</td>\n",
       "      <td>0.018009</td>\n",
       "      <td>0.274712</td>\n",
       "      <td>0.981991</td>\n",
       "      <td>0.342396</td>\n",
       "      <td>0.894097</td>\n",
       "      <td>0.824249</td>\n",
       "      <td>0.707279</td>\n",
       "      <td>0.136127</td>\n",
       "      <td>0.764959</td>\n",
       "      <td>0.70104</td>\n",
       "      <td>1.790199e+06</td>\n",
       "      <td>4.368495e+06</td>\n",
       "    </tr>\n",
       "  </tbody>\n",
       "</table>\n",
       "</div>"
      ],
      "text/plain": [
       "      Precision    Recall       FPR       FNR  Specificity  Prevalence  \\\n",
       "rank                                                                     \n",
       "19     0.954481  0.725288  0.018009  0.274712     0.981991    0.342396   \n",
       "\n",
       "      Accuracy  F1 Score        BM  Prevalence Threshold       MCC  \\\n",
       "rank                                                                 \n",
       "19    0.894097  0.824249  0.707279              0.136127  0.764959   \n",
       "\n",
       "      Jaccard Index           AIC           BIC  \n",
       "rank                                             \n",
       "19          0.70104  1.790199e+06  4.368495e+06  "
      ]
     },
     "execution_count": 33,
     "metadata": {},
     "output_type": "execute_result"
    }
   ],
   "source": [
    "df_metrics.loc[[df_metrics['Recall'].idxmax()]]"
   ]
  }
 ],
 "metadata": {
  "kernelspec": {
   "display_name": "Python [conda env:pan-phylon]",
   "language": "python",
   "name": "conda-env-pan-phylon-py"
  },
  "language_info": {
   "codemirror_mode": {
    "name": "ipython",
    "version": 3
   },
   "file_extension": ".py",
   "mimetype": "text/x-python",
   "name": "python",
   "nbconvert_exporter": "python",
   "pygments_lexer": "ipython3",
   "version": "3.12.2"
  }
 },
 "nbformat": 4,
 "nbformat_minor": 5
}
