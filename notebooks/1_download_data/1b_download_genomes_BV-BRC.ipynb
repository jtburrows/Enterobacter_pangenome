{
 "cells": [
  {
   "cell_type": "markdown",
   "id": "d5022b32-7e33-4cce-aaf6-9491a0b8deeb",
   "metadata": {},
   "source": [
    "# Setup"
   ]
  },
  {
   "cell_type": "code",
   "execution_count": null,
   "id": "aed24a7c-27da-49a1-b24e-ad3b02540614",
   "metadata": {},
   "outputs": [],
   "source": [
    "import os\n",
    "import shutil\n",
    "import urllib.request, urllib.parse, urllib.error\n",
    "from functools import reduce\n",
    "\n",
    "import numpy as np\n",
    "import pandas as pd\n",
    "\n",
    "import plotly.express as px\n",
    "import seaborn as sns\n",
    "import matplotlib\n",
    "from matplotlib import pyplot as plt\n",
    "\n",
    "from tqdm.notebook import tqdm"
   ]
  },
  {
   "cell_type": "code",
   "execution_count": null,
   "id": "7b6aecc8-41a5-4149-810a-5bd1ba19e802",
   "metadata": {},
   "outputs": [],
   "source": [
    "FILTERED_SUMMARY = '../../data/metadata/filtered_species_summary.csv'\n",
    "FILTERED_METADATA = '../../data/metadata/filtered_species_metadata.csv'"
   ]
  },
  {
   "cell_type": "code",
   "execution_count": null,
   "id": "8d5bb344-7f26-4a29-a22b-34db19c35a6c",
   "metadata": {},
   "outputs": [],
   "source": [
    "filtered_species_summary = pd.read_csv(FILTERED_SUMMARY, index_col=0, dtype='object')\n",
    "filtered_species_metadata = pd.read_csv(FILTERED_METADATA, index_col=0, dtype='object')\n",
    "\n",
    "# Ensure genome_id is a str\n",
    "filtered_species_summary['genome_id'] = filtered_species_summary['genome_id'].astype('str')\n",
    "filtered_species_metadata['genome_id'] = filtered_species_metadata['genome_id'].astype('str')\n",
    "\n",
    "display(\n",
    "    filtered_species_summary.shape,\n",
    "    filtered_species_summary.head()\n",
    ")"
   ]
  },
  {
   "cell_type": "code",
   "execution_count": null,
   "id": "e0d7cde8-70cf-4bef-ae90-7fb9e2f87747",
   "metadata": {},
   "outputs": [],
   "source": [
    "download_paths = '../../data/raw/genomes/'"
   ]
  },
  {
   "cell_type": "code",
   "execution_count": null,
   "id": "2c1fab54-46f7-4cb8-a472-6cff9d09c78e",
   "metadata": {},
   "outputs": [],
   "source": [
    "# Set of genome ids to download \n",
    "dl_strains = set(filtered_species_summary.genome_id.astype(str))\n",
    "\n",
    "# Any previously downloaded strains in directory that do not meet curent filtration criteria\n",
    "# This only matters when you are re-running this notebook/workflow\n",
    "bad_dl = list()\n",
    "\n",
    "for folder in os.listdir(download_paths):\n",
    "    if folder in dl_strains:\n",
    "        dl_strains.remove(str(folder))        \n",
    "    else:\n",
    "        bad_dl.append(str(folder))"
   ]
  },
  {
   "cell_type": "code",
   "execution_count": null,
   "id": "434cb864-0b0a-4387-86ab-b4a976f386bf",
   "metadata": {},
   "outputs": [],
   "source": [
    "len(dl_strains) # if len is 0, all strains are already downloaded"
   ]
  },
  {
   "cell_type": "code",
   "execution_count": null,
   "id": "7e745e9e-823f-43b6-b130-1ffec7d69951",
   "metadata": {},
   "outputs": [],
   "source": [
    "len(bad_dl) # if len is 0, no bad downloads need to be removed"
   ]
  },
  {
   "cell_type": "code",
   "execution_count": null,
   "id": "7ead340b-21c7-4f46-99d4-7670f0cf961b",
   "metadata": {},
   "outputs": [],
   "source": [
    "# delete bad_dl strains\n",
    "# Only matters on a rerun\n",
    "for folder in tqdm(bad_dl):\n",
    "    print('removing folder:', folder)\n",
    "    shutil.rmtree(os.path.join(download_paths, folder))"
   ]
  },
  {
   "cell_type": "markdown",
   "id": "4c4ac185-c272-4c60-bf06-315a404cb58a",
   "metadata": {},
   "source": [
    "# Download (first-pass) filtered genomes"
   ]
  },
  {
   "cell_type": "code",
   "execution_count": null,
   "id": "271114ef-37fb-41b3-bfaa-af357ee652fc",
   "metadata": {},
   "outputs": [],
   "source": [
    "# The file types that can be downloaded from BV-BRC\n",
    "VALID_BV_BRC_FILES = [\n",
    "    'faa','features.tab','ffn','frn','gff','pathway.tab', 'spgene.tab','subsystem.tab','fna'\n",
    "]\n",
    "\n",
    "def download_bv_brc_genomes(genomes, output_dir, filetypes=['fna','faa','gff','spgene.tab'], redownload=False):\n",
    "    '''\n",
    "    Download data associated with a list of PATRIC genomes.\n",
    "    \n",
    "    Parameters\n",
    "    ----------\n",
    "    genomes : list\n",
    "        List of strings containing PATRIC genome IDs to download\n",
    "    output_dir : str\n",
    "        Path to directory to save genomes. Will create a subfolder \n",
    "        for each genome in this directory.\n",
    "    filetypes : str\n",
    "        List of BV-BRC genome-specific files to download per genome. \n",
    "        Valid options include 'faa', 'features.tab', 'ffn', 'frn',\n",
    "        'gff', 'pathway.tab', 'spgene.tab', 'subsystem.tab', and\n",
    "        'fna'. 'PATRIC' in filename is dropped automatically.\n",
    "        See ftp://ftp.bvbrc.org/genomes/<genome id>/ for\n",
    "        examples (default ['fna','faa','gff','spgene.tab'])\n",
    "    redownload : bool\n",
    "        If True, re-downloads files that exist locally (default False)\n",
    "    '''\n",
    "    bad_genomes = []\n",
    "    \n",
    "    if not os.path.exists(output_dir):\n",
    "        os.mkdir(output_dir)\n",
    "    \n",
    "    # Process filetypes\n",
    "    source_target_filetypes = []\n",
    "    for ftype in tqdm(filetypes, desc='Processing filetypes...'):\n",
    "        if ftype in VALID_BV_BRC_FILES: # valid file type\n",
    "            ftype_source = 'PATRIC.' + ftype if ftype != 'fna' else ftype # all files except FNA preceded by 'PATRIC'\n",
    "            ftype_target = ftype # drop 'PATRIC' in output files\n",
    "            source_target_filetypes.append( (ftype_source, ftype_target) )\n",
    "        \n",
    "        elif ftype.replace('PATRIC.','') in VALID_BV_BRC_FILES: # valid file type without PATRIC label\n",
    "            ftype_source = ftype # keep 'PATRIC' for downloading files\n",
    "            ftype_target = ftype.replace('PATRIC.','') # drop 'PATRIC' in output files\n",
    "            source_target_filetypes.append( (ftype_source, ftype_target) )\n",
    "        \n",
    "        else: # invalid filetype\n",
    "            print('Invalid filetype:', ftype)\n",
    "    \n",
    "    # Download relevant files\n",
    "    for i, genome in tqdm(enumerate(genomes), desc='Downloading selected files...', total=len(genomes)):\n",
    "        # Set up source and target locations\n",
    "        genome_source = 'ftp://ftp.bvbrc.org/genomes/' + genome + '/' + genome # base link to genome files\n",
    "        genome_dir = output_dir + '/' + genome + '/' # genome-specific output directory\n",
    "        genome_dir = genome_dir.replace('//','/')\n",
    "        genome_target = genome_dir + genome # genome-specific output base filename\n",
    "        if not os.path.exists(genome_dir):\n",
    "            os.mkdir(genome_dir)\n",
    "        \n",
    "        # Process individual files\n",
    "        try:\n",
    "            for source_filetype, target_filetype in source_target_filetypes:\n",
    "                source = genome_source + '.' + source_filetype\n",
    "                target = genome_target + '.' + target_filetype\n",
    "                if os.path.exists(target) and not redownload:\n",
    "                    print(i+1, 'Already exists:', target)\n",
    "                else:\n",
    "                    print(i+1, source, '->', target)\n",
    "                    urllib.request.urlretrieve(source, target)\n",
    "                    urllib.request.urlcleanup()\n",
    "        \n",
    "        # genome ID not found or not all files can be downloaded\n",
    "        except IOError: # genome ID not found\n",
    "            print('Bad genome ID:', genome)\n",
    "            #os.rmdir(genome_dir)\n",
    "            shutil.rmtree(genome_dir)\n",
    "            bad_genomes.append(genome)\n",
    "    \n",
    "    return bad_genomes\n",
    "\n"
   ]
  },
  {
   "cell_type": "code",
   "execution_count": null,
   "id": "aa2e5136-038b-4b71-af5c-ee24681f5c98",
   "metadata": {},
   "outputs": [],
   "source": [
    "# Files have already been moved into the mash directory, no need to move them\n",
    "RAW_GENOMES = '../../data/raw/mash_genomes/'\n",
    "\n",
    "items = []\n",
    "item_paths = []\n",
    "\n",
    "for item in os.listdir(RAW_GENOMES):\n",
    "    curr_path = os.path.join(RAW_GENOMES, item)\n",
    "    if os.path.isdir(curr_path):\n",
    "        curr_fna = os.path.join(curr_path, f'{item}.fna')\n",
    "        items.append(item)\n",
    "        item_paths.append(curr_fna)\n",
    "\n",
    "\n",
    "display(\n",
    "    items[:5],\n",
    "    item_paths[:5]\n",
    ")"
   ]
  },
  {
   "cell_type": "code",
   "execution_count": null,
   "id": "7891516f-7b39-41ff-add9-72934a3610f5",
   "metadata": {
    "scrolled": true
   },
   "outputs": [],
   "source": [
    "bad_genomes = download_bv_brc_genomes(genomes=dl_strains, output_dir=download_paths, redownload=False, filetypes=['fna','faa','gff'])"
   ]
  },
  {
   "cell_type": "code",
   "execution_count": null,
   "id": "7a9f8f9f-8244-4559-9668-63650ad9de60",
   "metadata": {},
   "outputs": [],
   "source": [
    "len(bad_genomes)"
   ]
  },
  {
   "cell_type": "code",
   "execution_count": null,
   "id": "1abd7632-a434-4f3a-8c7c-b35bfbabc700",
   "metadata": {},
   "outputs": [],
   "source": [
    "dl_success = sorted(dl_strains - set(bad_genomes))\n",
    "len(dl_success)"
   ]
  },
  {
   "cell_type": "markdown",
   "id": "093e4e9b-3e4b-40af-b4f7-d91a2cf367f0",
   "metadata": {},
   "source": [
    "### Remove genomes with empty fasta files"
   ]
  },
  {
   "cell_type": "code",
   "execution_count": null,
   "id": "ce262080-3da4-412d-ac99-31da52b1263a",
   "metadata": {},
   "outputs": [],
   "source": [
    "# some fasta files on BVBRC are empty, remove those and remove them from metadata\n",
    "\n",
    "## command to remove files with no text in them, list made by checking file lenth in terminal\n",
    "## commented out since it has been run already\n",
    "\n",
    "count = 0\n",
    "for folder in os.listdir(download_paths):\n",
    "    size = os.path.getsize(download_paths + '/' + folder + '/' + folder + '.fna' )\n",
    "    if size == 0:\n",
    "        count += 1\n",
    "        bad_genomes.append(folder)\n",
    "        print('Removing folder:', folder)\n",
    "        shutil.rmtree(os.path.join(download_paths, folder))\n",
    "print(\"Empty downloads total:\", count)\n"
   ]
  },
  {
   "cell_type": "markdown",
   "id": "968a14ae-3126-4684-b5d0-aea22085db9e",
   "metadata": {},
   "source": [
    "# Update `summary` & `metadata`"
   ]
  },
  {
   "cell_type": "code",
   "execution_count": null,
   "id": "b6b4605d-bfaf-4bb5-bd58-ab626e2a5db9",
   "metadata": {},
   "outputs": [],
   "source": [
    "filtered_species_summary['genome_id'] = filtered_species_summary.genome_id.astype('str')\n",
    "downloaded_genomes = set(filtered_species_summary.genome_id) - set(bad_genomes)\n",
    "\n",
    "filtered_species_summary = (filtered_species_summary.\n",
    "                            drop_duplicates(subset=['genome_id']).\n",
    "                            set_index('genome_id').\n",
    "                            loc[sorted(downloaded_genomes)].\n",
    "                            reset_index())\n",
    "\n",
    "\n",
    "display(\n",
    "    filtered_species_summary.shape,\n",
    "    filtered_species_summary.head()\n",
    ")"
   ]
  },
  {
   "cell_type": "code",
   "execution_count": null,
   "id": "3bfc864a-670a-440d-8377-545d38f91e90",
   "metadata": {},
   "outputs": [],
   "source": [
    "filtered_species_metadata['genome_id'] = filtered_species_metadata.genome_id.astype('str')\n",
    "\n",
    "filtered_species_metadata = (filtered_species_metadata.\n",
    "                            drop_duplicates(subset=['genome_id']).\n",
    "                            set_index('genome_id').\n",
    "                            loc[sorted(downloaded_genomes)].\n",
    "                            reset_index())\n",
    "\n",
    "\n",
    "display(\n",
    "    filtered_species_metadata.shape,\n",
    "    filtered_species_metadata.head()\n",
    ")"
   ]
  },
  {
   "cell_type": "code",
   "execution_count": null,
   "id": "9b32f44c-6cfb-4e35-ac44-67aeb602bb7f",
   "metadata": {},
   "outputs": [],
   "source": [
    "(filtered_species_summary.genome_status == 'Complete').sum() # Num of complete seqs"
   ]
  },
  {
   "cell_type": "code",
   "execution_count": null,
   "id": "1c6670bf-20ee-45d2-830e-aa6fd390ba50",
   "metadata": {},
   "outputs": [],
   "source": [
    "filepath = os.path.join(FILTERED_SUMMARY.split('filtered_species_summary.csv')[0], 'filtered_downloaded_species_summary.csv')\n",
    "filtered_species_summary.to_csv(filepath)"
   ]
  },
  {
   "cell_type": "code",
   "execution_count": null,
   "id": "7bdd57e4-eb3c-41c6-b81e-6e9d44082b10",
   "metadata": {},
   "outputs": [],
   "source": [
    "filepath = os.path.join(FILTERED_METADATA.split('filtered_species_metadata.csv')[0], 'filtered_downloaded_species_metadata.csv')\n",
    "filtered_species_metadata.to_csv(filepath)"
   ]
  },
  {
   "cell_type": "code",
   "execution_count": null,
   "id": "174eacbb-e8bc-486e-8860-9ae225a7edc0",
   "metadata": {},
   "outputs": [],
   "source": []
  }
 ],
 "metadata": {
  "kernelspec": {
   "display_name": "Python [conda env:pan-phylon]",
   "language": "python",
   "name": "conda-env-pan-phylon-py"
  },
  "language_info": {
   "codemirror_mode": {
    "name": "ipython",
    "version": 3
   },
   "file_extension": ".py",
   "mimetype": "text/x-python",
   "name": "python",
   "nbconvert_exporter": "python",
   "pygments_lexer": "ipython3",
   "version": "3.12.2"
  }
 },
 "nbformat": 4,
 "nbformat_minor": 5
}
