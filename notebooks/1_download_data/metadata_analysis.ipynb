{
 "cells": [
  {
   "cell_type": "code",
   "execution_count": null,
   "id": "23b500e4-933f-49ec-a4d7-64df85cd26ec",
   "metadata": {},
   "outputs": [],
   "source": [
    "import os\n",
    "import pickle\n",
    "\n",
    "import numpy as np\n",
    "import pandas as pd\n",
    "import scipy.cluster.hierarchy as hc\n",
    "import scipy.spatial as sp\n",
    "\n",
    "import matplotlib\n",
    "import matplotlib.patches as patches\n",
    "from matplotlib import pyplot as plt\n",
    "import seaborn as sns\n",
    "import plotly.express as px\n",
    "from tqdm.notebook import tqdm\n",
    "import kaleido\n",
    "pd.options.mode.chained_assignment = None\n"
   ]
  },
  {
   "cell_type": "markdown",
   "id": "2693b4b5-5b81-4025-a0cd-03ef42f320fb",
   "metadata": {},
   "source": [
    "## Load in Metadata"
   ]
  },
  {
   "cell_type": "code",
   "execution_count": null,
   "id": "5d4fd7cc-fde8-482e-9cf8-1e2864cd7aa6",
   "metadata": {},
   "outputs": [],
   "source": [
    "metadata_path = '../../data/metadata/mash_scrubbed_species_metadata.csv'\n",
    "\n",
    "# metadata_path = '/media/pekar2/pan_phylon/Enterobacter/metadata/enriched_metadata.csv' # new metadata path for my final run presently\n",
    "df_metadata = pd.read_csv(metadata_path, index_col=0, dtype='object')"
   ]
  },
  {
   "cell_type": "code",
   "execution_count": null,
   "id": "2d7156c4-5710-4d8e-875d-a813c4f178d8",
   "metadata": {},
   "outputs": [],
   "source": [
    "display(df_metadata.head(),df_metadata.shape)"
   ]
  },
  {
   "cell_type": "markdown",
   "id": "63c8bc0b-9cec-4a34-8c8d-49488a7cd6bf",
   "metadata": {},
   "source": [
    "## Observe columns to prune"
   ]
  },
  {
   "cell_type": "code",
   "execution_count": null,
   "id": "f2ebca39-3f2a-4000-a90c-99fc69244a5e",
   "metadata": {},
   "outputs": [],
   "source": [
    "df_metadata.columns"
   ]
  },
  {
   "cell_type": "code",
   "execution_count": null,
   "id": "4b096b5c-a90d-44c5-83af-a5ccd6d52f46",
   "metadata": {},
   "outputs": [],
   "source": [
    "# Columns of interest for further pruning:\n",
    "# completion_date, collection_date, geographic_location, host_name, isolation_country, isolation_source"
   ]
  },
  {
   "cell_type": "markdown",
   "id": "fdf79055-b5f1-49ae-9f47-7c28e7df22b0",
   "metadata": {},
   "source": [
    "### Host Name"
   ]
  },
  {
   "cell_type": "code",
   "execution_count": null,
   "id": "30a4eef5-3f99-45bc-8e4f-ee42874d565d",
   "metadata": {},
   "outputs": [],
   "source": [
    "human_host_index = df_metadata[df_metadata[\"host_name\"].fillna(\"unknown\").str.contains(\"Homo sapiens\")].index\n",
    "df_metadata.loc[human_host_index, \"host_name\"] = \"Homo sapiens\"\n",
    "df_metadata[\"host_name\"] = df_metadata[\"host_name\"].fillna(\"Unknown\")\n",
    "df_metadata[\"host_name\"] = df_metadata[\"host_name\"].replace(\"Not Applicable\", \"Unknown\")\n",
    "df_metadata[\"host_name\"] = df_metadata[\"host_name\"].replace(\"Not applicable\", \"Unknown\")\n",
    "\n",
    "#not including birds or insects, has a wooly mammoth\n",
    "animals_list = ['Dog, Canis lupus familiaris','Pan troglodytes verus','Bos taurus','Swine','Phyllomedusa distincta','Healthy cat','Mus musculus',\n",
    "               'Chlrocebus sabaeus','Chelonia mydas','Canis lupus familiaris','Buffalo','Felis catus','Mammuthus primigenius','Papio papio',\n",
    "               'Healthy dog','Cat','Dog','Caenorhabditis elegans','Goat, Capra hircus','Pig, Sus scrofa','Ailuropoda melanoleuca', 'Dairy cow', \n",
    "                'Osteoglossum bicirrhosum', 'Puffer fish']\n",
    "\n",
    "birds = ['Gallus gallus','Anser indicus','Chicken','duck', 'Gull']\n",
    "\n",
    "insects = ['Trinervitermes sp.','Blattoidea','Bombyx mori','Microtermes sp.','Helicoverpa armigera','Adaiphrotermes sp.','Promirotermes sp.',\n",
    "          'Mealworm, Tenebrio molitor','Yellow mealworm, Tenebrio molitor','Mealworm, Zophobas morio','Caenorhabditis elegans','Macrotermes sp.',\n",
    "          'Macrotermes bellicosus','Cubitermes sp.','Amitermes evuncifer', 'Tenebrio molitor', 'Galleria mellonella']\n",
    "\n",
    "plants_list = ['Rice, Oryza sativa','Yellow yam, Dioscorea cayenensis','Maize','Nicotiana tabacum','Carpobrotus rossii','kiwifruit','Aloe vera','Sorghum',\n",
    "              'Maize, Zea mays','Phaseolus vulgaris','Bannana','Date palm, Phoenix dactylifera','Suaeda salsa','halophyte grass',\n",
    "              'Toxicodendron radicans','Sugarcane, Saccharum officinarum','Finger millet, Eleusine coracana ','Capsicum annuum cv. King Arthur',\n",
    "              'Morus alba var. atropurpurea','peanut', 'Rice', 'Zea nicaraguensis', 'Oryza sativa', 'Allium sativum', 'Paris polyphylla', 'Zea mays']\n",
    "\n",
    "other = [\"Unknown\", \"Environmental surface\", \"Environment\", \"Rhizoctonia solani\", \"Not collected\"]\n",
    "\n",
    "humans = [\"Homo sapiens\"]"
   ]
  },
  {
   "cell_type": "code",
   "execution_count": null,
   "id": "fe1d2bdf-c683-4622-9db3-f9123f73a3f7",
   "metadata": {},
   "outputs": [],
   "source": [
    "df_metadata.loc[df_metadata[\"host_name\"].isin(animals_list),\"isolation_source\"] = \"Other\"\n",
    "df_metadata.loc[df_metadata[\"host_name\"].isin(animals_list),\"host_name\"] = \"Animal\"\n",
    "\n",
    "df_metadata.loc[df_metadata[\"host_name\"].isin(insects),\"isolation_source\"] = \"Insect\"\n",
    "df_metadata.loc[df_metadata[\"host_name\"].isin(insects),\"host_name\"] = \"Animal\"\n",
    "\n",
    "df_metadata.loc[df_metadata[\"host_name\"].isin(birds),\"isolation_source\"] = \"Avian\"\n",
    "df_metadata.loc[df_metadata[\"host_name\"].isin(birds),\"host_name\"] = \"Animal\"\n",
    "\n",
    "df_metadata.loc[df_metadata[\"host_name\"].isin(other),\"host_name\"] = \"Unknown\"\n",
    "\n",
    "\n",
    "df_metadata.loc[df_metadata[\"host_name\"].isin(humans),\"host_name\"] = \"Human\"\n",
    "\n",
    "\n",
    "df_metadata.loc[df_metadata[\"host_name\"].isin(plants_list),\"host_name\"] = \"Plant\""
   ]
  },
  {
   "cell_type": "code",
   "execution_count": null,
   "id": "75e0ce0c-35e3-4dee-8865-f4dcba6edd0b",
   "metadata": {},
   "outputs": [],
   "source": [
    "for index in df_metadata.host_name.value_counts().index:\n",
    "    print(\"'\" +index + \"',  \" + str(df_metadata.host_name.value_counts()[index]))"
   ]
  },
  {
   "cell_type": "code",
   "execution_count": null,
   "id": "0bce1d61-7be6-4872-9d47-484d55974548",
   "metadata": {},
   "outputs": [],
   "source": []
  },
  {
   "cell_type": "markdown",
   "id": "e4541856-7d33-4d8f-ba36-43657a586265",
   "metadata": {},
   "source": [
    "### Isolation Source"
   ]
  },
  {
   "cell_type": "code",
   "execution_count": null,
   "id": "45f433b8-1ea9-45ee-a99e-bdf559300c71",
   "metadata": {},
   "outputs": [],
   "source": [
    "# df_metadata[\"isolation_source\"] = df_metadata[\"isolation_source\"].fillna(\"Unknown\")\n",
    "# df_metadata[\"isolation_source\"] = df_metadata[\"isolation_source\"].replace([\"sputum\", \"missing; Sputum\", \"sptum\", \"Sputum-aspirate\"], \"Sputum\")\n",
    "# df_metadata[\"isolation_source\"] = df_metadata[\"isolation_source\"].replace([\"blood\", \"blood culture\", \"Peripheral blood\",\n",
    "#                                                                            \"Blood and wound\", \"Blood culture\"], \"Blood\")\n",
    "# df_metadata[\"isolation_source\"] = df_metadata[\"isolation_source\"].replace(\"urine\", \"Urine\")\n",
    "# df_metadata[\"isolation_source\"] = df_metadata[\"isolation_source\"].replace(\"Uriue\", \"Urine\")\n",
    "# df_metadata[\"isolation_source\"] = df_metadata[\"isolation_source\"].replace(\"missing; Urine\", \"Urine\")\n",
    "# df_metadata[\"isolation_source\"] = df_metadata[\"isolation_source\"].replace([\"Urinary tract\", \"urine sample\", \"Urine/Genitourinary\", \n",
    "#                                                                            \"urine - permanent urinary catheter\", \"urea\", \"Catheter Urine\"\n",
    "#                                                                           'Urinary Tract Catheters'], \"Urine\")\n",
    "\n",
    "\n",
    "\n",
    "# rectal_source_index = df_metadata[df_metadata[\"isolation_source\"].str.contains(\"rectal\")].index\n",
    "# df_metadata.loc[rectal_source_index, \"isolation_source\"] = \"Rectal\"\n",
    "\n",
    "# rectal_source_index = df_metadata[df_metadata[\"isolation_source\"].str.contains(\"Rectal\")].index\n",
    "# df_metadata.loc[rectal_source_index, \"isolation_source\"] = \"Rectal\"\n",
    "# df_metadata[\"isolation_source\"] = df_metadata[\"isolation_source\"].replace([\"perianal skin [UBERON:0012336]\", \"rectum\"], \"Rectal\")\n",
    "\n",
    "\n",
    "# wastewater_terms = [\"Wastewater influent sample\", \"Wastewater effluent sample\", \"Freshwater sample from downstream of wastewater treatment plant\",\n",
    "#                    \"hospital sewage\", \"wastewater\", \"Freshwater sample from upstream of wastewater treatment plant\", \"sewage water\", \"surface water\", \n",
    "#                    \"sink drain\", \"Stormwater drain\", \"Drainage\", \"hospital sewage water\", \"Medical waste water\", \"Treated sewage effluent\",\n",
    "#                     \"raw sewage\", \"Sewage water\"]\n",
    "# df_metadata[\"isolation_source\"] = df_metadata[\"isolation_source\"].replace(wastewater_terms, \"Wastewater\")\n",
    "\n",
    "# bodily_fluid_terms = [\"Bodily fluid\", \"bile\", \"Excreted bodily substance\", \"excreted bodily substance\", \"secretion\", \"pus\", \"the stomach sample of a gastric cancer patient\",\n",
    "#                      \"spinal fluid\", \"miscellaneous body fluid\", \"Bile\", \"Peritoneal drainage fluid\", \"drainage fluid\", \"abdominal fluid\", \"Abdominal surgical drain fluid\",\n",
    "#                      \"Central nervous system\", \"Secretion\", \"human bile\", \"prostatic fluid\", 'hydrothorax','Biliary fluid','Pus','ascitic fluid']\n",
    "# df_metadata[\"isolation_source\"] = df_metadata[\"isolation_source\"].replace(bodily_fluid_terms, \"bodily fluid\")\n",
    "\n",
    "\n",
    "# respiratory_terms = ['respiratory tract','respiratory','Respiratory','throat swab','tracheal aspirate','bronchoalveolar lavage fluid','Nasopharynx',\n",
    "#                     'subgingival plaque','Bronchoalveolar lavage','phlegm','Broncho-alveolar lavage','endotracheal tube','Bronchioles',\n",
    "#                     'bronchoalveolar lavage','Bronchial','mouth swab','Transtracheal aspirate','tongue','missing; Bronchial lavage','throat',\n",
    "#                     'epithelium of nasopharynx [UBERON:0001951]']\n",
    "# df_metadata[\"isolation_source\"] = df_metadata[\"isolation_source\"].replace(respiratory_terms, \"respiratory\")\n",
    "\n",
    "# fecal_terms = ['feces','Stool','faecal','stool','fecal sample','human feces','feces extracted directly from colon']\n",
    "# df_metadata[\"isolation_source\"] = df_metadata[\"isolation_source\"].replace(fecal_terms, \"fecal\")\n",
    "\n",
    "# environmental_terms = ['wood','metal','soil','environmental','tailing mud',\n",
    "#                        'freshwater lake anaerobic enchiment culture with carbon source citrate','Creek Sediment','Urban soil',\n",
    "#                        'environmental swab veterinary clinic','ISS environmental surface','plastic','metal/plastic','lake water',\n",
    "#                       'zoo environmental surface','contaminated soil','well water','environmental surface of zoo','river water','Zoological Institution',\n",
    "#                       'EX-LANDFILL SITE','acid mine decant and tailings from uranium mine','glyphosate polluted soil','soil polluted with engine oil',\n",
    "#                       'crude oil-contaminated soil','Irrigation well water','River','Eutrophic lake']\n",
    "# df_metadata[\"isolation_source\"] = df_metadata[\"isolation_source\"].replace(environmental_terms, \"environmental\")\n",
    "\n",
    "# clinical_wound = ['patients and hospital environment','Surgical wound','wound','tissues','Wound','clinical sample','Intraperitoneal','Indwelling catheter',\n",
    "#                  'hospital','Wound secretion','clinical material','Catheter','hospitals','catheter tip','clinical situations','wound swab','puncture fluid',\n",
    "#                  'intravenous catheter','Hospital environment','shunt fluid','wound abdomin','Decubitus swab','sacral ulcer',\n",
    "#                  'sample from patient in hospital emergency room','Deep venous catheter','surgical drain','surgical procedure specimen',\n",
    "#                  'bacterial sepsis female patient','swab from a hand-washing sink as part of the hospital routine surveillance program','abscesses',\n",
    "#                  'abdominal dropsy','human clinical specimens, and E','clinical','Burn wound','clinical isolate']\n",
    "# df_metadata[\"isolation_source\"] = df_metadata[\"isolation_source\"].replace(clinical_wound, \"clinical/wound\")\n",
    "\n",
    "\n",
    "# # continue with finding more synonyms"
   ]
  },
  {
   "cell_type": "code",
   "execution_count": null,
   "id": "bbc13e71-96f1-4eb8-b68c-cb12094afeb9",
   "metadata": {},
   "outputs": [],
   "source": [
    "df_metadata[\"isolation_source\"] = df_metadata[\"isolation_source\"].fillna(\"Unknown\")"
   ]
  },
  {
   "cell_type": "code",
   "execution_count": null,
   "id": "3e99c2ea-7200-481b-b3d2-498e203326c8",
   "metadata": {},
   "outputs": [],
   "source": [
    "df_metadata[df_metadata.host_name == \"Animal\"].isolation_source.value_counts()"
   ]
  },
  {
   "cell_type": "code",
   "execution_count": null,
   "id": "6e123ae9-d1fb-481f-b48b-a8cfd3eb66c7",
   "metadata": {
    "scrolled": true
   },
   "outputs": [],
   "source": [
    "df_metadata[df_metadata.host_name == \"Plant\"].isolation_source.value_counts()"
   ]
  },
  {
   "cell_type": "code",
   "execution_count": null,
   "id": "855c76c9-50c7-4718-86f2-0cb3488b7e9b",
   "metadata": {},
   "outputs": [],
   "source": [
    "df_plant = df_metadata[df_metadata.host_name == \"Plant\"].copy()\n",
    "df_plant[\"isolation_source\"] = df_plant[\"isolation_source\"].replace([\"root\", \"root_tubers\", \"rhizospheric soil\",\n",
    "                                                                     \"rhizosphere\", \"rhizosphere soil\", \"soil\", \n",
    "                                                                     'glyphosate polluted soil'], \"Soil/Root\")\n",
    "df_plant.loc[df_plant[\"isolation_source\"] != \"Soil/Root\", \"isolation_source\"] =  \"Other\"\n",
    "df_metadata.update(df_plant)"
   ]
  },
  {
   "cell_type": "code",
   "execution_count": null,
   "id": "c0789243-f456-42d7-b1fe-f93a068c63bb",
   "metadata": {
    "scrolled": true
   },
   "outputs": [],
   "source": [
    "for index in df_metadata[df_metadata.host_name == \"Unknown\"].isolation_source.value_counts().index:\n",
    "     print(\"'\" + index + \"'\" + \",  \" + str(df_metadata[df_metadata.host_name == \"Unknown\"].isolation_source.value_counts()[index]))"
   ]
  },
  {
   "cell_type": "code",
   "execution_count": null,
   "id": "274ebd7c-75bc-4976-b255-df95d443739a",
   "metadata": {},
   "outputs": [],
   "source": [
    "environmental = ['metal','wood','environmental swab veterinary clinic','environmental','plastic','metal/plastic','freshwater stream','animal farm',\n",
    "                'freshwater lake anaerobic enchiment culture with carbon source citrate', 'zoo environmental surface','well water',\n",
    "                'environmental surface of zoo','air', 'cucumber rhizosphere', 'activated sludge','Loktak Lake','EX-LANDFILL SITE',\n",
    "                 'acid mine decant and tailings from uranium mine','Freshwater pond','industrial zone','Zoological Institution','Irrigation well water', \n",
    "                'leaves of a local plant near the Kharagpur railway station','Tomato roots', 'Decaying Wood', 'crude oil-contaminated soil',\n",
    "                'natural water sources close by farm or community', 'atmospheric cloud water','brown patch in grass','Rice shoot','oil reservoir',\n",
    "                'Pooled sheep faecal samples collected from floor of farm','natural water sources by community and farm',\n",
    "                'natural water sources by community and farm','River water','Chicken feed','Chicken processing plant','Environmental Samples 1',\n",
    "                'farmer market','tobacco leaves','Pooled sediment sample collected from floor of pig farm']\n",
    "\n",
    "wastewater = ['Wastewater influent sample','Wastewater effluent sample','Freshwater sample from downstream of wastewater treatment plant',\n",
    "             'hospital sewage','urine','Water','Freshwater sample from upstream of wastewater treatment plant', 'Coastal Water','wastewater',\n",
    "             'ISS environmental surface','water','sewage water','surface water','Treated sewage effluent','sink drain',\n",
    "             'Stormwater drain','lake water','Drainage','raw sewage','river water','Sewage water','River','Eutrophic lake','hospital sewage water',\n",
    "             'Medical waste water', 'Hospital sewage']\n",
    "\n",
    "soil = ['soil','Urban soil','tailing mud','Baby spinach leaves','Creek Sediment','contaminated soil','lettuce','soil polluted with engine oil', \n",
    "       'crude oil-contaminated soil', 'Tomato roots','paddy soil', 'Pooled soil sample collected from floor of poultry farm', \n",
    "       'Pooled sediment sample collected from floor of poultry farm','Pooled sediment sample collected from floor of cattle farm','rhizosphere',\n",
    "       'marine sediment','Lycium barbarum rhizosphere soil','agricultural soil','oil-contaminated soil','root rhizomes']\n",
    "\n",
    "food = ['food','Vegetable','ghanaian yam','Long Beans','Spinach','ginger','Cilantro','cabbage','beef burger','Cucumber Fermentation','vegetable',\n",
    "       'pickled radish','Imported Fresh Produce','Imported Fresh Produce 3','Imported Fresh Produce 2']"
   ]
  },
  {
   "cell_type": "code",
   "execution_count": null,
   "id": "f375467e-8b3b-4011-9ce0-87ae970bfdb9",
   "metadata": {},
   "outputs": [],
   "source": [
    "df_unknown = df_metadata[df_metadata.host_name == \"Unknown\"]\n",
    "\n",
    "df_unknown.loc[df_unknown[\"isolation_source\"].isin(environmental),\"host_name\"] = \"Environmental\"\n",
    "df_unknown.loc[df_unknown[\"isolation_source\"].isin(environmental),\"isolation_source\"] = \"Other\"\n",
    "\n",
    "df_unknown.loc[df_unknown[\"isolation_source\"].isin(wastewater),\"host_name\"] = \"Environmental\"\n",
    "df_unknown.loc[df_unknown[\"isolation_source\"].isin(wastewater),\"isolation_source\"] = \"Wastewater\"\n",
    "\n",
    "df_unknown.loc[df_unknown[\"isolation_source\"].isin(soil),\"host_name\"] = \"Environmental\"\n",
    "df_unknown.loc[df_unknown[\"isolation_source\"].isin(soil),\"isolation_source\"] = \"Soil\"\n",
    "\n",
    "df_unknown.loc[df_unknown[\"isolation_source\"].isin(food),\"host_name\"] = \"Environmental\"\n",
    "df_unknown.loc[df_unknown[\"isolation_source\"].isin(food),\"isolation_source\"] = \"Food\"\n",
    "\n",
    "new_terms = [\"Wastewater\", \"Soil\", \"Food\", \"Other\"]\n",
    "\n",
    "df_unknown.loc[~df_unknown[\"isolation_source\"].isin(food+soil+wastewater+environmental+new_terms),\"isolation_source\"] = \"Unknown/Unclear\"\n",
    "\n",
    "\n",
    "df_metadata.update(df_unknown)"
   ]
  },
  {
   "cell_type": "code",
   "execution_count": null,
   "id": "84fdc612-4d4a-4ba5-95c9-bc3c7c526ecf",
   "metadata": {
    "scrolled": true
   },
   "outputs": [],
   "source": [
    "for index in df_metadata[df_metadata.host_name == \"Human\"].isolation_source.value_counts().index:\n",
    "     print(\"'\" + index + \"'\" + \",  \" + str(df_metadata[df_metadata.host_name == \"Human\"].isolation_source.value_counts()[index]))"
   ]
  },
  {
   "cell_type": "code",
   "execution_count": null,
   "id": "4b2fcd6a-1c85-4862-aadc-d5f50f01952b",
   "metadata": {},
   "outputs": [],
   "source": [
    "bodily_fluids = [\"Bodily fluid\", \"bile\", \"Excreted bodily substance\", \"excreted bodily substance\", \"secretion\", \"pus\", \n",
    "                 \"the stomach sample of a gastric cancer patient\", \"spinal fluid\", \"miscellaneous body fluid\", \"Bile\",\n",
    "                 \"Peritoneal drainage fluid\", \"drainage fluid\", \"abdominal fluid\", \"Abdominal surgical drain fluid\",\n",
    "                \"Central nervous system\", \"Secretion\", \"human bile\", \"prostatic fluid\", 'hydrothorax','Biliary fluid','Pus','ascitic fluid',\n",
    "                \"sputum\", \"missing; Sputum\", \"sptum\", \"Sputum-aspirate\", 'ascitic fluid', 'Sputum','bodily fluid','abdomen',\n",
    "                'sputum expectorated','ascites','Fluid','cerebrospinal fluid']\n",
    "\n",
    "urine = [\"Urinary tract\", \"urine sample\", \"Urine/Genitourinary\", \"urine - permanent urinary catheter\", \"urea\", \"Catheter Urine\",\n",
    "         'Urinary Tract Catheters', \"urine\", \"Urine\", \"Uriue\", \"missing; Urine\",'Urinary','catheter', 'urine cc', 'urine; catheter',\n",
    "        'Urinary tract infection', 'urine clean catch', 'urine, clean catch']\n",
    "\n",
    "blood = [\"Blood\", \"blood\", \"blood culture\", \"Peripheral blood\", \"Blood and wound\", \"Blood culture\",'Cardiovascular']\n",
    "\n",
    "rectal_fecal = ['rectal swab','rectal','Stool','stool','faecal','Rectal swab','feces','Rectal Swab','rectal swab from female',\n",
    "               'rectal swab of pregnant women','rectum',\"perianal skin [UBERON:0012336]\",'fecal material [ENVO:00002003]','Perirectal',\n",
    "               'Feces','missing; Perirectal abscess', 'rectal screen', 'stool sample', 'Rectal carriage']\n",
    "\n",
    "respiratory_terms = ['respiratory tract','respiratory','Respiratory','throat swab','tracheal aspirate','bronchoalveolar lavage fluid','Nasopharynx',\n",
    "                    'subgingival plaque','Bronchoalveolar lavage','phlegm','Broncho-alveolar lavage','endotracheal tube','Bronchioles',\n",
    "                    'bronchoalveolar lavage','Bronchial','mouth swab','Transtracheal aspirate','tongue','missing; Bronchial lavage','throat',\n",
    "                    'epithelium of nasopharynx [UBERON:0001951]', 'expectorate', 'bronchial','Tracheal Aspirate/Wash','pleural effusion',\n",
    "                    'Bronchoalvelar lavage (BAL)', 'bronchoalveolar lavage from kidney transplant patient', 'bronchial alveolar lavage fluid',\n",
    "                    'BAL']\n",
    "\n",
    "clinical_wound = ['patients and hospital environment','Surgical wound','wound','tissues','Wound','clinical sample','Intraperitoneal','Indwelling catheter',\n",
    "                 'hospital','Wound secretion','clinical material','Catheter','hospitals','catheter tip','clinical situations','wound swab','puncture fluid',\n",
    "                 'intravenous catheter','Hospital environment','shunt fluid','wound abdomin','Decubitus swab','sacral ulcer',\n",
    "                 'sample from patient in hospital emergency room','Deep venous catheter','surgical drain','surgical procedure specimen',\n",
    "                 'bacterial sepsis female patient','swab from a hand-washing sink as part of the hospital routine surveillance program','abscesses',\n",
    "                 'abdominal dropsy','human clinical specimens, and E','clinical','Burn wound','clinical isolate', 'Patient','decubitus swab',\n",
    "                 'Soft tissue biopsy',\"Neoplasm\", 'screening swab','hip prothesis biopsy','decubitis wound fluid','Would','Leg pus']"
   ]
  },
  {
   "cell_type": "code",
   "execution_count": null,
   "id": "b08dfe85-6490-46a2-982b-2aed52bb5a35",
   "metadata": {},
   "outputs": [],
   "source": [
    "df_human = df_metadata[df_metadata.host_name==\"Human\"]\n",
    "\n",
    "df_human.loc[df_human[\"isolation_source\"].isin(bodily_fluids),\"isolation_source\"] = \"Bodily Fluids\"\n",
    "\n",
    "df_human.loc[df_human[\"isolation_source\"].isin(urine),\"isolation_source\"] = \"Urine\"\n",
    "\n",
    "df_human.loc[df_human[\"isolation_source\"].isin(blood),\"isolation_source\"] = \"Blood\"\n",
    "\n",
    "df_human.loc[df_human[\"isolation_source\"].isin(rectal_fecal),\"isolation_source\"] = \"Rectal/Fecal\"\n",
    "\n",
    "df_human.loc[df_human[\"isolation_source\"].isin(respiratory_terms),\"isolation_source\"] = \"Respiratory\"\n",
    "\n",
    "df_human.loc[df_human[\"isolation_source\"].isin(clinical_wound),\"isolation_source\"] = \"Clinical/Wound\"\n",
    "\n",
    "df_human.loc[df_human[\"isolation_source\"].isin([\"Unknown\"]),\"host_name\"] = \"Human\" # consider changing back to unknown\n",
    "df_human.loc[df_human[\"isolation_source\"].isin([\"Unknown\"]),\"isolation_source\"] = \"Unknown/Unclear\"\n",
    "\n",
    "\n",
    "new_terms = [\"Bodily Fluids\",\"Urine\",\"Blood\",\"Rectal/Fecal\",\"Respiratory\",\"Clinical/Wound\", \"Unknown/Unclear\"]\n",
    "\n",
    "df_human.loc[~df_human[\"isolation_source\"].isin(bodily_fluids+urine+blood+rectal_fecal+\n",
    "                                                respiratory_terms+clinical_wound+new_terms),\"isolation_source\"] = \"Other\"\n",
    "\n",
    "\n",
    "df_metadata.update(df_human)"
   ]
  },
  {
   "cell_type": "code",
   "execution_count": null,
   "id": "7f3b33ec-ac32-4a19-98ca-4dad441fb9f5",
   "metadata": {
    "scrolled": true
   },
   "outputs": [],
   "source": [
    "for index in df_metadata.isolation_source.value_counts().index:\n",
    "    print(\"'\" + index + \"'\" + \",  \" + str(df_metadata.isolation_source.value_counts()[index]))"
   ]
  },
  {
   "cell_type": "markdown",
   "id": "9c26d27a-56c9-45fc-a5b2-fffddad2098f",
   "metadata": {},
   "source": [
    "### Generate Plot For Source"
   ]
  },
  {
   "cell_type": "code",
   "execution_count": null,
   "id": "49cab463-6a1e-462a-b3ad-5a1bab2273e8",
   "metadata": {},
   "outputs": [],
   "source": [
    "df_graph = df_metadata[df_metadata.genome_status == 'Complete']"
   ]
  },
  {
   "cell_type": "code",
   "execution_count": null,
   "id": "0cbb204b-db85-4a7e-aa2d-df15faf066fc",
   "metadata": {
    "scrolled": true
   },
   "outputs": [],
   "source": [
    "df_graph.host_name.value_counts()"
   ]
  },
  {
   "cell_type": "code",
   "execution_count": null,
   "id": "75dd1d89-8e5b-4c5b-b1de-16abba77bb0f",
   "metadata": {
    "scrolled": true
   },
   "outputs": [],
   "source": [
    "len([x[1] for x in df_graph.groupby(\"host_name\")[\"isolation_source\"].value_counts().index])"
   ]
  },
  {
   "cell_type": "code",
   "execution_count": null,
   "id": "5a8c06ca-1315-488e-bd30-64640a8bb2a8",
   "metadata": {
    "scrolled": true
   },
   "outputs": [],
   "source": [
    "df_graph2 = pd.DataFrame(df_graph.groupby(\"host_name\")[\"isolation_source\"].value_counts()).reset_index()\n",
    "df_graph2[\"center\"] = \" \"\n",
    "df_graph2.head()"
   ]
  },
  {
   "cell_type": "code",
   "execution_count": null,
   "id": "2992c51b-35fd-480e-9f5e-4d124de64c82",
   "metadata": {},
   "outputs": [],
   "source": [
    "df_genome_stats = df_metadata[[\"genome_name\", \"genome_id\",\"chromosomes\", \"plasmids\", \"genome_length\",\"genome_status\", 'gc_content']].fillna(0)\n",
    "\n",
    "zero_chrom = df_genome_stats[df_genome_stats.genome_status == 'Complete'][df_genome_stats.chromosomes == 0.0].index\n",
    "df_genome_stats.loc[zero_chrom, 'chromosomes'] = 1\n",
    "\n",
    "df_genome_stats[\"genomic_elements\"] = df_genome_stats.apply(lambda x : int(float(x['chromosomes']))+int(float(x['plasmids'])), axis=1)\n",
    "\n",
    "df_genome_stats[\"species\"] = df_genome_stats[\"genome_name\"].apply(lambda x: x.split()[0]+\" \" +x.split()[1])\n",
    "\n",
    "\n",
    "df_genome_stats['genome_length'] = pd.to_numeric(df_genome_stats['genome_length'])\n",
    "df_genome_stats['genomic_elements'] = pd.to_numeric(df_genome_stats['genomic_elements'])\n",
    "df_genome_stats['gc_content'] = pd.to_numeric(df_genome_stats['gc_content'])\n",
    "\n",
    "cloacae = [\"Enterobacter cloacae\", 'Enterobacter asburiae', 'Enterobacter hormaechei',\n",
    "           \"Enterobacter kobei\", \"Enterobacter ludwigii\", \"Enterobacter nimipressuralis\"] # check which species are officially a part of the complex\n",
    "df_genome_stats[\"group\"] = \"Other\"\n",
    "df_genome_stats.loc[df_genome_stats.species.apply(lambda x: x in cloacae), \"group\"] = \"Cloacae Complex\"\n",
    "\n",
    "df_genome_stats\n",
    "\n",
    "df_graph3 = df_metadata[df_metadata.genome_id.isin(df_genome_stats[df_genome_stats.species.str.contains('hormaechei')].genome_id)]\n",
    "df_graph3 = pd.DataFrame(df_graph3.groupby(\"host_name\")[\"isolation_source\"].value_counts()).reset_index()\n",
    "df_graph3[\"center\"] = \" \"\n",
    "df_graph3.head()"
   ]
  },
  {
   "cell_type": "code",
   "execution_count": null,
   "id": "f67e28ed-a36f-4844-8002-8e11f792c898",
   "metadata": {},
   "outputs": [],
   "source": [
    "custom_colors = ['#1f77b4', '#ff7f0e', '#d62728', '#9467bd','#2ca02c']\n",
    "\n",
    "fig =px.sunburst(df_graph3, path=[\"center\", 'host_name', 'isolation_source'], values=\"count\", width=1000, height=1000,\n",
    "                color_discrete_map=custom_colors)\n",
    "fig.update_traces(textinfo= 'label+value', textfont_size=50)\n",
    "fig.show()\n"
   ]
  },
  {
   "cell_type": "code",
   "execution_count": null,
   "id": "e157ea8f-cc54-4bc0-aad7-5f65bdaf85a8",
   "metadata": {},
   "outputs": [],
   "source": [
    "custom_colors = ['#1f77b4', '#ff7f0e', '#d62728', '#9467bd','#2ca02c']\n",
    "\n",
    "fig =px.sunburst(df_graph2, path=[\"center\", 'host_name', 'isolation_source'], values=\"count\", width=1000, height=1000,\n",
    "                color_discrete_map=custom_colors)\n",
    "fig.update_traces(textinfo= 'label+value', textfont_size=20)\n",
    "fig.show()\n",
    "fig.write_image(\"images/source_pie.svg\")"
   ]
  },
  {
   "cell_type": "markdown",
   "id": "54462f19-6a45-4e0d-b261-84b04bda438e",
   "metadata": {},
   "source": [
    "### Completion date"
   ]
  },
  {
   "cell_type": "code",
   "execution_count": null,
   "id": "e1264f1f-b193-4eca-bc1a-4c2bf70d8a64",
   "metadata": {},
   "outputs": [],
   "source": [
    "date = pd.to_datetime((df_metadata[\"completion_date\"]))"
   ]
  },
  {
   "cell_type": "code",
   "execution_count": null,
   "id": "104b47ef-e904-426b-9384-939fdb033340",
   "metadata": {},
   "outputs": [],
   "source": [
    "cum_count = date.groupby(date.dt.year).count().cumsum()\n",
    "\n",
    "plt.plot(cum_count.index, cum_count)\n",
    "plt.xlabel('Date Completed')\n",
    "plt.ylabel('Cumulative Count of Genomes')\n",
    "plt.title('Cumulative Count of Genomes Over Time')\n",
    "plt.xlim([2005, 2023]) \n",
    "plt.show()\n"
   ]
  },
  {
   "cell_type": "markdown",
   "id": "37cf5bb0-2f01-4425-8ccd-ddebf8453443",
   "metadata": {
    "jp-MarkdownHeadingCollapsed": true
   },
   "source": [
    "### Collection Date"
   ]
  },
  {
   "cell_type": "code",
   "execution_count": null,
   "id": "ce1eeca8-5fcc-47fa-9548-76b091102509",
   "metadata": {},
   "outputs": [],
   "source": [
    "df_metadata.loc[8, \"collection_date\"] = '2020-02'"
   ]
  },
  {
   "cell_type": "code",
   "execution_count": null,
   "id": "34bef5d8-7cea-47f2-a8d9-6dc20c3c02cf",
   "metadata": {},
   "outputs": [],
   "source": [
    "collection_date = df_metadata[~df_metadata[\"collection_date\"].isin([\"not applicable\", \"Not applicable\"])].collection_date.apply(lambda x: str(x)[0:4])\n",
    "collection_date"
   ]
  },
  {
   "cell_type": "code",
   "execution_count": null,
   "id": "671cb550-d6f1-4915-b340-9cc02e3009ab",
   "metadata": {},
   "outputs": [],
   "source": [
    "date_coll = pd.to_datetime(collection_date, errors='coerce')\n",
    "cum_count = date.groupby(date_coll.dt.year).count().cumsum()\n",
    "\n",
    "plt.plot(cum_count.index, cum_count)\n",
    "plt.xlabel('Date Completed')\n",
    "plt.ylabel('Cumulative Count of Genomes')\n",
    "plt.title('Cumulative Count of Genomes Over Time')\n",
    "plt.xlim([2000,2023])\n",
    "plt.show()"
   ]
  },
  {
   "cell_type": "markdown",
   "id": "38fbb4f7-555a-48af-931d-44a939f8bd6e",
   "metadata": {
    "jp-MarkdownHeadingCollapsed": true
   },
   "source": [
    "### Geographic Location"
   ]
  },
  {
   "cell_type": "code",
   "execution_count": null,
   "id": "473c2f42-ee8b-48d9-aac9-94494025797b",
   "metadata": {},
   "outputs": [],
   "source": [
    "df_metadata.geographic_location = df_metadata.geographic_location.fillna(\"Unknown\")"
   ]
  },
  {
   "cell_type": "code",
   "execution_count": null,
   "id": "8e064461-5e37-4f49-b245-80a6c596e353",
   "metadata": {
    "scrolled": true
   },
   "outputs": [],
   "source": [
    "for index in df_metadata.geographic_location.value_counts().index:\n",
    "    print(index + \": \" + str(df_metadata.geographic_location.value_counts()[index]))"
   ]
  },
  {
   "cell_type": "markdown",
   "id": "87096ae9-1241-4cd7-a0e4-46a92611765d",
   "metadata": {
    "jp-MarkdownHeadingCollapsed": true
   },
   "source": [
    "### Country of Origin"
   ]
  },
  {
   "cell_type": "code",
   "execution_count": null,
   "id": "0cd0b342-ac5b-4b0b-825b-c8b1ef4395a5",
   "metadata": {},
   "outputs": [],
   "source": [
    "df_metadata.isolation_country = df_metadata.isolation_country.fillna(\"Unknown\")"
   ]
  },
  {
   "cell_type": "code",
   "execution_count": null,
   "id": "dcfe3b9c-a436-43d2-bf5b-1595645ee7db",
   "metadata": {
    "scrolled": true
   },
   "outputs": [],
   "source": [
    "for index in df_metadata.isolation_country.value_counts().index:\n",
    "    print(index + \": \" + str(df_metadata.isolation_country.value_counts()[index]))"
   ]
  },
  {
   "cell_type": "markdown",
   "id": "dc85f4ab-23b6-4552-838c-7bca5bfe2bfb",
   "metadata": {},
   "source": [
    "## Work on scatterplot for figure 1"
   ]
  },
  {
   "cell_type": "code",
   "execution_count": null,
   "id": "5f00a988-9477-4baa-962d-91b00f112f1a",
   "metadata": {
    "scrolled": true
   },
   "outputs": [],
   "source": [
    "display(df_metadata[[\"chromosomes\", \"plasmids\", \"genome_length\",\"genome_status\", 'gc_content']].head())\n",
    "display(\"Len: \" + str(df_metadata[[\"chromosomes\", \"genome_length\"]].shape[0]))"
   ]
  },
  {
   "cell_type": "code",
   "execution_count": null,
   "id": "56e7da0c-0ade-462b-a0c3-660b8836e694",
   "metadata": {},
   "outputs": [],
   "source": [
    "df_genome_stats = df_metadata[[\"genome_name\", \"genome_id\",\"chromosomes\", \"plasmids\", \"genome_length\",\"genome_status\", 'gc_content']].fillna(0)\n",
    "\n",
    "zero_chrom = df_genome_stats[df_genome_stats.genome_status == 'Complete'][df_genome_stats.chromosomes == 0.0].index\n",
    "df_genome_stats.loc[zero_chrom, 'chromosomes'] = 1\n",
    "\n",
    "df_genome_stats[\"genomic_elements\"] = df_genome_stats.apply(lambda x : int(float(x['chromosomes']))+int(float(x['plasmids'])), axis=1)\n",
    "\n",
    "df_genome_stats[\"species\"] = df_genome_stats[\"genome_name\"].apply(lambda x: x.split()[0]+\" \" +x.split()[1])\n",
    "\n",
    "\n",
    "df_genome_stats['genome_length'] = pd.to_numeric(df_genome_stats['genome_length'])\n",
    "df_genome_stats['genomic_elements'] = pd.to_numeric(df_genome_stats['genomic_elements'])\n",
    "df_genome_stats['gc_content'] = pd.to_numeric(df_genome_stats['gc_content'])\n",
    "\n",
    "#set for only complete sequences\n",
    "df_genome_stats = df_genome_stats[df_genome_stats.genome_status == 'Complete']\n",
    "\n",
    "cloacae = [\"Enterobacter cloacae\", 'Enterobacter asburiae', 'Enterobacter hormaechei',\n",
    "           \"Enterobacter kobei\", \"Enterobacter ludwigii\", \"Enterobacter nimipressuralis\"] # check which species are officially a part of the complex\n",
    "df_genome_stats[\"group\"] = \"Other\"\n",
    "df_genome_stats.loc[df_genome_stats.species.apply(lambda x: x in cloacae), \"group\"] = \"Cloacae Complex\"\n",
    "\n",
    "df_genome_stats"
   ]
  },
  {
   "cell_type": "code",
   "execution_count": null,
   "id": "adab80ca-8de5-4217-aa79-484562d7d029",
   "metadata": {},
   "outputs": [],
   "source": [
    "custom_colors = [\n",
    "    '#1f77b4',  # blue\n",
    "    '#ff7f0e',  # orange\n",
    "    '#2ca02c',  # green\n",
    "    '#d62728',  # red\n",
    "    '#9467bd',  # purple\n",
    "    '#8c564b',  # brown\n",
    "    '#e377c2',  # pink\n",
    "    '#7f7f7f',  # gray\n",
    "    '#bcbd22',  # yellow-green\n",
    "    '#17becf',  # cyan\n",
    "    '#aec7e8',  # light blue\n",
    "    '#ffbb78',  # light orange\n",
    "    '#98df8a',  # light green\n",
    "    '#ff9896',  # light red\n",
    "    '#c5b0d5',  # light purple\n",
    "    '#c49c94',  # light brown\n",
    "    '#f7b6d2',  # light pink\n",
    "    '#c7c7c7',  # light gray\n",
    "    '#dbdb8d',  # light yellow-green\n",
    "    '#9edae5',  # light cyan\n",
    "    '#ff5733'   # coral\n",
    "]\n",
    "\n",
    "clr = dict(zip((df_genome_stats.species.unique()), custom_colors))\n",
    "custom_colors = clr\n",
    "custom_colors"
   ]
  },
  {
   "cell_type": "code",
   "execution_count": null,
   "id": "ba5b6297-12bf-4b34-b340-ef06a46d95d5",
   "metadata": {},
   "outputs": [],
   "source": [
    "import plotly.express as px\n",
    "fig = px.scatter(df_genome_stats[df_genome_stats.genome_status == 'Complete'], x=\"genomic_elements\", y=\"genome_length\", color=\"species\", width=1000, height=600,\n",
    "                 color_discrete_map=custom_colors)\n",
    "fig.show()\n",
    "fig.write_image(\"images/elements_scatterplot.svg\")"
   ]
  },
  {
   "cell_type": "code",
   "execution_count": null,
   "id": "30714436-a375-477e-9854-e9f671741b88",
   "metadata": {},
   "outputs": [],
   "source": [
    "fig = px.histogram(df_genome_stats[df_genome_stats.genome_status == 'Complete'], x=\"genomic_elements\", color=\"species\", height=300, color_discrete_map=custom_colors, width=800)\n",
    "fig.update_layout(showlegend=False)\n",
    "fig.show()\n",
    "\n",
    "\n",
    "fig.write_image(\"images/elements_barplot.svg\")"
   ]
  },
  {
   "cell_type": "code",
   "execution_count": null,
   "id": "ee8258f2-97d3-4801-aec3-424bf1c17d59",
   "metadata": {},
   "outputs": [],
   "source": [
    "fig = px.box(df_genome_stats[df_genome_stats.genome_status == 'Complete'], x=\"species\", y=\"genome_length\", color='species', color_discrete_map=custom_colors, height=600, width=400)\n",
    "fig.update_layout(\n",
    "    xaxis=dict(showgrid=False, zeroline=False, showticklabels=False),\n",
    "    yaxis=dict(zeroline=False, gridcolor='white')\n",
    ")\n",
    "fig.update_layout(showlegend=False)\n",
    "\n",
    "fig.show()\n",
    "fig.write_image(\"images/length_boxplot.svg\")"
   ]
  },
  {
   "cell_type": "code",
   "execution_count": null,
   "id": "265604aa-d26b-4d88-9bc6-cadc376c81fd",
   "metadata": {},
   "outputs": [],
   "source": [
    "fig = px.scatter(df_genome_stats, x=\"genome_length\", y=\"gc_content\", color=\"species\", width=800, height=400, color_discrete_map=custom_colors)\n",
    "fig.update_layout(showlegend=False)\n",
    "fig.show()"
   ]
  },
  {
   "cell_type": "code",
   "execution_count": null,
   "id": "af93e856-bb0c-4665-9046-2e9e61633b7f",
   "metadata": {},
   "outputs": [],
   "source": [
    "df_metadata.columns"
   ]
  },
  {
   "cell_type": "code",
   "execution_count": null,
   "id": "62e900a4-346c-4f54-8626-9b0eb1436900",
   "metadata": {
    "scrolled": true
   },
   "outputs": [],
   "source": [
    "df_metadata.head()"
   ]
  },
  {
   "cell_type": "code",
   "execution_count": null,
   "id": "5ce72864-51c6-41ac-acc0-9d52923f3db5",
   "metadata": {
    "scrolled": true
   },
   "outputs": [],
   "source": [
    "df_metadata[df_metadata.host_name == 'Mammuthus primigenius']"
   ]
  },
  {
   "cell_type": "code",
   "execution_count": null,
   "id": "df7134e7-a016-43fd-b87e-4291ebe593cc",
   "metadata": {},
   "outputs": [],
   "source": [
    "df_metadata[df_metadata.genome_id == '158836.123']"
   ]
  },
  {
   "cell_type": "code",
   "execution_count": null,
   "id": "7000d8cb-20cc-4450-9fd8-d4e788fa9d4f",
   "metadata": {},
   "outputs": [],
   "source": [
    "df_metadata.to_csv('curated_metadata.csv')"
   ]
  },
  {
   "cell_type": "markdown",
   "id": "2b87ea37-491c-4133-9156-9eba9864529d",
   "metadata": {},
   "source": [
    "## Species analysis"
   ]
  },
  {
   "cell_type": "code",
   "execution_count": null,
   "id": "a21943fa-49b3-4a16-96f6-4d74b799b825",
   "metadata": {},
   "outputs": [],
   "source": [
    "df_genome_stats"
   ]
  },
  {
   "cell_type": "code",
   "execution_count": null,
   "id": "12867a34-ea1f-400d-b140-994780e2b72a",
   "metadata": {},
   "outputs": [],
   "source": [
    "df_genome_stats.species.value_counts()"
   ]
  },
  {
   "cell_type": "code",
   "execution_count": null,
   "id": "35003c27-874d-488a-9f8c-4f834ee05c0a",
   "metadata": {},
   "outputs": [],
   "source": [
    "pd.DataFrame(df_genome_stats.groupby('group')['species'].value_counts())"
   ]
  },
  {
   "cell_type": "code",
   "execution_count": null,
   "id": "ac9c3339-bde5-4dd1-bae1-06145b897fac",
   "metadata": {},
   "outputs": [],
   "source": [
    "custom_colors_pie = [ '#d62728','#1f77b4', '#ff7f0e', '#9467bd','#2ca02c']\n",
    "\n",
    "fig =px.sunburst(pd.DataFrame(df_genome_stats.groupby('group')['species'].value_counts()).reset_index(), \n",
    "                 path=[\"group\", 'species'], values=\"count\", width=1000, height=1000,\n",
    "                color_discrete_sequence=custom_colors_pie)\n",
    "fig.update_traces(textinfo= 'label+value', textfont_size=20)\n",
    "fig.update_layout(\n",
    "    uniformtext=dict(minsize=10),\n",
    "    margin = dict(t=50, l=25, r=25, b=25)\n",
    ")\n",
    "fig.show()\n",
    "fig.write_image(\"images/species_distribution.svg\")"
   ]
  },
  {
   "cell_type": "code",
   "execution_count": null,
   "id": "82a8578b-1b8a-4917-a05a-de26a55a8d5b",
   "metadata": {},
   "outputs": [],
   "source": [
    "fig = px.treemap(df_genome_stats, path=[\"species\"], width=1000, height=1400, color='species', color_discrete_map=custom_colors)\n",
    "fig.update_traces(textinfo= 'label+value', textfont_size=25)\n",
    "\n",
    "fig.update_layout(\n",
    "    uniformtext=dict(minsize=10),\n",
    "    margin = dict(t=50, l=25, r=25, b=25)\n",
    ")\n",
    "fig.show()\n",
    "# fig.write_image(\"images/treemap.svg\")"
   ]
  },
  {
   "cell_type": "code",
   "execution_count": null,
   "id": "9a19b757-c4fd-4be3-88e3-9a1873e27967",
   "metadata": {},
   "outputs": [],
   "source": [
    "df_genome_stats"
   ]
  },
  {
   "cell_type": "code",
   "execution_count": null,
   "id": "64fc18e7-bc7d-4e8f-9170-a2f687e114de",
   "metadata": {},
   "outputs": [],
   "source": [
    "df_genome_stats_test = pd.DataFrame([{'species':'hormaechei'}]*3600+[{'species':'cloacae'}]*2277+[{'species':'bugandensis'}]*247+[{'species':'kobei'}]*372\n",
    "            +[{'species':'ludwigii'}]*227+[{'species':'roggenkampii'}]*534 + [{'species':'asburiae'}]*592+[{'species':'cancerogenous'}]*34+\n",
    "            [{'species':'mori'}]*63)"
   ]
  },
  {
   "cell_type": "code",
   "execution_count": null,
   "id": "1c28a47d-5014-4205-a074-bbc558674a42",
   "metadata": {},
   "outputs": [],
   "source": [
    "fig = px.treemap(df_genome_stats_test, path=[\"species\"], width=1400, height=1400, color='species', color_discrete_map=custom_colors)\n",
    "fig.update_traces(textinfo= 'label+value', textfont_size=50)\n",
    "\n",
    "fig.update_layout(\n",
    "    uniformtext=dict(minsize=10),\n",
    "    margin = dict(t=50, l=25, r=25, b=25)\n",
    ")\n",
    "fig.show()\n",
    "# fig.write_image(\"images/treemap.svg\")"
   ]
  }
 ],
 "metadata": {
  "kernelspec": {
   "display_name": "Python [conda env:pan-phylon]",
   "language": "python",
   "name": "conda-env-pan-phylon-py"
  },
  "language_info": {
   "codemirror_mode": {
    "name": "ipython",
    "version": 3
   },
   "file_extension": ".py",
   "mimetype": "text/x-python",
   "name": "python",
   "nbconvert_exporter": "python",
   "pygments_lexer": "ipython3",
   "version": "3.12.2"
  }
 },
 "nbformat": 4,
 "nbformat_minor": 5
}
