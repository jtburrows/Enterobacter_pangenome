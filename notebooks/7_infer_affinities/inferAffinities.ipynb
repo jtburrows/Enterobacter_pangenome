{
 "cells": [
  {
   "cell_type": "code",
   "execution_count": null,
   "id": "259f4d31-ec37-4ddf-b6ba-c62eee11acc7",
   "metadata": {
    "editable": true,
    "slideshow": {
     "slide_type": ""
    },
    "tags": []
   },
   "outputs": [],
   "source": [
    "# Base imports\n",
    "import os\n",
    "import pickle\n",
    "import re\n",
    "\n",
    "# Compute imports\n",
    "import numpy as np\n",
    "import pandas as pd\n",
    "import scipy\n",
    "from tqdm.notebook import tqdm, trange\n",
    "\n",
    "# Plotting imports\n",
    "import matplotlib\n",
    "from matplotlib import pyplot as plt\n",
    "import seaborn as sns\n",
    "from plotly import express as px\n",
    "import matplotlib.patches as mpatches\n",
    "\n",
    "# ML import\n",
    "from sklearn.decomposition import NMF\n",
    "from sklearn.metrics import mean_squared_error, median_absolute_error\n",
    "from sklearn.metrics.pairwise import cosine_similarity\n",
    "\n",
    "from sklearn.cluster import KMeans\n",
    "\n",
    "\n",
    "matplotlib.rcParams['pdf.fonttype'] = 42\n",
    "matplotlib.rcParams['ps.fonttype'] = 42\n",
    "matplotlib.rcParams['svg.fonttype'] = 'none'\n",
    "matplotlib.rcParams['font.sans-serif'] = 'Arial'\n",
    "matplotlib.rcParams['font.family'] = 'sans-serif'\n",
    "sns.set_style('ticks')\n",
    "matplotlib.rcParams['text.color'] = '#000000'\n",
    "matplotlib.rcParams['axes.labelcolor'] = '#000000'\n",
    "matplotlib.rcParams['xtick.color'] = '#000000'\n",
    "matplotlib.rcParams['ytick.color'] = '#000000'"
   ]
  },
  {
   "cell_type": "code",
   "execution_count": null,
   "id": "5187db90-a5d9-4d4c-bbed-10644df9f135",
   "metadata": {
    "editable": true,
    "slideshow": {
     "slide_type": ""
    },
    "tags": []
   },
   "outputs": [],
   "source": [
    "DF_GENES = '../../data/processed/cd-hit-results/sim80/Ebacter_strain_by_gene.pickle.gz'\n",
    "ENRICHED_METADATA = '../../data/metadata/enriched_metadata.csv'\n",
    "DF_EGGNOG = '../../data/processed/df_eggnog.csv'\n",
    "\n",
    "DF_CORE_COMPLETE = '../../data/processed/CAR_genomes/df_core_complete.pickle'\n",
    "DF_ACC_COMPLETE = '../../data/processed/CAR_genomes/df_acc_complete.pickle'\n",
    "DF_RARE_COMPLETE = '../../data/processed/CAR_genomes/df_rare_complete.pickle'\n",
    "\n",
    "L_BINARIZED = '../../data/processed/nmf-outputs/L_binarized.csv'\n",
    "A_BINARIZED = '../../data/processed/nmf-outputs/A_binarized.csv'\n",
    "L_MATRIX = '../../data/processed/nmf-outputs/L.csv'\n",
    "A_MATRIX = '../../data/processed/nmf-outputs/A.csv'\n",
    "BAKTA_ANNOTATIONS = '../../data/processed/bakta_gene_annotations.csv'"
   ]
  },
  {
   "cell_type": "code",
   "execution_count": null,
   "id": "f38251cd-cbc6-4d72-9a82-0ca544380a63",
   "metadata": {},
   "outputs": [],
   "source": [
    "bakta_annotations = pd.read_csv(BAKTA_ANNOTATIONS, index_col=0)"
   ]
  },
  {
   "cell_type": "code",
   "execution_count": null,
   "id": "20466ad2-8e95-4080-bb2f-c40f8cce06a8",
   "metadata": {},
   "outputs": [],
   "source": [
    "df_rare = pd.read_pickle(DF_RARE_COMPLETE)\n",
    "df_acc = pd.read_pickle(DF_ACC_COMPLETE)\n",
    "df_core = pd.read_pickle(DF_CORE_COMPLETE)"
   ]
  },
  {
   "cell_type": "code",
   "execution_count": null,
   "id": "4cb97312-94b3-4467-b5f4-dd944d56bfed",
   "metadata": {},
   "outputs": [],
   "source": [
    "metadata = pd.read_csv(ENRICHED_METADATA, index_col=0, dtype='object')\n",
    "\n",
    "display( metadata.shape, metadata.head())"
   ]
  },
  {
   "cell_type": "code",
   "execution_count": null,
   "id": "9f25586b-07f9-43d0-8813-b90e433c0cf1",
   "metadata": {},
   "outputs": [],
   "source": [
    "# Load in (full) P matrix\n",
    "df_genes = pd.read_pickle(DF_GENES)\n",
    "\n",
    "# Filter metadata for Complete sequences only\n",
    "metadata_complete = metadata[metadata.genome_status == 'Complete'] # filter for only Complete sequences\n",
    "\n",
    "# Filter P matrix for Complete sequences only\n",
    "df_genes_complete = df_genes[metadata_complete.genome_id].copy()\n",
    "df_genes_complete.fillna(0, inplace=True) # replace N/A with 0\n",
    "df_genes_complete = df_genes_complete.sparse.to_dense().astype('int8') # densify & typecast to int8 for space and compute reasons\n",
    "inCompleteseqs = df_genes_complete.sum(axis=1) > 0 # filter for genes found in complete sequences\n",
    "df_genes_complete = df_genes_complete[inCompleteseqs]\n",
    "\n",
    "df_genes_complete.shape"
   ]
  },
  {
   "cell_type": "code",
   "execution_count": null,
   "id": "1213cf42-bd84-4bc7-be31-7139e0ce3af9",
   "metadata": {},
   "outputs": [],
   "source": [
    "# Load in eggNOG annotations\n",
    "df_eggnog = pd.read_csv(DF_EGGNOG, index_col=0)\n",
    "df_eggnog.fillna('-', inplace=True)\n",
    "\n",
    "display(\n",
    "    df_eggnog.shape,\n",
    "    df_eggnog.head()\n",
    ")"
   ]
  },
  {
   "cell_type": "code",
   "execution_count": null,
   "id": "e0f1c934-87b5-4c0e-8b25-3ae81417057d",
   "metadata": {},
   "outputs": [],
   "source": [
    "# Load in A_binarized matrix\n",
    "A_binarized = pd.read_csv(A_BINARIZED, index_col=0)\n",
    "A_binarized"
   ]
  },
  {
   "cell_type": "code",
   "execution_count": null,
   "id": "6d6c75be-b491-400c-bb6b-9928eda3c7a5",
   "metadata": {
    "editable": true,
    "slideshow": {
     "slide_type": ""
    },
    "tags": []
   },
   "outputs": [],
   "source": [
    "# Load in L_binarized matrix\n",
    "L_binarized = pd.read_csv(L_BINARIZED, index_col=0)\n",
    "L_binarized"
   ]
  },
  {
   "cell_type": "code",
   "execution_count": null,
   "id": "56c1beac-7cdf-44cc-9865-162b017e4254",
   "metadata": {},
   "outputs": [],
   "source": [
    "phylon_order = ['hormaechei-xiangfangensis',\n",
    " 'hormaechei-oharae',\n",
    " 'hormaechei-steigerwaltii-2',\n",
    " 'hormaechei-steigerwaltii-1',\n",
    " 'hormaechei-steigerwaltii-3',\n",
    " 'hormaechei-hormaechei',\n",
    " 'hormaechei-hoffmannii-1',\n",
    " 'hormaechei-hoffmannii-2',\n",
    " 'unchar-1',\n",
    " 'unchar-2',\n",
    " 'unchar-3',\n",
    " 'unchar-4',\n",
    " 'roggenkampii',\n",
    " 'asburiae',\n",
    " 'kobei',\n",
    " 'bugandensis',\n",
    " 'cancerogenous',\n",
    " 'ludwigii',\n",
    " 'cloacae']"
   ]
  },
  {
   "cell_type": "code",
   "execution_count": null,
   "id": "172566b7-c120-4856-b11f-b6cc25788899",
   "metadata": {},
   "outputs": [],
   "source": [
    "characterized_order = ['hormaechei-xiangfangensis',\n",
    " 'hormaechei-oharae',\n",
    " 'hormaechei-steigerwaltii-2',\n",
    " 'hormaechei-steigerwaltii-1',\n",
    " 'hormaechei-steigerwaltii-3',\n",
    " 'hormaechei-hormaechei',\n",
    " 'hormaechei-hoffmannii-1',\n",
    " 'hormaechei-hoffmannii-2',\n",
    " 'roggenkampii',\n",
    " 'asburiae',\n",
    " 'kobei',\n",
    " 'bugandensis',\n",
    " 'cancerogenous',\n",
    " 'ludwigii',\n",
    " 'cloacae']"
   ]
  },
  {
   "cell_type": "code",
   "execution_count": null,
   "id": "3a423b1a-eec8-4372-a27f-8a6eb4ec6264",
   "metadata": {},
   "outputs": [],
   "source": [
    "L_NORM = '../../data/processed/nmf-outputs/L_norm.csv'\n",
    "A_NORM = '../../data/processed/nmf-outputs/A_norm.csv'\n",
    "L_MATRIX = '../../data/processed/nmf-outputs/L.csv'\n",
    "A_MATRIX = '../../data/processed/nmf-outputs/A.csv'\n",
    "\n",
    "L = pd.read_csv(L_MATRIX, index_col=0)\n",
    "L.columns = L_binarized.columns\n",
    "L_norm = pd.read_csv(L_NORM, index_col=0)\n",
    "\n",
    "A = pd.read_csv(A_MATRIX, index_col=0)\n",
    "A_norm = pd.read_csv(A_NORM, index_col=0)"
   ]
  },
  {
   "cell_type": "code",
   "execution_count": null,
   "id": "638451fa-a77f-4fd7-b27e-2f677df13245",
   "metadata": {},
   "outputs": [],
   "source": [
    "def recommended_threshold(A_norm, i):\n",
    "    column_data_reshaped = A_norm.loc[i].values.reshape(-1, 1)\n",
    "    \n",
    "    # 3-means clustering\n",
    "    kmeans = KMeans(n_clusters=3, random_state=0, n_init='auto')\n",
    "    kmeans.fit(column_data_reshaped)\n",
    "    labels = kmeans.labels_\n",
    "    centers = kmeans.cluster_centers_\n",
    "    \n",
    "    # Find the cluster with the highest mean\n",
    "    highest_mean_cluster = np.argmax(centers)\n",
    "    \n",
    "    # Binarize the row based on the cluster with the highest mean\n",
    "    binarized_row = (labels == highest_mean_cluster).astype(int)\n",
    "    \n",
    "    # Find k-means-recommended threshold using min value that still binarizes to 1\n",
    "    x = pd.Series(dict(zip(A_norm.columns, binarized_row)))\n",
    "    threshold = A_norm.loc[i, x[x==1].index].min()\n",
    "    \n",
    "    return threshold"
   ]
  },
  {
   "cell_type": "markdown",
   "id": "259da7bf-6899-4e17-8bb3-420afb9f49a7",
   "metadata": {},
   "source": [
    "# Test functionality on original P matrix"
   ]
  },
  {
   "cell_type": "code",
   "execution_count": null,
   "id": "27447e68-bac4-4efd-ba66-108f080fcb77",
   "metadata": {},
   "outputs": [],
   "source": [
    "import infer_affinities"
   ]
  },
  {
   "cell_type": "code",
   "execution_count": null,
   "id": "764dabf4-e087-4ab6-807f-c3b76a7578b8",
   "metadata": {},
   "outputs": [],
   "source": [
    "A_new = infer_affinities.infer_affinities(L_norm.to_numpy(),  df_genes_complete.loc[L_binarized.index].to_numpy(), n_jobs=40)\n",
    "A_new = pd.DataFrame(A_new, index = L_binarized.columns, columns = df_genes_complete.loc[L_binarized.index].columns)\n",
    "A_complete_new = A_new.copy()"
   ]
  },
  {
   "cell_type": "code",
   "execution_count": null,
   "id": "ac47e4f0-25c5-4958-928e-6c7fd49df192",
   "metadata": {},
   "outputs": [],
   "source": [
    "A_binarized_new = pd.DataFrame(np.zeros_like(A_new.values), index=A_norm.index, columns=A_new.columns)\n",
    "A_binarized_temp =  pd.DataFrame(np.zeros_like(A_new.values), index=A_norm.index, columns=A_new.columns)\n",
    "\n",
    "\n",
    "for idx in A_norm.index: # same as A_norm.index\n",
    "    cond = A_new.loc[idx] >= recommended_threshold(A_norm, idx)\n",
    "    A_binarized_temp.loc[idx,cond] = 1\n",
    "\n",
    "if A_binarized_temp.loc[characterized_order].sum().max() > 1:\n",
    "    print(\"Binarization results in multiple assingment to charactarized phylons\")\n",
    "else:\n",
    "    print(\"Number of strains with an assigned charactarized phylon:\", int(A_binarized_temp.loc[characterized_order].sum().sum()))\n",
    "    A_binarized_new = A_binarized_temp.copy()\n",
    "    print(\"Original A matrix strains with assigned charactarized phylon:\", int(A_binarized.loc[characterized_order].sum().sum()))"
   ]
  },
  {
   "cell_type": "code",
   "execution_count": null,
   "id": "e33db28b-8574-4353-9e28-e119c3f9a1d4",
   "metadata": {},
   "outputs": [],
   "source": [
    "P_new = df_genes.loc[L_binarized.index, A_binarized_new.columns].fillna(0)\n",
    "P_new_recon  = L_binarized @ A_binarized_new\n",
    "\n",
    "1 - (P_new - P_new_recon).abs().sum().sum() / P_new.shape[0] / P_new.shape[1]"
   ]
  },
  {
   "cell_type": "markdown",
   "id": "586942e0-1c87-4996-a68f-e94148efc1bb",
   "metadata": {},
   "source": [
    "# Infer Affinities for non-complete strains"
   ]
  },
  {
   "cell_type": "code",
   "execution_count": null,
   "id": "6386248f-6652-4318-96f8-b4ff09430d80",
   "metadata": {},
   "outputs": [],
   "source": [
    "df_genes_new = df_genes.loc[L_binarized.index, [x for x in df_genes.columns if x not in df_genes_complete.columns]].fillna(0)\n",
    "df_genes_new.head()"
   ]
  },
  {
   "cell_type": "code",
   "execution_count": null,
   "id": "c472e0e4-268e-4af0-ad59-aff9bdd0b034",
   "metadata": {},
   "outputs": [],
   "source": [
    "A_new = infer_affinities.infer_affinities(L_norm.to_numpy(),  df_genes_new.to_numpy(), n_jobs=40)\n",
    "A_new = pd.DataFrame(A_new, index = L_binarized.columns, columns = df_genes_new.columns)"
   ]
  },
  {
   "cell_type": "markdown",
   "id": "64a8dbc6-7d5f-4cfe-add5-48e4461c305b",
   "metadata": {},
   "source": [
    "## Binarize the new A matrix\n",
    "NOTE: this is ongoing and there are a few issues with making this work correctly, need to decide from below methods how to binarize new strains"
   ]
  },
  {
   "cell_type": "code",
   "execution_count": null,
   "id": "d30df618-a7d5-425f-8e95-8121790c4ecb",
   "metadata": {},
   "outputs": [],
   "source": [
    "# Basic binarization with thresholds from original matrix:\n",
    "A_binarized_new = pd.DataFrame(np.zeros_like(A_new.values), index=A_norm.index, columns=A_new.columns)\n",
    "A_binarized_temp =  pd.DataFrame(np.zeros_like(A_new.values), index=A_norm.index, columns=A_new.columns)\n",
    "\n",
    "\n",
    "for idx in A_norm.index: # same as A_norm.index\n",
    "    cond = A_new.loc[idx] >= recommended_threshold(A_norm, idx)\n",
    "    A_binarized_temp.loc[idx,cond] = 1\n",
    "\n",
    "if A_binarized_temp.loc[characterized_order].sum().max() > 1:\n",
    "    print(\"Binarization results in multiple assingment to charactarized phylons\")\n",
    "else:\n",
    "    print(\"Number of strains with an assigned charactarized phylon:\", int(A_binarized_temp.loc[characterized_order].sum().sum()))\n",
    "    A_binarized_new = A_binarized_temp.copy()"
   ]
  },
  {
   "cell_type": "code",
   "execution_count": null,
   "id": "6912c51b-1f8e-4a05-80fd-672d39012772",
   "metadata": {},
   "outputs": [],
   "source": [
    "P_new = df_genes.loc[L_binarized.index, A_binarized_new.columns].fillna(0)\n",
    "P_new_recon  = L_binarized @ A_binarized_new\n",
    "\n",
    "1 - (P_new - P_new_recon).abs().sum().sum() / P_new.shape[0] / P_new.shape[1]"
   ]
  },
  {
   "cell_type": "code",
   "execution_count": null,
   "id": "39483e35-1e5c-48f5-8a0d-c3c62a157036",
   "metadata": {},
   "outputs": [],
   "source": [
    "import numpy as np\n",
    "\n",
    "# Example data: Replace with your actual data\n",
    "# Assume `A_binarized_new.loc[phylon_order]` contains strain counts for each category.\n",
    "strain_counts = A_binarized_new.loc[phylon_order].sum(axis=1)\n",
    "\n",
    "# Example proportions (replace with actual proportions for unchars)\n",
    "unchar_proportions = {}\n",
    "for unchar_phylon  in ['unchar-1', 'unchar-2', 'unchar-3', 'unchar-4']:\n",
    "    unchar_proportions[unchar_phylon] = A_binarized_new.loc[characterized_order,A_binarized_new.T[A_binarized_new.T[unchar_phylon] == 1].index].idxmax().value_counts() / A_binarized_new.loc[unchar_phylon].sum()\n",
    "\n",
    "# Initialize the figure\n",
    "fig, ax = plt.subplots(figsize=(12, 8))\n",
    "\n",
    "# Track bottom positions for stacking\n",
    "bottoms = np.zeros(len(phylon_order))\n",
    "\n",
    "# Define colors for primary categories\n",
    "primary_colors = {\n",
    "    'hormaechei-xiangfangensis': \"Red\",\n",
    "    'hormaechei-oharae': \"IndianRed\",\n",
    "    'hormaechei-steigerwaltii-2': \"DarkRed\",\n",
    "    'hormaechei-steigerwaltii-1': \"FireBrick\",\n",
    "    'hormaechei-steigerwaltii-3': \"Tomato\",\n",
    "    'hormaechei-hormaechei': \"Gold\",\n",
    "    'hormaechei-hoffmannii-1': \"DarkGoldenrod\",\n",
    "    'hormaechei-hoffmannii-2': \"Goldenrod\",\n",
    "    'roggenkampii': \"Green\",\n",
    "    'asburiae': \"Blue\",\n",
    "    'kobei': \"Purple\",\n",
    "    'bugandensis': \"Cyan\",\n",
    "    'cancerogenous': \"Magenta\",\n",
    "    'ludwigii': \"Lime\",\n",
    "    'cloacae': \"Pink\",\n",
    "    None: \"grey\"  # Default for unclassified\n",
    "}\n",
    "\n",
    "# Plot each bar\n",
    "for i, phylon in enumerate(phylon_order):\n",
    "    if 'unchar' in phylon:  # Handle \"unchar\" phylons\n",
    "        proportions = unchar_proportions.get(phylon, {})\n",
    "        for category, proportion in proportions.items():\n",
    "            height = strain_counts[i] * proportion\n",
    "            ax.bar(phylon, height, bottom=bottoms[i], color=primary_colors.get(category, \"grey\"))\n",
    "            bottoms[i] += height\n",
    "    else:  # Primary categories\n",
    "        ax.bar(phylon, strain_counts[i], color=primary_colors.get(phylon, \"grey\"))\n",
    "\n",
    "# Customize plot\n",
    "plt.xticks(ticks=range(len(phylon_order)), labels=[x.replace('unchar', 'mobile') for x in phylon_order], rotation=90)\n",
    "plt.title(\"Assignment of WGS Strains to Phylons\")\n",
    "plt.xlabel(\"Phylons\")\n",
    "plt.ylabel(\"Number of Assigned Strains\")\n",
    "\n",
    "# Define the legend labels and their corresponding colors\n",
    "legend_labels = list(primary_colors.keys())\n",
    "legend_colors = list(primary_colors.values())\n",
    "\n",
    "# Add the legend to the plot\n",
    "handles = [plt.Rectangle((0,0),1,1, color=color) for color in legend_colors]\n",
    "ax.legend(handles, legend_labels, title=\"Phylons\", loc=\"upper right\", bbox_to_anchor=(1, 1), ncols=2)\n",
    "\n",
    "\n",
    "# Display\n",
    "plt.savefig('../images/supplemental/inferred_affinities.svg', format='svg', dpi=600)\n",
    "plt.show()\n"
   ]
  },
  {
   "cell_type": "code",
   "execution_count": null,
   "id": "a41621ad-e502-4202-9a4c-b77a44120508",
   "metadata": {},
   "outputs": [],
   "source": [
    "A_binarized_new.loc[characterized_order].sum().sum()"
   ]
  }
 ],
 "metadata": {
  "kernelspec": {
   "display_name": "Python [conda env:phylon_analysis]",
   "language": "python",
   "name": "conda-env-phylon_analysis-py"
  },
  "language_info": {
   "codemirror_mode": {
    "name": "ipython",
    "version": 3
   },
   "file_extension": ".py",
   "mimetype": "text/x-python",
   "name": "python",
   "nbconvert_exporter": "python",
   "pygments_lexer": "ipython3",
   "version": "3.12.2"
  }
 },
 "nbformat": 4,
 "nbformat_minor": 5
}
